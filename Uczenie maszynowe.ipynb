{
 "cells": [
  {
   "cell_type": "markdown",
   "id": "93e33f37",
   "metadata": {},
   "source": [
    "### Exploring the impact of clustering on the quality of SMOTE preprocessing. Comparative analysis\n",
    "##### Maksym Malicki, Jacek Glapiński\n",
    "###### Wrocław University of Technology\n",
    "In this notebook we present a comparative analysis of the impact of clustering using various methods on the quality of SMOTE preprocessing.\n",
    "\n",
    "#### load_dataset()\n",
    "This method allows us to load datasets listed in the paper."
   ]
  },
  {
   "cell_type": "code",
   "execution_count": 1,
   "id": "0ca3bf0c",
   "metadata": {},
   "outputs": [],
   "source": [
    "import numpy as np\n",
    "\n",
    "def load_dataset(file_path):\n",
    "    data = []\n",
    "    labels = []\n",
    "\n",
    "    with open(file_path, 'r') as f:\n",
    "        for line in f:\n",
    "            if line.startswith('@'):\n",
    "                continue\n",
    "            line_data = line.strip().split(',')\n",
    "            sample_class = line_data[-1].strip().lower().replace(\" \", \"\")\n",
    "            label = 1 if sample_class == 'positive' else 0\n",
    "            converted_data = []\n",
    "            for x in line_data[:-1]:\n",
    "                try:\n",
    "                    converted_data.append(float(x))\n",
    "                except ValueError:\n",
    "                    converted_data.append(ord(x))\n",
    "            data.append(converted_data)\n",
    "            labels.append(label)\n",
    "    X = np.array(data)\n",
    "    y = np.array(labels)\n",
    "\n",
    "    return X, y"
   ]
  },
  {
   "cell_type": "markdown",
   "id": "7a0390b2",
   "metadata": {},
   "source": [
    "#### Test implementacji SMOTE"
   ]
  },
  {
   "cell_type": "markdown",
   "id": "0db0873c",
   "metadata": {},
   "source": [
    "##### IMPLEMENTACJA SMOTE"
   ]
  },
  {
   "cell_type": "code",
   "execution_count": 11,
   "id": "cd656d85",
   "metadata": {},
   "outputs": [],
   "source": [
    "#https://medium.com/@corymaklin/synthetic-minority-over-sampling-technique-smote-7d419696b88c\n",
    "\n",
    "from random import randrange, uniform\n",
    "from sklearn.neighbors import NearestNeighbors\n",
    "import numpy as np\n",
    "import pandas as pd\n",
    "from sklearn.ensemble import RandomForestClassifier\n",
    "from sklearn.model_selection import train_test_split\n",
    "from sklearn.metrics import confusion_matrix, recall_score\n",
    "\n",
    "def SMOTE_ByMedium(sample: np.array, N: int, k: int) -> np.array:\n",
    "    \n",
    "    T, num_attrs = sample.shape\n",
    "    \n",
    "    # If N is less than 100%, randomize the minority class samples as only a random percent of them will be SMOTEd\n",
    "    if N < 100:\n",
    "        T = round(N / 100 * T)\n",
    "        N = 100\n",
    "    # The amount of SMOTE is assumed to be in integral multiples of 100\n",
    "    N = int(N / 100)\n",
    "\n",
    "    synthetic = np.zeros([T * N, num_attrs])\n",
    "    new_index = 0\n",
    "    nbrs = NearestNeighbors(n_neighbors=k+1).fit(sample.values)\n",
    "    def populate(N, i, nnarray):\n",
    "        \n",
    "        nonlocal new_index\n",
    "        nonlocal synthetic\n",
    "        nonlocal sample\n",
    "        while N != 0:\n",
    "            nn = randrange(1, k+1)\n",
    "            for attr in range(num_attrs):\n",
    "                dif = sample.iloc[nnarray[nn]][attr] - sample.iloc[i][attr]\n",
    "                gap = uniform(0, 1)\n",
    "                synthetic[new_index][attr] = sample.iloc[i][attr] + gap * dif\n",
    "            new_index += 1\n",
    "            N = N - 1\n",
    "    \n",
    "    for i in range(T):\n",
    "        nnarray = nbrs.kneighbors(sample.iloc[i].values.reshape(1, -1), return_distance=False)[0]\n",
    "        populate(N, i, nnarray)\n",
    "    \n",
    "    return synthetic\n",
    "\n",
    "\n"
   ]
  },
  {
   "cell_type": "code",
   "execution_count": 12,
   "id": "4ea566d3",
   "metadata": {},
   "outputs": [
    {
     "data": {
      "application/vnd.plotly.v1+json": {
       "config": {
        "plotlyServerURL": "https://plot.ly"
       },
       "data": [
        {
         "hovertemplate": "x=%{x}<br>y=%{y}<extra></extra>",
         "legendgroup": "",
         "marker": {
          "color": "#636efa",
          "symbol": "circle"
         },
         "mode": "markers",
         "name": "",
         "orientation": "v",
         "showlegend": false,
         "type": "scatter",
         "x": [
          1,
          3,
          2,
          4,
          6,
          2,
          1,
          3,
          6,
          4,
          5,
          1,
          5,
          2,
          6,
          8,
          7,
          9,
          5,
          8,
          6,
          8,
          7,
          9,
          5,
          7,
          4,
          5,
          7
         ],
         "xaxis": "x",
         "y": [
          3,
          1,
          2,
          6,
          2,
          5,
          4,
          3,
          2,
          1,
          3,
          3,
          2,
          1,
          6,
          5,
          7,
          6,
          4,
          8,
          9,
          5,
          8,
          4,
          7,
          5,
          6,
          8,
          4
         ],
         "yaxis": "y"
        }
       ],
       "layout": {
        "legend": {
         "tracegroupgap": 0
        },
        "template": {
         "data": {
          "bar": [
           {
            "error_x": {
             "color": "#2a3f5f"
            },
            "error_y": {
             "color": "#2a3f5f"
            },
            "marker": {
             "line": {
              "color": "#E5ECF6",
              "width": 0.5
             },
             "pattern": {
              "fillmode": "overlay",
              "size": 10,
              "solidity": 0.2
             }
            },
            "type": "bar"
           }
          ],
          "barpolar": [
           {
            "marker": {
             "line": {
              "color": "#E5ECF6",
              "width": 0.5
             },
             "pattern": {
              "fillmode": "overlay",
              "size": 10,
              "solidity": 0.2
             }
            },
            "type": "barpolar"
           }
          ],
          "carpet": [
           {
            "aaxis": {
             "endlinecolor": "#2a3f5f",
             "gridcolor": "white",
             "linecolor": "white",
             "minorgridcolor": "white",
             "startlinecolor": "#2a3f5f"
            },
            "baxis": {
             "endlinecolor": "#2a3f5f",
             "gridcolor": "white",
             "linecolor": "white",
             "minorgridcolor": "white",
             "startlinecolor": "#2a3f5f"
            },
            "type": "carpet"
           }
          ],
          "choropleth": [
           {
            "colorbar": {
             "outlinewidth": 0,
             "ticks": ""
            },
            "type": "choropleth"
           }
          ],
          "contour": [
           {
            "colorbar": {
             "outlinewidth": 0,
             "ticks": ""
            },
            "colorscale": [
             [
              0,
              "#0d0887"
             ],
             [
              0.1111111111111111,
              "#46039f"
             ],
             [
              0.2222222222222222,
              "#7201a8"
             ],
             [
              0.3333333333333333,
              "#9c179e"
             ],
             [
              0.4444444444444444,
              "#bd3786"
             ],
             [
              0.5555555555555556,
              "#d8576b"
             ],
             [
              0.6666666666666666,
              "#ed7953"
             ],
             [
              0.7777777777777778,
              "#fb9f3a"
             ],
             [
              0.8888888888888888,
              "#fdca26"
             ],
             [
              1,
              "#f0f921"
             ]
            ],
            "type": "contour"
           }
          ],
          "contourcarpet": [
           {
            "colorbar": {
             "outlinewidth": 0,
             "ticks": ""
            },
            "type": "contourcarpet"
           }
          ],
          "heatmap": [
           {
            "colorbar": {
             "outlinewidth": 0,
             "ticks": ""
            },
            "colorscale": [
             [
              0,
              "#0d0887"
             ],
             [
              0.1111111111111111,
              "#46039f"
             ],
             [
              0.2222222222222222,
              "#7201a8"
             ],
             [
              0.3333333333333333,
              "#9c179e"
             ],
             [
              0.4444444444444444,
              "#bd3786"
             ],
             [
              0.5555555555555556,
              "#d8576b"
             ],
             [
              0.6666666666666666,
              "#ed7953"
             ],
             [
              0.7777777777777778,
              "#fb9f3a"
             ],
             [
              0.8888888888888888,
              "#fdca26"
             ],
             [
              1,
              "#f0f921"
             ]
            ],
            "type": "heatmap"
           }
          ],
          "heatmapgl": [
           {
            "colorbar": {
             "outlinewidth": 0,
             "ticks": ""
            },
            "colorscale": [
             [
              0,
              "#0d0887"
             ],
             [
              0.1111111111111111,
              "#46039f"
             ],
             [
              0.2222222222222222,
              "#7201a8"
             ],
             [
              0.3333333333333333,
              "#9c179e"
             ],
             [
              0.4444444444444444,
              "#bd3786"
             ],
             [
              0.5555555555555556,
              "#d8576b"
             ],
             [
              0.6666666666666666,
              "#ed7953"
             ],
             [
              0.7777777777777778,
              "#fb9f3a"
             ],
             [
              0.8888888888888888,
              "#fdca26"
             ],
             [
              1,
              "#f0f921"
             ]
            ],
            "type": "heatmapgl"
           }
          ],
          "histogram": [
           {
            "marker": {
             "pattern": {
              "fillmode": "overlay",
              "size": 10,
              "solidity": 0.2
             }
            },
            "type": "histogram"
           }
          ],
          "histogram2d": [
           {
            "colorbar": {
             "outlinewidth": 0,
             "ticks": ""
            },
            "colorscale": [
             [
              0,
              "#0d0887"
             ],
             [
              0.1111111111111111,
              "#46039f"
             ],
             [
              0.2222222222222222,
              "#7201a8"
             ],
             [
              0.3333333333333333,
              "#9c179e"
             ],
             [
              0.4444444444444444,
              "#bd3786"
             ],
             [
              0.5555555555555556,
              "#d8576b"
             ],
             [
              0.6666666666666666,
              "#ed7953"
             ],
             [
              0.7777777777777778,
              "#fb9f3a"
             ],
             [
              0.8888888888888888,
              "#fdca26"
             ],
             [
              1,
              "#f0f921"
             ]
            ],
            "type": "histogram2d"
           }
          ],
          "histogram2dcontour": [
           {
            "colorbar": {
             "outlinewidth": 0,
             "ticks": ""
            },
            "colorscale": [
             [
              0,
              "#0d0887"
             ],
             [
              0.1111111111111111,
              "#46039f"
             ],
             [
              0.2222222222222222,
              "#7201a8"
             ],
             [
              0.3333333333333333,
              "#9c179e"
             ],
             [
              0.4444444444444444,
              "#bd3786"
             ],
             [
              0.5555555555555556,
              "#d8576b"
             ],
             [
              0.6666666666666666,
              "#ed7953"
             ],
             [
              0.7777777777777778,
              "#fb9f3a"
             ],
             [
              0.8888888888888888,
              "#fdca26"
             ],
             [
              1,
              "#f0f921"
             ]
            ],
            "type": "histogram2dcontour"
           }
          ],
          "mesh3d": [
           {
            "colorbar": {
             "outlinewidth": 0,
             "ticks": ""
            },
            "type": "mesh3d"
           }
          ],
          "parcoords": [
           {
            "line": {
             "colorbar": {
              "outlinewidth": 0,
              "ticks": ""
             }
            },
            "type": "parcoords"
           }
          ],
          "pie": [
           {
            "automargin": true,
            "type": "pie"
           }
          ],
          "scatter": [
           {
            "fillpattern": {
             "fillmode": "overlay",
             "size": 10,
             "solidity": 0.2
            },
            "type": "scatter"
           }
          ],
          "scatter3d": [
           {
            "line": {
             "colorbar": {
              "outlinewidth": 0,
              "ticks": ""
             }
            },
            "marker": {
             "colorbar": {
              "outlinewidth": 0,
              "ticks": ""
             }
            },
            "type": "scatter3d"
           }
          ],
          "scattercarpet": [
           {
            "marker": {
             "colorbar": {
              "outlinewidth": 0,
              "ticks": ""
             }
            },
            "type": "scattercarpet"
           }
          ],
          "scattergeo": [
           {
            "marker": {
             "colorbar": {
              "outlinewidth": 0,
              "ticks": ""
             }
            },
            "type": "scattergeo"
           }
          ],
          "scattergl": [
           {
            "marker": {
             "colorbar": {
              "outlinewidth": 0,
              "ticks": ""
             }
            },
            "type": "scattergl"
           }
          ],
          "scattermapbox": [
           {
            "marker": {
             "colorbar": {
              "outlinewidth": 0,
              "ticks": ""
             }
            },
            "type": "scattermapbox"
           }
          ],
          "scatterpolar": [
           {
            "marker": {
             "colorbar": {
              "outlinewidth": 0,
              "ticks": ""
             }
            },
            "type": "scatterpolar"
           }
          ],
          "scatterpolargl": [
           {
            "marker": {
             "colorbar": {
              "outlinewidth": 0,
              "ticks": ""
             }
            },
            "type": "scatterpolargl"
           }
          ],
          "scatterternary": [
           {
            "marker": {
             "colorbar": {
              "outlinewidth": 0,
              "ticks": ""
             }
            },
            "type": "scatterternary"
           }
          ],
          "surface": [
           {
            "colorbar": {
             "outlinewidth": 0,
             "ticks": ""
            },
            "colorscale": [
             [
              0,
              "#0d0887"
             ],
             [
              0.1111111111111111,
              "#46039f"
             ],
             [
              0.2222222222222222,
              "#7201a8"
             ],
             [
              0.3333333333333333,
              "#9c179e"
             ],
             [
              0.4444444444444444,
              "#bd3786"
             ],
             [
              0.5555555555555556,
              "#d8576b"
             ],
             [
              0.6666666666666666,
              "#ed7953"
             ],
             [
              0.7777777777777778,
              "#fb9f3a"
             ],
             [
              0.8888888888888888,
              "#fdca26"
             ],
             [
              1,
              "#f0f921"
             ]
            ],
            "type": "surface"
           }
          ],
          "table": [
           {
            "cells": {
             "fill": {
              "color": "#EBF0F8"
             },
             "line": {
              "color": "white"
             }
            },
            "header": {
             "fill": {
              "color": "#C8D4E3"
             },
             "line": {
              "color": "white"
             }
            },
            "type": "table"
           }
          ]
         },
         "layout": {
          "annotationdefaults": {
           "arrowcolor": "#2a3f5f",
           "arrowhead": 0,
           "arrowwidth": 1
          },
          "autotypenumbers": "strict",
          "coloraxis": {
           "colorbar": {
            "outlinewidth": 0,
            "ticks": ""
           }
          },
          "colorscale": {
           "diverging": [
            [
             0,
             "#8e0152"
            ],
            [
             0.1,
             "#c51b7d"
            ],
            [
             0.2,
             "#de77ae"
            ],
            [
             0.3,
             "#f1b6da"
            ],
            [
             0.4,
             "#fde0ef"
            ],
            [
             0.5,
             "#f7f7f7"
            ],
            [
             0.6,
             "#e6f5d0"
            ],
            [
             0.7,
             "#b8e186"
            ],
            [
             0.8,
             "#7fbc41"
            ],
            [
             0.9,
             "#4d9221"
            ],
            [
             1,
             "#276419"
            ]
           ],
           "sequential": [
            [
             0,
             "#0d0887"
            ],
            [
             0.1111111111111111,
             "#46039f"
            ],
            [
             0.2222222222222222,
             "#7201a8"
            ],
            [
             0.3333333333333333,
             "#9c179e"
            ],
            [
             0.4444444444444444,
             "#bd3786"
            ],
            [
             0.5555555555555556,
             "#d8576b"
            ],
            [
             0.6666666666666666,
             "#ed7953"
            ],
            [
             0.7777777777777778,
             "#fb9f3a"
            ],
            [
             0.8888888888888888,
             "#fdca26"
            ],
            [
             1,
             "#f0f921"
            ]
           ],
           "sequentialminus": [
            [
             0,
             "#0d0887"
            ],
            [
             0.1111111111111111,
             "#46039f"
            ],
            [
             0.2222222222222222,
             "#7201a8"
            ],
            [
             0.3333333333333333,
             "#9c179e"
            ],
            [
             0.4444444444444444,
             "#bd3786"
            ],
            [
             0.5555555555555556,
             "#d8576b"
            ],
            [
             0.6666666666666666,
             "#ed7953"
            ],
            [
             0.7777777777777778,
             "#fb9f3a"
            ],
            [
             0.8888888888888888,
             "#fdca26"
            ],
            [
             1,
             "#f0f921"
            ]
           ]
          },
          "colorway": [
           "#636efa",
           "#EF553B",
           "#00cc96",
           "#ab63fa",
           "#FFA15A",
           "#19d3f3",
           "#FF6692",
           "#B6E880",
           "#FF97FF",
           "#FECB52"
          ],
          "font": {
           "color": "#2a3f5f"
          },
          "geo": {
           "bgcolor": "white",
           "lakecolor": "white",
           "landcolor": "#E5ECF6",
           "showlakes": true,
           "showland": true,
           "subunitcolor": "white"
          },
          "hoverlabel": {
           "align": "left"
          },
          "hovermode": "closest",
          "mapbox": {
           "style": "light"
          },
          "paper_bgcolor": "white",
          "plot_bgcolor": "#E5ECF6",
          "polar": {
           "angularaxis": {
            "gridcolor": "white",
            "linecolor": "white",
            "ticks": ""
           },
           "bgcolor": "#E5ECF6",
           "radialaxis": {
            "gridcolor": "white",
            "linecolor": "white",
            "ticks": ""
           }
          },
          "scene": {
           "xaxis": {
            "backgroundcolor": "#E5ECF6",
            "gridcolor": "white",
            "gridwidth": 2,
            "linecolor": "white",
            "showbackground": true,
            "ticks": "",
            "zerolinecolor": "white"
           },
           "yaxis": {
            "backgroundcolor": "#E5ECF6",
            "gridcolor": "white",
            "gridwidth": 2,
            "linecolor": "white",
            "showbackground": true,
            "ticks": "",
            "zerolinecolor": "white"
           },
           "zaxis": {
            "backgroundcolor": "#E5ECF6",
            "gridcolor": "white",
            "gridwidth": 2,
            "linecolor": "white",
            "showbackground": true,
            "ticks": "",
            "zerolinecolor": "white"
           }
          },
          "shapedefaults": {
           "line": {
            "color": "#2a3f5f"
           }
          },
          "ternary": {
           "aaxis": {
            "gridcolor": "white",
            "linecolor": "white",
            "ticks": ""
           },
           "baxis": {
            "gridcolor": "white",
            "linecolor": "white",
            "ticks": ""
           },
           "bgcolor": "#E5ECF6",
           "caxis": {
            "gridcolor": "white",
            "linecolor": "white",
            "ticks": ""
           }
          },
          "title": {
           "x": 0.05
          },
          "xaxis": {
           "automargin": true,
           "gridcolor": "white",
           "linecolor": "white",
           "ticks": "",
           "title": {
            "standoff": 15
           },
           "zerolinecolor": "white",
           "zerolinewidth": 2
          },
          "yaxis": {
           "automargin": true,
           "gridcolor": "white",
           "linecolor": "white",
           "ticks": "",
           "title": {
            "standoff": 15
           },
           "zerolinecolor": "white",
           "zerolinewidth": 2
          }
         }
        },
        "title": {
         "text": "Dane wejściowe"
        },
        "xaxis": {
         "anchor": "y",
         "domain": [
          0,
          1
         ],
         "title": {
          "text": "x"
         }
        },
        "yaxis": {
         "anchor": "x",
         "domain": [
          0,
          1
         ],
         "title": {
          "text": "y"
         }
        }
       }
      }
     },
     "metadata": {},
     "output_type": "display_data"
    }
   ],
   "source": [
    "#Smote test\n",
    "# tutaj jest tymczasowy test Smote żeby ogarnąć poprawne liczebności\n",
    "import plotly.express as px\n",
    "temp_Cluter = np.array([[1,3,2,4,6,2,1,3,6,4,5,1,5,2,\n",
    "                6,8,7,9,5,8,6,8,7,9,5,7,4,5,7],[3,1,2,6,2,5,4,3,2,1,3,3,2,1,\n",
    "                6,5,7,6,4,8,9,5,8,4,7,5,6,8,4]])\n",
    "\n",
    "fig = px.scatter(x=temp_Cluter[0],y=temp_Cluter[1],title=\"Dane wejściowe\")\n",
    "fig.show()"
   ]
  },
  {
   "cell_type": "markdown",
   "id": "fddc0860",
   "metadata": {},
   "source": [
    "Liczebność zbioru wejściowego:"
   ]
  },
  {
   "cell_type": "code",
   "execution_count": 13,
   "id": "6ef09ec3",
   "metadata": {},
   "outputs": [
    {
     "data": {
      "text/plain": [
       "29"
      ]
     },
     "execution_count": 13,
     "metadata": {},
     "output_type": "execute_result"
    }
   ],
   "source": [
    "len(temp_Cluter[0])"
   ]
  },
  {
   "cell_type": "code",
   "execution_count": 14,
   "id": "c1b75fb4",
   "metadata": {},
   "outputs": [],
   "source": [
    "# teraz określamy ile chcemy próbek dorobić:\n",
    "# chcemy mieć 100 próbek\n",
    "desired = 100\n",
    "\n",
    "#obecnie mamy size próbek\n",
    "size  = temp_Cluter.shape[1]\n",
    "\n",
    "todoSamples = ((desired/size)-1 )*100\n",
    "\n",
    "temp_out = SMOTE_ByMedium(pd.DataFrame(temp_Cluter.T), todoSamples, 5)"
   ]
  },
  {
   "cell_type": "code",
   "execution_count": 15,
   "id": "278da139",
   "metadata": {},
   "outputs": [
    {
     "name": "stdout",
     "output_type": "stream",
     "text": [
      "58\n",
      "29\n",
      "87\n"
     ]
    }
   ],
   "source": [
    "temp_out.T\n",
    "print(len(temp_out.T[0]))\n",
    "print(len(temp_Cluter[0]))\n",
    "print(len(temp_out.T[0])+len(temp_Cluter[0]))"
   ]
  },
  {
   "cell_type": "code",
   "execution_count": 16,
   "id": "49a27cd3",
   "metadata": {},
   "outputs": [
    {
     "data": {
      "text/plain": [
       "[[1,\n",
       "  3,\n",
       "  2,\n",
       "  4,\n",
       "  6,\n",
       "  2,\n",
       "  1,\n",
       "  3,\n",
       "  6,\n",
       "  4,\n",
       "  5,\n",
       "  1,\n",
       "  5,\n",
       "  2,\n",
       "  6,\n",
       "  8,\n",
       "  7,\n",
       "  9,\n",
       "  5,\n",
       "  8,\n",
       "  6,\n",
       "  8,\n",
       "  7,\n",
       "  9,\n",
       "  5,\n",
       "  7,\n",
       "  4,\n",
       "  5,\n",
       "  7,\n",
       "  1.314763739206938,\n",
       "  1.0,\n",
       "  2.6813103989011777,\n",
       "  2.9141043634628336,\n",
       "  2.2111502792518043,\n",
       "  2.873028967026732,\n",
       "  4.0,\n",
       "  4.93600712805456,\n",
       "  4.677609664338943,\n",
       "  6.0,\n",
       "  2.298324177974105,\n",
       "  1.4018673745239238,\n",
       "  1.3649488636797655,\n",
       "  1.0,\n",
       "  3.0,\n",
       "  1.0365542479674947,\n",
       "  6.0,\n",
       "  4.8435711396427985,\n",
       "  5.214808059020161,\n",
       "  3.0378491867523945,\n",
       "  5.0,\n",
       "  5.549019140293908,\n",
       "  1.4398189110451223,\n",
       "  1.5569146251417187,\n",
       "  5.0,\n",
       "  5.633144077865292,\n",
       "  2.0,\n",
       "  2.8413774402452927,\n",
       "  6.386769713301085,\n",
       "  5.096364036246283,\n",
       "  8.471552995279598,\n",
       "  8.0,\n",
       "  7.0,\n",
       "  6.121465831992438,\n",
       "  8.88105417078542,\n",
       "  8.433966988862808,\n",
       "  5.026069173700588,\n",
       "  6.40841348586021,\n",
       "  7.037547235582361,\n",
       "  7.611406956565235,\n",
       "  6.688779714166172,\n",
       "  7.419531874417325,\n",
       "  8.051919289333382,\n",
       "  8.665317454989875,\n",
       "  5.251039949790761,\n",
       "  5.191849989874536,\n",
       "  8.494193218443714,\n",
       "  8.61352905495301,\n",
       "  5.0,\n",
       "  4.329953226708946,\n",
       "  7.2490914907759905,\n",
       "  6.344115975057976,\n",
       "  4.599264719044038,\n",
       "  4.180551121400636,\n",
       "  6.1222004625499595,\n",
       "  5.2206299007142825,\n",
       "  7.0,\n",
       "  7.4071867543437],\n",
       " [3,\n",
       "  1,\n",
       "  2,\n",
       "  6,\n",
       "  2,\n",
       "  5,\n",
       "  4,\n",
       "  3,\n",
       "  2,\n",
       "  1,\n",
       "  3,\n",
       "  3,\n",
       "  2,\n",
       "  1,\n",
       "  6,\n",
       "  5,\n",
       "  7,\n",
       "  6,\n",
       "  4,\n",
       "  8,\n",
       "  9,\n",
       "  5,\n",
       "  8,\n",
       "  4,\n",
       "  7,\n",
       "  5,\n",
       "  6,\n",
       "  8,\n",
       "  4,\n",
       "  2.545429935189661,\n",
       "  3.0,\n",
       "  1.783111125617873,\n",
       "  1.0,\n",
       "  1.8197938019173128,\n",
       "  1.8072023730750177,\n",
       "  6.0,\n",
       "  6.8222722139119325,\n",
       "  1.8532899102711042,\n",
       "  2.0,\n",
       "  5.487266754552529,\n",
       "  4.267924289556918,\n",
       "  2.5424057189076006,\n",
       "  3.5027603560718545,\n",
       "  2.9628670925409812,\n",
       "  3.0,\n",
       "  2.0,\n",
       "  1.750939089335426,\n",
       "  1.0410977104932821,\n",
       "  1.5885826877209068,\n",
       "  3.7163430623785745,\n",
       "  2.285291161572914,\n",
       "  2.832002836622362,\n",
       "  3.0,\n",
       "  2.57401686013377,\n",
       "  2.0,\n",
       "  1.7185112666769435,\n",
       "  1.0,\n",
       "  5.667265447856179,\n",
       "  6.0,\n",
       "  4.9802525009159355,\n",
       "  5.0,\n",
       "  6.676966941398396,\n",
       "  6.898531522165666,\n",
       "  7.861870663578951,\n",
       "  6.351879597590728,\n",
       "  4.0,\n",
       "  4.0,\n",
       "  7.977357929668482,\n",
       "  7.91844915062758,\n",
       "  7.2248839443051915,\n",
       "  8.285458567954416,\n",
       "  5.605393626936937,\n",
       "  5.760523610627635,\n",
       "  8.0,\n",
       "  8.0,\n",
       "  4.0,\n",
       "  4.799169682224783,\n",
       "  7.5584959809402426,\n",
       "  6.010566337707915,\n",
       "  5.0,\n",
       "  5.910365451975499,\n",
       "  6.0,\n",
       "  6.942366838693722,\n",
       "  8.0,\n",
       "  8.466311784314616,\n",
       "  4.654460402861439,\n",
       "  4.458096078224808]]"
      ]
     },
     "execution_count": 16,
     "metadata": {},
     "output_type": "execute_result"
    }
   ],
   "source": [
    "temp_Cluter_OUT = [[*temp_Cluter[0],*temp_out.T[0]],[*temp_Cluter[1],*temp_out.T[1]]]\n",
    "temp_Cluter_OUT"
   ]
  },
  {
   "cell_type": "code",
   "execution_count": 17,
   "id": "43102747",
   "metadata": {},
   "outputs": [
    {
     "data": {
      "application/vnd.plotly.v1+json": {
       "config": {
        "plotlyServerURL": "https://plot.ly"
       },
       "data": [
        {
         "hovertemplate": "x=%{x}<br>y=%{y}<extra></extra>",
         "legendgroup": "",
         "marker": {
          "color": "#636efa",
          "symbol": "circle"
         },
         "mode": "markers",
         "name": "",
         "orientation": "v",
         "showlegend": false,
         "type": "scatter",
         "x": [
          1.314763739206938,
          1,
          2.6813103989011777,
          2.9141043634628336,
          2.2111502792518043,
          2.873028967026732,
          4,
          4.93600712805456,
          4.677609664338943,
          6,
          2.298324177974105,
          1.4018673745239238,
          1.3649488636797655,
          1,
          3,
          1.0365542479674947,
          6,
          4.8435711396427985,
          5.214808059020161,
          3.0378491867523945,
          5,
          5.549019140293908,
          1.4398189110451223,
          1.5569146251417187,
          5,
          5.633144077865292,
          2,
          2.8413774402452927,
          6.386769713301085,
          5.096364036246283,
          8.471552995279598,
          8,
          7,
          6.121465831992438,
          8.88105417078542,
          8.433966988862808,
          5.026069173700588,
          6.40841348586021,
          7.037547235582361,
          7.611406956565235,
          6.688779714166172,
          7.419531874417325,
          8.051919289333382,
          8.665317454989875,
          5.251039949790761,
          5.191849989874536,
          8.494193218443714,
          8.61352905495301,
          5,
          4.329953226708946,
          7.2490914907759905,
          6.344115975057976,
          4.599264719044038,
          4.180551121400636,
          6.1222004625499595,
          5.2206299007142825,
          7,
          7.4071867543437
         ],
         "xaxis": "x",
         "y": [
          2.545429935189661,
          3,
          1.783111125617873,
          1,
          1.8197938019173128,
          1.8072023730750177,
          6,
          6.8222722139119325,
          1.8532899102711042,
          2,
          5.487266754552529,
          4.267924289556918,
          2.5424057189076006,
          3.5027603560718545,
          2.9628670925409812,
          3,
          2,
          1.750939089335426,
          1.0410977104932821,
          1.5885826877209068,
          3.7163430623785745,
          2.285291161572914,
          2.832002836622362,
          3,
          2.57401686013377,
          2,
          1.7185112666769435,
          1,
          5.667265447856179,
          6,
          4.9802525009159355,
          5,
          6.676966941398396,
          6.898531522165666,
          7.861870663578951,
          6.351879597590728,
          4,
          4,
          7.977357929668482,
          7.91844915062758,
          7.2248839443051915,
          8.285458567954416,
          5.605393626936937,
          5.760523610627635,
          8,
          8,
          4,
          4.799169682224783,
          7.5584959809402426,
          6.010566337707915,
          5,
          5.910365451975499,
          6,
          6.942366838693722,
          8,
          8.466311784314616,
          4.654460402861439,
          4.458096078224808
         ],
         "yaxis": "y"
        }
       ],
       "layout": {
        "legend": {
         "tracegroupgap": 0
        },
        "template": {
         "data": {
          "bar": [
           {
            "error_x": {
             "color": "#2a3f5f"
            },
            "error_y": {
             "color": "#2a3f5f"
            },
            "marker": {
             "line": {
              "color": "#E5ECF6",
              "width": 0.5
             },
             "pattern": {
              "fillmode": "overlay",
              "size": 10,
              "solidity": 0.2
             }
            },
            "type": "bar"
           }
          ],
          "barpolar": [
           {
            "marker": {
             "line": {
              "color": "#E5ECF6",
              "width": 0.5
             },
             "pattern": {
              "fillmode": "overlay",
              "size": 10,
              "solidity": 0.2
             }
            },
            "type": "barpolar"
           }
          ],
          "carpet": [
           {
            "aaxis": {
             "endlinecolor": "#2a3f5f",
             "gridcolor": "white",
             "linecolor": "white",
             "minorgridcolor": "white",
             "startlinecolor": "#2a3f5f"
            },
            "baxis": {
             "endlinecolor": "#2a3f5f",
             "gridcolor": "white",
             "linecolor": "white",
             "minorgridcolor": "white",
             "startlinecolor": "#2a3f5f"
            },
            "type": "carpet"
           }
          ],
          "choropleth": [
           {
            "colorbar": {
             "outlinewidth": 0,
             "ticks": ""
            },
            "type": "choropleth"
           }
          ],
          "contour": [
           {
            "colorbar": {
             "outlinewidth": 0,
             "ticks": ""
            },
            "colorscale": [
             [
              0,
              "#0d0887"
             ],
             [
              0.1111111111111111,
              "#46039f"
             ],
             [
              0.2222222222222222,
              "#7201a8"
             ],
             [
              0.3333333333333333,
              "#9c179e"
             ],
             [
              0.4444444444444444,
              "#bd3786"
             ],
             [
              0.5555555555555556,
              "#d8576b"
             ],
             [
              0.6666666666666666,
              "#ed7953"
             ],
             [
              0.7777777777777778,
              "#fb9f3a"
             ],
             [
              0.8888888888888888,
              "#fdca26"
             ],
             [
              1,
              "#f0f921"
             ]
            ],
            "type": "contour"
           }
          ],
          "contourcarpet": [
           {
            "colorbar": {
             "outlinewidth": 0,
             "ticks": ""
            },
            "type": "contourcarpet"
           }
          ],
          "heatmap": [
           {
            "colorbar": {
             "outlinewidth": 0,
             "ticks": ""
            },
            "colorscale": [
             [
              0,
              "#0d0887"
             ],
             [
              0.1111111111111111,
              "#46039f"
             ],
             [
              0.2222222222222222,
              "#7201a8"
             ],
             [
              0.3333333333333333,
              "#9c179e"
             ],
             [
              0.4444444444444444,
              "#bd3786"
             ],
             [
              0.5555555555555556,
              "#d8576b"
             ],
             [
              0.6666666666666666,
              "#ed7953"
             ],
             [
              0.7777777777777778,
              "#fb9f3a"
             ],
             [
              0.8888888888888888,
              "#fdca26"
             ],
             [
              1,
              "#f0f921"
             ]
            ],
            "type": "heatmap"
           }
          ],
          "heatmapgl": [
           {
            "colorbar": {
             "outlinewidth": 0,
             "ticks": ""
            },
            "colorscale": [
             [
              0,
              "#0d0887"
             ],
             [
              0.1111111111111111,
              "#46039f"
             ],
             [
              0.2222222222222222,
              "#7201a8"
             ],
             [
              0.3333333333333333,
              "#9c179e"
             ],
             [
              0.4444444444444444,
              "#bd3786"
             ],
             [
              0.5555555555555556,
              "#d8576b"
             ],
             [
              0.6666666666666666,
              "#ed7953"
             ],
             [
              0.7777777777777778,
              "#fb9f3a"
             ],
             [
              0.8888888888888888,
              "#fdca26"
             ],
             [
              1,
              "#f0f921"
             ]
            ],
            "type": "heatmapgl"
           }
          ],
          "histogram": [
           {
            "marker": {
             "pattern": {
              "fillmode": "overlay",
              "size": 10,
              "solidity": 0.2
             }
            },
            "type": "histogram"
           }
          ],
          "histogram2d": [
           {
            "colorbar": {
             "outlinewidth": 0,
             "ticks": ""
            },
            "colorscale": [
             [
              0,
              "#0d0887"
             ],
             [
              0.1111111111111111,
              "#46039f"
             ],
             [
              0.2222222222222222,
              "#7201a8"
             ],
             [
              0.3333333333333333,
              "#9c179e"
             ],
             [
              0.4444444444444444,
              "#bd3786"
             ],
             [
              0.5555555555555556,
              "#d8576b"
             ],
             [
              0.6666666666666666,
              "#ed7953"
             ],
             [
              0.7777777777777778,
              "#fb9f3a"
             ],
             [
              0.8888888888888888,
              "#fdca26"
             ],
             [
              1,
              "#f0f921"
             ]
            ],
            "type": "histogram2d"
           }
          ],
          "histogram2dcontour": [
           {
            "colorbar": {
             "outlinewidth": 0,
             "ticks": ""
            },
            "colorscale": [
             [
              0,
              "#0d0887"
             ],
             [
              0.1111111111111111,
              "#46039f"
             ],
             [
              0.2222222222222222,
              "#7201a8"
             ],
             [
              0.3333333333333333,
              "#9c179e"
             ],
             [
              0.4444444444444444,
              "#bd3786"
             ],
             [
              0.5555555555555556,
              "#d8576b"
             ],
             [
              0.6666666666666666,
              "#ed7953"
             ],
             [
              0.7777777777777778,
              "#fb9f3a"
             ],
             [
              0.8888888888888888,
              "#fdca26"
             ],
             [
              1,
              "#f0f921"
             ]
            ],
            "type": "histogram2dcontour"
           }
          ],
          "mesh3d": [
           {
            "colorbar": {
             "outlinewidth": 0,
             "ticks": ""
            },
            "type": "mesh3d"
           }
          ],
          "parcoords": [
           {
            "line": {
             "colorbar": {
              "outlinewidth": 0,
              "ticks": ""
             }
            },
            "type": "parcoords"
           }
          ],
          "pie": [
           {
            "automargin": true,
            "type": "pie"
           }
          ],
          "scatter": [
           {
            "fillpattern": {
             "fillmode": "overlay",
             "size": 10,
             "solidity": 0.2
            },
            "type": "scatter"
           }
          ],
          "scatter3d": [
           {
            "line": {
             "colorbar": {
              "outlinewidth": 0,
              "ticks": ""
             }
            },
            "marker": {
             "colorbar": {
              "outlinewidth": 0,
              "ticks": ""
             }
            },
            "type": "scatter3d"
           }
          ],
          "scattercarpet": [
           {
            "marker": {
             "colorbar": {
              "outlinewidth": 0,
              "ticks": ""
             }
            },
            "type": "scattercarpet"
           }
          ],
          "scattergeo": [
           {
            "marker": {
             "colorbar": {
              "outlinewidth": 0,
              "ticks": ""
             }
            },
            "type": "scattergeo"
           }
          ],
          "scattergl": [
           {
            "marker": {
             "colorbar": {
              "outlinewidth": 0,
              "ticks": ""
             }
            },
            "type": "scattergl"
           }
          ],
          "scattermapbox": [
           {
            "marker": {
             "colorbar": {
              "outlinewidth": 0,
              "ticks": ""
             }
            },
            "type": "scattermapbox"
           }
          ],
          "scatterpolar": [
           {
            "marker": {
             "colorbar": {
              "outlinewidth": 0,
              "ticks": ""
             }
            },
            "type": "scatterpolar"
           }
          ],
          "scatterpolargl": [
           {
            "marker": {
             "colorbar": {
              "outlinewidth": 0,
              "ticks": ""
             }
            },
            "type": "scatterpolargl"
           }
          ],
          "scatterternary": [
           {
            "marker": {
             "colorbar": {
              "outlinewidth": 0,
              "ticks": ""
             }
            },
            "type": "scatterternary"
           }
          ],
          "surface": [
           {
            "colorbar": {
             "outlinewidth": 0,
             "ticks": ""
            },
            "colorscale": [
             [
              0,
              "#0d0887"
             ],
             [
              0.1111111111111111,
              "#46039f"
             ],
             [
              0.2222222222222222,
              "#7201a8"
             ],
             [
              0.3333333333333333,
              "#9c179e"
             ],
             [
              0.4444444444444444,
              "#bd3786"
             ],
             [
              0.5555555555555556,
              "#d8576b"
             ],
             [
              0.6666666666666666,
              "#ed7953"
             ],
             [
              0.7777777777777778,
              "#fb9f3a"
             ],
             [
              0.8888888888888888,
              "#fdca26"
             ],
             [
              1,
              "#f0f921"
             ]
            ],
            "type": "surface"
           }
          ],
          "table": [
           {
            "cells": {
             "fill": {
              "color": "#EBF0F8"
             },
             "line": {
              "color": "white"
             }
            },
            "header": {
             "fill": {
              "color": "#C8D4E3"
             },
             "line": {
              "color": "white"
             }
            },
            "type": "table"
           }
          ]
         },
         "layout": {
          "annotationdefaults": {
           "arrowcolor": "#2a3f5f",
           "arrowhead": 0,
           "arrowwidth": 1
          },
          "autotypenumbers": "strict",
          "coloraxis": {
           "colorbar": {
            "outlinewidth": 0,
            "ticks": ""
           }
          },
          "colorscale": {
           "diverging": [
            [
             0,
             "#8e0152"
            ],
            [
             0.1,
             "#c51b7d"
            ],
            [
             0.2,
             "#de77ae"
            ],
            [
             0.3,
             "#f1b6da"
            ],
            [
             0.4,
             "#fde0ef"
            ],
            [
             0.5,
             "#f7f7f7"
            ],
            [
             0.6,
             "#e6f5d0"
            ],
            [
             0.7,
             "#b8e186"
            ],
            [
             0.8,
             "#7fbc41"
            ],
            [
             0.9,
             "#4d9221"
            ],
            [
             1,
             "#276419"
            ]
           ],
           "sequential": [
            [
             0,
             "#0d0887"
            ],
            [
             0.1111111111111111,
             "#46039f"
            ],
            [
             0.2222222222222222,
             "#7201a8"
            ],
            [
             0.3333333333333333,
             "#9c179e"
            ],
            [
             0.4444444444444444,
             "#bd3786"
            ],
            [
             0.5555555555555556,
             "#d8576b"
            ],
            [
             0.6666666666666666,
             "#ed7953"
            ],
            [
             0.7777777777777778,
             "#fb9f3a"
            ],
            [
             0.8888888888888888,
             "#fdca26"
            ],
            [
             1,
             "#f0f921"
            ]
           ],
           "sequentialminus": [
            [
             0,
             "#0d0887"
            ],
            [
             0.1111111111111111,
             "#46039f"
            ],
            [
             0.2222222222222222,
             "#7201a8"
            ],
            [
             0.3333333333333333,
             "#9c179e"
            ],
            [
             0.4444444444444444,
             "#bd3786"
            ],
            [
             0.5555555555555556,
             "#d8576b"
            ],
            [
             0.6666666666666666,
             "#ed7953"
            ],
            [
             0.7777777777777778,
             "#fb9f3a"
            ],
            [
             0.8888888888888888,
             "#fdca26"
            ],
            [
             1,
             "#f0f921"
            ]
           ]
          },
          "colorway": [
           "#636efa",
           "#EF553B",
           "#00cc96",
           "#ab63fa",
           "#FFA15A",
           "#19d3f3",
           "#FF6692",
           "#B6E880",
           "#FF97FF",
           "#FECB52"
          ],
          "font": {
           "color": "#2a3f5f"
          },
          "geo": {
           "bgcolor": "white",
           "lakecolor": "white",
           "landcolor": "#E5ECF6",
           "showlakes": true,
           "showland": true,
           "subunitcolor": "white"
          },
          "hoverlabel": {
           "align": "left"
          },
          "hovermode": "closest",
          "mapbox": {
           "style": "light"
          },
          "paper_bgcolor": "white",
          "plot_bgcolor": "#E5ECF6",
          "polar": {
           "angularaxis": {
            "gridcolor": "white",
            "linecolor": "white",
            "ticks": ""
           },
           "bgcolor": "#E5ECF6",
           "radialaxis": {
            "gridcolor": "white",
            "linecolor": "white",
            "ticks": ""
           }
          },
          "scene": {
           "xaxis": {
            "backgroundcolor": "#E5ECF6",
            "gridcolor": "white",
            "gridwidth": 2,
            "linecolor": "white",
            "showbackground": true,
            "ticks": "",
            "zerolinecolor": "white"
           },
           "yaxis": {
            "backgroundcolor": "#E5ECF6",
            "gridcolor": "white",
            "gridwidth": 2,
            "linecolor": "white",
            "showbackground": true,
            "ticks": "",
            "zerolinecolor": "white"
           },
           "zaxis": {
            "backgroundcolor": "#E5ECF6",
            "gridcolor": "white",
            "gridwidth": 2,
            "linecolor": "white",
            "showbackground": true,
            "ticks": "",
            "zerolinecolor": "white"
           }
          },
          "shapedefaults": {
           "line": {
            "color": "#2a3f5f"
           }
          },
          "ternary": {
           "aaxis": {
            "gridcolor": "white",
            "linecolor": "white",
            "ticks": ""
           },
           "baxis": {
            "gridcolor": "white",
            "linecolor": "white",
            "ticks": ""
           },
           "bgcolor": "#E5ECF6",
           "caxis": {
            "gridcolor": "white",
            "linecolor": "white",
            "ticks": ""
           }
          },
          "title": {
           "x": 0.05
          },
          "xaxis": {
           "automargin": true,
           "gridcolor": "white",
           "linecolor": "white",
           "ticks": "",
           "title": {
            "standoff": 15
           },
           "zerolinecolor": "white",
           "zerolinewidth": 2
          },
          "yaxis": {
           "automargin": true,
           "gridcolor": "white",
           "linecolor": "white",
           "ticks": "",
           "title": {
            "standoff": 15
           },
           "zerolinecolor": "white",
           "zerolinewidth": 2
          }
         }
        },
        "title": {
         "text": "Wygenerowane"
        },
        "xaxis": {
         "anchor": "y",
         "domain": [
          0,
          1
         ],
         "title": {
          "text": "x"
         }
        },
        "yaxis": {
         "anchor": "x",
         "domain": [
          0,
          1
         ],
         "title": {
          "text": "y"
         }
        }
       }
      }
     },
     "metadata": {},
     "output_type": "display_data"
    }
   ],
   "source": [
    "fig = px.scatter(x= temp_out.T[0], y= temp_out.T[1],title='Wygenerowane')\n",
    "fig.show()"
   ]
  },
  {
   "cell_type": "code",
   "execution_count": 18,
   "id": "d625e36b",
   "metadata": {},
   "outputs": [
    {
     "data": {
      "application/vnd.plotly.v1+json": {
       "config": {
        "plotlyServerURL": "https://plot.ly"
       },
       "data": [
        {
         "hovertemplate": "x=%{x}<br>y=%{y}<extra></extra>",
         "legendgroup": "",
         "marker": {
          "color": "#636efa",
          "symbol": "circle"
         },
         "mode": "markers",
         "name": "",
         "orientation": "v",
         "showlegend": false,
         "type": "scatter",
         "x": [
          1,
          3,
          2,
          4,
          6,
          2,
          1,
          3,
          6,
          4,
          5,
          1,
          5,
          2,
          6,
          8,
          7,
          9,
          5,
          8,
          6,
          8,
          7,
          9,
          5,
          7,
          4,
          5,
          7,
          1.314763739206938,
          1,
          2.6813103989011777,
          2.9141043634628336,
          2.2111502792518043,
          2.873028967026732,
          4,
          4.93600712805456,
          4.677609664338943,
          6,
          2.298324177974105,
          1.4018673745239238,
          1.3649488636797655,
          1,
          3,
          1.0365542479674947,
          6,
          4.8435711396427985,
          5.214808059020161,
          3.0378491867523945,
          5,
          5.549019140293908,
          1.4398189110451223,
          1.5569146251417187,
          5,
          5.633144077865292,
          2,
          2.8413774402452927,
          6.386769713301085,
          5.096364036246283,
          8.471552995279598,
          8,
          7,
          6.121465831992438,
          8.88105417078542,
          8.433966988862808,
          5.026069173700588,
          6.40841348586021,
          7.037547235582361,
          7.611406956565235,
          6.688779714166172,
          7.419531874417325,
          8.051919289333382,
          8.665317454989875,
          5.251039949790761,
          5.191849989874536,
          8.494193218443714,
          8.61352905495301,
          5,
          4.329953226708946,
          7.2490914907759905,
          6.344115975057976,
          4.599264719044038,
          4.180551121400636,
          6.1222004625499595,
          5.2206299007142825,
          7,
          7.4071867543437
         ],
         "xaxis": "x",
         "y": [
          3,
          1,
          2,
          6,
          2,
          5,
          4,
          3,
          2,
          1,
          3,
          3,
          2,
          1,
          6,
          5,
          7,
          6,
          4,
          8,
          9,
          5,
          8,
          4,
          7,
          5,
          6,
          8,
          4,
          2.545429935189661,
          3,
          1.783111125617873,
          1,
          1.8197938019173128,
          1.8072023730750177,
          6,
          6.8222722139119325,
          1.8532899102711042,
          2,
          5.487266754552529,
          4.267924289556918,
          2.5424057189076006,
          3.5027603560718545,
          2.9628670925409812,
          3,
          2,
          1.750939089335426,
          1.0410977104932821,
          1.5885826877209068,
          3.7163430623785745,
          2.285291161572914,
          2.832002836622362,
          3,
          2.57401686013377,
          2,
          1.7185112666769435,
          1,
          5.667265447856179,
          6,
          4.9802525009159355,
          5,
          6.676966941398396,
          6.898531522165666,
          7.861870663578951,
          6.351879597590728,
          4,
          4,
          7.977357929668482,
          7.91844915062758,
          7.2248839443051915,
          8.285458567954416,
          5.605393626936937,
          5.760523610627635,
          8,
          8,
          4,
          4.799169682224783,
          7.5584959809402426,
          6.010566337707915,
          5,
          5.910365451975499,
          6,
          6.942366838693722,
          8,
          8.466311784314616,
          4.654460402861439,
          4.458096078224808
         ],
         "yaxis": "y"
        }
       ],
       "layout": {
        "legend": {
         "tracegroupgap": 0
        },
        "template": {
         "data": {
          "bar": [
           {
            "error_x": {
             "color": "#2a3f5f"
            },
            "error_y": {
             "color": "#2a3f5f"
            },
            "marker": {
             "line": {
              "color": "#E5ECF6",
              "width": 0.5
             },
             "pattern": {
              "fillmode": "overlay",
              "size": 10,
              "solidity": 0.2
             }
            },
            "type": "bar"
           }
          ],
          "barpolar": [
           {
            "marker": {
             "line": {
              "color": "#E5ECF6",
              "width": 0.5
             },
             "pattern": {
              "fillmode": "overlay",
              "size": 10,
              "solidity": 0.2
             }
            },
            "type": "barpolar"
           }
          ],
          "carpet": [
           {
            "aaxis": {
             "endlinecolor": "#2a3f5f",
             "gridcolor": "white",
             "linecolor": "white",
             "minorgridcolor": "white",
             "startlinecolor": "#2a3f5f"
            },
            "baxis": {
             "endlinecolor": "#2a3f5f",
             "gridcolor": "white",
             "linecolor": "white",
             "minorgridcolor": "white",
             "startlinecolor": "#2a3f5f"
            },
            "type": "carpet"
           }
          ],
          "choropleth": [
           {
            "colorbar": {
             "outlinewidth": 0,
             "ticks": ""
            },
            "type": "choropleth"
           }
          ],
          "contour": [
           {
            "colorbar": {
             "outlinewidth": 0,
             "ticks": ""
            },
            "colorscale": [
             [
              0,
              "#0d0887"
             ],
             [
              0.1111111111111111,
              "#46039f"
             ],
             [
              0.2222222222222222,
              "#7201a8"
             ],
             [
              0.3333333333333333,
              "#9c179e"
             ],
             [
              0.4444444444444444,
              "#bd3786"
             ],
             [
              0.5555555555555556,
              "#d8576b"
             ],
             [
              0.6666666666666666,
              "#ed7953"
             ],
             [
              0.7777777777777778,
              "#fb9f3a"
             ],
             [
              0.8888888888888888,
              "#fdca26"
             ],
             [
              1,
              "#f0f921"
             ]
            ],
            "type": "contour"
           }
          ],
          "contourcarpet": [
           {
            "colorbar": {
             "outlinewidth": 0,
             "ticks": ""
            },
            "type": "contourcarpet"
           }
          ],
          "heatmap": [
           {
            "colorbar": {
             "outlinewidth": 0,
             "ticks": ""
            },
            "colorscale": [
             [
              0,
              "#0d0887"
             ],
             [
              0.1111111111111111,
              "#46039f"
             ],
             [
              0.2222222222222222,
              "#7201a8"
             ],
             [
              0.3333333333333333,
              "#9c179e"
             ],
             [
              0.4444444444444444,
              "#bd3786"
             ],
             [
              0.5555555555555556,
              "#d8576b"
             ],
             [
              0.6666666666666666,
              "#ed7953"
             ],
             [
              0.7777777777777778,
              "#fb9f3a"
             ],
             [
              0.8888888888888888,
              "#fdca26"
             ],
             [
              1,
              "#f0f921"
             ]
            ],
            "type": "heatmap"
           }
          ],
          "heatmapgl": [
           {
            "colorbar": {
             "outlinewidth": 0,
             "ticks": ""
            },
            "colorscale": [
             [
              0,
              "#0d0887"
             ],
             [
              0.1111111111111111,
              "#46039f"
             ],
             [
              0.2222222222222222,
              "#7201a8"
             ],
             [
              0.3333333333333333,
              "#9c179e"
             ],
             [
              0.4444444444444444,
              "#bd3786"
             ],
             [
              0.5555555555555556,
              "#d8576b"
             ],
             [
              0.6666666666666666,
              "#ed7953"
             ],
             [
              0.7777777777777778,
              "#fb9f3a"
             ],
             [
              0.8888888888888888,
              "#fdca26"
             ],
             [
              1,
              "#f0f921"
             ]
            ],
            "type": "heatmapgl"
           }
          ],
          "histogram": [
           {
            "marker": {
             "pattern": {
              "fillmode": "overlay",
              "size": 10,
              "solidity": 0.2
             }
            },
            "type": "histogram"
           }
          ],
          "histogram2d": [
           {
            "colorbar": {
             "outlinewidth": 0,
             "ticks": ""
            },
            "colorscale": [
             [
              0,
              "#0d0887"
             ],
             [
              0.1111111111111111,
              "#46039f"
             ],
             [
              0.2222222222222222,
              "#7201a8"
             ],
             [
              0.3333333333333333,
              "#9c179e"
             ],
             [
              0.4444444444444444,
              "#bd3786"
             ],
             [
              0.5555555555555556,
              "#d8576b"
             ],
             [
              0.6666666666666666,
              "#ed7953"
             ],
             [
              0.7777777777777778,
              "#fb9f3a"
             ],
             [
              0.8888888888888888,
              "#fdca26"
             ],
             [
              1,
              "#f0f921"
             ]
            ],
            "type": "histogram2d"
           }
          ],
          "histogram2dcontour": [
           {
            "colorbar": {
             "outlinewidth": 0,
             "ticks": ""
            },
            "colorscale": [
             [
              0,
              "#0d0887"
             ],
             [
              0.1111111111111111,
              "#46039f"
             ],
             [
              0.2222222222222222,
              "#7201a8"
             ],
             [
              0.3333333333333333,
              "#9c179e"
             ],
             [
              0.4444444444444444,
              "#bd3786"
             ],
             [
              0.5555555555555556,
              "#d8576b"
             ],
             [
              0.6666666666666666,
              "#ed7953"
             ],
             [
              0.7777777777777778,
              "#fb9f3a"
             ],
             [
              0.8888888888888888,
              "#fdca26"
             ],
             [
              1,
              "#f0f921"
             ]
            ],
            "type": "histogram2dcontour"
           }
          ],
          "mesh3d": [
           {
            "colorbar": {
             "outlinewidth": 0,
             "ticks": ""
            },
            "type": "mesh3d"
           }
          ],
          "parcoords": [
           {
            "line": {
             "colorbar": {
              "outlinewidth": 0,
              "ticks": ""
             }
            },
            "type": "parcoords"
           }
          ],
          "pie": [
           {
            "automargin": true,
            "type": "pie"
           }
          ],
          "scatter": [
           {
            "fillpattern": {
             "fillmode": "overlay",
             "size": 10,
             "solidity": 0.2
            },
            "type": "scatter"
           }
          ],
          "scatter3d": [
           {
            "line": {
             "colorbar": {
              "outlinewidth": 0,
              "ticks": ""
             }
            },
            "marker": {
             "colorbar": {
              "outlinewidth": 0,
              "ticks": ""
             }
            },
            "type": "scatter3d"
           }
          ],
          "scattercarpet": [
           {
            "marker": {
             "colorbar": {
              "outlinewidth": 0,
              "ticks": ""
             }
            },
            "type": "scattercarpet"
           }
          ],
          "scattergeo": [
           {
            "marker": {
             "colorbar": {
              "outlinewidth": 0,
              "ticks": ""
             }
            },
            "type": "scattergeo"
           }
          ],
          "scattergl": [
           {
            "marker": {
             "colorbar": {
              "outlinewidth": 0,
              "ticks": ""
             }
            },
            "type": "scattergl"
           }
          ],
          "scattermapbox": [
           {
            "marker": {
             "colorbar": {
              "outlinewidth": 0,
              "ticks": ""
             }
            },
            "type": "scattermapbox"
           }
          ],
          "scatterpolar": [
           {
            "marker": {
             "colorbar": {
              "outlinewidth": 0,
              "ticks": ""
             }
            },
            "type": "scatterpolar"
           }
          ],
          "scatterpolargl": [
           {
            "marker": {
             "colorbar": {
              "outlinewidth": 0,
              "ticks": ""
             }
            },
            "type": "scatterpolargl"
           }
          ],
          "scatterternary": [
           {
            "marker": {
             "colorbar": {
              "outlinewidth": 0,
              "ticks": ""
             }
            },
            "type": "scatterternary"
           }
          ],
          "surface": [
           {
            "colorbar": {
             "outlinewidth": 0,
             "ticks": ""
            },
            "colorscale": [
             [
              0,
              "#0d0887"
             ],
             [
              0.1111111111111111,
              "#46039f"
             ],
             [
              0.2222222222222222,
              "#7201a8"
             ],
             [
              0.3333333333333333,
              "#9c179e"
             ],
             [
              0.4444444444444444,
              "#bd3786"
             ],
             [
              0.5555555555555556,
              "#d8576b"
             ],
             [
              0.6666666666666666,
              "#ed7953"
             ],
             [
              0.7777777777777778,
              "#fb9f3a"
             ],
             [
              0.8888888888888888,
              "#fdca26"
             ],
             [
              1,
              "#f0f921"
             ]
            ],
            "type": "surface"
           }
          ],
          "table": [
           {
            "cells": {
             "fill": {
              "color": "#EBF0F8"
             },
             "line": {
              "color": "white"
             }
            },
            "header": {
             "fill": {
              "color": "#C8D4E3"
             },
             "line": {
              "color": "white"
             }
            },
            "type": "table"
           }
          ]
         },
         "layout": {
          "annotationdefaults": {
           "arrowcolor": "#2a3f5f",
           "arrowhead": 0,
           "arrowwidth": 1
          },
          "autotypenumbers": "strict",
          "coloraxis": {
           "colorbar": {
            "outlinewidth": 0,
            "ticks": ""
           }
          },
          "colorscale": {
           "diverging": [
            [
             0,
             "#8e0152"
            ],
            [
             0.1,
             "#c51b7d"
            ],
            [
             0.2,
             "#de77ae"
            ],
            [
             0.3,
             "#f1b6da"
            ],
            [
             0.4,
             "#fde0ef"
            ],
            [
             0.5,
             "#f7f7f7"
            ],
            [
             0.6,
             "#e6f5d0"
            ],
            [
             0.7,
             "#b8e186"
            ],
            [
             0.8,
             "#7fbc41"
            ],
            [
             0.9,
             "#4d9221"
            ],
            [
             1,
             "#276419"
            ]
           ],
           "sequential": [
            [
             0,
             "#0d0887"
            ],
            [
             0.1111111111111111,
             "#46039f"
            ],
            [
             0.2222222222222222,
             "#7201a8"
            ],
            [
             0.3333333333333333,
             "#9c179e"
            ],
            [
             0.4444444444444444,
             "#bd3786"
            ],
            [
             0.5555555555555556,
             "#d8576b"
            ],
            [
             0.6666666666666666,
             "#ed7953"
            ],
            [
             0.7777777777777778,
             "#fb9f3a"
            ],
            [
             0.8888888888888888,
             "#fdca26"
            ],
            [
             1,
             "#f0f921"
            ]
           ],
           "sequentialminus": [
            [
             0,
             "#0d0887"
            ],
            [
             0.1111111111111111,
             "#46039f"
            ],
            [
             0.2222222222222222,
             "#7201a8"
            ],
            [
             0.3333333333333333,
             "#9c179e"
            ],
            [
             0.4444444444444444,
             "#bd3786"
            ],
            [
             0.5555555555555556,
             "#d8576b"
            ],
            [
             0.6666666666666666,
             "#ed7953"
            ],
            [
             0.7777777777777778,
             "#fb9f3a"
            ],
            [
             0.8888888888888888,
             "#fdca26"
            ],
            [
             1,
             "#f0f921"
            ]
           ]
          },
          "colorway": [
           "#636efa",
           "#EF553B",
           "#00cc96",
           "#ab63fa",
           "#FFA15A",
           "#19d3f3",
           "#FF6692",
           "#B6E880",
           "#FF97FF",
           "#FECB52"
          ],
          "font": {
           "color": "#2a3f5f"
          },
          "geo": {
           "bgcolor": "white",
           "lakecolor": "white",
           "landcolor": "#E5ECF6",
           "showlakes": true,
           "showland": true,
           "subunitcolor": "white"
          },
          "hoverlabel": {
           "align": "left"
          },
          "hovermode": "closest",
          "mapbox": {
           "style": "light"
          },
          "paper_bgcolor": "white",
          "plot_bgcolor": "#E5ECF6",
          "polar": {
           "angularaxis": {
            "gridcolor": "white",
            "linecolor": "white",
            "ticks": ""
           },
           "bgcolor": "#E5ECF6",
           "radialaxis": {
            "gridcolor": "white",
            "linecolor": "white",
            "ticks": ""
           }
          },
          "scene": {
           "xaxis": {
            "backgroundcolor": "#E5ECF6",
            "gridcolor": "white",
            "gridwidth": 2,
            "linecolor": "white",
            "showbackground": true,
            "ticks": "",
            "zerolinecolor": "white"
           },
           "yaxis": {
            "backgroundcolor": "#E5ECF6",
            "gridcolor": "white",
            "gridwidth": 2,
            "linecolor": "white",
            "showbackground": true,
            "ticks": "",
            "zerolinecolor": "white"
           },
           "zaxis": {
            "backgroundcolor": "#E5ECF6",
            "gridcolor": "white",
            "gridwidth": 2,
            "linecolor": "white",
            "showbackground": true,
            "ticks": "",
            "zerolinecolor": "white"
           }
          },
          "shapedefaults": {
           "line": {
            "color": "#2a3f5f"
           }
          },
          "ternary": {
           "aaxis": {
            "gridcolor": "white",
            "linecolor": "white",
            "ticks": ""
           },
           "baxis": {
            "gridcolor": "white",
            "linecolor": "white",
            "ticks": ""
           },
           "bgcolor": "#E5ECF6",
           "caxis": {
            "gridcolor": "white",
            "linecolor": "white",
            "ticks": ""
           }
          },
          "title": {
           "x": 0.05
          },
          "xaxis": {
           "automargin": true,
           "gridcolor": "white",
           "linecolor": "white",
           "ticks": "",
           "title": {
            "standoff": 15
           },
           "zerolinecolor": "white",
           "zerolinewidth": 2
          },
          "yaxis": {
           "automargin": true,
           "gridcolor": "white",
           "linecolor": "white",
           "ticks": "",
           "title": {
            "standoff": 15
           },
           "zerolinecolor": "white",
           "zerolinewidth": 2
          }
         }
        },
        "title": {
         "text": "Wygenerowane + wejściowe o łącznej liczbie równej desired"
        },
        "xaxis": {
         "anchor": "y",
         "domain": [
          0,
          1
         ],
         "title": {
          "text": "x"
         }
        },
        "yaxis": {
         "anchor": "x",
         "domain": [
          0,
          1
         ],
         "title": {
          "text": "y"
         }
        }
       }
      }
     },
     "metadata": {},
     "output_type": "display_data"
    },
    {
     "data": {
      "text/plain": [
       "87"
      ]
     },
     "execution_count": 18,
     "metadata": {},
     "output_type": "execute_result"
    }
   ],
   "source": [
    "fig = px.scatter(x= temp_Cluter_OUT[0], y= temp_Cluter_OUT[1], title= 'Wygenerowane + wejściowe o łącznej liczbie równej desired')\n",
    "fig.show()\n",
    "len(temp_Cluter_OUT[0])"
   ]
  },
  {
   "cell_type": "markdown",
   "id": "6a43e67b",
   "metadata": {},
   "source": [
    "#### Clustering with SMOTE (Część pracy)"
   ]
  },
  {
   "cell_type": "code",
   "execution_count": 19,
   "id": "ba7497e4",
   "metadata": {},
   "outputs": [],
   "source": [
    "from sklearn.cluster import KMeans, MeanShift\n",
    "\n",
    "def oversample_clustered_data(X, y, X_minority, y_minority, X_majority, y_majority, cluster_labeled_data):\n",
    "    #wygenerowane próbki mniejszościowe wrzucamy tutaj:\n",
    "    X_generated = []\n",
    "\n",
    "    # Do oceny ile próbek trzeba będzie wygenerować trzeba przeliczyć różnicę między liczebnością klasy mniejszościowej i większościowej, będzie to potrzebne później w pętli dla każego z klastrów\n",
    "    majority_minority_difference =  list(y).count(0) - list(y).count(1)\n",
    "    if(majority_minority_difference < 0):\n",
    "        print(\"[ERR] Monority class has grater count to Majority class\")\n",
    "        exit()\n",
    "    # Do oceny ile próbek będzie trzeba wygenerować potrzebne też będzie informacja o liczbności klasy mniejszościowej\n",
    "    minority_count = list(y).count(0)\n",
    "\n",
    "    # Dla każdego z klastrów:\n",
    "    cluster_labels = np.unique(cluster_labeled_data) #  pobranie info jakie mamy labele klastrów [0,1,...]\n",
    "\n",
    "    # Wszystkie wygenerowane syntetycznie obiekty trafią tutaj\n",
    "    syntetic_data = []\n",
    "    for cluster in cluster_labels:\n",
    "        # w pierwszej kolejności filtrujemy indeksy zbioru mniejszościowego aby pozostawić tylko indeksy należące do klastra który w danej iteracji pętli analizujemy\n",
    "        cluster_samples_indices_minority = np.where(cluster_labeled_data == cluster)[0]\n",
    "        # ustalamy ile próbek trzeba wygenerować w tym klastrze\n",
    "        # ustalamy procentowo liczebność (udział) klastra względem całej klasy mniejszościowej\n",
    "        percentage_of_count = len(cluster_samples_indices_minority)/minority_count\n",
    "        # zabezpieczenie jeśli coś na tym etapie szłoby bardzo nie tak\n",
    "        if(percentage_of_count>1 or percentage_of_count<0):\n",
    "            print(\"Kurza twarz.. something is no yes! Procenty nie mogą być większe niż 100 ani mniejsze niż 0\")\n",
    "            exit()\n",
    "        \n",
    "        #następnie przemnarzamy udział procentowy klastra przez różnicę między zbiorem większościowym i mniejszościowym uzyskując ilość próbek do augmentacji\n",
    "        num_of_samples_to_generate_in_this_cluster = percentage_of_count * majority_minority_difference\n",
    "\n",
    "        # Do samej funkcji augmentacji wymagana jest warość procentowa gdzie 100 to 100% określająca ile próbek ma zostać wygenerowanych względem danych wejściowych\n",
    "        # w tym celu należy podzielić ilość próbek które chcemy wygenerować przez liczbę próbek które posiadamy już\n",
    "        todoSamples = 100*num_of_samples_to_generate_in_this_cluster/len(cluster_samples_indices_minority)\n",
    "\n",
    "        # Teraz musimy niestety przejść z np.array na dataframe bo w ten sposób działa funkcja ale robimy to już w parametrze funkcji\n",
    "        # Oversampling... totaj k = 5.. jest to hiperparametr który nie wydaje się być istotny w tej implementacji. Jeśli będą większe zmiany trzeba spojrzeć na niego\n",
    "        temp_out = SMOTE_ByMedium(pd.DataFrame(X_minority.T), todoSamples, 5)\n",
    "        syntetic_data.append(temp_out)\n",
    "\n",
    "    #tutaj wymagane jest połączenie wyjścia syntetic_data razem z X i y\n",
    "    #TODO TODO TODO TODO TODO TODO TODO TODO TODO TODO TODO TODO TODO TODO TODO TODO TODO \n",
    "    X_resampled = []\n",
    "    y_resampled  = []\n",
    "    return X_resampled, y_resampled\n",
    "\n",
    "def KMeans_SMOTE(X, y, num_clusters):\n",
    "    # Wybieramy indeksy klasy mniejszościowej i większościowej\n",
    "    minority_indices = np.where(y == 1)[0] # dla naszych datasetów klasa o labelu 1 zawsze jest mniejszościowa\n",
    "    majority_indices = np.where(y == 0)[0]\n",
    "\n",
    "    # Sortujemy Dane i Labele na minority i majority\n",
    "    X_minority = X[minority_indices]\n",
    "    y_minority = y[minority_indices]\n",
    "\n",
    "    X_majority = X[majority_indices]\n",
    "    y_majority = y[majority_indices]\n",
    "    \n",
    "    # Wykonujemy klasteryzację na klasie mniejszościowej\n",
    "    kmeans_labels_minority = KMeans(n_clusters=num_clusters, random_state=0, n_init=\"auto\").fit_predict(X_minority)\n",
    "\n",
    "    # Zwrócona wartość to indeksy odwołujące się jedynie do klasy mniejszościowej! trzeba o tym teraz pamiętać.\n",
    "    return oversample_clustered_data(X, y, X_minority, y_minority, X_majority, y_majority, kmeans_labels_minority)\n",
    "\n",
    "\n",
    "def MeanShift_SMOTE(X, y):\n",
    "    # TAK WIEM,TO POWINNA BYĆ FUNKCJA, BO WIĘKSZOŚĆ LINIJEK MEANSHIFT_SMOTE I KMEANS_SMOTE SIĘ POWTARZA ... może kiedyś tu upiększymy\n",
    "    # Wybieramy indeksy klasy mniejszościowej i większościowej\n",
    "    minority_indices = np.where(y == 1)[0] # dla naszych datasetów klasa o labelu 1 zawsze jest mniejszościowa\n",
    "    majority_indices = np.where(y == 0)[0]\n",
    "\n",
    "    # Sortujemy Dane i Labele na minority i majority\n",
    "    X_minority = X[minority_indices]\n",
    "    y_minority = y[minority_indices]\n",
    "\n",
    "    X_majority = X[majority_indices]\n",
    "    y_majority = y[majority_indices]\n",
    "    \n",
    "    # Wykonujemy klasteryzację na klasie mniejszościowej\n",
    "    mean_shift_labels_minority = MeanShift().fit_predict(X_minority)\n",
    "    return oversample_clustered_data(X, y, X_minority, y_minority, X_majority, y_majority, mean_shift_labels_minority)"
   ]
  },
  {
   "cell_type": "markdown",
   "id": "dd65ec1f",
   "metadata": {},
   "source": [
    "KMINA\n",
    "\n",
    "KMeans_SMOTE / minority_indices - tutaj wlatują dane negative - czy napewno są oen mniejszościowe?\n",
    "Odpowie na to pytanie poniższa funkcja\n"
   ]
  },
  {
   "cell_type": "code",
   "execution_count": 5,
   "id": "867e60a8",
   "metadata": {},
   "outputs": [
    {
     "name": "stdout",
     "output_type": "stream",
     "text": [
      "Processing files in directory: mild-imbalance\n",
      "File: mild-imbalance\\page-blocks0.dat\n",
      "---------STATS---------\n",
      "countOf0:  4913\n",
      "countOf1:  559\n",
      "----------OUT----------\n",
      "Więcej klasy 0\n",
      "File: mild-imbalance\\pima.dat\n",
      "---------STATS---------\n",
      "countOf0:  500\n",
      "countOf1:  268\n",
      "----------OUT----------\n",
      "Więcej klasy 0\n",
      "File: mild-imbalance\\segment0.dat\n",
      "---------STATS---------\n",
      "countOf0:  1979\n",
      "countOf1:  329\n",
      "----------OUT----------\n",
      "Więcej klasy 0\n",
      "File: mild-imbalance\\vehicle0.dat\n",
      "---------STATS---------\n",
      "countOf0:  647\n",
      "countOf1:  199\n",
      "----------OUT----------\n",
      "Więcej klasy 0\n",
      "File: mild-imbalance\\vehicle1.dat\n",
      "---------STATS---------\n",
      "countOf0:  629\n",
      "countOf1:  217\n",
      "----------OUT----------\n",
      "Więcej klasy 0\n",
      "File: mild-imbalance\\vehicle2.dat\n",
      "---------STATS---------\n",
      "countOf0:  628\n",
      "countOf1:  218\n",
      "----------OUT----------\n",
      "Więcej klasy 0\n",
      "File: mild-imbalance\\vehicle3.dat\n",
      "---------STATS---------\n",
      "countOf0:  634\n",
      "countOf1:  212\n",
      "----------OUT----------\n",
      "Więcej klasy 0\n",
      "File: mild-imbalance\\wisconsin.dat\n",
      "---------STATS---------\n",
      "countOf0:  444\n",
      "countOf1:  239\n",
      "----------OUT----------\n",
      "Więcej klasy 0\n",
      "File: mild-imbalance\\yeast1.dat\n",
      "---------STATS---------\n",
      "countOf0:  1055\n",
      "countOf1:  429\n",
      "----------OUT----------\n",
      "Więcej klasy 0\n",
      "File: mild-imbalance\\yeast3.dat\n",
      "---------STATS---------\n",
      "countOf0:  1321\n",
      "countOf1:  163\n",
      "----------OUT----------\n",
      "Więcej klasy 0\n",
      "Processing files in directory: high-imbalance\n",
      "File: high-imbalance\\abalone-17_vs_7-8-9-10.dat\n",
      "---------STATS---------\n",
      "countOf0:  2280\n",
      "countOf1:  58\n",
      "----------OUT----------\n",
      "Więcej klasy 0\n",
      "File: high-imbalance\\abalone19.dat\n",
      "---------STATS---------\n",
      "countOf0:  4142\n",
      "countOf1:  32\n",
      "----------OUT----------\n",
      "Więcej klasy 0\n",
      "File: high-imbalance\\kr-vs-k-three_vs_eleven.dat\n",
      "---------STATS---------\n",
      "countOf0:  2854\n",
      "countOf1:  81\n",
      "----------OUT----------\n",
      "Więcej klasy 0\n",
      "File: high-imbalance\\kr-vs-k-zero-one_vs_draw.dat\n",
      "---------STATS---------\n",
      "countOf0:  2796\n",
      "countOf1:  105\n",
      "----------OUT----------\n",
      "Więcej klasy 0\n",
      "File: high-imbalance\\shuttle-2_vs_5.dat\n",
      "---------STATS---------\n",
      "countOf0:  3267\n",
      "countOf1:  49\n",
      "----------OUT----------\n",
      "Więcej klasy 0\n",
      "File: high-imbalance\\shuttle-c0-vs-c4.dat\n",
      "---------STATS---------\n",
      "countOf0:  1706\n",
      "countOf1:  123\n",
      "----------OUT----------\n",
      "Więcej klasy 0\n",
      "File: high-imbalance\\yeast-0-2-5-6_vs_3-7-8-9.dat\n",
      "---------STATS---------\n",
      "countOf0:  905\n",
      "countOf1:  99\n",
      "----------OUT----------\n",
      "Więcej klasy 0\n",
      "File: high-imbalance\\yeast-0-2-5-7-9_vs_3-6-8.dat\n",
      "---------STATS---------\n",
      "countOf0:  905\n",
      "countOf1:  99\n",
      "----------OUT----------\n",
      "Więcej klasy 0\n",
      "File: high-imbalance\\yeast4.dat\n",
      "---------STATS---------\n",
      "countOf0:  1433\n",
      "countOf1:  51\n",
      "----------OUT----------\n",
      "Więcej klasy 0\n",
      "File: high-imbalance\\yeast5.dat\n",
      "---------STATS---------\n",
      "countOf0:  1440\n",
      "countOf1:  44\n",
      "----------OUT----------\n",
      "Więcej klasy 0\n",
      "[0, 0, 0, 0, 0, 0, 0, 0, 0, 0, 0, 0, 0, 0, 0, 0, 0, 0, 0, 0]\n",
      "0\n"
     ]
    }
   ],
   "source": [
    "# tymczasowy algorytm do analizy która z klas jest mniejszościowa\n",
    "def ReturnsMinorityLabel(file_path):\n",
    "    labels = []\n",
    "    with open(file_path, 'r') as f:\n",
    "        for line in f:\n",
    "            if line.startswith('@'):\n",
    "                continue\n",
    "            line_data = line.strip().split(',')\n",
    "            sample_class = line_data[-1].strip().lower().replace(\" \", \"\")\n",
    "            label = 1 if sample_class == 'positive' else 0\n",
    "            labels.append(label)\n",
    "    countOf0 = labels.count(0)\n",
    "    countOf1 = labels.count(1)\n",
    "    print(\"---------STATS---------\") \n",
    "    print('countOf0: ',countOf0)\n",
    "    print('countOf1: ',countOf1)\n",
    "    print(\"----------OUT----------\") \n",
    "    if countOf0 == countOf1:\n",
    "        print(\"!!!!!kurcze zbiorki są zbalansowane!!!!!!\")\n",
    "        return(-1)\n",
    "    if countOf0 > countOf1:\n",
    "        print(\"Więcej klasy 0\")\n",
    "        return(0)\n",
    "    if countOf0 < countOf1:\n",
    "        print(\"Więcej klasy 1\")\n",
    "        return(1)\n",
    "\n",
    "import os\n",
    "\n",
    "#sprawdzenie czy działa\n",
    "\n",
    "directories = ['mild-imbalance', 'high-imbalance']\n",
    "results_of_test = []\n",
    "for directory in directories:\n",
    "    print(f\"Processing files in directory: {directory}\")\n",
    "    files = os.listdir(directory)\n",
    "    \n",
    "    for file_name in files:\n",
    "        file_path = os.path.join(directory, file_name)\n",
    "        print(f\"File: {file_path}\")\n",
    "        results_of_test.append(ReturnsMinorityLabel(file_path))\n",
    "    \n",
    "print(results_of_test)\n",
    "print(results_of_test.count(1))"
   ]
  },
  {
   "cell_type": "markdown",
   "id": "0c3846ea",
   "metadata": {},
   "source": [
    "#### Experiment for single dataset"
   ]
  },
  {
   "cell_type": "code",
   "execution_count": 20,
   "id": "915d9556",
   "metadata": {},
   "outputs": [],
   "source": [
    "from imblearn.over_sampling import SMOTE, RandomOverSampler, BorderlineSMOTE\n",
    "from sklearn import svm\n",
    "from sklearn.model_selection import RepeatedStratifiedKFold\n",
    "from sklearn.metrics import precision_score, recall_score\n",
    "from imblearn.metrics import specificity_score\n",
    "\n",
    "def experiment(X, y):\n",
    "    preprocessings = {\n",
    "        \"KMeansSMOTE\": True,\n",
    "        \"MeansShiftSMOTE\": True,\n",
    "        \"SMOTE\": SMOTE(),\n",
    "        \"ROS\": RandomOverSampler(),\n",
    "        \"BorderlineSMOTE\": BorderlineSMOTE(),\n",
    "    }\n",
    "    classifier = svm.SVC(),# czy ten przecinek nie powoduje, że kolejna linikja jest potrzebna? dziwne to to\n",
    "    classifier = classifier[0]\n",
    "    rskf = RepeatedStratifiedKFold(n_splits=5, n_repeats=2, random_state=1234)\n",
    "    result = {}\n",
    "    for key in preprocessings:\n",
    "        precision_scores = []\n",
    "        recall_scores = []\n",
    "        specifity_scores = []\n",
    "        for train_index, test_index in rskf.split(X,y):\n",
    "            X_train, X_test = X[train_index], X[test_index]\n",
    "            y_train, y_test = y[train_index], y[test_index]\n",
    "            if key == \"KMeansSMOTE\":\n",
    "                X_train_oversampled, y_train_oversampled = KMeans_SMOTE(X_train, y_train, 2)\n",
    "            elif key == \"MeansShiftSMOTE\":\n",
    "                X_train_oversampled, y_train_oversampled = MeanShift_SMOTE(X_train, y_train)\n",
    "            else:\n",
    "                X_train_oversampled, y_train_oversampled = preprocessings[key].fit_resample(X_train, y_train)\n",
    "            classifier.fit(X_train_oversampled, y_train_oversampled)\n",
    "            predict = classifier.predict(X_test)\n",
    "            precision_scores.append(precision_score(y_test, predict))\n",
    "            recall_scores.append(recall_score(y_test, predict))\n",
    "            specifity_scores.append(specificity_score(y_test, predict))\n",
    "        mean_precision_score = np.mean(precision_scores)\n",
    "        std_precision_score = np.std(precision_scores)\n",
    "        mean_recall_score = np.mean(recall_scores)\n",
    "        std_recall_score = np.std(recall_scores)\n",
    "        mean_specifity_score = np.mean(specifity_scores)\n",
    "        std_specifity_score = np.std(specifity_scores)\n",
    "#         print(f\"Precission score {key}: %.3f (%.3f)\" % (mean_precision_score, std_precision_score))\n",
    "#         print(f\"Specifity score {key}: %.3f (%.3f)\" % (mean_specifity_score, std_specifity_score))\n",
    "#         print(f\"Recall score {key}: %.3f (%.3f)\" % (mean_recall_score, std_recall_score))\n",
    "        result[key] = {\n",
    "            \"precission_scores\": precision_scores,\n",
    "            \"recall_scores\": recall_scores,\n",
    "            \"specifity_scores\": specifity_scores,\n",
    "            \"mean_precission_score\": mean_precision_score,\n",
    "            \"mean_recall_scores\": mean_recall_score,\n",
    "            \"mean_specifity_scores\": mean_specifity_score,\n",
    "        }\n",
    "    return result"
   ]
  },
  {
   "cell_type": "markdown",
   "id": "7268e808",
   "metadata": {},
   "source": [
    "#### Running experiments on the datasets"
   ]
  },
  {
   "cell_type": "code",
   "execution_count": 21,
   "id": "9b9c68f8",
   "metadata": {
    "scrolled": false
   },
   "outputs": [
    {
     "name": "stdout",
     "output_type": "stream",
     "text": [
      "Processing files in directory: mild-imbalance\n",
      "File: mild-imbalance\\page-blocks0.dat\n"
     ]
    },
    {
     "ename": "ValueError",
     "evalue": "Expected 2D array, got 1D array instead:\narray=[].\nReshape your data either using array.reshape(-1, 1) if your data has a single feature or array.reshape(1, -1) if it contains a single sample.",
     "output_type": "error",
     "traceback": [
      "\u001b[1;31m---------------------------------------------------------------------------\u001b[0m",
      "\u001b[1;31mValueError\u001b[0m                                Traceback (most recent call last)",
      "Cell \u001b[1;32mIn[21], line 13\u001b[0m\n\u001b[0;32m     11\u001b[0m         \u001b[38;5;28mprint\u001b[39m(\u001b[38;5;124mf\u001b[39m\u001b[38;5;124m\"\u001b[39m\u001b[38;5;124mFile: \u001b[39m\u001b[38;5;132;01m{\u001b[39;00mfile_path\u001b[38;5;132;01m}\u001b[39;00m\u001b[38;5;124m\"\u001b[39m)\n\u001b[0;32m     12\u001b[0m         X, y \u001b[38;5;241m=\u001b[39m load_dataset(file_path)\n\u001b[1;32m---> 13\u001b[0m         experiment_result \u001b[38;5;241m=\u001b[39m \u001b[43mexperiment\u001b[49m\u001b[43m(\u001b[49m\u001b[43mX\u001b[49m\u001b[43m,\u001b[49m\u001b[43m \u001b[49m\u001b[43my\u001b[49m\u001b[43m)\u001b[49m\n\u001b[0;32m     14\u001b[0m         results[file_name] \u001b[38;5;241m=\u001b[39m experiment_result\n\u001b[0;32m     15\u001b[0m \u001b[38;5;66;03m# print(results)\u001b[39;00m\n",
      "Cell \u001b[1;32mIn[20], line 32\u001b[0m, in \u001b[0;36mexperiment\u001b[1;34m(X, y)\u001b[0m\n\u001b[0;32m     30\u001b[0m \u001b[38;5;28;01melse\u001b[39;00m:\n\u001b[0;32m     31\u001b[0m     X_train_oversampled, y_train_oversampled \u001b[38;5;241m=\u001b[39m preprocessings[key]\u001b[38;5;241m.\u001b[39mfit_resample(X_train, y_train)\n\u001b[1;32m---> 32\u001b[0m \u001b[43mclassifier\u001b[49m\u001b[38;5;241;43m.\u001b[39;49m\u001b[43mfit\u001b[49m\u001b[43m(\u001b[49m\u001b[43mX_train_oversampled\u001b[49m\u001b[43m,\u001b[49m\u001b[43m \u001b[49m\u001b[43my_train_oversampled\u001b[49m\u001b[43m)\u001b[49m\n\u001b[0;32m     33\u001b[0m predict \u001b[38;5;241m=\u001b[39m classifier\u001b[38;5;241m.\u001b[39mpredict(X_test)\n\u001b[0;32m     34\u001b[0m precision_scores\u001b[38;5;241m.\u001b[39mappend(precision_score(y_test, predict))\n",
      "File \u001b[1;32mc:\\Users\\JG\\Documents\\GitHub\\SMOTE-clustering\\.venv\\Lib\\site-packages\\sklearn\\base.py:1473\u001b[0m, in \u001b[0;36m_fit_context.<locals>.decorator.<locals>.wrapper\u001b[1;34m(estimator, *args, **kwargs)\u001b[0m\n\u001b[0;32m   1466\u001b[0m     estimator\u001b[38;5;241m.\u001b[39m_validate_params()\n\u001b[0;32m   1468\u001b[0m \u001b[38;5;28;01mwith\u001b[39;00m config_context(\n\u001b[0;32m   1469\u001b[0m     skip_parameter_validation\u001b[38;5;241m=\u001b[39m(\n\u001b[0;32m   1470\u001b[0m         prefer_skip_nested_validation \u001b[38;5;129;01mor\u001b[39;00m global_skip_validation\n\u001b[0;32m   1471\u001b[0m     )\n\u001b[0;32m   1472\u001b[0m ):\n\u001b[1;32m-> 1473\u001b[0m     \u001b[38;5;28;01mreturn\u001b[39;00m \u001b[43mfit_method\u001b[49m\u001b[43m(\u001b[49m\u001b[43mestimator\u001b[49m\u001b[43m,\u001b[49m\u001b[43m \u001b[49m\u001b[38;5;241;43m*\u001b[39;49m\u001b[43margs\u001b[49m\u001b[43m,\u001b[49m\u001b[43m \u001b[49m\u001b[38;5;241;43m*\u001b[39;49m\u001b[38;5;241;43m*\u001b[39;49m\u001b[43mkwargs\u001b[49m\u001b[43m)\u001b[49m\n",
      "File \u001b[1;32mc:\\Users\\JG\\Documents\\GitHub\\SMOTE-clustering\\.venv\\Lib\\site-packages\\sklearn\\svm\\_base.py:190\u001b[0m, in \u001b[0;36mBaseLibSVM.fit\u001b[1;34m(self, X, y, sample_weight)\u001b[0m\n\u001b[0;32m    188\u001b[0m     check_consistent_length(X, y)\n\u001b[0;32m    189\u001b[0m \u001b[38;5;28;01melse\u001b[39;00m:\n\u001b[1;32m--> 190\u001b[0m     X, y \u001b[38;5;241m=\u001b[39m \u001b[38;5;28;43mself\u001b[39;49m\u001b[38;5;241;43m.\u001b[39;49m\u001b[43m_validate_data\u001b[49m\u001b[43m(\u001b[49m\n\u001b[0;32m    191\u001b[0m \u001b[43m        \u001b[49m\u001b[43mX\u001b[49m\u001b[43m,\u001b[49m\n\u001b[0;32m    192\u001b[0m \u001b[43m        \u001b[49m\u001b[43my\u001b[49m\u001b[43m,\u001b[49m\n\u001b[0;32m    193\u001b[0m \u001b[43m        \u001b[49m\u001b[43mdtype\u001b[49m\u001b[38;5;241;43m=\u001b[39;49m\u001b[43mnp\u001b[49m\u001b[38;5;241;43m.\u001b[39;49m\u001b[43mfloat64\u001b[49m\u001b[43m,\u001b[49m\n\u001b[0;32m    194\u001b[0m \u001b[43m        \u001b[49m\u001b[43morder\u001b[49m\u001b[38;5;241;43m=\u001b[39;49m\u001b[38;5;124;43m\"\u001b[39;49m\u001b[38;5;124;43mC\u001b[39;49m\u001b[38;5;124;43m\"\u001b[39;49m\u001b[43m,\u001b[49m\n\u001b[0;32m    195\u001b[0m \u001b[43m        \u001b[49m\u001b[43maccept_sparse\u001b[49m\u001b[38;5;241;43m=\u001b[39;49m\u001b[38;5;124;43m\"\u001b[39;49m\u001b[38;5;124;43mcsr\u001b[39;49m\u001b[38;5;124;43m\"\u001b[39;49m\u001b[43m,\u001b[49m\n\u001b[0;32m    196\u001b[0m \u001b[43m        \u001b[49m\u001b[43maccept_large_sparse\u001b[49m\u001b[38;5;241;43m=\u001b[39;49m\u001b[38;5;28;43;01mFalse\u001b[39;49;00m\u001b[43m,\u001b[49m\n\u001b[0;32m    197\u001b[0m \u001b[43m    \u001b[49m\u001b[43m)\u001b[49m\n\u001b[0;32m    199\u001b[0m y \u001b[38;5;241m=\u001b[39m \u001b[38;5;28mself\u001b[39m\u001b[38;5;241m.\u001b[39m_validate_targets(y)\n\u001b[0;32m    201\u001b[0m sample_weight \u001b[38;5;241m=\u001b[39m np\u001b[38;5;241m.\u001b[39masarray(\n\u001b[0;32m    202\u001b[0m     [] \u001b[38;5;28;01mif\u001b[39;00m sample_weight \u001b[38;5;129;01mis\u001b[39;00m \u001b[38;5;28;01mNone\u001b[39;00m \u001b[38;5;28;01melse\u001b[39;00m sample_weight, dtype\u001b[38;5;241m=\u001b[39mnp\u001b[38;5;241m.\u001b[39mfloat64\n\u001b[0;32m    203\u001b[0m )\n",
      "File \u001b[1;32mc:\\Users\\JG\\Documents\\GitHub\\SMOTE-clustering\\.venv\\Lib\\site-packages\\sklearn\\base.py:650\u001b[0m, in \u001b[0;36mBaseEstimator._validate_data\u001b[1;34m(self, X, y, reset, validate_separately, cast_to_ndarray, **check_params)\u001b[0m\n\u001b[0;32m    648\u001b[0m         y \u001b[38;5;241m=\u001b[39m check_array(y, input_name\u001b[38;5;241m=\u001b[39m\u001b[38;5;124m\"\u001b[39m\u001b[38;5;124my\u001b[39m\u001b[38;5;124m\"\u001b[39m, \u001b[38;5;241m*\u001b[39m\u001b[38;5;241m*\u001b[39mcheck_y_params)\n\u001b[0;32m    649\u001b[0m     \u001b[38;5;28;01melse\u001b[39;00m:\n\u001b[1;32m--> 650\u001b[0m         X, y \u001b[38;5;241m=\u001b[39m \u001b[43mcheck_X_y\u001b[49m\u001b[43m(\u001b[49m\u001b[43mX\u001b[49m\u001b[43m,\u001b[49m\u001b[43m \u001b[49m\u001b[43my\u001b[49m\u001b[43m,\u001b[49m\u001b[43m \u001b[49m\u001b[38;5;241;43m*\u001b[39;49m\u001b[38;5;241;43m*\u001b[39;49m\u001b[43mcheck_params\u001b[49m\u001b[43m)\u001b[49m\n\u001b[0;32m    651\u001b[0m     out \u001b[38;5;241m=\u001b[39m X, y\n\u001b[0;32m    653\u001b[0m \u001b[38;5;28;01mif\u001b[39;00m \u001b[38;5;129;01mnot\u001b[39;00m no_val_X \u001b[38;5;129;01mand\u001b[39;00m check_params\u001b[38;5;241m.\u001b[39mget(\u001b[38;5;124m\"\u001b[39m\u001b[38;5;124mensure_2d\u001b[39m\u001b[38;5;124m\"\u001b[39m, \u001b[38;5;28;01mTrue\u001b[39;00m):\n",
      "File \u001b[1;32mc:\\Users\\JG\\Documents\\GitHub\\SMOTE-clustering\\.venv\\Lib\\site-packages\\sklearn\\utils\\validation.py:1273\u001b[0m, in \u001b[0;36mcheck_X_y\u001b[1;34m(X, y, accept_sparse, accept_large_sparse, dtype, order, copy, force_all_finite, ensure_2d, allow_nd, multi_output, ensure_min_samples, ensure_min_features, y_numeric, estimator)\u001b[0m\n\u001b[0;32m   1268\u001b[0m         estimator_name \u001b[38;5;241m=\u001b[39m _check_estimator_name(estimator)\n\u001b[0;32m   1269\u001b[0m     \u001b[38;5;28;01mraise\u001b[39;00m \u001b[38;5;167;01mValueError\u001b[39;00m(\n\u001b[0;32m   1270\u001b[0m         \u001b[38;5;124mf\u001b[39m\u001b[38;5;124m\"\u001b[39m\u001b[38;5;132;01m{\u001b[39;00mestimator_name\u001b[38;5;132;01m}\u001b[39;00m\u001b[38;5;124m requires y to be passed, but the target y is None\u001b[39m\u001b[38;5;124m\"\u001b[39m\n\u001b[0;32m   1271\u001b[0m     )\n\u001b[1;32m-> 1273\u001b[0m X \u001b[38;5;241m=\u001b[39m \u001b[43mcheck_array\u001b[49m\u001b[43m(\u001b[49m\n\u001b[0;32m   1274\u001b[0m \u001b[43m    \u001b[49m\u001b[43mX\u001b[49m\u001b[43m,\u001b[49m\n\u001b[0;32m   1275\u001b[0m \u001b[43m    \u001b[49m\u001b[43maccept_sparse\u001b[49m\u001b[38;5;241;43m=\u001b[39;49m\u001b[43maccept_sparse\u001b[49m\u001b[43m,\u001b[49m\n\u001b[0;32m   1276\u001b[0m \u001b[43m    \u001b[49m\u001b[43maccept_large_sparse\u001b[49m\u001b[38;5;241;43m=\u001b[39;49m\u001b[43maccept_large_sparse\u001b[49m\u001b[43m,\u001b[49m\n\u001b[0;32m   1277\u001b[0m \u001b[43m    \u001b[49m\u001b[43mdtype\u001b[49m\u001b[38;5;241;43m=\u001b[39;49m\u001b[43mdtype\u001b[49m\u001b[43m,\u001b[49m\n\u001b[0;32m   1278\u001b[0m \u001b[43m    \u001b[49m\u001b[43morder\u001b[49m\u001b[38;5;241;43m=\u001b[39;49m\u001b[43morder\u001b[49m\u001b[43m,\u001b[49m\n\u001b[0;32m   1279\u001b[0m \u001b[43m    \u001b[49m\u001b[43mcopy\u001b[49m\u001b[38;5;241;43m=\u001b[39;49m\u001b[43mcopy\u001b[49m\u001b[43m,\u001b[49m\n\u001b[0;32m   1280\u001b[0m \u001b[43m    \u001b[49m\u001b[43mforce_all_finite\u001b[49m\u001b[38;5;241;43m=\u001b[39;49m\u001b[43mforce_all_finite\u001b[49m\u001b[43m,\u001b[49m\n\u001b[0;32m   1281\u001b[0m \u001b[43m    \u001b[49m\u001b[43mensure_2d\u001b[49m\u001b[38;5;241;43m=\u001b[39;49m\u001b[43mensure_2d\u001b[49m\u001b[43m,\u001b[49m\n\u001b[0;32m   1282\u001b[0m \u001b[43m    \u001b[49m\u001b[43mallow_nd\u001b[49m\u001b[38;5;241;43m=\u001b[39;49m\u001b[43mallow_nd\u001b[49m\u001b[43m,\u001b[49m\n\u001b[0;32m   1283\u001b[0m \u001b[43m    \u001b[49m\u001b[43mensure_min_samples\u001b[49m\u001b[38;5;241;43m=\u001b[39;49m\u001b[43mensure_min_samples\u001b[49m\u001b[43m,\u001b[49m\n\u001b[0;32m   1284\u001b[0m \u001b[43m    \u001b[49m\u001b[43mensure_min_features\u001b[49m\u001b[38;5;241;43m=\u001b[39;49m\u001b[43mensure_min_features\u001b[49m\u001b[43m,\u001b[49m\n\u001b[0;32m   1285\u001b[0m \u001b[43m    \u001b[49m\u001b[43mestimator\u001b[49m\u001b[38;5;241;43m=\u001b[39;49m\u001b[43mestimator\u001b[49m\u001b[43m,\u001b[49m\n\u001b[0;32m   1286\u001b[0m \u001b[43m    \u001b[49m\u001b[43minput_name\u001b[49m\u001b[38;5;241;43m=\u001b[39;49m\u001b[38;5;124;43m\"\u001b[39;49m\u001b[38;5;124;43mX\u001b[39;49m\u001b[38;5;124;43m\"\u001b[39;49m\u001b[43m,\u001b[49m\n\u001b[0;32m   1287\u001b[0m \u001b[43m\u001b[49m\u001b[43m)\u001b[49m\n\u001b[0;32m   1289\u001b[0m y \u001b[38;5;241m=\u001b[39m _check_y(y, multi_output\u001b[38;5;241m=\u001b[39mmulti_output, y_numeric\u001b[38;5;241m=\u001b[39my_numeric, estimator\u001b[38;5;241m=\u001b[39mestimator)\n\u001b[0;32m   1291\u001b[0m check_consistent_length(X, y)\n",
      "File \u001b[1;32mc:\\Users\\JG\\Documents\\GitHub\\SMOTE-clustering\\.venv\\Lib\\site-packages\\sklearn\\utils\\validation.py:1045\u001b[0m, in \u001b[0;36mcheck_array\u001b[1;34m(array, accept_sparse, accept_large_sparse, dtype, order, copy, force_all_finite, ensure_2d, allow_nd, ensure_min_samples, ensure_min_features, estimator, input_name)\u001b[0m\n\u001b[0;32m   1038\u001b[0m         \u001b[38;5;28;01melse\u001b[39;00m:\n\u001b[0;32m   1039\u001b[0m             msg \u001b[38;5;241m=\u001b[39m (\n\u001b[0;32m   1040\u001b[0m                 \u001b[38;5;124mf\u001b[39m\u001b[38;5;124m\"\u001b[39m\u001b[38;5;124mExpected 2D array, got 1D array instead:\u001b[39m\u001b[38;5;130;01m\\n\u001b[39;00m\u001b[38;5;124marray=\u001b[39m\u001b[38;5;132;01m{\u001b[39;00marray\u001b[38;5;132;01m}\u001b[39;00m\u001b[38;5;124m.\u001b[39m\u001b[38;5;130;01m\\n\u001b[39;00m\u001b[38;5;124m\"\u001b[39m\n\u001b[0;32m   1041\u001b[0m                 \u001b[38;5;124m\"\u001b[39m\u001b[38;5;124mReshape your data either using array.reshape(-1, 1) if \u001b[39m\u001b[38;5;124m\"\u001b[39m\n\u001b[0;32m   1042\u001b[0m                 \u001b[38;5;124m\"\u001b[39m\u001b[38;5;124myour data has a single feature or array.reshape(1, -1) \u001b[39m\u001b[38;5;124m\"\u001b[39m\n\u001b[0;32m   1043\u001b[0m                 \u001b[38;5;124m\"\u001b[39m\u001b[38;5;124mif it contains a single sample.\u001b[39m\u001b[38;5;124m\"\u001b[39m\n\u001b[0;32m   1044\u001b[0m             )\n\u001b[1;32m-> 1045\u001b[0m         \u001b[38;5;28;01mraise\u001b[39;00m \u001b[38;5;167;01mValueError\u001b[39;00m(msg)\n\u001b[0;32m   1047\u001b[0m \u001b[38;5;28;01mif\u001b[39;00m dtype_numeric \u001b[38;5;129;01mand\u001b[39;00m \u001b[38;5;28mhasattr\u001b[39m(array\u001b[38;5;241m.\u001b[39mdtype, \u001b[38;5;124m\"\u001b[39m\u001b[38;5;124mkind\u001b[39m\u001b[38;5;124m\"\u001b[39m) \u001b[38;5;129;01mand\u001b[39;00m array\u001b[38;5;241m.\u001b[39mdtype\u001b[38;5;241m.\u001b[39mkind \u001b[38;5;129;01min\u001b[39;00m \u001b[38;5;124m\"\u001b[39m\u001b[38;5;124mUSV\u001b[39m\u001b[38;5;124m\"\u001b[39m:\n\u001b[0;32m   1048\u001b[0m     \u001b[38;5;28;01mraise\u001b[39;00m \u001b[38;5;167;01mValueError\u001b[39;00m(\n\u001b[0;32m   1049\u001b[0m         \u001b[38;5;124m\"\u001b[39m\u001b[38;5;124mdtype=\u001b[39m\u001b[38;5;124m'\u001b[39m\u001b[38;5;124mnumeric\u001b[39m\u001b[38;5;124m'\u001b[39m\u001b[38;5;124m is not compatible with arrays of bytes/strings.\u001b[39m\u001b[38;5;124m\"\u001b[39m\n\u001b[0;32m   1050\u001b[0m         \u001b[38;5;124m\"\u001b[39m\u001b[38;5;124mConvert your data to numeric values explicitly instead.\u001b[39m\u001b[38;5;124m\"\u001b[39m\n\u001b[0;32m   1051\u001b[0m     )\n",
      "\u001b[1;31mValueError\u001b[0m: Expected 2D array, got 1D array instead:\narray=[].\nReshape your data either using array.reshape(-1, 1) if your data has a single feature or array.reshape(1, -1) if it contains a single sample."
     ]
    }
   ],
   "source": [
    "import os\n",
    "\n",
    "directories = ['mild-imbalance', 'high-imbalance']\n",
    "results = {}\n",
    "for directory in directories:\n",
    "    print(f\"Processing files in directory: {directory}\")\n",
    "    files = os.listdir(directory)\n",
    "    results = {}\n",
    "    for file_name in files:\n",
    "        file_path = os.path.join(directory, file_name)\n",
    "        print(f\"File: {file_path}\")\n",
    "        X, y = load_dataset(file_path)\n",
    "        experiment_result = experiment(X, y)\n",
    "        results[file_name] = experiment_result\n",
    "# print(results)"
   ]
  },
  {
   "cell_type": "markdown",
   "id": "a6e6e5c1",
   "metadata": {},
   "source": [
    "### Statistically significantly better preprocessings in given datasets with given metrics"
   ]
  },
  {
   "cell_type": "code",
   "execution_count": null,
   "id": "9eff543b",
   "metadata": {
    "scrolled": true
   },
   "outputs": [
    {
     "name": "stdout",
     "output_type": "stream",
     "text": [
      "Statistically significantly better precission_scores:\n",
      "  KMeansSMOTE    MeansShiftSMOTE    SMOTE    ROS    BorderlineSMOTE\n",
      "-------------  -----------------  -------  -----  -----------------\n",
      "            0                  0        1      1                  0\n",
      "            0                  0        0      1                  0\n",
      "            0                  0        0      0                  0\n",
      "            0                  0        0      0                  0\n",
      "            0                  0        1      1                  0\n",
      "\n",
      "Statistically significantly better recall_scores:\n",
      "  KMeansSMOTE    MeansShiftSMOTE    SMOTE    ROS    BorderlineSMOTE\n",
      "-------------  -----------------  -------  -----  -----------------\n",
      "            0                  0        0      0                  0\n",
      "            0                  0        0      0                  0\n",
      "            0                  0        0      0                  1\n",
      "            0                  0        0      0                  1\n",
      "            0                  0        0      0                  0\n",
      "\n",
      "Statistically significantly better specifity_scores:\n",
      "  KMeansSMOTE    MeansShiftSMOTE    SMOTE    ROS    BorderlineSMOTE\n",
      "-------------  -----------------  -------  -----  -----------------\n",
      "            0                  1        1      1                  0\n",
      "            0                  0        1      1                  0\n",
      "            0                  0        0      1                  0\n",
      "            0                  0        0      0                  0\n",
      "            0                  1        1      1                  0\n",
      "\n",
      "Statistically significantly better precission_scores:\n",
      "  KMeansSMOTE    MeansShiftSMOTE    SMOTE    ROS    BorderlineSMOTE\n",
      "-------------  -----------------  -------  -----  -----------------\n",
      "            0                  0        0      0                  0\n",
      "            0                  0        0      0                  0\n",
      "            0                  0        0      0                  1\n",
      "            0                  0        0      0                  1\n",
      "            0                  0        0      1                  0\n",
      "\n",
      "Statistically significantly better recall_scores:\n",
      "  KMeansSMOTE    MeansShiftSMOTE    SMOTE    ROS    BorderlineSMOTE\n",
      "-------------  -----------------  -------  -----  -----------------\n",
      "            0                  0        0      0                  0\n",
      "            0                  0        0      0                  0\n",
      "            0                  0        0      0                  0\n",
      "            0                  0        0      0                  0\n",
      "            0                  0        0      0                  0\n",
      "\n",
      "Statistically significantly better specifity_scores:\n",
      "  KMeansSMOTE    MeansShiftSMOTE    SMOTE    ROS    BorderlineSMOTE\n",
      "-------------  -----------------  -------  -----  -----------------\n",
      "            0                  0        0      1                  1\n",
      "            0                  0        1      1                  1\n",
      "            0                  0        0      1                  0\n",
      "            0                  0        0      0                  0\n",
      "            0                  0        0      1                  0\n",
      "\n",
      "Statistically significantly better precission_scores:\n",
      "  KMeansSMOTE    MeansShiftSMOTE    SMOTE    ROS    BorderlineSMOTE\n",
      "-------------  -----------------  -------  -----  -----------------\n",
      "            0                  0        0      0                  1\n",
      "            0                  0        0      0                  1\n",
      "            0                  0        0      1                  1\n",
      "            0                  0        0      0                  1\n",
      "            0                  0        0      0                  0\n",
      "\n",
      "Statistically significantly better recall_scores:\n",
      "  KMeansSMOTE    MeansShiftSMOTE    SMOTE    ROS    BorderlineSMOTE\n",
      "-------------  -----------------  -------  -----  -----------------\n",
      "            0                  0        0      0                  0\n",
      "            0                  0        0      0                  0\n",
      "            1                  1        0      0                  0\n",
      "            0                  0        0      0                  0\n",
      "            1                  1        1      0                  0\n",
      "\n",
      "Statistically significantly better specifity_scores:\n",
      "  KMeansSMOTE    MeansShiftSMOTE    SMOTE    ROS    BorderlineSMOTE\n",
      "-------------  -----------------  -------  -----  -----------------\n",
      "            0                  0        0      1                  0\n",
      "            0                  0        0      1                  0\n",
      "            0                  0        0      1                  1\n",
      "            0                  0        0      0                  0\n",
      "            0                  0        1      0                  0\n",
      "\n",
      "Statistically significantly better precission_scores:\n",
      "  KMeansSMOTE    MeansShiftSMOTE    SMOTE    ROS    BorderlineSMOTE\n",
      "-------------  -----------------  -------  -----  -----------------\n",
      "            0                  0        0      0                  0\n",
      "            0                  0        0      0                  0\n",
      "            0                  0        0      0                  0\n",
      "            0                  0        0      0                  0\n",
      "            0                  0        0      0                  0\n",
      "\n",
      "Statistically significantly better recall_scores:\n",
      "  KMeansSMOTE    MeansShiftSMOTE    SMOTE    ROS    BorderlineSMOTE\n",
      "-------------  -----------------  -------  -----  -----------------\n",
      "            0                  0        0      0                  1\n",
      "            0                  0        0      0                  1\n",
      "            0                  0        0      0                  0\n",
      "            0                  0        0      0                  0\n",
      "            1                  1        0      0                  0\n",
      "\n",
      "Statistically significantly better specifity_scores:\n",
      "  KMeansSMOTE    MeansShiftSMOTE    SMOTE    ROS    BorderlineSMOTE\n",
      "-------------  -----------------  -------  -----  -----------------\n",
      "            0                  0        0      0                  0\n",
      "            0                  0        0      0                  0\n",
      "            0                  0        0      0                  0\n",
      "            0                  0        0      0                  0\n",
      "            0                  0        0      0                  0\n",
      "\n",
      "Statistically significantly better precission_scores:\n",
      "  KMeansSMOTE    MeansShiftSMOTE    SMOTE    ROS    BorderlineSMOTE\n",
      "-------------  -----------------  -------  -----  -----------------\n",
      "            0                  0        0      0                  1\n",
      "            0                  0        0      0                  1\n",
      "            1                  1        0      0                  1\n",
      "            1                  1        0      0                  1\n",
      "            0                  0        0      0                  0\n",
      "\n",
      "Statistically significantly better recall_scores:\n",
      "  KMeansSMOTE    MeansShiftSMOTE    SMOTE    ROS    BorderlineSMOTE\n",
      "-------------  -----------------  -------  -----  -----------------\n",
      "            0                  1        0      0                  0\n",
      "            0                  0        0      0                  0\n",
      "            1                  1        0      0                  0\n",
      "            1                  1        0      0                  0\n",
      "            1                  1        0      0                  0\n",
      "\n",
      "Statistically significantly better specifity_scores:\n",
      "  KMeansSMOTE    MeansShiftSMOTE    SMOTE    ROS    BorderlineSMOTE\n",
      "-------------  -----------------  -------  -----  -----------------\n",
      "            0                  0        0      0                  1\n",
      "            0                  0        0      0                  1\n",
      "            0                  0        0      0                  1\n",
      "            0                  0        0      0                  1\n",
      "            0                  0        0      0                  0\n",
      "\n",
      "Statistically significantly better precission_scores:\n",
      "  KMeansSMOTE    MeansShiftSMOTE    SMOTE    ROS    BorderlineSMOTE\n",
      "-------------  -----------------  -------  -----  -----------------\n",
      "            0                  1        0      0                  0\n",
      "            1                  0        0      0                  1\n",
      "            0                  0        0      0                  1\n",
      "            0                  0        0      0                  1\n",
      "            0                  0        0      0                  0\n",
      "\n",
      "Statistically significantly better recall_scores:\n",
      "  KMeansSMOTE    MeansShiftSMOTE    SMOTE    ROS    BorderlineSMOTE\n",
      "-------------  -----------------  -------  -----  -----------------\n",
      "            0                  0        0      0                  0\n",
      "            0                  0        0      0                  0\n",
      "            0                  0        0      0                  0\n",
      "            0                  0        0      0                  0\n",
      "            0                  0        0      0                  0\n",
      "\n",
      "Statistically significantly better specifity_scores:\n",
      "  KMeansSMOTE    MeansShiftSMOTE    SMOTE    ROS    BorderlineSMOTE\n",
      "-------------  -----------------  -------  -----  -----------------\n",
      "            0                  1        1      1                  1\n",
      "            0                  0        0      0                  1\n",
      "            1                  0        0      0                  0\n",
      "            0                  0        0      0                  1\n",
      "            0                  0        0      0                  0\n",
      "\n",
      "Statistically significantly better precission_scores:\n",
      "  KMeansSMOTE    MeansShiftSMOTE    SMOTE    ROS    BorderlineSMOTE\n",
      "-------------  -----------------  -------  -----  -----------------\n",
      "            0                  0        0      0                  0\n",
      "            1                  0        1      1                  1\n",
      "            0                  0        0      0                  0\n",
      "            0                  0        0      0                  0\n",
      "            0                  0        0      0                  0\n",
      "\n",
      "Statistically significantly better recall_scores:\n",
      "  KMeansSMOTE    MeansShiftSMOTE    SMOTE    ROS    BorderlineSMOTE\n",
      "-------------  -----------------  -------  -----  -----------------\n",
      "            0                  0        0      0                  0\n",
      "            0                  0        0      0                  0\n",
      "            0                  1        0      0                  0\n",
      "            0                  1        0      0                  0\n",
      "            0                  1        0      0                  0\n",
      "\n",
      "Statistically significantly better specifity_scores:\n",
      "  KMeansSMOTE    MeansShiftSMOTE    SMOTE    ROS    BorderlineSMOTE\n",
      "-------------  -----------------  -------  -----  -----------------\n",
      "            0                  0        0      0                  0\n",
      "            1                  0        1      1                  1\n",
      "            0                  0        0      0                  0\n",
      "            0                  0        0      0                  0\n",
      "            0                  0        0      0                  0\n",
      "\n",
      "Statistically significantly better precission_scores:\n",
      "  KMeansSMOTE    MeansShiftSMOTE    SMOTE    ROS    BorderlineSMOTE\n",
      "-------------  -----------------  -------  -----  -----------------\n",
      "            0                  0        0      0                  0\n",
      "            0                  0        0      0                  0\n",
      "            0                  1        0      0                  0\n",
      "            0                  1        0      0                  0\n",
      "            1                  1        0      0                  0\n",
      "\n",
      "Statistically significantly better recall_scores:\n",
      "  KMeansSMOTE    MeansShiftSMOTE    SMOTE    ROS    BorderlineSMOTE\n",
      "-------------  -----------------  -------  -----  -----------------\n",
      "            0                  1        0      0                  0\n",
      "            0                  0        0      0                  0\n",
      "            0                  0        0      0                  0\n",
      "            0                  0        0      0                  0\n",
      "            0                  1        0      0                  0\n",
      "\n",
      "Statistically significantly better specifity_scores:\n",
      "  KMeansSMOTE    MeansShiftSMOTE    SMOTE    ROS    BorderlineSMOTE\n",
      "-------------  -----------------  -------  -----  -----------------\n",
      "            0                  0        0      0                  0\n",
      "            0                  0        0      0                  0\n",
      "            0                  0        0      1                  0\n",
      "            0                  0        1      0                  0\n",
      "            0                  0        0      0                  0\n",
      "\n",
      "Statistically significantly better precission_scores:\n",
      "  KMeansSMOTE    MeansShiftSMOTE    SMOTE    ROS    BorderlineSMOTE\n",
      "-------------  -----------------  -------  -----  -----------------\n",
      "            0                  0        0      0                  0\n",
      "            0                  0        0      0                  0\n",
      "            0                  0        0      0                  0\n",
      "            0                  0        0      0                  0\n",
      "            0                  0        0      0                  0\n",
      "\n",
      "Statistically significantly better recall_scores:\n",
      "  KMeansSMOTE    MeansShiftSMOTE    SMOTE    ROS    BorderlineSMOTE\n",
      "-------------  -----------------  -------  -----  -----------------\n",
      "            0                  0        0      0                  0\n",
      "            0                  0        0      0                  0\n",
      "            0                  0        0      0                  0\n",
      "            0                  0        0      0                  0\n",
      "            0                  0        0      0                  0\n",
      "\n",
      "Statistically significantly better specifity_scores:\n",
      "  KMeansSMOTE    MeansShiftSMOTE    SMOTE    ROS    BorderlineSMOTE\n",
      "-------------  -----------------  -------  -----  -----------------\n",
      "            0                  0        0      0                  0\n",
      "            0                  0        0      0                  1\n",
      "            0                  0        0      0                  0\n",
      "            0                  0        0      0                  0\n",
      "            0                  1        0      0                  0\n",
      "\n",
      "Statistically significantly better precission_scores:\n",
      "  KMeansSMOTE    MeansShiftSMOTE    SMOTE    ROS    BorderlineSMOTE\n",
      "-------------  -----------------  -------  -----  -----------------\n",
      "            0                  0        1      1                  1\n",
      "            0                  0        1      1                  1\n",
      "            0                  0        0      1                  0\n",
      "            0                  0        0      0                  0\n",
      "            0                  0        0      0                  0\n",
      "\n",
      "Statistically significantly better recall_scores:\n",
      "  KMeansSMOTE    MeansShiftSMOTE    SMOTE    ROS    BorderlineSMOTE\n",
      "-------------  -----------------  -------  -----  -----------------\n",
      "            0                  0        0      0                  0\n",
      "            0                  0        0      0                  0\n",
      "            0                  1        0      0                  0\n",
      "            0                  1        0      0                  0\n",
      "            0                  1        0      0                  0\n",
      "\n",
      "Statistically significantly better specifity_scores:\n",
      "  KMeansSMOTE    MeansShiftSMOTE    SMOTE    ROS    BorderlineSMOTE\n",
      "-------------  -----------------  -------  -----  -----------------\n",
      "            0                  0        0      0                  0\n",
      "            0                  0        1      1                  1\n",
      "            0                  0        0      1                  0\n",
      "            0                  0        0      0                  0\n",
      "            0                  0        0      0                  0\n",
      "\n"
     ]
    },
    {
     "name": "stderr",
     "output_type": "stream",
     "text": [
      "/Users/maksymmalicki/anaconda3/lib/python3.11/site-packages/scipy/stats/_morestats.py:3414: UserWarning: Exact p-value calculation does not work if there are zeros. Switching to normal approximation.\n",
      "  warnings.warn(\"Exact p-value calculation does not work if there are \"\n",
      "/Users/maksymmalicki/anaconda3/lib/python3.11/site-packages/scipy/stats/_morestats.py:3428: UserWarning: Sample size too small for normal approximation.\n",
      "  warnings.warn(\"Sample size too small for normal approximation.\")\n",
      "/Users/maksymmalicki/anaconda3/lib/python3.11/site-packages/scipy/stats/_morestats.py:1813: UserWarning: Input data for shapiro has range zero. The results may not be accurate.\n",
      "  warnings.warn(\"Input data for shapiro has range zero. The results \"\n"
     ]
    }
   ],
   "source": [
    "from scipy.stats import ttest_rel, wilcoxon, shapiro\n",
    "from tabulate import tabulate\n",
    "\n",
    "alfa = .05\n",
    "methods = [\"KMeansSMOTE\", \"MeansShiftSMOTE\", \"SMOTE\", \"ROS\", \"BorderlineSMOTE\"]\n",
    "metrics = [\"precission_scores\",\"recall_scores\",\"specifity_scores\"]\n",
    "\n",
    "for directory in results:\n",
    "    for metric in metrics:\n",
    "        t_statistic = np.zeros((len(methods), len(methods)))\n",
    "        p_value = np.zeros((len(methods), len(methods)))\n",
    "        test_used = np.empty((len(methods), len(methods)), dtype=object)\n",
    "        for i, preprocessing_method in enumerate(methods):\n",
    "            for j, comparison_preprocessing_method in enumerate(methods):\n",
    "                metric_results_one = results[directory][preprocessing_method][metric]\n",
    "                metric_results_two = results[directory][comparison_preprocessing_method][metric]\n",
    "                normal_one = shapiro(metric_results_one).pvalue > 0.05\n",
    "                normal_two = shapiro(metric_results_two).pvalue > 0.05\n",
    "                if normal_one and normal_two:\n",
    "                    try:\n",
    "                        t_statistic[i,j], p_value[i,j] = ttest_rel(metric_results_one, metric_results_two)\n",
    "                    except:\n",
    "                        t_statistic[i,j], p_value[i,j] = 0,0\n",
    "                    test_used[i,j] = \"t-test\"\n",
    "                else:\n",
    "                    try:\n",
    "                        t_statistic[i,j], p_value[i,j] = wilcoxon(metric_results_one, metric_results_two)\n",
    "                    except: \n",
    "                        t_statistic[i,j], p_value[i,j] = 0, 0\n",
    "                    test_used[i,j] = \"Wilcoxon\"\n",
    "        advantage = np.zeros((len(methods), len(methods)))\n",
    "        advantage[t_statistic > 0] = 1\n",
    "        significance = np.zeros((len(methods), len(methods)))\n",
    "        significance[p_value <= alfa] = 1\n",
    "        stat_better = significance * advantage\n",
    "        stat_better_table = tabulate(stat_better, methods)\n",
    "        print(f\"Statistically significantly better {metric}:\")\n",
    "        print(stat_better_table)\n",
    "        print()\n",
    "        "
   ]
  },
  {
   "cell_type": "markdown",
   "id": "3052da94",
   "metadata": {},
   "source": [
    "### Statistically significantly better preprocessings for all datasets"
   ]
  },
  {
   "cell_type": "code",
   "execution_count": null,
   "id": "2a4ed7c7",
   "metadata": {},
   "outputs": [
    {
     "name": "stdout",
     "output_type": "stream",
     "text": [
      "Metric: mean_precission_score\n",
      "Statistical significance (alpha = 0.05):\n",
      "                   KMeansSMOTE    MeansShiftSMOTE    SMOTE    ROS    BorderlineSMOTE\n",
      "---------------  -------------  -----------------  -------  -----  -----------------\n",
      "KMeansSMOTE                  0                  0        0      0                  0\n",
      "MeansShiftSMOTE              0                  0        0      0                  0\n",
      "SMOTE                        0                  0        0      0                  0\n",
      "ROS                          0                  0        0      0                  0\n",
      "BorderlineSMOTE              0                  0        0      0                  0\n",
      "\n",
      "\n",
      "Metric: mean_recall_scores\n",
      "Statistical significance (alpha = 0.05):\n",
      "                   KMeansSMOTE    MeansShiftSMOTE    SMOTE    ROS    BorderlineSMOTE\n",
      "---------------  -------------  -----------------  -------  -----  -----------------\n",
      "KMeansSMOTE                  0                  0        1      1                  1\n",
      "MeansShiftSMOTE              0                  0        1      1                  1\n",
      "SMOTE                        1                  1        0      0                  0\n",
      "ROS                          1                  1        0      0                  0\n",
      "BorderlineSMOTE              1                  1        0      0                  0\n",
      "\n",
      "\n",
      "Metric: mean_specifity_scores\n",
      "Statistical significance (alpha = 0.05):\n",
      "                   KMeansSMOTE    MeansShiftSMOTE    SMOTE    ROS    BorderlineSMOTE\n",
      "---------------  -------------  -----------------  -------  -----  -----------------\n",
      "KMeansSMOTE                  0                  0        0      0                  0\n",
      "MeansShiftSMOTE              0                  0        0      1                  1\n",
      "SMOTE                        0                  0        0      0                  0\n",
      "ROS                          0                  1        0      0                  0\n",
      "BorderlineSMOTE              0                  1        0      0                  0\n",
      "\n",
      "\n"
     ]
    }
   ],
   "source": [
    "from scipy.stats import rankdata, ranksums\n",
    "\n",
    "methods = [\"KMeansSMOTE\", \"MeansShiftSMOTE\", \"SMOTE\", \"ROS\", \"BorderlineSMOTE\"]\n",
    "metrics = [\"mean_precission_score\", \"mean_recall_scores\", \"mean_specifity_scores\"]\n",
    "for metric in metrics:\n",
    "    mean = []\n",
    "    for directory in results:\n",
    "        preprocessing_mean = []\n",
    "        for i, preprocessing_method in enumerate(methods):\n",
    "            preprocessing_mean.append(results[directory][preprocessing_method][metric])\n",
    "        mean.append(preprocessing_mean)\n",
    "\n",
    "    ranks = []\n",
    "    for mean_score in mean:\n",
    "        ranks.append(rankdata(mean_score).tolist())\n",
    "    ranks = np.array(ranks)\n",
    "\n",
    "    alfa = .05\n",
    "    w_statistic = np.zeros((len(methods), len(methods)))\n",
    "    p_value = np.zeros((len(methods), len(methods)))\n",
    "    for i in range(len(methods)):\n",
    "        for j in range(len(methods)):\n",
    "            w_statistic[i, j], p_value[i, j] = ranksums(ranks.T[i], ranks.T[j])\n",
    "    names_column = np.expand_dims(np.array(list(methods)), axis=1)\n",
    "    w_statistic_table = np.concatenate((names_column, w_statistic), axis=1)\n",
    "    w_statistic_table = tabulate(w_statistic_table, methods, floatfmt=\".2f\")\n",
    "    p_value_table = np.concatenate((names_column, p_value), axis=1)\n",
    "    p_value_table = tabulate(p_value_table, methods, floatfmt=\".2f\")\n",
    "    advantage = np.zeros((len(methods), len(methods)))\n",
    "    advantage[w_statistic > 0] = 1\n",
    "    advantage_table = tabulate(np.concatenate(\n",
    "    (names_column, advantage), axis=1), methods)\n",
    "    significance = np.zeros((len(methods), len(methods)))\n",
    "    significance[p_value <= alfa] = 1\n",
    "    statisticaly_better = advantage * significance\n",
    "    statisticaly_better_table = tabulate(np.concatenate(\n",
    "    (names_column, statisticaly_better), axis=1), methods)\n",
    "    print(f\"Metric: {metric}\")\n",
    "    print(\"Statistical significance (alpha = 0.05):\")\n",
    "    print(statisticaly_better_table)\n",
    "    print()\n",
    "    print()"
   ]
  },
  {
   "cell_type": "markdown",
   "id": "73242972",
   "metadata": {},
   "source": [
    "# Testy parowe\n",
    "## Cel testów parowych\n",
    "W poprzedniej części pracy wykonano ocenę klasyfikatorów za pomocą metryk i walidacji krzyżowej. W ten sposób uzyskano osobną ocenę dla przypadków klasyfikatorów gdzie różnicami były: zbiory uczące, różne modele uczenia maszynowego oraz główny cel pracy czyli różne metody balansowania danych (sprawdzić czy niema zmian). Uzyskane wyniki należy w tym momencie porównać aby ocenić czy wyniki uzyskane w przypadkach gdzie wykorzystano metodę SMOTE wykonywaną na klastrach powstałych z danych niezbalansowanych są lepsze od pozostałych metod oversamplingu. Aby ocenić tą zależność można uśrednić uzyskane metryki i ocenić czy średnio model wykorzystujący zaproponowaną metodę oversamplingu uzyskuje lepsze wyniki, jednak test taki nie może zostać uznany za prawidłowy ponieważ mógł wynikać z przypadku. W tym celu należy wziąć pod uwagę również parametr określający jak wyniki wchodzące w skład średniej są od niej oddalone (odchylenie standardowe zbiorów). W tym celu przez badaczy wykorzystywane są testy statystyczne takie jak test T- Studenta oraz test Wilcoxona. Poniżej opisane zostaną tety wykorzystane do analizy wyników w tej pracy.\n",
    "## Wkorzystane testy statystyczne \n",
    "Testy statystyczne wykorzystuje się dla różńych zbiorów danych aby ocenić czy różnica między nimi jest statystycznie istotna.\n",
    "W tej pracy celem jest porównanie metryk dla modeli wykorzystujących mechanizm balansowania danych opartych o metodę SMOTE działającą na pojedynczych klastrach danych wejściowych oraz innych popularnie wykorzystywanych narzędzi oversamplingu. W ten sposób dane można podzielić na pary: zaproponowana w pracy metoda i inna metoda oversamplingu. Taki sposób podziału danych determinuje wykorzystanie testów parowych.\n",
    "### Test T-Studenta\n",
    "Test T-Studenta to test parametryczny (opierający się o porównanie parametrów populacji takich jak odchylenie standardowe czy średnia )\n",
    "Warunkiem koniecznym do zastosowania testu T studenta jest założenie, że porównywane zbiory są normalne. Testowanie normalności zbiorów zostanie omówione w dalszej części pracy. Jeśli Testowanie normalności wykazało, że próbki nie są normalne wtedy można wykorzystać inne testy o mniejszej precyzji czyli testy nieparametryczne. Należy jednak napiętać, że jeśli to możliwe powinienny zostać przeprowadzone testy parametryczne takie jest test T studenta lub analiza wariancji.\\\n",
    "Testy statystyczne parametryczne : https://pogotowiestatystyczne.pl/slowniki/testy-parametryczne/#:~:text=Testy%20parametryczne%20to%20rodzaj%20test%C3%B3w,standardowe%20lub%20innych%20statystykach%20opisowych.\n",
    "### Test Wilcoxona\n",
    "Test Wilcoxona to test nieparametryczny wykonywany na bazie próbek populacji a nie na jej parametrach. Wykorzystuje on różnicę między próbkami w przypadkach wykorzystania dwóchróżnych hiperparametrów modelu. Różnica każdejz próbek zostaje zakwalifikowana do jednego ze zbiorów $T_{-}$ gdy różnica jest ujemna lub $T_{+}$ gdy jest dodatnia. W ten sposób uzyskano dwa zbiory. Wszystkim różnicom w tym momencie usuwany zostaje znak a przyznana zostaje  $ranga$(tu można walnąć dokładniejszy opis ale teraz trochę małoczasu) a następnie sumowane są wszystkie ranki w zbiorach $T_{-}$ i $T_{+}$. Pod uwagę bierze się mniejszą sumę rang oraz sprawdzana jest ona w tablicy wartości sum wag Wilxocona.\n",
    "### Test założenia Normalności\n",
    "Aby ocenić zy próbki pewnej populacji mają określony rozkład można wykorzystać Test Kołmogorowa-Smirnowa. Aby określić czy wyniki badań możemy ocenić za pomocą testu T studenta trzeba spełnić założenie normalności a więc określić czy próbki mogą pochodzić z wałsciwości o charakterze rozkładu normalngo. W tym celu test Kołmogorowa-Smirnowa należy wykonać dla uzyskanych wcześniej wyników i rozkładu normalnego.\n",
    "biblio: https://www.scirp.org/html/6-1241391_107034.htm\n",
    "https://onlinelibrary.wiley.com/doi/full/10.1002/9781118445112.stat06558\n",
    "\n",
    "Do wykonania oceny założenia normalności wykorzystana zostanie funkcja kstest pochodząca z pakiety scipy \\\n",
    "Tutaj jak to robić: https://medium.com/@ricardojaviermartnezsustegui/kolmog%C3%B3rov-smirnov-test-in-python-step-by-step-1b7532021bd2\n",
    "\n",
    "a jest jeszcze coś takiego\n",
    "scipy.stats.normaltest"
   ]
  }
 ],
 "metadata": {
  "kernelspec": {
   "display_name": "Python 3 (ipykernel)",
   "language": "python",
   "name": "python3"
  },
  "language_info": {
   "codemirror_mode": {
    "name": "ipython",
    "version": 3
   },
   "file_extension": ".py",
   "mimetype": "text/x-python",
   "name": "python",
   "nbconvert_exporter": "python",
   "pygments_lexer": "ipython3",
   "version": "3.12.2"
  }
 },
 "nbformat": 4,
 "nbformat_minor": 5
}
