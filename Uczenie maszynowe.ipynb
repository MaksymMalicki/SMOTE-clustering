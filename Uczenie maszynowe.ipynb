{
 "cells": [
  {
   "cell_type": "markdown",
   "id": "93e33f37",
   "metadata": {},
   "source": [
    "### Exploring the impact of clustering on the quality of SMOTE preprocessing. Comparative analysis\n",
    "##### Maksym Malicki, Jacek Glapiński\n",
    "###### Wrocław University of Technology\n",
    "In this notebook we present a comparative analysis of the impact of clustering using various methods on the quality of SMOTE preprocessing.\n",
    "\n",
    "#### load_dataset()\n",
    "This method allows us to load datasets listed in the paper."
   ]
  },
  {
   "cell_type": "code",
   "execution_count": 16,
   "id": "0ca3bf0c",
   "metadata": {},
   "outputs": [],
   "source": [
    "import numpy as np\n",
    "\n",
    "def load_dataset(file_path):\n",
    "    data = []\n",
    "    labels = []\n",
    "\n",
    "    with open(file_path, 'r') as f:\n",
    "        for line in f:\n",
    "            if line.startswith('@'):\n",
    "                continue\n",
    "            line_data = line.strip().split(',')\n",
    "            sample_class = line_data[-1].strip().lower().replace(\" \", \"\")\n",
    "            label = 1 if sample_class == 'positive' else 0\n",
    "            converted_data = []\n",
    "            for x in line_data[:-1]:\n",
    "                try:\n",
    "                    converted_data.append(float(x))\n",
    "                except ValueError:\n",
    "                    converted_data.append(ord(x))\n",
    "            data.append(converted_data)\n",
    "            labels.append(label)\n",
    "    X = np.array(data)\n",
    "    y = np.array(labels)\n",
    "\n",
    "    return X, y"
   ]
  },
  {
   "cell_type": "markdown",
   "id": "7a0390b2",
   "metadata": {},
   "source": [
    "#### Test implementacji SMOTE"
   ]
  },
  {
   "cell_type": "markdown",
   "id": "0db0873c",
   "metadata": {},
   "source": [
    "##### IMPLEMENTACJA SMOTE"
   ]
  },
  {
   "cell_type": "code",
   "execution_count": 17,
   "id": "cd656d85",
   "metadata": {},
   "outputs": [],
   "source": [
    "#https://medium.com/@corymaklin/synthetic-minority-over-sampling-technique-smote-7d419696b88c\n",
    "\n",
    "from random import randrange, uniform\n",
    "from sklearn.neighbors import NearestNeighbors\n",
    "import numpy as np\n",
    "import pandas as pd\n",
    "from sklearn.ensemble import RandomForestClassifier\n",
    "from sklearn.model_selection import train_test_split\n",
    "from sklearn.metrics import confusion_matrix, recall_score\n",
    "\n",
    "def SMOTE_ByMedium(sample: np.array, N: int, k: int) -> np.array:\n",
    "    \n",
    "    T, num_attrs = sample.shape\n",
    "    \n",
    "    # If N is less than 100%, randomize the minority class samples as only a random percent of them will be SMOTEd\n",
    "    if N < 100:\n",
    "        T = round(N / 100 * T)\n",
    "        N = 100\n",
    "    # The amount of SMOTE is assumed to be in integral multiples of 100\n",
    "    N = int(N / 100)\n",
    "\n",
    "    synthetic = np.zeros([T * N, num_attrs])\n",
    "    new_index = 0\n",
    "    nbrs = NearestNeighbors(n_neighbors=k+1).fit(sample.values)\n",
    "    def populate(N, i, nnarray):\n",
    "        \n",
    "        nonlocal new_index\n",
    "        nonlocal synthetic\n",
    "        nonlocal sample\n",
    "        while N != 0:\n",
    "            nn = randrange(1, k+1)\n",
    "            for attr in range(num_attrs):\n",
    "                dif = sample.iloc[nnarray[nn]][attr] - sample.iloc[i][attr]\n",
    "                gap = uniform(0, 1)\n",
    "                synthetic[new_index][attr] = sample.iloc[i][attr] + gap * dif\n",
    "            new_index += 1\n",
    "            N = N - 1\n",
    "    \n",
    "    for i in range(T):\n",
    "        nnarray = nbrs.kneighbors(sample.iloc[i].values.reshape(1, -1), return_distance=False)[0]\n",
    "        populate(N, i, nnarray)\n",
    "    \n",
    "    return synthetic\n",
    "\n",
    "\n"
   ]
  },
  {
   "cell_type": "code",
   "execution_count": 18,
   "id": "4ea566d3",
   "metadata": {},
   "outputs": [
    {
     "name": "stdout",
     "output_type": "stream",
     "text": [
      "temp_Cluter shape:  (2, 29)\n",
      "temp_Cluter_y shape:  (29,)\n"
     ]
    },
    {
     "data": {
      "application/vnd.plotly.v1+json": {
       "config": {
        "plotlyServerURL": "https://plot.ly"
       },
       "data": [
        {
         "hovertemplate": "x=%{x}<br>y=%{y}<extra></extra>",
         "legendgroup": "",
         "marker": {
          "color": "#636efa",
          "symbol": "circle"
         },
         "mode": "markers",
         "name": "",
         "orientation": "v",
         "showlegend": false,
         "type": "scatter",
         "x": [
          1,
          3,
          2,
          4,
          6,
          2,
          1,
          3,
          6,
          4,
          5,
          1,
          5,
          2,
          6,
          8,
          7,
          9,
          5,
          8,
          6,
          8,
          7,
          9,
          5,
          7,
          4,
          5,
          7
         ],
         "xaxis": "x",
         "y": [
          3,
          1,
          2,
          6,
          2,
          5,
          4,
          3,
          2,
          1,
          3,
          3,
          2,
          1,
          6,
          5,
          7,
          6,
          4,
          8,
          9,
          5,
          8,
          4,
          7,
          5,
          6,
          8,
          4
         ],
         "yaxis": "y"
        }
       ],
       "layout": {
        "legend": {
         "tracegroupgap": 0
        },
        "template": {
         "data": {
          "bar": [
           {
            "error_x": {
             "color": "#2a3f5f"
            },
            "error_y": {
             "color": "#2a3f5f"
            },
            "marker": {
             "line": {
              "color": "#E5ECF6",
              "width": 0.5
             },
             "pattern": {
              "fillmode": "overlay",
              "size": 10,
              "solidity": 0.2
             }
            },
            "type": "bar"
           }
          ],
          "barpolar": [
           {
            "marker": {
             "line": {
              "color": "#E5ECF6",
              "width": 0.5
             },
             "pattern": {
              "fillmode": "overlay",
              "size": 10,
              "solidity": 0.2
             }
            },
            "type": "barpolar"
           }
          ],
          "carpet": [
           {
            "aaxis": {
             "endlinecolor": "#2a3f5f",
             "gridcolor": "white",
             "linecolor": "white",
             "minorgridcolor": "white",
             "startlinecolor": "#2a3f5f"
            },
            "baxis": {
             "endlinecolor": "#2a3f5f",
             "gridcolor": "white",
             "linecolor": "white",
             "minorgridcolor": "white",
             "startlinecolor": "#2a3f5f"
            },
            "type": "carpet"
           }
          ],
          "choropleth": [
           {
            "colorbar": {
             "outlinewidth": 0,
             "ticks": ""
            },
            "type": "choropleth"
           }
          ],
          "contour": [
           {
            "colorbar": {
             "outlinewidth": 0,
             "ticks": ""
            },
            "colorscale": [
             [
              0,
              "#0d0887"
             ],
             [
              0.1111111111111111,
              "#46039f"
             ],
             [
              0.2222222222222222,
              "#7201a8"
             ],
             [
              0.3333333333333333,
              "#9c179e"
             ],
             [
              0.4444444444444444,
              "#bd3786"
             ],
             [
              0.5555555555555556,
              "#d8576b"
             ],
             [
              0.6666666666666666,
              "#ed7953"
             ],
             [
              0.7777777777777778,
              "#fb9f3a"
             ],
             [
              0.8888888888888888,
              "#fdca26"
             ],
             [
              1,
              "#f0f921"
             ]
            ],
            "type": "contour"
           }
          ],
          "contourcarpet": [
           {
            "colorbar": {
             "outlinewidth": 0,
             "ticks": ""
            },
            "type": "contourcarpet"
           }
          ],
          "heatmap": [
           {
            "colorbar": {
             "outlinewidth": 0,
             "ticks": ""
            },
            "colorscale": [
             [
              0,
              "#0d0887"
             ],
             [
              0.1111111111111111,
              "#46039f"
             ],
             [
              0.2222222222222222,
              "#7201a8"
             ],
             [
              0.3333333333333333,
              "#9c179e"
             ],
             [
              0.4444444444444444,
              "#bd3786"
             ],
             [
              0.5555555555555556,
              "#d8576b"
             ],
             [
              0.6666666666666666,
              "#ed7953"
             ],
             [
              0.7777777777777778,
              "#fb9f3a"
             ],
             [
              0.8888888888888888,
              "#fdca26"
             ],
             [
              1,
              "#f0f921"
             ]
            ],
            "type": "heatmap"
           }
          ],
          "heatmapgl": [
           {
            "colorbar": {
             "outlinewidth": 0,
             "ticks": ""
            },
            "colorscale": [
             [
              0,
              "#0d0887"
             ],
             [
              0.1111111111111111,
              "#46039f"
             ],
             [
              0.2222222222222222,
              "#7201a8"
             ],
             [
              0.3333333333333333,
              "#9c179e"
             ],
             [
              0.4444444444444444,
              "#bd3786"
             ],
             [
              0.5555555555555556,
              "#d8576b"
             ],
             [
              0.6666666666666666,
              "#ed7953"
             ],
             [
              0.7777777777777778,
              "#fb9f3a"
             ],
             [
              0.8888888888888888,
              "#fdca26"
             ],
             [
              1,
              "#f0f921"
             ]
            ],
            "type": "heatmapgl"
           }
          ],
          "histogram": [
           {
            "marker": {
             "pattern": {
              "fillmode": "overlay",
              "size": 10,
              "solidity": 0.2
             }
            },
            "type": "histogram"
           }
          ],
          "histogram2d": [
           {
            "colorbar": {
             "outlinewidth": 0,
             "ticks": ""
            },
            "colorscale": [
             [
              0,
              "#0d0887"
             ],
             [
              0.1111111111111111,
              "#46039f"
             ],
             [
              0.2222222222222222,
              "#7201a8"
             ],
             [
              0.3333333333333333,
              "#9c179e"
             ],
             [
              0.4444444444444444,
              "#bd3786"
             ],
             [
              0.5555555555555556,
              "#d8576b"
             ],
             [
              0.6666666666666666,
              "#ed7953"
             ],
             [
              0.7777777777777778,
              "#fb9f3a"
             ],
             [
              0.8888888888888888,
              "#fdca26"
             ],
             [
              1,
              "#f0f921"
             ]
            ],
            "type": "histogram2d"
           }
          ],
          "histogram2dcontour": [
           {
            "colorbar": {
             "outlinewidth": 0,
             "ticks": ""
            },
            "colorscale": [
             [
              0,
              "#0d0887"
             ],
             [
              0.1111111111111111,
              "#46039f"
             ],
             [
              0.2222222222222222,
              "#7201a8"
             ],
             [
              0.3333333333333333,
              "#9c179e"
             ],
             [
              0.4444444444444444,
              "#bd3786"
             ],
             [
              0.5555555555555556,
              "#d8576b"
             ],
             [
              0.6666666666666666,
              "#ed7953"
             ],
             [
              0.7777777777777778,
              "#fb9f3a"
             ],
             [
              0.8888888888888888,
              "#fdca26"
             ],
             [
              1,
              "#f0f921"
             ]
            ],
            "type": "histogram2dcontour"
           }
          ],
          "mesh3d": [
           {
            "colorbar": {
             "outlinewidth": 0,
             "ticks": ""
            },
            "type": "mesh3d"
           }
          ],
          "parcoords": [
           {
            "line": {
             "colorbar": {
              "outlinewidth": 0,
              "ticks": ""
             }
            },
            "type": "parcoords"
           }
          ],
          "pie": [
           {
            "automargin": true,
            "type": "pie"
           }
          ],
          "scatter": [
           {
            "fillpattern": {
             "fillmode": "overlay",
             "size": 10,
             "solidity": 0.2
            },
            "type": "scatter"
           }
          ],
          "scatter3d": [
           {
            "line": {
             "colorbar": {
              "outlinewidth": 0,
              "ticks": ""
             }
            },
            "marker": {
             "colorbar": {
              "outlinewidth": 0,
              "ticks": ""
             }
            },
            "type": "scatter3d"
           }
          ],
          "scattercarpet": [
           {
            "marker": {
             "colorbar": {
              "outlinewidth": 0,
              "ticks": ""
             }
            },
            "type": "scattercarpet"
           }
          ],
          "scattergeo": [
           {
            "marker": {
             "colorbar": {
              "outlinewidth": 0,
              "ticks": ""
             }
            },
            "type": "scattergeo"
           }
          ],
          "scattergl": [
           {
            "marker": {
             "colorbar": {
              "outlinewidth": 0,
              "ticks": ""
             }
            },
            "type": "scattergl"
           }
          ],
          "scattermapbox": [
           {
            "marker": {
             "colorbar": {
              "outlinewidth": 0,
              "ticks": ""
             }
            },
            "type": "scattermapbox"
           }
          ],
          "scatterpolar": [
           {
            "marker": {
             "colorbar": {
              "outlinewidth": 0,
              "ticks": ""
             }
            },
            "type": "scatterpolar"
           }
          ],
          "scatterpolargl": [
           {
            "marker": {
             "colorbar": {
              "outlinewidth": 0,
              "ticks": ""
             }
            },
            "type": "scatterpolargl"
           }
          ],
          "scatterternary": [
           {
            "marker": {
             "colorbar": {
              "outlinewidth": 0,
              "ticks": ""
             }
            },
            "type": "scatterternary"
           }
          ],
          "surface": [
           {
            "colorbar": {
             "outlinewidth": 0,
             "ticks": ""
            },
            "colorscale": [
             [
              0,
              "#0d0887"
             ],
             [
              0.1111111111111111,
              "#46039f"
             ],
             [
              0.2222222222222222,
              "#7201a8"
             ],
             [
              0.3333333333333333,
              "#9c179e"
             ],
             [
              0.4444444444444444,
              "#bd3786"
             ],
             [
              0.5555555555555556,
              "#d8576b"
             ],
             [
              0.6666666666666666,
              "#ed7953"
             ],
             [
              0.7777777777777778,
              "#fb9f3a"
             ],
             [
              0.8888888888888888,
              "#fdca26"
             ],
             [
              1,
              "#f0f921"
             ]
            ],
            "type": "surface"
           }
          ],
          "table": [
           {
            "cells": {
             "fill": {
              "color": "#EBF0F8"
             },
             "line": {
              "color": "white"
             }
            },
            "header": {
             "fill": {
              "color": "#C8D4E3"
             },
             "line": {
              "color": "white"
             }
            },
            "type": "table"
           }
          ]
         },
         "layout": {
          "annotationdefaults": {
           "arrowcolor": "#2a3f5f",
           "arrowhead": 0,
           "arrowwidth": 1
          },
          "autotypenumbers": "strict",
          "coloraxis": {
           "colorbar": {
            "outlinewidth": 0,
            "ticks": ""
           }
          },
          "colorscale": {
           "diverging": [
            [
             0,
             "#8e0152"
            ],
            [
             0.1,
             "#c51b7d"
            ],
            [
             0.2,
             "#de77ae"
            ],
            [
             0.3,
             "#f1b6da"
            ],
            [
             0.4,
             "#fde0ef"
            ],
            [
             0.5,
             "#f7f7f7"
            ],
            [
             0.6,
             "#e6f5d0"
            ],
            [
             0.7,
             "#b8e186"
            ],
            [
             0.8,
             "#7fbc41"
            ],
            [
             0.9,
             "#4d9221"
            ],
            [
             1,
             "#276419"
            ]
           ],
           "sequential": [
            [
             0,
             "#0d0887"
            ],
            [
             0.1111111111111111,
             "#46039f"
            ],
            [
             0.2222222222222222,
             "#7201a8"
            ],
            [
             0.3333333333333333,
             "#9c179e"
            ],
            [
             0.4444444444444444,
             "#bd3786"
            ],
            [
             0.5555555555555556,
             "#d8576b"
            ],
            [
             0.6666666666666666,
             "#ed7953"
            ],
            [
             0.7777777777777778,
             "#fb9f3a"
            ],
            [
             0.8888888888888888,
             "#fdca26"
            ],
            [
             1,
             "#f0f921"
            ]
           ],
           "sequentialminus": [
            [
             0,
             "#0d0887"
            ],
            [
             0.1111111111111111,
             "#46039f"
            ],
            [
             0.2222222222222222,
             "#7201a8"
            ],
            [
             0.3333333333333333,
             "#9c179e"
            ],
            [
             0.4444444444444444,
             "#bd3786"
            ],
            [
             0.5555555555555556,
             "#d8576b"
            ],
            [
             0.6666666666666666,
             "#ed7953"
            ],
            [
             0.7777777777777778,
             "#fb9f3a"
            ],
            [
             0.8888888888888888,
             "#fdca26"
            ],
            [
             1,
             "#f0f921"
            ]
           ]
          },
          "colorway": [
           "#636efa",
           "#EF553B",
           "#00cc96",
           "#ab63fa",
           "#FFA15A",
           "#19d3f3",
           "#FF6692",
           "#B6E880",
           "#FF97FF",
           "#FECB52"
          ],
          "font": {
           "color": "#2a3f5f"
          },
          "geo": {
           "bgcolor": "white",
           "lakecolor": "white",
           "landcolor": "#E5ECF6",
           "showlakes": true,
           "showland": true,
           "subunitcolor": "white"
          },
          "hoverlabel": {
           "align": "left"
          },
          "hovermode": "closest",
          "mapbox": {
           "style": "light"
          },
          "paper_bgcolor": "white",
          "plot_bgcolor": "#E5ECF6",
          "polar": {
           "angularaxis": {
            "gridcolor": "white",
            "linecolor": "white",
            "ticks": ""
           },
           "bgcolor": "#E5ECF6",
           "radialaxis": {
            "gridcolor": "white",
            "linecolor": "white",
            "ticks": ""
           }
          },
          "scene": {
           "xaxis": {
            "backgroundcolor": "#E5ECF6",
            "gridcolor": "white",
            "gridwidth": 2,
            "linecolor": "white",
            "showbackground": true,
            "ticks": "",
            "zerolinecolor": "white"
           },
           "yaxis": {
            "backgroundcolor": "#E5ECF6",
            "gridcolor": "white",
            "gridwidth": 2,
            "linecolor": "white",
            "showbackground": true,
            "ticks": "",
            "zerolinecolor": "white"
           },
           "zaxis": {
            "backgroundcolor": "#E5ECF6",
            "gridcolor": "white",
            "gridwidth": 2,
            "linecolor": "white",
            "showbackground": true,
            "ticks": "",
            "zerolinecolor": "white"
           }
          },
          "shapedefaults": {
           "line": {
            "color": "#2a3f5f"
           }
          },
          "ternary": {
           "aaxis": {
            "gridcolor": "white",
            "linecolor": "white",
            "ticks": ""
           },
           "baxis": {
            "gridcolor": "white",
            "linecolor": "white",
            "ticks": ""
           },
           "bgcolor": "#E5ECF6",
           "caxis": {
            "gridcolor": "white",
            "linecolor": "white",
            "ticks": ""
           }
          },
          "title": {
           "x": 0.05
          },
          "xaxis": {
           "automargin": true,
           "gridcolor": "white",
           "linecolor": "white",
           "ticks": "",
           "title": {
            "standoff": 15
           },
           "zerolinecolor": "white",
           "zerolinewidth": 2
          },
          "yaxis": {
           "automargin": true,
           "gridcolor": "white",
           "linecolor": "white",
           "ticks": "",
           "title": {
            "standoff": 15
           },
           "zerolinecolor": "white",
           "zerolinewidth": 2
          }
         }
        },
        "title": {
         "text": "Dane wejściowe"
        },
        "xaxis": {
         "anchor": "y",
         "domain": [
          0,
          1
         ],
         "title": {
          "text": "x"
         }
        },
        "yaxis": {
         "anchor": "x",
         "domain": [
          0,
          1
         ],
         "title": {
          "text": "y"
         }
        }
       }
      }
     },
     "metadata": {},
     "output_type": "display_data"
    }
   ],
   "source": [
    "#Smote test\n",
    "# tutaj jest tymczasowy test Smote żeby ogarnąć poprawne liczebności\n",
    "import plotly.express as px\n",
    "temp_Cluter = np.array([[1,3,2,4,6,2,1,3,6,4,5,1,5,2,6,8,7,9,5,8,6,8,7,9,5,7,4,5,7],\n",
    "                        [3,1,2,6,2,5,4,3,2,1,3,3,2,1,6,5,7,6,4,8,9,5,8,4,7,5,6,8,4]])\n",
    "temp_Cluter_y = np.array([0,0,0,0,0,0,0,0,0,0,0,0,0,0,0,0,0,1,1,1,1,1,1,1,1,1,1,1,1])\n",
    "print('temp_Cluter shape: ',temp_Cluter.shape)\n",
    "print('temp_Cluter_y shape: ',temp_Cluter_y.shape)\n",
    "fig = px.scatter(x=temp_Cluter[0],y=temp_Cluter[1],title=\"Dane wejściowe\")\n",
    "fig.show()"
   ]
  },
  {
   "cell_type": "markdown",
   "id": "fddc0860",
   "metadata": {},
   "source": [
    "Liczebność zbioru wejściowego:"
   ]
  },
  {
   "cell_type": "code",
   "execution_count": 19,
   "id": "c1b75fb4",
   "metadata": {},
   "outputs": [
    {
     "name": "stdout",
     "output_type": "stream",
     "text": [
      "Chcemy uzyskać 100 próbek wyjściowych\n",
      "Przewidujemy, że dosaniemy próbek wyjściowych:  99.76\n",
      "3.44\n",
      "3\n"
     ]
    }
   ],
   "source": [
    "import math\n",
    "# teraz określamy ile chcemy próbek dorobić:\n",
    "# chcemy mieć 100 próbek\n",
    "desired = 100\n",
    "print('Chcemy uzyskać 100 próbek wyjściowych')\n",
    "#obecnie mamy size próbek\n",
    "size  = temp_Cluter.shape[1]\n",
    "\n",
    "todoSamples = int(((desired/size)-1 )*100)\n",
    "print(\"Przewidujemy, że dosaniemy próbek wyjściowych: \", (todoSamples/100+1)*len(temp_Cluter_y))\n",
    "print((todoSamples/100+1))\n",
    "print(math.floor(todoSamples/100)+1)\n",
    "temp_out = SMOTE_ByMedium(pd.DataFrame(temp_Cluter.T), todoSamples, 5)"
   ]
  },
  {
   "cell_type": "code",
   "execution_count": 20,
   "id": "278da139",
   "metadata": {},
   "outputs": [
    {
     "name": "stdout",
     "output_type": "stream",
     "text": [
      "58\n",
      "29\n",
      "87\n"
     ]
    }
   ],
   "source": [
    "temp_out.T\n",
    "print(len(temp_out.T[0]))\n",
    "print(len(temp_Cluter[0]))\n",
    "print(len(temp_out.T[0])+len(temp_Cluter[0]))"
   ]
  },
  {
   "cell_type": "code",
   "execution_count": 21,
   "id": "49a27cd3",
   "metadata": {},
   "outputs": [
    {
     "name": "stdout",
     "output_type": "stream",
     "text": [
      "[[1, 3, 2, 4, 6, 2, 1, 3, 6, 4, 5, 1, 5, 2, 6, 8, 7, 9, 5, 8, 6, 8, 7, 9, 5, 7, 4, 5, 7, 1.0, 2.4659050830554667, 3.8834101177006404, 3.7978059791521925, 2.0, 2.278774764302708, 3.1543656464519554, 4.524298563064091, 5.758421699385621, 5.832697882819067, 1.70542539465129, 3.8167256433954937, 1.7704672366715455, 1.0, 1.3226397786545068, 2.2789744621524637, 6.0, 5.88383711896199, 3.6394542351975363, 5.083146115785436, 5.0, 5.0, 1.0, 1.6003562477007223, 5.0, 5.642893830366326, 1.1924307655803756, 2.0, 6.383944440845423, 5.725292001044635, 8.49138125793966, 8.843237494846393, 7.556470810273051, 7.0, 9.0, 8.412894728091016, 5.0, 5.0, 7.347528232090392, 7.046745818273109, 6.762941686735793, 6.778106879698074, 7.934489165670645, 7.606922531788311, 6.414450862883358, 6.571729661222177, 9.0, 8.27009924025273, 5.0, 4.290480352378447, 7.0, 7.587995768830378, 4.619855554747724, 4.0, 6.300090064473732, 5.0, 7.293509333871607, 7.0], [3, 1, 2, 6, 2, 5, 4, 3, 2, 1, 3, 3, 2, 1, 6, 5, 7, 6, 4, 8, 9, 5, 8, 4, 7, 5, 6, 8, 4, 3.086337831744633, 3.0, 1.0, 1.6510336217771278, 1.8857159254057838, 1.0213540439477065, 5.977967077957766, 4.414178371548802, 2.050534507376195, 2.0, 3.875184054106873, 5.4232272276501785, 4.457544814949874, 3.4991378726878453, 3.0, 2.4866450796881754, 2.0, 2.1489998557756493, 1.0, 1.831352228129584, 2.643542731936676, 2.6713765818275497, 3.61329231070529, 3.0, 2.8869092837237127, 2.0, 1.6766391311952038, 1.8978953751752203, 6.102166014144782, 6.0, 5.864653204913773, 4.00268269953903, 7.779298529100687, 6.730599711806909, 5.926140005485308, 5.333888084251482, 2.709091347101954, 2.308756194767194, 7.224967546483608, 8.0, 7.765771760931704, 8.71084886030537, 5.0, 4.835967741502598, 6.241487102045511, 8.630488990246274, 5.643786578402536, 4.76375659245927, 7.126528288146074, 6.761539302649881, 4.646076646367249, 5.0, 6.356522748186151, 6.0, 7.530058371580598, 7.5254216484217995, 4.780792799795921, 4.821416191624292]]\n"
     ]
    }
   ],
   "source": [
    "temp_Cluter_OUT = [[*temp_Cluter[0],*temp_out.T[0]],[*temp_Cluter[1],*temp_out.T[1]]]\n",
    "print(temp_Cluter_OUT)"
   ]
  },
  {
   "cell_type": "code",
   "execution_count": 22,
   "id": "43102747",
   "metadata": {},
   "outputs": [
    {
     "data": {
      "application/vnd.plotly.v1+json": {
       "config": {
        "plotlyServerURL": "https://plot.ly"
       },
       "data": [
        {
         "hovertemplate": "x=%{x}<br>y=%{y}<extra></extra>",
         "legendgroup": "",
         "marker": {
          "color": "#636efa",
          "symbol": "circle"
         },
         "mode": "markers",
         "name": "",
         "orientation": "v",
         "showlegend": false,
         "type": "scatter",
         "x": [
          1,
          2.4659050830554667,
          3.8834101177006404,
          3.7978059791521925,
          2,
          2.278774764302708,
          3.1543656464519554,
          4.524298563064091,
          5.758421699385621,
          5.832697882819067,
          1.70542539465129,
          3.8167256433954937,
          1.7704672366715455,
          1,
          1.3226397786545068,
          2.2789744621524637,
          6,
          5.88383711896199,
          3.6394542351975363,
          5.083146115785436,
          5,
          5,
          1,
          1.6003562477007223,
          5,
          5.642893830366326,
          1.1924307655803756,
          2,
          6.383944440845423,
          5.725292001044635,
          8.49138125793966,
          8.843237494846393,
          7.556470810273051,
          7,
          9,
          8.412894728091016,
          5,
          5,
          7.347528232090392,
          7.046745818273109,
          6.762941686735793,
          6.778106879698074,
          7.934489165670645,
          7.606922531788311,
          6.414450862883358,
          6.571729661222177,
          9,
          8.27009924025273,
          5,
          4.290480352378447,
          7,
          7.587995768830378,
          4.619855554747724,
          4,
          6.300090064473732,
          5,
          7.293509333871607,
          7
         ],
         "xaxis": "x",
         "y": [
          3.086337831744633,
          3,
          1,
          1.6510336217771278,
          1.8857159254057838,
          1.0213540439477065,
          5.977967077957766,
          4.414178371548802,
          2.050534507376195,
          2,
          3.875184054106873,
          5.4232272276501785,
          4.457544814949874,
          3.4991378726878453,
          3,
          2.4866450796881754,
          2,
          2.1489998557756493,
          1,
          1.831352228129584,
          2.643542731936676,
          2.6713765818275497,
          3.61329231070529,
          3,
          2.8869092837237127,
          2,
          1.6766391311952038,
          1.8978953751752203,
          6.102166014144782,
          6,
          5.864653204913773,
          4.00268269953903,
          7.779298529100687,
          6.730599711806909,
          5.926140005485308,
          5.333888084251482,
          2.709091347101954,
          2.308756194767194,
          7.224967546483608,
          8,
          7.765771760931704,
          8.71084886030537,
          5,
          4.835967741502598,
          6.241487102045511,
          8.630488990246274,
          5.643786578402536,
          4.76375659245927,
          7.126528288146074,
          6.761539302649881,
          4.646076646367249,
          5,
          6.356522748186151,
          6,
          7.530058371580598,
          7.5254216484217995,
          4.780792799795921,
          4.821416191624292
         ],
         "yaxis": "y"
        }
       ],
       "layout": {
        "legend": {
         "tracegroupgap": 0
        },
        "template": {
         "data": {
          "bar": [
           {
            "error_x": {
             "color": "#2a3f5f"
            },
            "error_y": {
             "color": "#2a3f5f"
            },
            "marker": {
             "line": {
              "color": "#E5ECF6",
              "width": 0.5
             },
             "pattern": {
              "fillmode": "overlay",
              "size": 10,
              "solidity": 0.2
             }
            },
            "type": "bar"
           }
          ],
          "barpolar": [
           {
            "marker": {
             "line": {
              "color": "#E5ECF6",
              "width": 0.5
             },
             "pattern": {
              "fillmode": "overlay",
              "size": 10,
              "solidity": 0.2
             }
            },
            "type": "barpolar"
           }
          ],
          "carpet": [
           {
            "aaxis": {
             "endlinecolor": "#2a3f5f",
             "gridcolor": "white",
             "linecolor": "white",
             "minorgridcolor": "white",
             "startlinecolor": "#2a3f5f"
            },
            "baxis": {
             "endlinecolor": "#2a3f5f",
             "gridcolor": "white",
             "linecolor": "white",
             "minorgridcolor": "white",
             "startlinecolor": "#2a3f5f"
            },
            "type": "carpet"
           }
          ],
          "choropleth": [
           {
            "colorbar": {
             "outlinewidth": 0,
             "ticks": ""
            },
            "type": "choropleth"
           }
          ],
          "contour": [
           {
            "colorbar": {
             "outlinewidth": 0,
             "ticks": ""
            },
            "colorscale": [
             [
              0,
              "#0d0887"
             ],
             [
              0.1111111111111111,
              "#46039f"
             ],
             [
              0.2222222222222222,
              "#7201a8"
             ],
             [
              0.3333333333333333,
              "#9c179e"
             ],
             [
              0.4444444444444444,
              "#bd3786"
             ],
             [
              0.5555555555555556,
              "#d8576b"
             ],
             [
              0.6666666666666666,
              "#ed7953"
             ],
             [
              0.7777777777777778,
              "#fb9f3a"
             ],
             [
              0.8888888888888888,
              "#fdca26"
             ],
             [
              1,
              "#f0f921"
             ]
            ],
            "type": "contour"
           }
          ],
          "contourcarpet": [
           {
            "colorbar": {
             "outlinewidth": 0,
             "ticks": ""
            },
            "type": "contourcarpet"
           }
          ],
          "heatmap": [
           {
            "colorbar": {
             "outlinewidth": 0,
             "ticks": ""
            },
            "colorscale": [
             [
              0,
              "#0d0887"
             ],
             [
              0.1111111111111111,
              "#46039f"
             ],
             [
              0.2222222222222222,
              "#7201a8"
             ],
             [
              0.3333333333333333,
              "#9c179e"
             ],
             [
              0.4444444444444444,
              "#bd3786"
             ],
             [
              0.5555555555555556,
              "#d8576b"
             ],
             [
              0.6666666666666666,
              "#ed7953"
             ],
             [
              0.7777777777777778,
              "#fb9f3a"
             ],
             [
              0.8888888888888888,
              "#fdca26"
             ],
             [
              1,
              "#f0f921"
             ]
            ],
            "type": "heatmap"
           }
          ],
          "heatmapgl": [
           {
            "colorbar": {
             "outlinewidth": 0,
             "ticks": ""
            },
            "colorscale": [
             [
              0,
              "#0d0887"
             ],
             [
              0.1111111111111111,
              "#46039f"
             ],
             [
              0.2222222222222222,
              "#7201a8"
             ],
             [
              0.3333333333333333,
              "#9c179e"
             ],
             [
              0.4444444444444444,
              "#bd3786"
             ],
             [
              0.5555555555555556,
              "#d8576b"
             ],
             [
              0.6666666666666666,
              "#ed7953"
             ],
             [
              0.7777777777777778,
              "#fb9f3a"
             ],
             [
              0.8888888888888888,
              "#fdca26"
             ],
             [
              1,
              "#f0f921"
             ]
            ],
            "type": "heatmapgl"
           }
          ],
          "histogram": [
           {
            "marker": {
             "pattern": {
              "fillmode": "overlay",
              "size": 10,
              "solidity": 0.2
             }
            },
            "type": "histogram"
           }
          ],
          "histogram2d": [
           {
            "colorbar": {
             "outlinewidth": 0,
             "ticks": ""
            },
            "colorscale": [
             [
              0,
              "#0d0887"
             ],
             [
              0.1111111111111111,
              "#46039f"
             ],
             [
              0.2222222222222222,
              "#7201a8"
             ],
             [
              0.3333333333333333,
              "#9c179e"
             ],
             [
              0.4444444444444444,
              "#bd3786"
             ],
             [
              0.5555555555555556,
              "#d8576b"
             ],
             [
              0.6666666666666666,
              "#ed7953"
             ],
             [
              0.7777777777777778,
              "#fb9f3a"
             ],
             [
              0.8888888888888888,
              "#fdca26"
             ],
             [
              1,
              "#f0f921"
             ]
            ],
            "type": "histogram2d"
           }
          ],
          "histogram2dcontour": [
           {
            "colorbar": {
             "outlinewidth": 0,
             "ticks": ""
            },
            "colorscale": [
             [
              0,
              "#0d0887"
             ],
             [
              0.1111111111111111,
              "#46039f"
             ],
             [
              0.2222222222222222,
              "#7201a8"
             ],
             [
              0.3333333333333333,
              "#9c179e"
             ],
             [
              0.4444444444444444,
              "#bd3786"
             ],
             [
              0.5555555555555556,
              "#d8576b"
             ],
             [
              0.6666666666666666,
              "#ed7953"
             ],
             [
              0.7777777777777778,
              "#fb9f3a"
             ],
             [
              0.8888888888888888,
              "#fdca26"
             ],
             [
              1,
              "#f0f921"
             ]
            ],
            "type": "histogram2dcontour"
           }
          ],
          "mesh3d": [
           {
            "colorbar": {
             "outlinewidth": 0,
             "ticks": ""
            },
            "type": "mesh3d"
           }
          ],
          "parcoords": [
           {
            "line": {
             "colorbar": {
              "outlinewidth": 0,
              "ticks": ""
             }
            },
            "type": "parcoords"
           }
          ],
          "pie": [
           {
            "automargin": true,
            "type": "pie"
           }
          ],
          "scatter": [
           {
            "fillpattern": {
             "fillmode": "overlay",
             "size": 10,
             "solidity": 0.2
            },
            "type": "scatter"
           }
          ],
          "scatter3d": [
           {
            "line": {
             "colorbar": {
              "outlinewidth": 0,
              "ticks": ""
             }
            },
            "marker": {
             "colorbar": {
              "outlinewidth": 0,
              "ticks": ""
             }
            },
            "type": "scatter3d"
           }
          ],
          "scattercarpet": [
           {
            "marker": {
             "colorbar": {
              "outlinewidth": 0,
              "ticks": ""
             }
            },
            "type": "scattercarpet"
           }
          ],
          "scattergeo": [
           {
            "marker": {
             "colorbar": {
              "outlinewidth": 0,
              "ticks": ""
             }
            },
            "type": "scattergeo"
           }
          ],
          "scattergl": [
           {
            "marker": {
             "colorbar": {
              "outlinewidth": 0,
              "ticks": ""
             }
            },
            "type": "scattergl"
           }
          ],
          "scattermapbox": [
           {
            "marker": {
             "colorbar": {
              "outlinewidth": 0,
              "ticks": ""
             }
            },
            "type": "scattermapbox"
           }
          ],
          "scatterpolar": [
           {
            "marker": {
             "colorbar": {
              "outlinewidth": 0,
              "ticks": ""
             }
            },
            "type": "scatterpolar"
           }
          ],
          "scatterpolargl": [
           {
            "marker": {
             "colorbar": {
              "outlinewidth": 0,
              "ticks": ""
             }
            },
            "type": "scatterpolargl"
           }
          ],
          "scatterternary": [
           {
            "marker": {
             "colorbar": {
              "outlinewidth": 0,
              "ticks": ""
             }
            },
            "type": "scatterternary"
           }
          ],
          "surface": [
           {
            "colorbar": {
             "outlinewidth": 0,
             "ticks": ""
            },
            "colorscale": [
             [
              0,
              "#0d0887"
             ],
             [
              0.1111111111111111,
              "#46039f"
             ],
             [
              0.2222222222222222,
              "#7201a8"
             ],
             [
              0.3333333333333333,
              "#9c179e"
             ],
             [
              0.4444444444444444,
              "#bd3786"
             ],
             [
              0.5555555555555556,
              "#d8576b"
             ],
             [
              0.6666666666666666,
              "#ed7953"
             ],
             [
              0.7777777777777778,
              "#fb9f3a"
             ],
             [
              0.8888888888888888,
              "#fdca26"
             ],
             [
              1,
              "#f0f921"
             ]
            ],
            "type": "surface"
           }
          ],
          "table": [
           {
            "cells": {
             "fill": {
              "color": "#EBF0F8"
             },
             "line": {
              "color": "white"
             }
            },
            "header": {
             "fill": {
              "color": "#C8D4E3"
             },
             "line": {
              "color": "white"
             }
            },
            "type": "table"
           }
          ]
         },
         "layout": {
          "annotationdefaults": {
           "arrowcolor": "#2a3f5f",
           "arrowhead": 0,
           "arrowwidth": 1
          },
          "autotypenumbers": "strict",
          "coloraxis": {
           "colorbar": {
            "outlinewidth": 0,
            "ticks": ""
           }
          },
          "colorscale": {
           "diverging": [
            [
             0,
             "#8e0152"
            ],
            [
             0.1,
             "#c51b7d"
            ],
            [
             0.2,
             "#de77ae"
            ],
            [
             0.3,
             "#f1b6da"
            ],
            [
             0.4,
             "#fde0ef"
            ],
            [
             0.5,
             "#f7f7f7"
            ],
            [
             0.6,
             "#e6f5d0"
            ],
            [
             0.7,
             "#b8e186"
            ],
            [
             0.8,
             "#7fbc41"
            ],
            [
             0.9,
             "#4d9221"
            ],
            [
             1,
             "#276419"
            ]
           ],
           "sequential": [
            [
             0,
             "#0d0887"
            ],
            [
             0.1111111111111111,
             "#46039f"
            ],
            [
             0.2222222222222222,
             "#7201a8"
            ],
            [
             0.3333333333333333,
             "#9c179e"
            ],
            [
             0.4444444444444444,
             "#bd3786"
            ],
            [
             0.5555555555555556,
             "#d8576b"
            ],
            [
             0.6666666666666666,
             "#ed7953"
            ],
            [
             0.7777777777777778,
             "#fb9f3a"
            ],
            [
             0.8888888888888888,
             "#fdca26"
            ],
            [
             1,
             "#f0f921"
            ]
           ],
           "sequentialminus": [
            [
             0,
             "#0d0887"
            ],
            [
             0.1111111111111111,
             "#46039f"
            ],
            [
             0.2222222222222222,
             "#7201a8"
            ],
            [
             0.3333333333333333,
             "#9c179e"
            ],
            [
             0.4444444444444444,
             "#bd3786"
            ],
            [
             0.5555555555555556,
             "#d8576b"
            ],
            [
             0.6666666666666666,
             "#ed7953"
            ],
            [
             0.7777777777777778,
             "#fb9f3a"
            ],
            [
             0.8888888888888888,
             "#fdca26"
            ],
            [
             1,
             "#f0f921"
            ]
           ]
          },
          "colorway": [
           "#636efa",
           "#EF553B",
           "#00cc96",
           "#ab63fa",
           "#FFA15A",
           "#19d3f3",
           "#FF6692",
           "#B6E880",
           "#FF97FF",
           "#FECB52"
          ],
          "font": {
           "color": "#2a3f5f"
          },
          "geo": {
           "bgcolor": "white",
           "lakecolor": "white",
           "landcolor": "#E5ECF6",
           "showlakes": true,
           "showland": true,
           "subunitcolor": "white"
          },
          "hoverlabel": {
           "align": "left"
          },
          "hovermode": "closest",
          "mapbox": {
           "style": "light"
          },
          "paper_bgcolor": "white",
          "plot_bgcolor": "#E5ECF6",
          "polar": {
           "angularaxis": {
            "gridcolor": "white",
            "linecolor": "white",
            "ticks": ""
           },
           "bgcolor": "#E5ECF6",
           "radialaxis": {
            "gridcolor": "white",
            "linecolor": "white",
            "ticks": ""
           }
          },
          "scene": {
           "xaxis": {
            "backgroundcolor": "#E5ECF6",
            "gridcolor": "white",
            "gridwidth": 2,
            "linecolor": "white",
            "showbackground": true,
            "ticks": "",
            "zerolinecolor": "white"
           },
           "yaxis": {
            "backgroundcolor": "#E5ECF6",
            "gridcolor": "white",
            "gridwidth": 2,
            "linecolor": "white",
            "showbackground": true,
            "ticks": "",
            "zerolinecolor": "white"
           },
           "zaxis": {
            "backgroundcolor": "#E5ECF6",
            "gridcolor": "white",
            "gridwidth": 2,
            "linecolor": "white",
            "showbackground": true,
            "ticks": "",
            "zerolinecolor": "white"
           }
          },
          "shapedefaults": {
           "line": {
            "color": "#2a3f5f"
           }
          },
          "ternary": {
           "aaxis": {
            "gridcolor": "white",
            "linecolor": "white",
            "ticks": ""
           },
           "baxis": {
            "gridcolor": "white",
            "linecolor": "white",
            "ticks": ""
           },
           "bgcolor": "#E5ECF6",
           "caxis": {
            "gridcolor": "white",
            "linecolor": "white",
            "ticks": ""
           }
          },
          "title": {
           "x": 0.05
          },
          "xaxis": {
           "automargin": true,
           "gridcolor": "white",
           "linecolor": "white",
           "ticks": "",
           "title": {
            "standoff": 15
           },
           "zerolinecolor": "white",
           "zerolinewidth": 2
          },
          "yaxis": {
           "automargin": true,
           "gridcolor": "white",
           "linecolor": "white",
           "ticks": "",
           "title": {
            "standoff": 15
           },
           "zerolinecolor": "white",
           "zerolinewidth": 2
          }
         }
        },
        "title": {
         "text": "Wygenerowane"
        },
        "xaxis": {
         "anchor": "y",
         "domain": [
          0,
          1
         ],
         "title": {
          "text": "x"
         }
        },
        "yaxis": {
         "anchor": "x",
         "domain": [
          0,
          1
         ],
         "title": {
          "text": "y"
         }
        }
       }
      }
     },
     "metadata": {},
     "output_type": "display_data"
    }
   ],
   "source": [
    "fig = px.scatter(x= temp_out.T[0], y= temp_out.T[1],title='Wygenerowane')\n",
    "fig.show()"
   ]
  },
  {
   "cell_type": "code",
   "execution_count": 23,
   "id": "d625e36b",
   "metadata": {},
   "outputs": [
    {
     "data": {
      "application/vnd.plotly.v1+json": {
       "config": {
        "plotlyServerURL": "https://plot.ly"
       },
       "data": [
        {
         "hovertemplate": "x=%{x}<br>y=%{y}<extra></extra>",
         "legendgroup": "",
         "marker": {
          "color": "#636efa",
          "symbol": "circle"
         },
         "mode": "markers",
         "name": "",
         "orientation": "v",
         "showlegend": false,
         "type": "scatter",
         "x": [
          1,
          3,
          2,
          4,
          6,
          2,
          1,
          3,
          6,
          4,
          5,
          1,
          5,
          2,
          6,
          8,
          7,
          9,
          5,
          8,
          6,
          8,
          7,
          9,
          5,
          7,
          4,
          5,
          7,
          1,
          2.4659050830554667,
          3.8834101177006404,
          3.7978059791521925,
          2,
          2.278774764302708,
          3.1543656464519554,
          4.524298563064091,
          5.758421699385621,
          5.832697882819067,
          1.70542539465129,
          3.8167256433954937,
          1.7704672366715455,
          1,
          1.3226397786545068,
          2.2789744621524637,
          6,
          5.88383711896199,
          3.6394542351975363,
          5.083146115785436,
          5,
          5,
          1,
          1.6003562477007223,
          5,
          5.642893830366326,
          1.1924307655803756,
          2,
          6.383944440845423,
          5.725292001044635,
          8.49138125793966,
          8.843237494846393,
          7.556470810273051,
          7,
          9,
          8.412894728091016,
          5,
          5,
          7.347528232090392,
          7.046745818273109,
          6.762941686735793,
          6.778106879698074,
          7.934489165670645,
          7.606922531788311,
          6.414450862883358,
          6.571729661222177,
          9,
          8.27009924025273,
          5,
          4.290480352378447,
          7,
          7.587995768830378,
          4.619855554747724,
          4,
          6.300090064473732,
          5,
          7.293509333871607,
          7
         ],
         "xaxis": "x",
         "y": [
          3,
          1,
          2,
          6,
          2,
          5,
          4,
          3,
          2,
          1,
          3,
          3,
          2,
          1,
          6,
          5,
          7,
          6,
          4,
          8,
          9,
          5,
          8,
          4,
          7,
          5,
          6,
          8,
          4,
          3.086337831744633,
          3,
          1,
          1.6510336217771278,
          1.8857159254057838,
          1.0213540439477065,
          5.977967077957766,
          4.414178371548802,
          2.050534507376195,
          2,
          3.875184054106873,
          5.4232272276501785,
          4.457544814949874,
          3.4991378726878453,
          3,
          2.4866450796881754,
          2,
          2.1489998557756493,
          1,
          1.831352228129584,
          2.643542731936676,
          2.6713765818275497,
          3.61329231070529,
          3,
          2.8869092837237127,
          2,
          1.6766391311952038,
          1.8978953751752203,
          6.102166014144782,
          6,
          5.864653204913773,
          4.00268269953903,
          7.779298529100687,
          6.730599711806909,
          5.926140005485308,
          5.333888084251482,
          2.709091347101954,
          2.308756194767194,
          7.224967546483608,
          8,
          7.765771760931704,
          8.71084886030537,
          5,
          4.835967741502598,
          6.241487102045511,
          8.630488990246274,
          5.643786578402536,
          4.76375659245927,
          7.126528288146074,
          6.761539302649881,
          4.646076646367249,
          5,
          6.356522748186151,
          6,
          7.530058371580598,
          7.5254216484217995,
          4.780792799795921,
          4.821416191624292
         ],
         "yaxis": "y"
        }
       ],
       "layout": {
        "legend": {
         "tracegroupgap": 0
        },
        "template": {
         "data": {
          "bar": [
           {
            "error_x": {
             "color": "#2a3f5f"
            },
            "error_y": {
             "color": "#2a3f5f"
            },
            "marker": {
             "line": {
              "color": "#E5ECF6",
              "width": 0.5
             },
             "pattern": {
              "fillmode": "overlay",
              "size": 10,
              "solidity": 0.2
             }
            },
            "type": "bar"
           }
          ],
          "barpolar": [
           {
            "marker": {
             "line": {
              "color": "#E5ECF6",
              "width": 0.5
             },
             "pattern": {
              "fillmode": "overlay",
              "size": 10,
              "solidity": 0.2
             }
            },
            "type": "barpolar"
           }
          ],
          "carpet": [
           {
            "aaxis": {
             "endlinecolor": "#2a3f5f",
             "gridcolor": "white",
             "linecolor": "white",
             "minorgridcolor": "white",
             "startlinecolor": "#2a3f5f"
            },
            "baxis": {
             "endlinecolor": "#2a3f5f",
             "gridcolor": "white",
             "linecolor": "white",
             "minorgridcolor": "white",
             "startlinecolor": "#2a3f5f"
            },
            "type": "carpet"
           }
          ],
          "choropleth": [
           {
            "colorbar": {
             "outlinewidth": 0,
             "ticks": ""
            },
            "type": "choropleth"
           }
          ],
          "contour": [
           {
            "colorbar": {
             "outlinewidth": 0,
             "ticks": ""
            },
            "colorscale": [
             [
              0,
              "#0d0887"
             ],
             [
              0.1111111111111111,
              "#46039f"
             ],
             [
              0.2222222222222222,
              "#7201a8"
             ],
             [
              0.3333333333333333,
              "#9c179e"
             ],
             [
              0.4444444444444444,
              "#bd3786"
             ],
             [
              0.5555555555555556,
              "#d8576b"
             ],
             [
              0.6666666666666666,
              "#ed7953"
             ],
             [
              0.7777777777777778,
              "#fb9f3a"
             ],
             [
              0.8888888888888888,
              "#fdca26"
             ],
             [
              1,
              "#f0f921"
             ]
            ],
            "type": "contour"
           }
          ],
          "contourcarpet": [
           {
            "colorbar": {
             "outlinewidth": 0,
             "ticks": ""
            },
            "type": "contourcarpet"
           }
          ],
          "heatmap": [
           {
            "colorbar": {
             "outlinewidth": 0,
             "ticks": ""
            },
            "colorscale": [
             [
              0,
              "#0d0887"
             ],
             [
              0.1111111111111111,
              "#46039f"
             ],
             [
              0.2222222222222222,
              "#7201a8"
             ],
             [
              0.3333333333333333,
              "#9c179e"
             ],
             [
              0.4444444444444444,
              "#bd3786"
             ],
             [
              0.5555555555555556,
              "#d8576b"
             ],
             [
              0.6666666666666666,
              "#ed7953"
             ],
             [
              0.7777777777777778,
              "#fb9f3a"
             ],
             [
              0.8888888888888888,
              "#fdca26"
             ],
             [
              1,
              "#f0f921"
             ]
            ],
            "type": "heatmap"
           }
          ],
          "heatmapgl": [
           {
            "colorbar": {
             "outlinewidth": 0,
             "ticks": ""
            },
            "colorscale": [
             [
              0,
              "#0d0887"
             ],
             [
              0.1111111111111111,
              "#46039f"
             ],
             [
              0.2222222222222222,
              "#7201a8"
             ],
             [
              0.3333333333333333,
              "#9c179e"
             ],
             [
              0.4444444444444444,
              "#bd3786"
             ],
             [
              0.5555555555555556,
              "#d8576b"
             ],
             [
              0.6666666666666666,
              "#ed7953"
             ],
             [
              0.7777777777777778,
              "#fb9f3a"
             ],
             [
              0.8888888888888888,
              "#fdca26"
             ],
             [
              1,
              "#f0f921"
             ]
            ],
            "type": "heatmapgl"
           }
          ],
          "histogram": [
           {
            "marker": {
             "pattern": {
              "fillmode": "overlay",
              "size": 10,
              "solidity": 0.2
             }
            },
            "type": "histogram"
           }
          ],
          "histogram2d": [
           {
            "colorbar": {
             "outlinewidth": 0,
             "ticks": ""
            },
            "colorscale": [
             [
              0,
              "#0d0887"
             ],
             [
              0.1111111111111111,
              "#46039f"
             ],
             [
              0.2222222222222222,
              "#7201a8"
             ],
             [
              0.3333333333333333,
              "#9c179e"
             ],
             [
              0.4444444444444444,
              "#bd3786"
             ],
             [
              0.5555555555555556,
              "#d8576b"
             ],
             [
              0.6666666666666666,
              "#ed7953"
             ],
             [
              0.7777777777777778,
              "#fb9f3a"
             ],
             [
              0.8888888888888888,
              "#fdca26"
             ],
             [
              1,
              "#f0f921"
             ]
            ],
            "type": "histogram2d"
           }
          ],
          "histogram2dcontour": [
           {
            "colorbar": {
             "outlinewidth": 0,
             "ticks": ""
            },
            "colorscale": [
             [
              0,
              "#0d0887"
             ],
             [
              0.1111111111111111,
              "#46039f"
             ],
             [
              0.2222222222222222,
              "#7201a8"
             ],
             [
              0.3333333333333333,
              "#9c179e"
             ],
             [
              0.4444444444444444,
              "#bd3786"
             ],
             [
              0.5555555555555556,
              "#d8576b"
             ],
             [
              0.6666666666666666,
              "#ed7953"
             ],
             [
              0.7777777777777778,
              "#fb9f3a"
             ],
             [
              0.8888888888888888,
              "#fdca26"
             ],
             [
              1,
              "#f0f921"
             ]
            ],
            "type": "histogram2dcontour"
           }
          ],
          "mesh3d": [
           {
            "colorbar": {
             "outlinewidth": 0,
             "ticks": ""
            },
            "type": "mesh3d"
           }
          ],
          "parcoords": [
           {
            "line": {
             "colorbar": {
              "outlinewidth": 0,
              "ticks": ""
             }
            },
            "type": "parcoords"
           }
          ],
          "pie": [
           {
            "automargin": true,
            "type": "pie"
           }
          ],
          "scatter": [
           {
            "fillpattern": {
             "fillmode": "overlay",
             "size": 10,
             "solidity": 0.2
            },
            "type": "scatter"
           }
          ],
          "scatter3d": [
           {
            "line": {
             "colorbar": {
              "outlinewidth": 0,
              "ticks": ""
             }
            },
            "marker": {
             "colorbar": {
              "outlinewidth": 0,
              "ticks": ""
             }
            },
            "type": "scatter3d"
           }
          ],
          "scattercarpet": [
           {
            "marker": {
             "colorbar": {
              "outlinewidth": 0,
              "ticks": ""
             }
            },
            "type": "scattercarpet"
           }
          ],
          "scattergeo": [
           {
            "marker": {
             "colorbar": {
              "outlinewidth": 0,
              "ticks": ""
             }
            },
            "type": "scattergeo"
           }
          ],
          "scattergl": [
           {
            "marker": {
             "colorbar": {
              "outlinewidth": 0,
              "ticks": ""
             }
            },
            "type": "scattergl"
           }
          ],
          "scattermapbox": [
           {
            "marker": {
             "colorbar": {
              "outlinewidth": 0,
              "ticks": ""
             }
            },
            "type": "scattermapbox"
           }
          ],
          "scatterpolar": [
           {
            "marker": {
             "colorbar": {
              "outlinewidth": 0,
              "ticks": ""
             }
            },
            "type": "scatterpolar"
           }
          ],
          "scatterpolargl": [
           {
            "marker": {
             "colorbar": {
              "outlinewidth": 0,
              "ticks": ""
             }
            },
            "type": "scatterpolargl"
           }
          ],
          "scatterternary": [
           {
            "marker": {
             "colorbar": {
              "outlinewidth": 0,
              "ticks": ""
             }
            },
            "type": "scatterternary"
           }
          ],
          "surface": [
           {
            "colorbar": {
             "outlinewidth": 0,
             "ticks": ""
            },
            "colorscale": [
             [
              0,
              "#0d0887"
             ],
             [
              0.1111111111111111,
              "#46039f"
             ],
             [
              0.2222222222222222,
              "#7201a8"
             ],
             [
              0.3333333333333333,
              "#9c179e"
             ],
             [
              0.4444444444444444,
              "#bd3786"
             ],
             [
              0.5555555555555556,
              "#d8576b"
             ],
             [
              0.6666666666666666,
              "#ed7953"
             ],
             [
              0.7777777777777778,
              "#fb9f3a"
             ],
             [
              0.8888888888888888,
              "#fdca26"
             ],
             [
              1,
              "#f0f921"
             ]
            ],
            "type": "surface"
           }
          ],
          "table": [
           {
            "cells": {
             "fill": {
              "color": "#EBF0F8"
             },
             "line": {
              "color": "white"
             }
            },
            "header": {
             "fill": {
              "color": "#C8D4E3"
             },
             "line": {
              "color": "white"
             }
            },
            "type": "table"
           }
          ]
         },
         "layout": {
          "annotationdefaults": {
           "arrowcolor": "#2a3f5f",
           "arrowhead": 0,
           "arrowwidth": 1
          },
          "autotypenumbers": "strict",
          "coloraxis": {
           "colorbar": {
            "outlinewidth": 0,
            "ticks": ""
           }
          },
          "colorscale": {
           "diverging": [
            [
             0,
             "#8e0152"
            ],
            [
             0.1,
             "#c51b7d"
            ],
            [
             0.2,
             "#de77ae"
            ],
            [
             0.3,
             "#f1b6da"
            ],
            [
             0.4,
             "#fde0ef"
            ],
            [
             0.5,
             "#f7f7f7"
            ],
            [
             0.6,
             "#e6f5d0"
            ],
            [
             0.7,
             "#b8e186"
            ],
            [
             0.8,
             "#7fbc41"
            ],
            [
             0.9,
             "#4d9221"
            ],
            [
             1,
             "#276419"
            ]
           ],
           "sequential": [
            [
             0,
             "#0d0887"
            ],
            [
             0.1111111111111111,
             "#46039f"
            ],
            [
             0.2222222222222222,
             "#7201a8"
            ],
            [
             0.3333333333333333,
             "#9c179e"
            ],
            [
             0.4444444444444444,
             "#bd3786"
            ],
            [
             0.5555555555555556,
             "#d8576b"
            ],
            [
             0.6666666666666666,
             "#ed7953"
            ],
            [
             0.7777777777777778,
             "#fb9f3a"
            ],
            [
             0.8888888888888888,
             "#fdca26"
            ],
            [
             1,
             "#f0f921"
            ]
           ],
           "sequentialminus": [
            [
             0,
             "#0d0887"
            ],
            [
             0.1111111111111111,
             "#46039f"
            ],
            [
             0.2222222222222222,
             "#7201a8"
            ],
            [
             0.3333333333333333,
             "#9c179e"
            ],
            [
             0.4444444444444444,
             "#bd3786"
            ],
            [
             0.5555555555555556,
             "#d8576b"
            ],
            [
             0.6666666666666666,
             "#ed7953"
            ],
            [
             0.7777777777777778,
             "#fb9f3a"
            ],
            [
             0.8888888888888888,
             "#fdca26"
            ],
            [
             1,
             "#f0f921"
            ]
           ]
          },
          "colorway": [
           "#636efa",
           "#EF553B",
           "#00cc96",
           "#ab63fa",
           "#FFA15A",
           "#19d3f3",
           "#FF6692",
           "#B6E880",
           "#FF97FF",
           "#FECB52"
          ],
          "font": {
           "color": "#2a3f5f"
          },
          "geo": {
           "bgcolor": "white",
           "lakecolor": "white",
           "landcolor": "#E5ECF6",
           "showlakes": true,
           "showland": true,
           "subunitcolor": "white"
          },
          "hoverlabel": {
           "align": "left"
          },
          "hovermode": "closest",
          "mapbox": {
           "style": "light"
          },
          "paper_bgcolor": "white",
          "plot_bgcolor": "#E5ECF6",
          "polar": {
           "angularaxis": {
            "gridcolor": "white",
            "linecolor": "white",
            "ticks": ""
           },
           "bgcolor": "#E5ECF6",
           "radialaxis": {
            "gridcolor": "white",
            "linecolor": "white",
            "ticks": ""
           }
          },
          "scene": {
           "xaxis": {
            "backgroundcolor": "#E5ECF6",
            "gridcolor": "white",
            "gridwidth": 2,
            "linecolor": "white",
            "showbackground": true,
            "ticks": "",
            "zerolinecolor": "white"
           },
           "yaxis": {
            "backgroundcolor": "#E5ECF6",
            "gridcolor": "white",
            "gridwidth": 2,
            "linecolor": "white",
            "showbackground": true,
            "ticks": "",
            "zerolinecolor": "white"
           },
           "zaxis": {
            "backgroundcolor": "#E5ECF6",
            "gridcolor": "white",
            "gridwidth": 2,
            "linecolor": "white",
            "showbackground": true,
            "ticks": "",
            "zerolinecolor": "white"
           }
          },
          "shapedefaults": {
           "line": {
            "color": "#2a3f5f"
           }
          },
          "ternary": {
           "aaxis": {
            "gridcolor": "white",
            "linecolor": "white",
            "ticks": ""
           },
           "baxis": {
            "gridcolor": "white",
            "linecolor": "white",
            "ticks": ""
           },
           "bgcolor": "#E5ECF6",
           "caxis": {
            "gridcolor": "white",
            "linecolor": "white",
            "ticks": ""
           }
          },
          "title": {
           "x": 0.05
          },
          "xaxis": {
           "automargin": true,
           "gridcolor": "white",
           "linecolor": "white",
           "ticks": "",
           "title": {
            "standoff": 15
           },
           "zerolinecolor": "white",
           "zerolinewidth": 2
          },
          "yaxis": {
           "automargin": true,
           "gridcolor": "white",
           "linecolor": "white",
           "ticks": "",
           "title": {
            "standoff": 15
           },
           "zerolinecolor": "white",
           "zerolinewidth": 2
          }
         }
        },
        "title": {
         "text": "Wygenerowane + wejściowe o łącznej liczbie równej desired"
        },
        "xaxis": {
         "anchor": "y",
         "domain": [
          0,
          1
         ],
         "title": {
          "text": "x"
         }
        },
        "yaxis": {
         "anchor": "x",
         "domain": [
          0,
          1
         ],
         "title": {
          "text": "y"
         }
        }
       }
      }
     },
     "metadata": {},
     "output_type": "display_data"
    },
    {
     "data": {
      "text/plain": [
       "87"
      ]
     },
     "execution_count": 23,
     "metadata": {},
     "output_type": "execute_result"
    }
   ],
   "source": [
    "fig = px.scatter(x= temp_Cluter_OUT[0], y= temp_Cluter_OUT[1], title= 'Wygenerowane + wejściowe o łącznej liczbie równej desired')\n",
    "fig.show()\n",
    "len(temp_Cluter_OUT[0])"
   ]
  },
  {
   "cell_type": "markdown",
   "id": "6a43e67b",
   "metadata": {},
   "source": [
    "#### Clustering with SMOTE (Część pracy)"
   ]
  },
  {
   "cell_type": "code",
   "execution_count": 24,
   "id": "ba7497e4",
   "metadata": {},
   "outputs": [],
   "source": [
    "from sklearn.cluster import KMeans, MeanShift\n",
    "\n",
    "def oversample_clustered_data(X, y, X_minority, y_minority, X_majority, y_majority, cluster_labeled_data):\n",
    "    #wygenerowane próbki mniejszościowe wrzucamy tutaj:\n",
    "    X_generated = []\n",
    "\n",
    "    # Do oceny ile próbek trzeba będzie wygenerować trzeba przeliczyć różnicę między liczebnością klasy mniejszościowej i większościowej, będzie to potrzebne później w pętli dla każego z klastrów\n",
    "    majority_minority_difference =  list(y).count(0) - list(y).count(1)\n",
    "    if(majority_minority_difference < 0):\n",
    "        print(\"[ERR] Monority class has grater count to Majority class\")\n",
    "        exit()\n",
    "    # Do oceny ile próbek będzie trzeba wygenerować potrzebne też będzie informacja o liczbności klasy mniejszościowej\n",
    "    minority_count = list(y).count(1)\n",
    "\n",
    "    # Dla każdego z klastrów:\n",
    "    cluster_labels = np.unique(cluster_labeled_data) #  pobranie info jakie mamy labele klastrów [0,1,...]\n",
    "\n",
    "    # Wszystkie wygenerowane syntetycznie obiekty trafią tutaj\n",
    "    syntetic_data = []\n",
    "    for cluster in cluster_labels:\n",
    "        # w pierwszej kolejności filtrujemy indeksy zbioru mniejszościowego aby pozostawić tylko indeksy należące do klastra który w danej iteracji pętli analizujemy\n",
    "        cluster_samples_indices_minority = np.where(cluster_labeled_data == cluster)[0]\n",
    "        # ustalamy ile próbek trzeba wygenerować w tym klastrze\n",
    "        # ustalamy procentowo liczebność (udział) klastra względem całej klasy mniejszościowej\n",
    "        percentage_of_count = len(cluster_samples_indices_minority)/minority_count\n",
    "        # zabezpieczenie jeśli coś na tym etapie szłoby bardzo nie tak\n",
    "        if(percentage_of_count>1 or percentage_of_count<0):\n",
    "            print(\"Kurza twarz.. something is no yes! Procenty nie mogą być większe niż 100 ani mniejsze niż 0\")\n",
    "            exit()\n",
    "        \n",
    "        #następnie przemnarzamy udział procentowy klastra przez różnicę między zbiorem większościowym i mniejszościowym uzyskując ilość próbek do augmentacji\n",
    "        num_of_samples_to_generate_in_this_cluster = percentage_of_count * majority_minority_difference\n",
    "\n",
    "        # Do samej funkcji augmentacji wymagana jest warość procentowa gdzie 100 to 100% określająca ile próbek ma zostać wygenerowanych względem danych wejściowych\n",
    "        # w tym celu należy podzielić ilość próbek które chcemy wygenerować przez liczbę próbek które posiadamy już\n",
    "        todoSamples = 100*(num_of_samples_to_generate_in_this_cluster/len(cluster_samples_indices_minority))\n",
    "\n",
    "        # Teraz musimy niestety przejść z np.array na dataframe bo w ten sposób działa funkcja ale robimy to już w parametrze funkcji\n",
    "        # Oversampling... totaj k = 5.. jest to hiperparametr który nie wydaje się być istotny w tej implementacji. Jeśli będą większe zmiany trzeba spojrzeć na niego\n",
    "        temp_out = SMOTE_ByMedium(pd.DataFrame(X_minority), todoSamples, 5)\n",
    "\n",
    "        #Ta implementacja Smote jeśli tworzy więcej niż 100% próbek z próbek które dostała traci informację o części dziesiętnej procentów - to powoduje, że powstaje mniej resamplowanych próbek\n",
    "        if todoSamples>100:\n",
    "            todoSamples_2 = todoSamples%100\n",
    "            temp_out_2 = SMOTE_ByMedium(pd.DataFrame(X_minority),todoSamples_2 , 5)\n",
    "        syntetic_data.append(temp_out)\n",
    "        syntetic_data.append(temp_out_2)\n",
    "\n",
    "    #tutaj wymagane jest połączenie wyjścia syntetic_data razem z X i y\n",
    "    X_resampled = X\n",
    "    y_resampled  = y\n",
    "\n",
    "    for clusterOUT in syntetic_data:\n",
    "        X_resampled = np.block([[X_resampled], [clusterOUT]])\n",
    "        y_resampled = [*y_resampled,*np.ones(clusterOUT.shape[0])]# jedynki dla tego, że 1 to klasa mniejszościowa\n",
    "    return X_resampled, y_resampled\n",
    "\n",
    "def KMeans_SMOTE(X, y, num_clusters):\n",
    "    # Wybieramy indeksy klasy mniejszościowej i większościowej\n",
    "    minority_indices = np.where(y == 1)[0] # dla naszych datasetów klasa o labelu 1 zawsze jest mniejszościowa\n",
    "    majority_indices = np.where(y == 0)[0]\n",
    "\n",
    "    # Sortujemy Dane i Labele na minority i majority\n",
    "    X_minority = X[minority_indices]\n",
    "    y_minority = y[minority_indices]\n",
    "\n",
    "    X_majority = X[majority_indices]\n",
    "    y_majority = y[majority_indices]\n",
    "    \n",
    "    # Wykonujemy klasteryzację na klasie mniejszościowej\n",
    "    kmeans_labels_minority = KMeans(n_clusters=num_clusters, random_state=0, n_init=\"auto\").fit_predict(X_minority)\n",
    "\n",
    "    # Zwrócona wartość to indeksy odwołujące się jedynie do klasy mniejszościowej! trzeba o tym teraz pamiętać.\n",
    "    return oversample_clustered_data(X, y, X_minority, y_minority, X_majority, y_majority, kmeans_labels_minority)\n",
    "\n",
    "\n",
    "def MeanShift_SMOTE(X, y):\n",
    "    # TAK WIEM,TO POWINNA BYĆ FUNKCJA, BO WIĘKSZOŚĆ LINIJEK MEANSHIFT_SMOTE I KMEANS_SMOTE SIĘ POWTARZA ... może kiedyś tu upiększymy\n",
    "    # Wybieramy indeksy klasy mniejszościowej i większościowej\n",
    "    minority_indices = np.where(y == 1)[0] # dla naszych datasetów klasa o labelu 1 zawsze jest mniejszościowa\n",
    "    majority_indices = np.where(y == 0)[0]\n",
    "\n",
    "    # Sortujemy Dane i Labele na minority i majority\n",
    "    X_minority = X[minority_indices]\n",
    "    y_minority = y[minority_indices]\n",
    "\n",
    "    X_majority = X[majority_indices]\n",
    "    y_majority = y[majority_indices]\n",
    "    \n",
    "    # Wykonujemy klasteryzację na klasie mniejszościowej\n",
    "    mean_shift_labels_minority = MeanShift().fit_predict(X_minority)\n",
    "    return oversample_clustered_data(X, y, X_minority, y_minority, X_majority, y_majority, mean_shift_labels_minority)"
   ]
  },
  {
   "cell_type": "markdown",
   "id": "dd65ec1f",
   "metadata": {},
   "source": [
    "#### Sprawdzenie który ze zbiorów jest Większościowy"
   ]
  },
  {
   "cell_type": "code",
   "execution_count": 25,
   "id": "867e60a8",
   "metadata": {},
   "outputs": [
    {
     "name": "stdout",
     "output_type": "stream",
     "text": [
      "Processing files in directory: mild-imbalance\n",
      "File: mild-imbalance\\page-blocks0.dat\n",
      "---------STATS---------\n",
      "countOf0:  4913\n",
      "countOf1:  559\n",
      "----------OUT----------\n",
      "Więcej klasy 0\n",
      "File: mild-imbalance\\pima.dat\n",
      "---------STATS---------\n",
      "countOf0:  500\n",
      "countOf1:  268\n",
      "----------OUT----------\n",
      "Więcej klasy 0\n",
      "File: mild-imbalance\\segment0.dat\n",
      "---------STATS---------\n",
      "countOf0:  1979\n",
      "countOf1:  329\n",
      "----------OUT----------\n",
      "Więcej klasy 0\n",
      "File: mild-imbalance\\vehicle0.dat\n",
      "---------STATS---------\n",
      "countOf0:  647\n",
      "countOf1:  199\n",
      "----------OUT----------\n",
      "Więcej klasy 0\n",
      "File: mild-imbalance\\vehicle1.dat\n",
      "---------STATS---------\n",
      "countOf0:  629\n",
      "countOf1:  217\n",
      "----------OUT----------\n",
      "Więcej klasy 0\n",
      "File: mild-imbalance\\vehicle2.dat\n",
      "---------STATS---------\n",
      "countOf0:  628\n",
      "countOf1:  218\n",
      "----------OUT----------\n",
      "Więcej klasy 0\n",
      "File: mild-imbalance\\vehicle3.dat\n",
      "---------STATS---------\n",
      "countOf0:  634\n",
      "countOf1:  212\n",
      "----------OUT----------\n",
      "Więcej klasy 0\n",
      "File: mild-imbalance\\wisconsin.dat\n",
      "---------STATS---------\n",
      "countOf0:  444\n",
      "countOf1:  239\n",
      "----------OUT----------\n",
      "Więcej klasy 0\n",
      "File: mild-imbalance\\yeast1.dat\n",
      "---------STATS---------\n",
      "countOf0:  1055\n",
      "countOf1:  429\n",
      "----------OUT----------\n",
      "Więcej klasy 0\n",
      "File: mild-imbalance\\yeast3.dat\n",
      "---------STATS---------\n",
      "countOf0:  1321\n",
      "countOf1:  163\n",
      "----------OUT----------\n",
      "Więcej klasy 0\n",
      "Processing files in directory: high-imbalance\n",
      "File: high-imbalance\\abalone-17_vs_7-8-9-10.dat\n",
      "---------STATS---------\n",
      "countOf0:  2280\n",
      "countOf1:  58\n",
      "----------OUT----------\n",
      "Więcej klasy 0\n",
      "File: high-imbalance\\abalone19.dat\n",
      "---------STATS---------\n",
      "countOf0:  4142\n",
      "countOf1:  32\n",
      "----------OUT----------\n",
      "Więcej klasy 0\n",
      "File: high-imbalance\\kr-vs-k-three_vs_eleven.dat\n",
      "---------STATS---------\n",
      "countOf0:  2854\n",
      "countOf1:  81\n",
      "----------OUT----------\n",
      "Więcej klasy 0\n",
      "File: high-imbalance\\kr-vs-k-zero-one_vs_draw.dat\n",
      "---------STATS---------\n",
      "countOf0:  2796\n",
      "countOf1:  105\n",
      "----------OUT----------\n",
      "Więcej klasy 0\n",
      "File: high-imbalance\\shuttle-2_vs_5.dat\n",
      "---------STATS---------\n",
      "countOf0:  3267\n",
      "countOf1:  49\n",
      "----------OUT----------\n",
      "Więcej klasy 0\n",
      "File: high-imbalance\\shuttle-c0-vs-c4.dat\n",
      "---------STATS---------\n",
      "countOf0:  1706\n",
      "countOf1:  123\n",
      "----------OUT----------\n",
      "Więcej klasy 0\n",
      "File: high-imbalance\\yeast-0-2-5-6_vs_3-7-8-9.dat\n",
      "---------STATS---------\n",
      "countOf0:  905\n",
      "countOf1:  99\n",
      "----------OUT----------\n",
      "Więcej klasy 0\n",
      "File: high-imbalance\\yeast-0-2-5-7-9_vs_3-6-8.dat\n",
      "---------STATS---------\n",
      "countOf0:  905\n",
      "countOf1:  99\n",
      "----------OUT----------\n",
      "Więcej klasy 0\n",
      "File: high-imbalance\\yeast4.dat\n",
      "---------STATS---------\n",
      "countOf0:  1433\n",
      "countOf1:  51\n",
      "----------OUT----------\n",
      "Więcej klasy 0\n",
      "File: high-imbalance\\yeast5.dat\n",
      "---------STATS---------\n",
      "countOf0:  1440\n",
      "countOf1:  44\n",
      "----------OUT----------\n",
      "Więcej klasy 0\n",
      "[0, 0, 0, 0, 0, 0, 0, 0, 0, 0, 0, 0, 0, 0, 0, 0, 0, 0, 0, 0]\n",
      "0\n"
     ]
    }
   ],
   "source": [
    "# tymczasowy algorytm do analizy która z klas jest mniejszościowa\n",
    "def ReturnsMinorityLabel(file_path):\n",
    "    labels = []\n",
    "    with open(file_path, 'r') as f:\n",
    "        for line in f:\n",
    "            if line.startswith('@'):\n",
    "                continue\n",
    "            line_data = line.strip().split(',')\n",
    "            sample_class = line_data[-1].strip().lower().replace(\" \", \"\")\n",
    "            label = 1 if sample_class == 'positive' else 0\n",
    "            labels.append(label)\n",
    "    countOf0 = labels.count(0)\n",
    "    countOf1 = labels.count(1)\n",
    "    print(\"---------STATS---------\") \n",
    "    print('countOf0: ',countOf0)\n",
    "    print('countOf1: ',countOf1)\n",
    "    print(\"----------OUT----------\") \n",
    "    if countOf0 == countOf1:\n",
    "        print(\"!!!!!kurcze zbiorki są zbalansowane!!!!!!\")\n",
    "        return(-1)\n",
    "    if countOf0 > countOf1:\n",
    "        print(\"Więcej klasy 0\")\n",
    "        return(0)\n",
    "    if countOf0 < countOf1:\n",
    "        print(\"Więcej klasy 1\")\n",
    "        return(1)\n",
    "\n",
    "import os\n",
    "\n",
    "#sprawdzenie czy działa\n",
    "\n",
    "directories = ['mild-imbalance', 'high-imbalance']\n",
    "results_of_test = []\n",
    "for directory in directories:\n",
    "    print(f\"Processing files in directory: {directory}\")\n",
    "    files = os.listdir(directory)\n",
    "    \n",
    "    for file_name in files:\n",
    "        file_path = os.path.join(directory, file_name)\n",
    "        print(f\"File: {file_path}\")\n",
    "        results_of_test.append(ReturnsMinorityLabel(file_path))\n",
    "    \n",
    "print(results_of_test)\n",
    "print(results_of_test.count(1))"
   ]
  },
  {
   "cell_type": "markdown",
   "id": "0c3846ea",
   "metadata": {},
   "source": [
    "#### Experiment for single dataset"
   ]
  },
  {
   "cell_type": "code",
   "execution_count": 27,
   "id": "915d9556",
   "metadata": {},
   "outputs": [],
   "source": [
    "from imblearn.over_sampling import SMOTE, RandomOverSampler, BorderlineSMOTE\n",
    "from sklearn import svm\n",
    "from sklearn.model_selection import RepeatedStratifiedKFold\n",
    "from sklearn.metrics import precision_score, recall_score\n",
    "from imblearn.metrics import specificity_score\n",
    "\n",
    "def experiment(X, y):\n",
    "    preprocessings = {\n",
    "        \"KMeansSMOTE\": True,\n",
    "        \"MeansShiftSMOTE\": True,\n",
    "        \"SMOTE\": SMOTE(),\n",
    "        \"ROS\": RandomOverSampler(),\n",
    "        \"BorderlineSMOTE\": BorderlineSMOTE(),\n",
    "    }\n",
    "    classifier = RandomForestClassifier(random_state=42)\n",
    "    rskf = RepeatedStratifiedKFold(n_splits=5, n_repeats=2, random_state=1234)\n",
    "    result = {}\n",
    "    for key in preprocessings:\n",
    "        precision_scores = []\n",
    "        recall_scores = []\n",
    "        specifity_scores = []\n",
    "        for train_index, test_index in rskf.split(X,y):\n",
    "            X_train, X_test = X[train_index], X[test_index]\n",
    "            y_train, y_test = y[train_index], y[test_index]\n",
    "            if key == \"KMeansSMOTE\":\n",
    "                X_train_oversampled, y_train_oversampled = KMeans_SMOTE(X_train, y_train, 2)\n",
    "            elif key == \"MeansShiftSMOTE\":\n",
    "                X_train_oversampled, y_train_oversampled = MeanShift_SMOTE(X_train, y_train)\n",
    "            else:\n",
    "                X_train_oversampled, y_train_oversampled = preprocessings[key].fit_resample(X_train, y_train)\n",
    "            classifier.fit(X_train_oversampled, y_train_oversampled)\n",
    "            predict = classifier.predict(X_test)\n",
    "            precision_scores.append(precision_score(y_test, predict))\n",
    "            recall_scores.append(recall_score(y_test, predict))\n",
    "            specifity_scores.append(specificity_score(y_test, predict))\n",
    "        mean_precision_score = np.mean(precision_scores)\n",
    "        std_precision_score = np.std(precision_scores)\n",
    "        mean_recall_score = np.mean(recall_scores)\n",
    "        std_recall_score = np.std(recall_scores)\n",
    "        mean_specifity_score = np.mean(specifity_scores)\n",
    "        std_specifity_score = np.std(specifity_scores)\n",
    "#         print(f\"Precission score {key}: %.3f (%.3f)\" % (mean_precision_score, std_precision_score))\n",
    "#         print(f\"Specifity score {key}: %.3f (%.3f)\" % (mean_specifity_score, std_specifity_score))\n",
    "#         print(f\"Recall score {key}: %.3f (%.3f)\" % (mean_recall_score, std_recall_score))\n",
    "        result[key] = {\n",
    "            \"precission_scores\": precision_scores,\n",
    "            \"recall_scores\": recall_scores,\n",
    "            \"specifity_scores\": specifity_scores,\n",
    "            \"mean_precission_score\": mean_precision_score,\n",
    "            \"mean_recall_scores\": mean_recall_score,\n",
    "            \"mean_specifity_scores\": mean_specifity_score,\n",
    "        }\n",
    "    return result"
   ]
  },
  {
   "cell_type": "markdown",
   "id": "7268e808",
   "metadata": {},
   "source": [
    "#### Running experiments on the datasets"
   ]
  },
  {
   "cell_type": "code",
   "execution_count": 29,
   "id": "1fcd11a3",
   "metadata": {},
   "outputs": [
    {
     "name": "stdout",
     "output_type": "stream",
     "text": [
      "Processing files in directory: mild-imbalance\n",
      "File: mild-imbalance\\page-blocks0.dat\n",
      "File: mild-imbalance\\pima.dat\n",
      "File: mild-imbalance\\segment0.dat\n",
      "File: mild-imbalance\\vehicle0.dat\n",
      "File: mild-imbalance\\vehicle1.dat\n",
      "File: mild-imbalance\\vehicle2.dat\n",
      "File: mild-imbalance\\vehicle3.dat\n",
      "File: mild-imbalance\\wisconsin.dat\n",
      "File: mild-imbalance\\yeast1.dat\n",
      "File: mild-imbalance\\yeast3.dat\n",
      "Processing files in directory: high-imbalance\n",
      "File: high-imbalance\\abalone-17_vs_7-8-9-10.dat\n",
      "File: high-imbalance\\abalone19.dat\n"
     ]
    },
    {
     "name": "stderr",
     "output_type": "stream",
     "text": [
      "C:\\Users\\compl\\AppData\\Local\\Programs\\Python\\Python312\\Lib\\site-packages\\sklearn\\metrics\\_classification.py:1509: UndefinedMetricWarning:\n",
      "\n",
      "Precision is ill-defined and being set to 0.0 due to no predicted samples. Use `zero_division` parameter to control this behavior.\n",
      "\n",
      "C:\\Users\\compl\\AppData\\Local\\Programs\\Python\\Python312\\Lib\\site-packages\\sklearn\\metrics\\_classification.py:1509: UndefinedMetricWarning:\n",
      "\n",
      "Precision is ill-defined and being set to 0.0 due to no predicted samples. Use `zero_division` parameter to control this behavior.\n",
      "\n",
      "C:\\Users\\compl\\AppData\\Local\\Programs\\Python\\Python312\\Lib\\site-packages\\sklearn\\metrics\\_classification.py:1509: UndefinedMetricWarning:\n",
      "\n",
      "Precision is ill-defined and being set to 0.0 due to no predicted samples. Use `zero_division` parameter to control this behavior.\n",
      "\n",
      "C:\\Users\\compl\\AppData\\Local\\Programs\\Python\\Python312\\Lib\\site-packages\\sklearn\\metrics\\_classification.py:1509: UndefinedMetricWarning:\n",
      "\n",
      "Precision is ill-defined and being set to 0.0 due to no predicted samples. Use `zero_division` parameter to control this behavior.\n",
      "\n",
      "C:\\Users\\compl\\AppData\\Local\\Programs\\Python\\Python312\\Lib\\site-packages\\sklearn\\metrics\\_classification.py:1509: UndefinedMetricWarning:\n",
      "\n",
      "Precision is ill-defined and being set to 0.0 due to no predicted samples. Use `zero_division` parameter to control this behavior.\n",
      "\n",
      "C:\\Users\\compl\\AppData\\Local\\Programs\\Python\\Python312\\Lib\\site-packages\\sklearn\\metrics\\_classification.py:1509: UndefinedMetricWarning:\n",
      "\n",
      "Precision is ill-defined and being set to 0.0 due to no predicted samples. Use `zero_division` parameter to control this behavior.\n",
      "\n"
     ]
    },
    {
     "name": "stdout",
     "output_type": "stream",
     "text": [
      "File: high-imbalance\\kr-vs-k-three_vs_eleven.dat\n",
      "File: high-imbalance\\kr-vs-k-zero-one_vs_draw.dat\n",
      "File: high-imbalance\\shuttle-2_vs_5.dat\n",
      "File: high-imbalance\\shuttle-c0-vs-c4.dat\n",
      "File: high-imbalance\\yeast-0-2-5-6_vs_3-7-8-9.dat\n",
      "File: high-imbalance\\yeast-0-2-5-7-9_vs_3-6-8.dat\n",
      "File: high-imbalance\\yeast4.dat\n",
      "File: high-imbalance\\yeast5.dat\n"
     ]
    }
   ],
   "source": [
    "import os\n",
    "\n",
    "directories = ['mild-imbalance', 'high-imbalance']\n",
    "results = {}\n",
    "for directory in directories:\n",
    "    print(f\"Processing files in directory: {directory}\")\n",
    "    files = os.listdir(directory)\n",
    "    results = {}\n",
    "    for file_name in files:\n",
    "        file_path = os.path.join(directory, file_name)\n",
    "        print(f\"File: {file_path}\")\n",
    "        X, y = load_dataset(file_path)\n",
    "        experiment_result = experiment(X, y)\n",
    "        results[file_name] = experiment_result\n",
    "# print(results)"
   ]
  },
  {
   "cell_type": "markdown",
   "id": "bcade8a9",
   "metadata": {},
   "source": [
    "#### Uproszczony eksperyment na pojedynczych danych banchmarkowych"
   ]
  },
  {
   "cell_type": "code",
   "execution_count": 14,
   "id": "2c3d05b4",
   "metadata": {},
   "outputs": [
    {
     "ename": "TypeError",
     "evalue": "only integer scalar arrays can be converted to a scalar index",
     "output_type": "error",
     "traceback": [
      "\u001b[1;31m---------------------------------------------------------------------------\u001b[0m",
      "\u001b[1;31mTypeError\u001b[0m                                 Traceback (most recent call last)",
      "Cell \u001b[1;32mIn[14], line 10\u001b[0m\n\u001b[0;32m      8\u001b[0m     \u001b[38;5;28;01mreturn\u001b[39;00m [\u001b[38;5;241m0\u001b[39m \u001b[38;5;28;01mif\u001b[39;00m x \u001b[38;5;241m==\u001b[39m \u001b[38;5;241m-\u001b[39m\u001b[38;5;241m1\u001b[39m \u001b[38;5;28;01melse\u001b[39;00m x \u001b[38;5;28;01mfor\u001b[39;00m x \u001b[38;5;129;01min\u001b[39;00m arr]\n\u001b[0;32m      9\u001b[0m y \u001b[38;5;241m=\u001b[39m replace_negatives_with_zeros(y)\n\u001b[1;32m---> 10\u001b[0m experiment_result \u001b[38;5;241m=\u001b[39m \u001b[43mexperiment\u001b[49m\u001b[43m(\u001b[49m\u001b[43mX\u001b[49m\u001b[43m,\u001b[49m\u001b[43m \u001b[49m\u001b[43my\u001b[49m\u001b[43m)\u001b[49m\n\u001b[0;32m     11\u001b[0m results[file_name] \u001b[38;5;241m=\u001b[39m experiment_result\n",
      "Cell \u001b[1;32mIn[11], line 24\u001b[0m, in \u001b[0;36mexperiment\u001b[1;34m(X, y)\u001b[0m\n\u001b[0;32m     22\u001b[0m \u001b[38;5;28;01mfor\u001b[39;00m train_index, test_index \u001b[38;5;129;01min\u001b[39;00m rskf\u001b[38;5;241m.\u001b[39msplit(X,y):\n\u001b[0;32m     23\u001b[0m     X_train, X_test \u001b[38;5;241m=\u001b[39m X[train_index], X[test_index]\n\u001b[1;32m---> 24\u001b[0m     y_train, y_test \u001b[38;5;241m=\u001b[39m \u001b[43my\u001b[49m\u001b[43m[\u001b[49m\u001b[43mtrain_index\u001b[49m\u001b[43m]\u001b[49m, y[test_index]\n\u001b[0;32m     25\u001b[0m     \u001b[38;5;28;01mif\u001b[39;00m key \u001b[38;5;241m==\u001b[39m \u001b[38;5;124m\"\u001b[39m\u001b[38;5;124mKMeansSMOTE\u001b[39m\u001b[38;5;124m\"\u001b[39m:\n\u001b[0;32m     26\u001b[0m         X_train_oversampled, y_train_oversampled \u001b[38;5;241m=\u001b[39m KMeans_SMOTE(X_train, y_train, \u001b[38;5;241m2\u001b[39m)\n",
      "\u001b[1;31mTypeError\u001b[0m: only integer scalar arrays can be converted to a scalar index"
     ]
    }
   ],
   "source": [
    "\n",
    "from imblearn.datasets import fetch_datasets\n",
    "\n",
    "satimage = fetch_datasets()[\"satimage\"]\n",
    "X, y = satimage.data, satimage.target\n",
    "\n",
    "def replace_negatives_with_zeros(arr):\n",
    "    return [0 if x == -1 else x for x in arr]\n",
    "y = replace_negatives_with_zeros(y)\n",
    "experiment_result = experiment(X, y)\n",
    "results[file_name] = experiment_result"
   ]
  },
  {
   "cell_type": "code",
   "execution_count": 31,
   "id": "892aedb6",
   "metadata": {},
   "outputs": [
    {
     "name": "stdout",
     "output_type": "stream",
     "text": [
      "{'abalone-17_vs_7-8-9-10.dat': {'KMeansSMOTE': {'precission_scores': [0.16666666666666666, 0.25, 0.17777777777777778, 0.2, 0.23809523809523808, 0.17857142857142858, 0.20588235294117646, 0.16666666666666666, 0.14634146341463414, 0.18181818181818182], 'recall_scores': [0.5, 0.6666666666666666, 0.6666666666666666, 0.6363636363636364, 0.45454545454545453, 0.4166666666666667, 0.5833333333333334, 0.5, 0.5454545454545454, 0.5454545454545454], 'specifity_scores': [0.9342105263157895, 0.9473684210526315, 0.918859649122807, 0.9385964912280702, 0.9649122807017544, 0.9495614035087719, 0.9407894736842105, 0.9342105263157895, 0.9232456140350878, 0.9407894736842105], 'mean_precission_score': 0.19118197759517702, 'mean_recall_scores': 0.5515151515151514, 'mean_specifity_scores': 0.9392543859649123}, 'MeansShiftSMOTE': {'precission_scores': [0.16216216216216217, 0.2, 0.14, 0.17073170731707318, 0.1724137931034483, 0.1935483870967742, 0.21875, 0.15384615384615385, 0.13043478260869565, 0.17647058823529413], 'recall_scores': [0.5, 0.5833333333333334, 0.5833333333333334, 0.6363636363636364, 0.45454545454545453, 0.5, 0.5833333333333334, 0.5, 0.5454545454545454, 0.5454545454545454], 'specifity_scores': [0.9320175438596491, 0.9385964912280702, 0.9057017543859649, 0.9254385964912281, 0.9473684210526315, 0.9451754385964912, 0.9451754385964912, 0.9276315789473685, 0.9122807017543859, 0.9385964912280702], 'mean_precission_score': 0.17183575743696017, 'mean_recall_scores': 0.5431818181818182, 'mean_specifity_scores': 0.9317982456140351}, 'SMOTE': {'precission_scores': [0.30434782608695654, 0.25, 0.2692307692307692, 0.2608695652173913, 0.4, 0.3333333333333333, 0.2727272727272727, 0.29411764705882354, 0.35294117647058826, 0.17647058823529413], 'recall_scores': [0.5833333333333334, 0.4166666666666667, 0.5833333333333334, 0.5454545454545454, 0.36363636363636365, 0.3333333333333333, 0.5, 0.4166666666666667, 0.5454545454545454, 0.2727272727272727], 'specifity_scores': [0.9649122807017544, 0.9671052631578947, 0.9583333333333334, 0.9627192982456141, 0.9868421052631579, 0.9824561403508771, 0.9649122807017544, 0.9736842105263158, 0.9758771929824561, 0.9692982456140351], 'mean_precission_score': 0.2914038178360429, 'mean_recall_scores': 0.45606060606060606, 'mean_specifity_scores': 0.9706140350877192}, 'ROS': {'precission_scores': [0.6, 0.5, 0.4, 0.3333333333333333, 0.5, 0.0, 0.5, 0.4, 0.42857142857142855, 0.2], 'recall_scores': [0.25, 0.25, 0.16666666666666666, 0.18181818181818182, 0.09090909090909091, 0.0, 0.08333333333333333, 0.16666666666666666, 0.2727272727272727, 0.09090909090909091], 'specifity_scores': [0.9956140350877193, 0.993421052631579, 0.993421052631579, 0.9912280701754386, 0.9978070175438597, 0.9978070175438597, 0.9978070175438597, 0.993421052631579, 0.9912280701754386, 0.9912280701754386], 'mean_precission_score': 0.3861904761904762, 'mean_recall_scores': 0.1553030303030303, 'mean_specifity_scores': 0.9942982456140351}, 'BorderlineSMOTE': {'precission_scores': [0.2857142857142857, 0.38461538461538464, 0.29411764705882354, 0.3157894736842105, 0.42857142857142855, 0.375, 0.38461538461538464, 0.3125, 0.18181818181818182, 0.23529411764705882], 'recall_scores': [0.5, 0.4166666666666667, 0.4166666666666667, 0.5454545454545454, 0.2727272727272727, 0.25, 0.4166666666666667, 0.4166666666666667, 0.36363636363636365, 0.36363636363636365], 'specifity_scores': [0.9671052631578947, 0.9824561403508771, 0.9736842105263158, 0.9714912280701754, 0.9912280701754386, 0.9890350877192983, 0.9824561403508771, 0.9758771929824561, 0.9605263157894737, 0.9714912280701754], 'mean_precission_score': 0.3198035903724758, 'mean_recall_scores': 0.39621212121212124, 'mean_specifity_scores': 0.9765350877192981}}, 'abalone19.dat': {'KMeansSMOTE': {'precission_scores': [0.03389830508474576, 0.05, 0.023255813953488372, 0.03636363636363636, 0.0196078431372549, 0.0, 0.0, 0.07936507936507936, 0.05172413793103448, 0.013888888888888888], 'recall_scores': [0.3333333333333333, 0.5, 0.14285714285714285, 0.2857142857142857, 0.16666666666666666, 0.0, 0.0, 0.7142857142857143, 0.42857142857142855, 0.16666666666666666], 'specifity_scores': [0.9312424607961399, 0.9312424607961399, 0.9492753623188406, 0.9359903381642513, 0.9396135265700483, 0.9288299155609168, 0.9493365500603136, 0.9299516908212561, 0.9335748792270532, 0.9142512077294686], 'mean_precission_score': 0.030810370472412814, 'mean_recall_scores': 0.2738095238095238, 'mean_specifity_scores': 0.9343308392044429}, 'MeansShiftSMOTE': {'precission_scores': [0.028985507246376812, 0.04285714285714286, 0.01818181818181818, 0.043478260869565216, 0.028985507246376812, 0.01694915254237288, 0.0, 0.06060606060606061, 0.058823529411764705, 0.01282051282051282], 'recall_scores': [0.3333333333333333, 0.5, 0.14285714285714285, 0.42857142857142855, 0.3333333333333333, 0.16666666666666666, 0.0, 0.5714285714285714, 0.5714285714285714, 0.16666666666666666], 'specifity_scores': [0.9191797346200241, 0.9191797346200241, 0.9347826086956522, 0.9202898550724637, 0.9190821256038647, 0.9300361881785284, 0.9384800965018094, 0.9251207729468599, 0.9227053140096618, 0.9070048309178744], 'mean_precission_score': 0.03116874917819909, 'mean_recall_scores': 0.3214285714285714, 'mean_specifity_scores': 0.9235861261166762}, 'SMOTE': {'precission_scores': [0.0625, 0.17647058823529413, 0.058823529411764705, 0.0, 0.0, 0.0, 0.0, 0.10526315789473684, 0.13333333333333333, 0.0], 'recall_scores': [0.16666666666666666, 0.5, 0.14285714285714285, 0.0, 0.0, 0.0, 0.0, 0.2857142857142857, 0.2857142857142857, 0.0], 'specifity_scores': [0.9819059107358263, 0.9831121833534379, 0.9806763285024155, 0.9867149758454107, 0.9855072463768116, 0.9794933655006032, 0.971049457177322, 0.9794685990338164, 0.9842995169082126, 0.9770531400966184], 'mean_precission_score': 0.0536390608875129, 'mean_recall_scores': 0.1380952380952381, 'mean_specifity_scores': 0.9809280723530474}, 'ROS': {'precission_scores': [0.0, 0.0, 0.5, 0.0, 0.0, 0.0, 0.0, 0.0, 1.0, 0.0], 'recall_scores': [0.0, 0.0, 0.14285714285714285, 0.0, 0.0, 0.0, 0.0, 0.0, 0.14285714285714285, 0.0], 'specifity_scores': [1.0, 1.0, 0.998792270531401, 0.998792270531401, 1.0, 1.0, 1.0, 1.0, 1.0, 0.998792270531401], 'mean_precission_score': 0.15, 'mean_recall_scores': 0.02857142857142857, 'mean_specifity_scores': 0.9996376811594203}, 'BorderlineSMOTE': {'precission_scores': [0.0, 0.08333333333333333, 0.125, 0.0, 0.0, 0.0, 0.0, 0.0, 0.3333333333333333, 0.0], 'recall_scores': [0.0, 0.16666666666666666, 0.14285714285714285, 0.0, 0.0, 0.0, 0.0, 0.0, 0.14285714285714285, 0.0], 'specifity_scores': [0.9939686369119421, 0.9867310012062727, 0.9915458937198067, 0.9975845410628019, 0.9975845410628019, 0.9987937273823885, 0.9903498190591074, 0.9951690821256038, 0.9975845410628019, 0.9975845410628019], 'mean_precission_score': 0.05416666666666666, 'mean_recall_scores': 0.04523809523809524, 'mean_specifity_scores': 0.9946896324656327}}, 'kr-vs-k-three_vs_eleven.dat': {'KMeansSMOTE': {'precission_scores': [1.0, 1.0, 1.0, 1.0, 1.0, 1.0, 1.0, 1.0, 1.0, 1.0], 'recall_scores': [1.0, 1.0, 1.0, 1.0, 1.0, 1.0, 1.0, 1.0, 1.0, 0.8823529411764706], 'specifity_scores': [1.0, 1.0, 1.0, 1.0, 1.0, 1.0, 1.0, 1.0, 1.0, 1.0], 'mean_precission_score': 1.0, 'mean_recall_scores': 0.9882352941176471, 'mean_specifity_scores': 1.0}, 'MeansShiftSMOTE': {'precission_scores': [1.0, 1.0, 1.0, 1.0, 1.0, 1.0, 1.0, 1.0, 1.0, 1.0], 'recall_scores': [1.0, 1.0, 1.0, 1.0, 1.0, 1.0, 1.0, 1.0, 1.0, 1.0], 'specifity_scores': [1.0, 1.0, 1.0, 1.0, 1.0, 1.0, 1.0, 1.0, 1.0, 1.0], 'mean_precission_score': 1.0, 'mean_recall_scores': 1.0, 'mean_specifity_scores': 1.0}, 'SMOTE': {'precission_scores': [1.0, 1.0, 1.0, 1.0, 1.0, 1.0, 1.0, 1.0, 1.0, 1.0], 'recall_scores': [1.0, 1.0, 1.0, 1.0, 1.0, 1.0, 1.0, 1.0, 1.0, 0.8823529411764706], 'specifity_scores': [1.0, 1.0, 1.0, 1.0, 1.0, 1.0, 1.0, 1.0, 1.0, 1.0], 'mean_precission_score': 1.0, 'mean_recall_scores': 0.9882352941176471, 'mean_specifity_scores': 1.0}, 'ROS': {'precission_scores': [1.0, 1.0, 1.0, 1.0, 1.0, 1.0, 1.0, 1.0, 1.0, 1.0], 'recall_scores': [1.0, 1.0, 1.0, 1.0, 1.0, 1.0, 1.0, 1.0, 1.0, 0.8823529411764706], 'specifity_scores': [1.0, 1.0, 1.0, 1.0, 1.0, 1.0, 1.0, 1.0, 1.0, 1.0], 'mean_precission_score': 1.0, 'mean_recall_scores': 0.9882352941176471, 'mean_specifity_scores': 1.0}, 'BorderlineSMOTE': {'precission_scores': [1.0, 1.0, 1.0, 1.0, 1.0, 1.0, 1.0, 1.0, 1.0, 1.0], 'recall_scores': [1.0, 1.0, 1.0, 1.0, 1.0, 1.0, 1.0, 1.0, 1.0, 0.8823529411764706], 'specifity_scores': [1.0, 1.0, 1.0, 1.0, 1.0, 1.0, 1.0, 1.0, 1.0, 1.0], 'mean_precission_score': 1.0, 'mean_recall_scores': 0.9882352941176471, 'mean_specifity_scores': 1.0}}, 'kr-vs-k-zero-one_vs_draw.dat': {'KMeansSMOTE': {'precission_scores': [1.0, 0.95, 0.9090909090909091, 0.9545454545454546, 0.9090909090909091, 0.9523809523809523, 0.8571428571428571, 1.0, 1.0, 1.0], 'recall_scores': [0.9523809523809523, 0.9047619047619048, 0.9523809523809523, 1.0, 0.9523809523809523, 0.9523809523809523, 0.8571428571428571, 0.9523809523809523, 0.9523809523809523, 0.9047619047619048], 'specifity_scores': [1.0, 0.998211091234347, 0.9964221824686941, 0.998211091234347, 0.9964221824686941, 0.9982142857142857, 0.9946332737030411, 1.0, 1.0, 1.0], 'mean_precission_score': 0.9532251082251083, 'mean_recall_scores': 0.9380952380952381, 'mean_specifity_scores': 0.998211410682341}, 'MeansShiftSMOTE': {'precission_scores': [1.0, 0.9473684210526315, 0.9090909090909091, 0.9545454545454546, 0.9523809523809523, 0.9523809523809523, 0.8571428571428571, 1.0, 1.0, 1.0], 'recall_scores': [0.9523809523809523, 0.8571428571428571, 0.9523809523809523, 1.0, 0.9523809523809523, 0.9523809523809523, 0.8571428571428571, 0.9523809523809523, 0.9523809523809523, 0.9047619047619048], 'specifity_scores': [1.0, 0.998211091234347, 0.9964221824686941, 0.998211091234347, 0.998211091234347, 0.9982142857142857, 0.9946332737030411, 1.0, 1.0, 1.0], 'mean_precission_score': 0.9572909546593756, 'mean_recall_scores': 0.9333333333333333, 'mean_specifity_scores': 0.9983903015589062}, 'SMOTE': {'precission_scores': [0.9523809523809523, 0.9473684210526315, 0.9090909090909091, 0.9545454545454546, 1.0, 0.9523809523809523, 0.8571428571428571, 1.0, 1.0, 1.0], 'recall_scores': [0.9523809523809523, 0.8571428571428571, 0.9523809523809523, 1.0, 0.9523809523809523, 0.9523809523809523, 0.8571428571428571, 0.9523809523809523, 0.9523809523809523, 0.8571428571428571], 'specifity_scores': [0.9982142857142857, 0.998211091234347, 0.9964221824686941, 0.998211091234347, 1.0, 0.9982142857142857, 0.9946332737030411, 1.0, 1.0, 1.0], 'mean_precission_score': 0.9572909546593756, 'mean_recall_scores': 0.9285714285714286, 'mean_specifity_scores': 0.9983906210069001}, 'ROS': {'precission_scores': [0.9545454545454546, 0.95, 0.9523809523809523, 0.9545454545454546, 1.0, 0.9545454545454546, 0.8571428571428571, 1.0, 1.0, 1.0], 'recall_scores': [1.0, 0.9047619047619048, 0.9523809523809523, 1.0, 0.9523809523809523, 1.0, 0.8571428571428571, 0.9523809523809523, 0.9523809523809523, 0.8571428571428571], 'specifity_scores': [0.9982142857142857, 0.998211091234347, 0.998211091234347, 0.998211091234347, 1.0, 0.9982142857142857, 0.9946332737030411, 1.0, 1.0, 1.0], 'mean_precission_score': 0.9623160173160172, 'mean_recall_scores': 0.9428571428571428, 'mean_specifity_scores': 0.9985695118834654}, 'BorderlineSMOTE': {'precission_scores': [1.0, 0.9411764705882353, 0.9090909090909091, 0.9545454545454546, 0.9090909090909091, 0.9523809523809523, 0.8636363636363636, 1.0, 1.0, 1.0], 'recall_scores': [0.9047619047619048, 0.7619047619047619, 0.9523809523809523, 1.0, 0.9523809523809523, 0.9523809523809523, 0.9047619047619048, 0.9523809523809523, 0.9523809523809523, 0.8571428571428571], 'specifity_scores': [1.0, 0.998211091234347, 0.9964221824686941, 0.998211091234347, 0.9964221824686941, 0.9982142857142857, 0.9946332737030411, 1.0, 1.0, 1.0], 'mean_precission_score': 0.9529921059332824, 'mean_recall_scores': 0.919047619047619, 'mean_specifity_scores': 0.998211410682341}}, 'shuttle-2_vs_5.dat': {'KMeansSMOTE': {'precission_scores': [1.0, 1.0, 1.0, 1.0, 1.0, 1.0, 1.0, 1.0, 1.0, 1.0], 'recall_scores': [1.0, 1.0, 1.0, 1.0, 1.0, 1.0, 1.0, 1.0, 1.0, 1.0], 'specifity_scores': [1.0, 1.0, 1.0, 1.0, 1.0, 1.0, 1.0, 1.0, 1.0, 1.0], 'mean_precission_score': 1.0, 'mean_recall_scores': 1.0, 'mean_specifity_scores': 1.0}, 'MeansShiftSMOTE': {'precission_scores': [1.0, 1.0, 1.0, 1.0, 1.0, 1.0, 1.0, 1.0, 1.0, 1.0], 'recall_scores': [1.0, 1.0, 1.0, 1.0, 1.0, 1.0, 1.0, 1.0, 1.0, 1.0], 'specifity_scores': [1.0, 1.0, 1.0, 1.0, 1.0, 1.0, 1.0, 1.0, 1.0, 1.0], 'mean_precission_score': 1.0, 'mean_recall_scores': 1.0, 'mean_specifity_scores': 1.0}, 'SMOTE': {'precission_scores': [1.0, 1.0, 1.0, 1.0, 1.0, 1.0, 1.0, 1.0, 1.0, 1.0], 'recall_scores': [1.0, 1.0, 1.0, 1.0, 1.0, 1.0, 1.0, 1.0, 1.0, 1.0], 'specifity_scores': [1.0, 1.0, 1.0, 1.0, 1.0, 1.0, 1.0, 1.0, 1.0, 1.0], 'mean_precission_score': 1.0, 'mean_recall_scores': 1.0, 'mean_specifity_scores': 1.0}, 'ROS': {'precission_scores': [1.0, 1.0, 1.0, 1.0, 1.0, 1.0, 1.0, 1.0, 1.0, 1.0], 'recall_scores': [1.0, 1.0, 1.0, 1.0, 1.0, 1.0, 1.0, 1.0, 1.0, 1.0], 'specifity_scores': [1.0, 1.0, 1.0, 1.0, 1.0, 1.0, 1.0, 1.0, 1.0, 1.0], 'mean_precission_score': 1.0, 'mean_recall_scores': 1.0, 'mean_specifity_scores': 1.0}, 'BorderlineSMOTE': {'precission_scores': [1.0, 1.0, 1.0, 1.0, 1.0, 1.0, 1.0, 1.0, 1.0, 1.0], 'recall_scores': [1.0, 1.0, 1.0, 1.0, 1.0, 1.0, 1.0, 1.0, 1.0, 1.0], 'specifity_scores': [1.0, 1.0, 1.0, 1.0, 1.0, 1.0, 1.0, 1.0, 1.0, 1.0], 'mean_precission_score': 1.0, 'mean_recall_scores': 1.0, 'mean_specifity_scores': 1.0}}, 'shuttle-c0-vs-c4.dat': {'KMeansSMOTE': {'precission_scores': [1.0, 1.0, 1.0, 1.0, 1.0, 1.0, 1.0, 1.0, 1.0, 1.0], 'recall_scores': [1.0, 1.0, 1.0, 1.0, 1.0, 1.0, 1.0, 1.0, 1.0, 1.0], 'specifity_scores': [1.0, 1.0, 1.0, 1.0, 1.0, 1.0, 1.0, 1.0, 1.0, 1.0], 'mean_precission_score': 1.0, 'mean_recall_scores': 1.0, 'mean_specifity_scores': 1.0}, 'MeansShiftSMOTE': {'precission_scores': [1.0, 1.0, 1.0, 1.0, 1.0, 1.0, 1.0, 1.0, 1.0, 1.0], 'recall_scores': [1.0, 1.0, 1.0, 1.0, 1.0, 1.0, 1.0, 1.0, 1.0, 1.0], 'specifity_scores': [1.0, 1.0, 1.0, 1.0, 1.0, 1.0, 1.0, 1.0, 1.0, 1.0], 'mean_precission_score': 1.0, 'mean_recall_scores': 1.0, 'mean_specifity_scores': 1.0}, 'SMOTE': {'precission_scores': [1.0, 1.0, 1.0, 1.0, 1.0, 1.0, 1.0, 1.0, 1.0, 1.0], 'recall_scores': [1.0, 1.0, 1.0, 1.0, 1.0, 1.0, 1.0, 1.0, 1.0, 1.0], 'specifity_scores': [1.0, 1.0, 1.0, 1.0, 1.0, 1.0, 1.0, 1.0, 1.0, 1.0], 'mean_precission_score': 1.0, 'mean_recall_scores': 1.0, 'mean_specifity_scores': 1.0}, 'ROS': {'precission_scores': [1.0, 1.0, 1.0, 1.0, 1.0, 1.0, 1.0, 1.0, 1.0, 1.0], 'recall_scores': [1.0, 1.0, 1.0, 1.0, 1.0, 1.0, 1.0, 1.0, 1.0, 1.0], 'specifity_scores': [1.0, 1.0, 1.0, 1.0, 1.0, 1.0, 1.0, 1.0, 1.0, 1.0], 'mean_precission_score': 1.0, 'mean_recall_scores': 1.0, 'mean_specifity_scores': 1.0}, 'BorderlineSMOTE': {'precission_scores': [1.0, 1.0, 1.0, 1.0, 1.0, 1.0, 1.0, 1.0, 1.0, 1.0], 'recall_scores': [1.0, 1.0, 1.0, 1.0, 1.0, 1.0, 1.0, 1.0, 1.0, 1.0], 'specifity_scores': [1.0, 1.0, 1.0, 1.0, 1.0, 1.0, 1.0, 1.0, 1.0, 1.0], 'mean_precission_score': 1.0, 'mean_recall_scores': 1.0, 'mean_specifity_scores': 1.0}}, 'yeast-0-2-5-6_vs_3-7-8-9.dat': {'KMeansSMOTE': {'precission_scores': [0.4482758620689655, 0.6363636363636364, 0.5, 0.5416666666666666, 0.4583333333333333, 0.6875, 0.38235294117647056, 0.5555555555555556, 0.6190476190476191, 0.4782608695652174], 'recall_scores': [0.65, 0.7, 0.55, 0.65, 0.5789473684210527, 0.55, 0.65, 0.75, 0.65, 0.5789473684210527], 'specifity_scores': [0.9116022099447514, 0.9558011049723757, 0.9392265193370166, 0.9392265193370166, 0.9281767955801105, 0.9723756906077348, 0.8839779005524862, 0.9337016574585635, 0.9558011049723757, 0.9337016574585635], 'mean_precission_score': 0.5307356483777463, 'mean_recall_scores': 0.6307894736842107, 'mean_specifity_scores': 0.9353591160220993}, 'MeansShiftSMOTE': {'precission_scores': [0.4482758620689655, 0.43333333333333335, 0.3870967741935484, 0.42424242424242425, 0.39285714285714285, 0.6111111111111112, 0.4444444444444444, 0.5, 0.45161290322580644, 0.38461538461538464], 'recall_scores': [0.65, 0.65, 0.6, 0.7, 0.5789473684210527, 0.55, 0.6, 0.85, 0.7, 0.5263157894736842], 'specifity_scores': [0.9116022099447514, 0.9060773480662984, 0.8950276243093923, 0.8950276243093923, 0.9060773480662984, 0.9613259668508287, 0.9171270718232044, 0.9060773480662984, 0.9060773480662984, 0.9116022099447514], 'mean_precission_score': 0.4477589380092161, 'mean_recall_scores': 0.6405263157894737, 'mean_specifity_scores': 0.9116022099447514}, 'SMOTE': {'precission_scores': [0.5714285714285714, 0.8, 0.6, 0.6086956521739131, 0.6111111111111112, 0.6666666666666666, 0.7777777777777778, 0.6666666666666666, 0.7058823529411765, 0.5263157894736842], 'recall_scores': [0.6, 0.6, 0.45, 0.7, 0.5789473684210527, 0.4, 0.7, 0.7, 0.6, 0.5263157894736842], 'specifity_scores': [0.9502762430939227, 0.9834254143646409, 0.9668508287292817, 0.9502762430939227, 0.9613259668508287, 0.9779005524861878, 0.9779005524861878, 0.9613259668508287, 0.9723756906077348, 0.9502762430939227], 'mean_precission_score': 0.6534544588239568, 'mean_recall_scores': 0.5855263157894736, 'mean_specifity_scores': 0.9651933701657459}, 'ROS': {'precission_scores': [0.75, 0.9, 0.6666666666666666, 0.7222222222222222, 0.6923076923076923, 0.7, 0.7692307692307693, 0.7647058823529411, 0.75, 0.5882352941176471], 'recall_scores': [0.6, 0.45, 0.4, 0.65, 0.47368421052631576, 0.35, 0.5, 0.65, 0.6, 0.5263157894736842], 'specifity_scores': [0.9779005524861878, 0.994475138121547, 0.9779005524861878, 0.9723756906077348, 0.9779005524861878, 0.9834254143646409, 0.9834254143646409, 0.9779005524861878, 0.9779005524861878, 0.9613259668508287], 'mean_precission_score': 0.7303368526897938, 'mean_recall_scores': 0.5199999999999999, 'mean_specifity_scores': 0.9784530386740332}, 'BorderlineSMOTE': {'precission_scores': [0.5217391304347826, 0.7142857142857143, 0.6428571428571429, 0.5789473684210527, 0.625, 0.6363636363636364, 0.55, 0.6363636363636364, 0.631578947368421, 0.5882352941176471], 'recall_scores': [0.6, 0.5, 0.45, 0.55, 0.5263157894736842, 0.35, 0.55, 0.7, 0.6, 0.5263157894736842], 'specifity_scores': [0.9392265193370166, 0.9779005524861878, 0.9723756906077348, 0.9558011049723757, 0.9668508287292817, 0.9779005524861878, 0.9502762430939227, 0.9558011049723757, 0.9613259668508287, 0.9613259668508287], 'mean_precission_score': 0.6125370870212032, 'mean_recall_scores': 0.5352631578947368, 'mean_specifity_scores': 0.961878453038674}}, 'yeast-0-2-5-7-9_vs_3-6-8.dat': {'KMeansSMOTE': {'precission_scores': [0.6666666666666666, 0.75, 0.75, 0.72, 0.7894736842105263, 0.6818181818181818, 0.9047619047619048, 0.75, 0.7272727272727273, 0.6666666666666666], 'recall_scores': [0.8, 0.75, 0.9, 0.9, 0.7894736842105263, 0.75, 0.95, 0.75, 0.8, 0.9473684210526315], 'specifity_scores': [0.9558011049723757, 0.9723756906077348, 0.9668508287292817, 0.9613259668508287, 0.9779005524861878, 0.9613259668508287, 0.988950276243094, 0.9723756906077348, 0.9668508287292817, 0.9502762430939227], 'mean_precission_score': 0.7406659831396674, 'mean_recall_scores': 0.8336842105263157, 'mean_specifity_scores': 0.967403314917127}, 'MeansShiftSMOTE': {'precission_scores': [0.6666666666666666, 0.7391304347826086, 0.76, 0.72, 0.6956521739130435, 0.6956521739130435, 0.8636363636363636, 0.7, 0.6956521739130435, 0.6428571428571429], 'recall_scores': [0.8, 0.85, 0.95, 0.9, 0.8421052631578947, 0.8, 0.95, 0.7, 0.8, 0.9473684210526315], 'specifity_scores': [0.9558011049723757, 0.9668508287292817, 0.9668508287292817, 0.9613259668508287, 0.9613259668508287, 0.9613259668508287, 0.9834254143646409, 0.9668508287292817, 0.9613259668508287, 0.9447513812154696], 'mean_precission_score': 0.7179247129681913, 'mean_recall_scores': 0.8539473684210526, 'mean_specifity_scores': 0.9629834254143648}, 'SMOTE': {'precission_scores': [0.7619047619047619, 0.8421052631578947, 0.8571428571428571, 0.75, 0.9230769230769231, 0.7272727272727273, 1.0, 0.7894736842105263, 0.8333333333333334, 0.7727272727272727], 'recall_scores': [0.8, 0.8, 0.9, 0.9, 0.631578947368421, 0.8, 0.85, 0.75, 0.75, 0.8947368421052632], 'specifity_scores': [0.9723756906077348, 0.9834254143646409, 0.9834254143646409, 0.9668508287292817, 0.994475138121547, 0.9668508287292817, 1.0, 0.9779005524861878, 0.9834254143646409, 0.9723756906077348], 'mean_precission_score': 0.8257036822826296, 'mean_recall_scores': 0.8076315789473686, 'mean_specifity_scores': 0.9801104972375689}, 'ROS': {'precission_scores': [0.8421052631578947, 0.8823529411764706, 0.8421052631578947, 0.782608695652174, 0.9, 0.7777777777777778, 1.0, 0.8823529411764706, 0.8823529411764706, 0.8], 'recall_scores': [0.8, 0.75, 0.8, 0.9, 0.47368421052631576, 0.7, 0.8, 0.75, 0.75, 0.8421052631578947], 'specifity_scores': [0.9834254143646409, 0.988950276243094, 0.9834254143646409, 0.9723756906077348, 0.994475138121547, 0.9779005524861878, 1.0, 0.988950276243094, 0.988950276243094, 0.9779005524861878], 'mean_precission_score': 0.8591655823275154, 'mean_recall_scores': 0.756578947368421, 'mean_specifity_scores': 0.9856353591160222}, 'BorderlineSMOTE': {'precission_scores': [0.8823529411764706, 0.8235294117647058, 0.8947368421052632, 0.8181818181818182, 0.7647058823529411, 0.7, 0.9444444444444444, 0.7777777777777778, 0.7894736842105263, 0.7619047619047619], 'recall_scores': [0.75, 0.7, 0.85, 0.9, 0.6842105263157895, 0.7, 0.85, 0.7, 0.75, 0.8421052631578947], 'specifity_scores': [0.988950276243094, 0.9834254143646409, 0.988950276243094, 0.9779005524861878, 0.9779005524861878, 0.9668508287292817, 0.994475138121547, 0.9779005524861878, 0.9779005524861878, 0.9723756906077348], 'mean_precission_score': 0.8157107563918711, 'mean_recall_scores': 0.7726315789473684, 'mean_specifity_scores': 0.9806629834254142}}, 'yeast4.dat': {'KMeansSMOTE': {'precission_scores': [0.2, 0.23809523809523808, 0.3333333333333333, 0.2777777777777778, 0.35294117647058826, 0.28, 0.4166666666666667, 0.11764705882352941, 0.2777777777777778, 0.3333333333333333], 'recall_scores': [0.4, 0.5, 0.9, 0.45454545454545453, 0.6, 0.7, 0.5, 0.2, 0.45454545454545453, 0.7], 'specifity_scores': [0.9442508710801394, 0.9442508710801394, 0.9372822299651568, 0.9545454545454546, 0.9615384615384616, 0.9372822299651568, 0.975609756097561, 0.9477351916376306, 0.9545454545454546, 0.951048951048951], 'mean_precission_score': 0.2827572362278245, 'mean_recall_scores': 0.5409090909090908, 'mean_specifity_scores': 0.9508089471504106}, 'MeansShiftSMOTE': {'precission_scores': [0.26666666666666666, 0.2631578947368421, 0.32, 0.375, 0.29411764705882354, 0.2692307692307692, 0.375, 0.0625, 0.29411764705882354, 0.30434782608695654], 'recall_scores': [0.4, 0.5, 0.8, 0.5454545454545454, 0.5, 0.7, 0.6, 0.1, 0.45454545454545453, 0.7], 'specifity_scores': [0.9616724738675958, 0.9512195121951219, 0.9407665505226481, 0.965034965034965, 0.958041958041958, 0.9337979094076655, 0.9651567944250871, 0.9477351916376306, 0.958041958041958, 0.9440559440559441], 'mean_precission_score': 0.28241384508388817, 'mean_recall_scores': 0.53, 'mean_specifity_scores': 0.9525523257230573}, 'SMOTE': {'precission_scores': [0.2, 0.2727272727272727, 0.3333333333333333, 0.46153846153846156, 0.5, 0.3125, 0.625, 0.125, 0.35714285714285715, 0.375], 'recall_scores': [0.3, 0.3, 0.6, 0.5454545454545454, 0.5, 0.5, 0.5, 0.1, 0.45454545454545453, 0.6], 'specifity_scores': [0.9581881533101045, 0.9721254355400697, 0.9581881533101045, 0.9755244755244755, 0.9825174825174825, 0.9616724738675958, 0.9895470383275261, 0.975609756097561, 0.9685314685314685, 0.965034965034965], 'mean_precission_score': 0.35622419247419246, 'mean_recall_scores': 0.44000000000000006, 'mean_specifity_scores': 0.9706939402061353}, 'ROS': {'precission_scores': [0.6, 0.6666666666666666, 0.6, 0.2, 1.0, 0.8, 1.0, 0.0, 0.75, 0.5555555555555556], 'recall_scores': [0.3, 0.2, 0.3, 0.09090909090909091, 0.2, 0.4, 0.1, 0.0, 0.2727272727272727, 0.5], 'specifity_scores': [0.9930313588850174, 0.9965156794425087, 0.9930313588850174, 0.986013986013986, 1.0, 0.9965156794425087, 1.0, 0.9930313588850174, 0.9965034965034965, 0.986013986013986], 'mean_precission_score': 0.6172222222222221, 'mean_recall_scores': 0.23636363636363633, 'mean_specifity_scores': 0.9940656904071539}, 'BorderlineSMOTE': {'precission_scores': [0.3333333333333333, 0.2857142857142857, 0.26666666666666666, 0.4166666666666667, 0.4444444444444444, 0.46153846153846156, 0.5, 0.0, 0.4444444444444444, 0.38461538461538464], 'recall_scores': [0.3, 0.2, 0.4, 0.45454545454545453, 0.4, 0.6, 0.4, 0.0, 0.36363636363636365, 0.5], 'specifity_scores': [0.9790940766550522, 0.9825783972125436, 0.9616724738675958, 0.9755244755244755, 0.9825174825174825, 0.975609756097561, 0.9860627177700348, 0.975609756097561, 0.9825174825174825, 0.972027972027972], 'mean_precission_score': 0.35374236874236875, 'mean_recall_scores': 0.3618181818181818, 'mean_specifity_scores': 0.977321459028776}}, 'yeast5.dat': {'KMeansSMOTE': {'precission_scores': [0.47058823529411764, 0.6666666666666666, 0.5, 0.8888888888888888, 0.6666666666666666, 0.7272727272727273, 0.5454545454545454, 0.75, 0.6, 0.7], 'recall_scores': [0.8888888888888888, 0.8888888888888888, 0.6666666666666666, 0.8888888888888888, 1.0, 0.8888888888888888, 0.6666666666666666, 1.0, 1.0, 0.875], 'specifity_scores': [0.96875, 0.9861111111111112, 0.9791666666666666, 0.9965277777777778, 0.9861111111111112, 0.9895833333333334, 0.9826388888888888, 0.9895833333333334, 0.9791666666666666, 0.9895833333333334], 'mean_precission_score': 0.6515537730243612, 'mean_recall_scores': 0.8763888888888889, 'mean_specifity_scores': 0.9847222222222223}, 'MeansShiftSMOTE': {'precission_scores': [0.47058823529411764, 0.7272727272727273, 0.5, 0.8888888888888888, 0.6666666666666666, 0.7272727272727273, 0.5, 0.75, 0.5625, 0.6], 'recall_scores': [0.8888888888888888, 0.8888888888888888, 0.6666666666666666, 0.8888888888888888, 1.0, 0.8888888888888888, 0.6666666666666666, 1.0, 1.0, 0.75], 'specifity_scores': [0.96875, 0.9895833333333334, 0.9791666666666666, 0.9965277777777778, 0.9861111111111112, 0.9895833333333334, 0.9791666666666666, 0.9895833333333334, 0.9756944444444444, 0.9861111111111112], 'mean_precission_score': 0.6393189245395128, 'mean_recall_scores': 0.8638888888888889, 'mean_specifity_scores': 0.9840277777777777}, 'SMOTE': {'precission_scores': [0.5333333333333333, 0.6666666666666666, 0.5, 0.8888888888888888, 0.8, 0.8, 0.6, 0.8181818181818182, 0.6428571428571429, 0.7142857142857143], 'recall_scores': [0.8888888888888888, 0.6666666666666666, 0.6666666666666666, 0.8888888888888888, 1.0, 0.8888888888888888, 0.6666666666666666, 1.0, 1.0, 0.625], 'specifity_scores': [0.9756944444444444, 0.9895833333333334, 0.9791666666666666, 0.9965277777777778, 0.9930555555555556, 0.9930555555555556, 0.9861111111111112, 0.9930555555555556, 0.9826388888888888, 0.9930555555555556], 'mean_precission_score': 0.6964213564213565, 'mean_recall_scores': 0.8291666666666666, 'mean_specifity_scores': 0.9881944444444445}, 'ROS': {'precission_scores': [0.5833333333333334, 0.75, 0.5714285714285714, 1.0, 0.8888888888888888, 0.8571428571428571, 0.6, 0.8181818181818182, 0.6666666666666666, 0.6666666666666666], 'recall_scores': [0.7777777777777778, 0.6666666666666666, 0.4444444444444444, 0.6666666666666666, 1.0, 0.6666666666666666, 0.3333333333333333, 1.0, 0.8888888888888888, 0.5], 'specifity_scores': [0.9826388888888888, 0.9930555555555556, 0.9895833333333334, 1.0, 0.9965277777777778, 0.9965277777777778, 0.9930555555555556, 0.9930555555555556, 0.9861111111111112, 0.9930555555555556], 'mean_precission_score': 0.7402308802308804, 'mean_recall_scores': 0.6944444444444444, 'mean_specifity_scores': 0.992361111111111}, 'BorderlineSMOTE': {'precission_scores': [0.5333333333333333, 0.7272727272727273, 0.45454545454545453, 0.8888888888888888, 0.7272727272727273, 0.8, 0.5714285714285714, 0.75, 0.6428571428571429, 0.7142857142857143], 'recall_scores': [0.8888888888888888, 0.8888888888888888, 0.5555555555555556, 0.8888888888888888, 1.0, 0.8888888888888888, 0.4444444444444444, 1.0, 1.0, 0.625], 'specifity_scores': [0.9756944444444444, 0.9895833333333334, 0.9791666666666666, 0.9965277777777778, 0.9895833333333334, 0.9930555555555556, 0.9895833333333334, 0.9895833333333334, 0.9826388888888888, 0.9930555555555556], 'mean_precission_score': 0.680988455988456, 'mean_recall_scores': 0.8180555555555555, 'mean_specifity_scores': 0.9878472222222221}}}\n"
     ]
    }
   ],
   "source": [
    "print(results)"
   ]
  },
  {
   "cell_type": "markdown",
   "id": "a6e6e5c1",
   "metadata": {},
   "source": [
    "### Statistically significantly better preprocessings in given datasets with given metrics"
   ]
  },
  {
   "cell_type": "code",
   "execution_count": 33,
   "id": "9eff543b",
   "metadata": {
    "scrolled": true
   },
   "outputs": [
    {
     "name": "stdout",
     "output_type": "stream",
     "text": [
      "Statistically significantly better precission_scores:\n",
      "  KMeansSMOTE    MeansShiftSMOTE    SMOTE    ROS    BorderlineSMOTE\n",
      "-------------  -----------------  -------  -----  -----------------\n",
      "            0                  0        0      0                  0\n",
      "            0                  0        0      0                  0\n",
      "            1                  1        0      0                  0\n",
      "            1                  1        0      0                  0\n",
      "            1                  1        0      0                  0\n",
      "\n",
      "\n",
      "\n",
      "Statistically significantly better recall_scores:\n",
      "  KMeansSMOTE    MeansShiftSMOTE    SMOTE    ROS    BorderlineSMOTE\n",
      "-------------  -----------------  -------  -----  -----------------\n",
      "            0                  0        1      1                  1\n",
      "            0                  0        1      1                  1\n",
      "            0                  0        0      1                  0\n",
      "            0                  0        0      0                  0\n",
      "            0                  0        0      1                  0\n",
      "\n",
      "\n",
      "\n",
      "Statistically significantly better specifity_scores:\n",
      "  KMeansSMOTE    MeansShiftSMOTE    SMOTE    ROS    BorderlineSMOTE\n",
      "-------------  -----------------  -------  -----  -----------------\n",
      "            0                  1        0      0                  0\n",
      "            0                  0        0      0                  0\n",
      "            1                  1        0      0                  0\n",
      "            1                  1        1      0                  1\n",
      "            1                  1        1      0                  0\n",
      "\n",
      "\n",
      "\n",
      "Statistically significantly better precission_scores:\n",
      "  KMeansSMOTE    MeansShiftSMOTE    SMOTE    ROS    BorderlineSMOTE\n",
      "-------------  -----------------  -------  -----  -----------------\n",
      "            0                  0        0      0                  0\n",
      "            0                  0        0      0                  0\n",
      "            0                  0        0      0                  0\n",
      "            0                  0        0      0                  0\n",
      "            0                  0        0      0                  0\n",
      "\n",
      "\n",
      "\n",
      "Statistically significantly better recall_scores:\n",
      "  KMeansSMOTE    MeansShiftSMOTE    SMOTE    ROS    BorderlineSMOTE\n",
      "-------------  -----------------  -------  -----  -----------------\n",
      "            0                  0        1      1                  1\n",
      "            0                  0        1      1                  1\n",
      "            0                  0        0      0                  0\n",
      "            0                  0        0      0                  0\n",
      "            0                  0        0      0                  0\n",
      "\n",
      "\n",
      "\n",
      "Statistically significantly better specifity_scores:\n",
      "  KMeansSMOTE    MeansShiftSMOTE    SMOTE    ROS    BorderlineSMOTE\n",
      "-------------  -----------------  -------  -----  -----------------\n",
      "            0                  1        0      0                  0\n",
      "            0                  0        0      0                  0\n",
      "            1                  1        0      0                  0\n",
      "            1                  1        1      0                  1\n",
      "            1                  1        1      0                  0\n",
      "\n",
      "\n",
      "\n",
      "Statistically significantly better precission_scores:\n",
      "  KMeansSMOTE    MeansShiftSMOTE    SMOTE    ROS    BorderlineSMOTE\n",
      "-------------  -----------------  -------  -----  -----------------\n",
      "            0                  0        0      0                  0\n",
      "            0                  0        0      0                  0\n",
      "            0                  0        0      0                  0\n",
      "            0                  0        0      0                  0\n",
      "            0                  0        0      0                  0\n",
      "\n",
      "\n",
      "\n",
      "Statistically significantly better recall_scores:\n",
      "  KMeansSMOTE    MeansShiftSMOTE    SMOTE    ROS    BorderlineSMOTE\n",
      "-------------  -----------------  -------  -----  -----------------\n",
      "            0                  0        0      0                  0\n",
      "            0                  0        0      0                  0\n",
      "            0                  0        0      0                  0\n",
      "            0                  0        0      0                  0\n",
      "            0                  0        0      0                  0\n",
      "\n",
      "\n",
      "\n",
      "Statistically significantly better specifity_scores:\n",
      "  KMeansSMOTE    MeansShiftSMOTE    SMOTE    ROS    BorderlineSMOTE\n",
      "-------------  -----------------  -------  -----  -----------------\n",
      "            0                  0        0      0                  0\n",
      "            0                  0        0      0                  0\n",
      "            0                  0        0      0                  0\n",
      "            0                  0        0      0                  0\n",
      "            0                  0        0      0                  0\n",
      "\n",
      "\n",
      "\n",
      "Statistically significantly better precission_scores:\n",
      "  KMeansSMOTE    MeansShiftSMOTE    SMOTE    ROS    BorderlineSMOTE\n",
      "-------------  -----------------  -------  -----  -----------------\n",
      "            0                  0        0      0                  0\n",
      "            0                  0        0      0                  0\n",
      "            0                  0        0      0                  0\n",
      "            0                  0        0      0                  0\n",
      "            0                  0        0      0                  0\n",
      "\n",
      "\n",
      "\n",
      "Statistically significantly better recall_scores:\n",
      "  KMeansSMOTE    MeansShiftSMOTE    SMOTE    ROS    BorderlineSMOTE\n",
      "-------------  -----------------  -------  -----  -----------------\n",
      "            0                  0        0      0                  0\n",
      "            0                  0        0      0                  0\n",
      "            0                  0        0      0                  0\n",
      "            0                  0        0      0                  0\n",
      "            0                  0        0      0                  0\n",
      "\n",
      "\n",
      "\n",
      "Statistically significantly better specifity_scores:\n",
      "  KMeansSMOTE    MeansShiftSMOTE    SMOTE    ROS    BorderlineSMOTE\n",
      "-------------  -----------------  -------  -----  -----------------\n",
      "            0                  0        0      0                  0\n",
      "            0                  0        0      0                  0\n",
      "            0                  0        0      0                  0\n",
      "            0                  0        0      0                  0\n",
      "            0                  0        0      0                  0\n",
      "\n",
      "\n",
      "\n",
      "Statistically significantly better precission_scores:\n",
      "  KMeansSMOTE    MeansShiftSMOTE    SMOTE    ROS    BorderlineSMOTE\n",
      "-------------  -----------------  -------  -----  -----------------\n",
      "            0                  0        0      0                  0\n",
      "            0                  0        0      0                  0\n",
      "            0                  0        0      0                  0\n",
      "            0                  0        0      0                  0\n",
      "            0                  0        0      0                  0\n",
      "\n",
      "\n",
      "\n",
      "Statistically significantly better recall_scores:\n",
      "  KMeansSMOTE    MeansShiftSMOTE    SMOTE    ROS    BorderlineSMOTE\n",
      "-------------  -----------------  -------  -----  -----------------\n",
      "            0                  0        0      0                  0\n",
      "            0                  0        0      0                  0\n",
      "            0                  0        0      0                  0\n",
      "            0                  0        0      0                  0\n",
      "            0                  0        0      0                  0\n",
      "\n",
      "\n",
      "\n",
      "Statistically significantly better specifity_scores:\n",
      "  KMeansSMOTE    MeansShiftSMOTE    SMOTE    ROS    BorderlineSMOTE\n",
      "-------------  -----------------  -------  -----  -----------------\n",
      "            0                  0        0      0                  0\n",
      "            0                  0        0      0                  0\n",
      "            0                  0        0      0                  0\n",
      "            0                  0        0      0                  0\n",
      "            0                  0        0      0                  0\n",
      "\n",
      "\n",
      "\n",
      "Statistically significantly better precission_scores:\n",
      "  KMeansSMOTE    MeansShiftSMOTE    SMOTE    ROS    BorderlineSMOTE\n",
      "-------------  -----------------  -------  -----  -----------------\n",
      "            0                  0        0      0                  0\n",
      "            0                  0        0      0                  0\n",
      "            0                  0        0      0                  0\n",
      "            0                  0        0      0                  0\n",
      "            0                  0        0      0                  0\n",
      "\n",
      "\n",
      "\n",
      "Statistically significantly better recall_scores:\n",
      "  KMeansSMOTE    MeansShiftSMOTE    SMOTE    ROS    BorderlineSMOTE\n",
      "-------------  -----------------  -------  -----  -----------------\n",
      "            0                  0        0      0                  0\n",
      "            0                  0        0      0                  0\n",
      "            0                  0        0      0                  0\n",
      "            0                  0        0      0                  0\n",
      "            0                  0        0      0                  0\n",
      "\n",
      "\n",
      "\n",
      "Statistically significantly better specifity_scores:\n",
      "  KMeansSMOTE    MeansShiftSMOTE    SMOTE    ROS    BorderlineSMOTE\n",
      "-------------  -----------------  -------  -----  -----------------\n",
      "            0                  0        0      0                  0\n",
      "            0                  0        0      0                  0\n",
      "            0                  0        0      0                  0\n",
      "            0                  0        0      0                  0\n",
      "            0                  0        0      0                  0\n",
      "\n",
      "\n",
      "\n",
      "Statistically significantly better precission_scores:\n",
      "  KMeansSMOTE    MeansShiftSMOTE    SMOTE    ROS    BorderlineSMOTE\n",
      "-------------  -----------------  -------  -----  -----------------\n",
      "            0                  1        0      0                  0\n",
      "            0                  0        0      0                  0\n",
      "            1                  1        0      0                  0\n",
      "            1                  1        1      0                  1\n",
      "            1                  1        0      0                  0\n",
      "\n",
      "\n",
      "\n",
      "Statistically significantly better recall_scores:\n",
      "  KMeansSMOTE    MeansShiftSMOTE    SMOTE    ROS    BorderlineSMOTE\n",
      "-------------  -----------------  -------  -----  -----------------\n",
      "            0                  0        1      1                  1\n",
      "            0                  0        0      1                  1\n",
      "            0                  0        0      1                  1\n",
      "            0                  0        0      0                  0\n",
      "            0                  0        0      0                  0\n",
      "\n",
      "\n",
      "\n",
      "Statistically significantly better specifity_scores:\n",
      "  KMeansSMOTE    MeansShiftSMOTE    SMOTE    ROS    BorderlineSMOTE\n",
      "-------------  -----------------  -------  -----  -----------------\n",
      "            0                  1        0      0                  0\n",
      "            0                  0        0      0                  0\n",
      "            1                  1        0      0                  0\n",
      "            1                  1        1      0                  1\n",
      "            1                  1        0      0                  0\n",
      "\n",
      "\n",
      "\n",
      "Statistically significantly better precission_scores:\n",
      "  KMeansSMOTE    MeansShiftSMOTE    SMOTE    ROS    BorderlineSMOTE\n",
      "-------------  -----------------  -------  -----  -----------------\n",
      "            0                  1        0      0                  0\n",
      "            0                  0        0      0                  0\n",
      "            1                  1        0      0                  0\n",
      "            1                  1        1      0                  1\n",
      "            1                  1        0      0                  0\n",
      "\n",
      "\n",
      "\n",
      "Statistically significantly better recall_scores:\n",
      "  KMeansSMOTE    MeansShiftSMOTE    SMOTE    ROS    BorderlineSMOTE\n",
      "-------------  -----------------  -------  -----  -----------------\n",
      "            0                  0        0      1                  1\n",
      "            0                  0        0      1                  1\n",
      "            0                  0        0      1                  0\n",
      "            0                  0        0      0                  0\n",
      "            0                  0        0      0                  0\n",
      "\n",
      "\n",
      "\n",
      "Statistically significantly better specifity_scores:\n",
      "  KMeansSMOTE    MeansShiftSMOTE    SMOTE    ROS    BorderlineSMOTE\n",
      "-------------  -----------------  -------  -----  -----------------\n",
      "            0                  1        0      0                  0\n",
      "            0                  0        0      0                  0\n",
      "            1                  1        0      0                  0\n",
      "            1                  1        1      0                  0\n",
      "            1                  1        0      0                  0\n",
      "\n",
      "\n",
      "\n",
      "Statistically significantly better precission_scores:\n",
      "  KMeansSMOTE    MeansShiftSMOTE    SMOTE    ROS    BorderlineSMOTE\n",
      "-------------  -----------------  -------  -----  -----------------\n",
      "            0                  0        0      0                  0\n",
      "            0                  0        0      0                  0\n",
      "            1                  1        0      0                  0\n",
      "            1                  1        1      0                  1\n",
      "            0                  1        0      0                  0\n",
      "\n",
      "\n",
      "\n",
      "Statistically significantly better recall_scores:\n",
      "  KMeansSMOTE    MeansShiftSMOTE    SMOTE    ROS    BorderlineSMOTE\n",
      "-------------  -----------------  -------  -----  -----------------\n",
      "            0                  0        1      1                  1\n",
      "            0                  0        1      1                  1\n",
      "            0                  0        0      1                  1\n",
      "            0                  0        0      0                  0\n",
      "            0                  0        0      1                  0\n",
      "\n",
      "\n",
      "\n",
      "Statistically significantly better specifity_scores:\n",
      "  KMeansSMOTE    MeansShiftSMOTE    SMOTE    ROS    BorderlineSMOTE\n",
      "-------------  -----------------  -------  -----  -----------------\n",
      "            0                  0        0      0                  0\n",
      "            0                  0        0      0                  0\n",
      "            1                  1        0      0                  0\n",
      "            1                  1        1      0                  1\n",
      "            1                  1        1      0                  0\n",
      "\n",
      "\n",
      "\n",
      "Statistically significantly better precission_scores:\n",
      "  KMeansSMOTE    MeansShiftSMOTE    SMOTE    ROS    BorderlineSMOTE\n",
      "-------------  -----------------  -------  -----  -----------------\n",
      "            0                  0        0      0                  0\n",
      "            0                  0        0      0                  0\n",
      "            1                  1        0      0                  0\n",
      "            1                  1        1      0                  1\n",
      "            1                  1        0      0                  0\n",
      "\n",
      "\n",
      "\n",
      "Statistically significantly better recall_scores:\n",
      "  KMeansSMOTE    MeansShiftSMOTE    SMOTE    ROS    BorderlineSMOTE\n",
      "-------------  -----------------  -------  -----  -----------------\n",
      "            0                  0        0      1                  0\n",
      "            0                  0        0      1                  0\n",
      "            0                  0        0      1                  0\n",
      "            0                  0        0      0                  0\n",
      "            0                  0        0      1                  0\n",
      "\n",
      "\n",
      "\n",
      "Statistically significantly better specifity_scores:\n",
      "  KMeansSMOTE    MeansShiftSMOTE    SMOTE    ROS    BorderlineSMOTE\n",
      "-------------  -----------------  -------  -----  -----------------\n",
      "            0                  0        0      0                  0\n",
      "            0                  0        0      0                  0\n",
      "            1                  1        0      0                  0\n",
      "            1                  1        1      0                  1\n",
      "            1                  1        0      0                  0\n",
      "\n",
      "\n",
      "\n"
     ]
    }
   ],
   "source": [
    "from scipy.stats import ttest_rel, wilcoxon, shapiro\n",
    "from tabulate import tabulate\n",
    "\n",
    "alfa = .05\n",
    "methods = [\"KMeansSMOTE\", \"MeansShiftSMOTE\", \"SMOTE\", \"ROS\", \"BorderlineSMOTE\"]\n",
    "metrics = [\"precission_scores\",\"recall_scores\",\"specifity_scores\"]\n",
    "\n",
    "for directory in results:\n",
    "    for metric in metrics:\n",
    "        w_statistic = np.zeros((len(methods), len(methods)))\n",
    "        p_value = np.zeros((len(methods), len(methods)))\n",
    "        test_used = np.empty((len(methods), len(methods)), dtype=object)\n",
    "        for i, preprocessing_method in enumerate(methods):\n",
    "            for j, comparison_preprocessing_method in enumerate(methods):\n",
    "                metric_results_one = results[directory][preprocessing_method][metric]\n",
    "                metric_results_two = results[directory][comparison_preprocessing_method][metric]\n",
    "                tmp_p_val = 0\n",
    "                try:\n",
    "                    _, tmp_p_val = wilcoxon(metric_results_one, metric_results_two)\n",
    "                except: \n",
    "                    _, tmp_p_val = 0, 1\n",
    "                mean_metric_one = np.mean(metric_results_one)\n",
    "                mean_metric_two = np.mean(metric_results_two)\n",
    "                if  tmp_p_val <= alfa:\n",
    "                    if mean_metric_one - mean_metric_two > 0:\n",
    "                        w_statistic[i,j], p_value[i,j] = 1, 1\n",
    "                    else:\n",
    "                        w_statistic[i,j], p_value[i,j] = 0, 1\n",
    "                else:\n",
    "                    if mean_metric_one - mean_metric_two > 0:\n",
    "                        w_statistic[i,j], p_value[i,j] = 1, 0\n",
    "                    else:\n",
    "                        w_statistic[i,j], p_value[i,j] = 0, 0\n",
    "        stat_better = w_statistic * p_value\n",
    "        stat_better_table = tabulate(stat_better, methods)\n",
    "        print(f\"Statistically significantly better {metric}:\")\n",
    "        print(stat_better_table)\n",
    "        print()\n",
    "        print()\n",
    "        print()\n",
    "        "
   ]
  },
  {
   "cell_type": "markdown",
   "id": "3052da94",
   "metadata": {},
   "source": [
    "### Statistically significantly better preprocessings for all datasets"
   ]
  },
  {
   "cell_type": "code",
   "execution_count": 17,
   "id": "2a4ed7c7",
   "metadata": {},
   "outputs": [
    {
     "name": "stdout",
     "output_type": "stream",
     "text": [
      "Metric: mean_precission_score\n",
      "Statistical significance (alpha = 0.05):\n",
      "                   KMeansSMOTE    MeansShiftSMOTE    SMOTE    ROS    BorderlineSMOTE\n",
      "---------------  -------------  -----------------  -------  -----  -----------------\n",
      "KMeansSMOTE                  0                  0        0      0                  0\n",
      "MeansShiftSMOTE              0                  0        0      0                  0\n",
      "SMOTE                        1                  1        0      0                  0\n",
      "ROS                          1                  1        0      0                  0\n",
      "BorderlineSMOTE              1                  1        0      0                  0\n",
      "\n",
      "\n",
      "Metric: mean_recall_scores\n",
      "Statistical significance (alpha = 0.05):\n",
      "                   KMeansSMOTE    MeansShiftSMOTE    SMOTE    ROS    BorderlineSMOTE\n",
      "---------------  -------------  -----------------  -------  -----  -----------------\n",
      "KMeansSMOTE                  0                  0        1      1                  1\n",
      "MeansShiftSMOTE              0                  0        1      1                  1\n",
      "SMOTE                        0                  0        0      1                  1\n",
      "ROS                          0                  0        0      0                  0\n",
      "BorderlineSMOTE              0                  0        0      0                  0\n",
      "\n",
      "\n",
      "Metric: mean_specifity_scores\n",
      "Statistical significance (alpha = 0.05):\n",
      "                   KMeansSMOTE    MeansShiftSMOTE    SMOTE    ROS    BorderlineSMOTE\n",
      "---------------  -------------  -----------------  -------  -----  -----------------\n",
      "KMeansSMOTE                  0                  0        0      0                  0\n",
      "MeansShiftSMOTE              0                  0        0      0                  0\n",
      "SMOTE                        1                  1        0      0                  0\n",
      "ROS                          1                  1        1      0                  1\n",
      "BorderlineSMOTE              1                  1        0      0                  0\n",
      "\n",
      "\n"
     ]
    }
   ],
   "source": [
    "from scipy.stats import rankdata, ranksums\n",
    "\n",
    "methods = [\"KMeansSMOTE\", \"MeansShiftSMOTE\", \"SMOTE\", \"ROS\", \"BorderlineSMOTE\"]\n",
    "metrics = [\"mean_precission_score\", \"mean_recall_scores\", \"mean_specifity_scores\"]\n",
    "for metric in metrics:\n",
    "    mean = []\n",
    "    for directory in results:\n",
    "        preprocessing_mean = []\n",
    "        for i, preprocessing_method in enumerate(methods):\n",
    "            preprocessing_mean.append(results[directory][preprocessing_method][metric])\n",
    "        mean.append(preprocessing_mean)\n",
    "\n",
    "    ranks = []\n",
    "    for mean_score in mean:\n",
    "        ranks.append(rankdata(mean_score).tolist())\n",
    "    ranks = np.array(ranks)\n",
    "\n",
    "    alfa = .05\n",
    "    w_statistic = np.zeros((len(methods), len(methods)))\n",
    "    p_value = np.zeros((len(methods), len(methods)))\n",
    "    for i in range(len(methods)):\n",
    "        for j in range(len(methods)):\n",
    "            w_statistic[i, j], p_value[i, j] = ranksums(ranks.T[i], ranks.T[j])\n",
    "    names_column = np.expand_dims(np.array(list(methods)), axis=1)\n",
    "    w_statistic_table = np.concatenate((names_column, w_statistic), axis=1)\n",
    "    w_statistic_table = tabulate(w_statistic_table, methods, floatfmt=\".2f\")\n",
    "    p_value_table = np.concatenate((names_column, p_value), axis=1)\n",
    "    p_value_table = tabulate(p_value_table, methods, floatfmt=\".2f\")\n",
    "    advantage = np.zeros((len(methods), len(methods)))\n",
    "    advantage[w_statistic > 0] = 1\n",
    "    advantage_table = tabulate(np.concatenate(\n",
    "    (names_column, advantage), axis=1), methods)\n",
    "    significance = np.zeros((len(methods), len(methods)))\n",
    "    significance[p_value <= alfa] = 1\n",
    "    statisticaly_better = advantage * significance\n",
    "    statisticaly_better_table = tabulate(np.concatenate(\n",
    "    (names_column, statisticaly_better), axis=1), methods)\n",
    "    print(f\"Metric: {metric}\")\n",
    "    print(\"Statistical significance (alpha = 0.05):\")\n",
    "    print(statisticaly_better_table)\n",
    "    print()\n",
    "    print()"
   ]
  },
  {
   "cell_type": "markdown",
   "id": "73242972",
   "metadata": {},
   "source": [
    "# Testy parowe\n",
    "## Cel testów parowych\n",
    "W poprzedniej części pracy wykonano ocenę klasyfikatorów za pomocą metryk i walidacji krzyżowej. W ten sposób uzyskano osobną ocenę dla przypadków klasyfikatorów gdzie różnicami były: zbiory uczące, różne modele uczenia maszynowego oraz główny cel pracy czyli różne metody balansowania danych (sprawdzić czy niema zmian). Uzyskane wyniki należy w tym momencie porównać aby ocenić czy wyniki uzyskane w przypadkach gdzie wykorzystano metodę SMOTE wykonywaną na klastrach powstałych z danych niezbalansowanych są lepsze od pozostałych metod oversamplingu. Aby ocenić tą zależność można uśrednić uzyskane metryki i ocenić czy średnio model wykorzystujący zaproponowaną metodę oversamplingu uzyskuje lepsze wyniki, jednak test taki nie może zostać uznany za prawidłowy ponieważ mógł wynikać z przypadku. W tym celu należy wziąć pod uwagę również parametr określający jak wyniki wchodzące w skład średniej są od niej oddalone (odchylenie standardowe zbiorów). W tym celu przez badaczy wykorzystywane są testy statystyczne takie jak test T- Studenta oraz test Wilcoxona. Poniżej opisane zostaną testy które mogą zostać wykorzystane w pracy.\n",
    "## Wkorzystane testy statystyczne \n",
    "Testy statystyczne wykorzystuje się dla różńych zbiorów danych aby ocenić czy różnica między nimi jest statystycznie istotna.\n",
    "W tej pracy celem jest porównanie metryk dla modeli wykorzystujących mechanizm balansowania danych opartych o metodę SMOTE działającą na pojedynczych klastrach danych wejściowych oraz innych popularnie wykorzystywanych narzędzi oversamplingu. W ten sposób dane można podzielić na pary: zaproponowana w pracy metoda i inna metoda oversamplingu. Taki sposób podziału danych determinuje wykorzystanie testów parowych.\n",
    "### Test T-Studenta\n",
    "Test T-Studenta to test parametryczny (opierający się o porównanie parametrów populacji takich jak odchylenie standardowe czy średnia )\n",
    "Warunkiem koniecznym do zastosowania testu T studenta jest założenie, że porównywane zbiory są normalne. Testowanie normalności zbiorów zostanie omówione w dalszej części pracy. Jeśli Testowanie normalności wykazało, że próbki nie są normalne wtedy można wykorzystać inne testy o mniejszej precyzji czyli testy nieparametryczne. Należy jednak napiętać, że jeśli to możliwe powinienny zostać przeprowadzone testy parametryczne takie jest test T studenta lub analiza wariancji.\\\n",
    "Testy statystyczne parametryczne : https://pogotowiestatystyczne.pl/slowniki/testy-parametryczne/#:~:text=Testy%20parametryczne%20to%20rodzaj%20test%C3%B3w,standardowe%20lub%20innych%20statystykach%20opisowych.\n",
    "### Test Wilcoxona\n",
    "Test Wilcoxona to test nieparametryczny wykonywany na bazie próbek populacji a nie na jej parametrach. Wykorzystuje on różnicę między próbkami w przypadkach wykorzystania dwóchróżnych hiperparametrów modelu. Różnica każdejz próbek zostaje zakwalifikowana do jednego ze zbiorów $T_{-}$ gdy różnica jest ujemna lub $T_{+}$ gdy jest dodatnia. W ten sposób uzyskano dwa zbiory. Wszystkim różnicom w tym momencie usuwany zostaje znak a przyznana zostaje  $ranga$(tu można walnąć dokładniejszy opis ale teraz trochę małoczasu) a następnie sumowane są wszystkie ranki w zbiorach $T_{-}$ i $T_{+}$. Pod uwagę bierze się mniejszą sumę rang oraz sprawdzana jest ona w tablicy wartości sum wag Wilxocona.\n",
    "### Test założenia Normalności\n",
    "Aby ocenić czy próbki pewnej populacji mają określony rozkład można wykorzystać Test Kołmogorowa-Smirnowa. Aby określić czy wyniki badań możemy ocenić za pomocą testu T studenta trzeba spełnić założenie normalności a więc określić czy próbki mogą pochodzić z wałsciwości o charakterze rozkładu normalngo. W tym celu test Kołmogorowa-Smirnowa należy wykonać dla uzyskanych wcześniej wyników i rozkładu normalnego.\n",
    "\n",
    "biblio: https://www.scirp.org/html/6-1241391_107034.htm\n",
    "https://onlinelibrary.wiley.com/doi/full/10.1002/9781118445112.stat06558\n",
    "\n",
    "Do wykonania oceny założenia normalności wykorzystana zostanie funkcja kstest pochodząca z pakiety scipy \\\n",
    "Tutaj jak to robić: https://medium.com/@ricardojaviermartnezsustegui/kolmog%C3%B3rov-smirnov-test-in-python-step-by-step-1b7532021bd2\n",
    "\n",
    "a jest jeszcze coś takiego\n",
    "scipy.stats.normaltest"
   ]
  }
 ],
 "metadata": {
  "kernelspec": {
   "display_name": "Python 3 (ipykernel)",
   "language": "python",
   "name": "python3"
  },
  "language_info": {
   "codemirror_mode": {
    "name": "ipython",
    "version": 3
   },
   "file_extension": ".py",
   "mimetype": "text/x-python",
   "name": "python",
   "nbconvert_exporter": "python",
   "pygments_lexer": "ipython3",
   "version": "3.12.3"
  }
 },
 "nbformat": 4,
 "nbformat_minor": 5
}
