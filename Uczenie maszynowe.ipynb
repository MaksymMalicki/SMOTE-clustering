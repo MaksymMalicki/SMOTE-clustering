{
 "cells": [
  {
   "cell_type": "markdown",
   "id": "93e33f37",
   "metadata": {},
   "source": [
    "### Exploring the impact of clustering on the quality of SMOTE preprocessing. Comparative analysis\n",
    "##### Maksym Malicki, Jacek Glapiński\n",
    "###### Wrocław University of Technology\n",
    "In this notebook we present a comparative analysis of the impact of clustering using various methods on the quality of SMOTE preprocessing.\n",
    "\n",
    "#### load_dataset()\n",
    "This method allows us to load datasets listed in the paper."
   ]
  },
  {
   "cell_type": "code",
   "execution_count": 16,
   "id": "0ca3bf0c",
   "metadata": {},
   "outputs": [],
   "source": [
    "import numpy as np\n",
    "\n",
    "def load_dataset(file_path):\n",
    "    data = []\n",
    "    labels = []\n",
    "\n",
    "    with open(file_path, 'r') as f:\n",
    "        for line in f:\n",
    "            if line.startswith('@'):\n",
    "                continue\n",
    "            line_data = line.strip().split(',')\n",
    "            sample_class = line_data[-1].strip().lower().replace(\" \", \"\")\n",
    "            label = 1 if sample_class == 'positive' else 0\n",
    "            converted_data = []\n",
    "            for x in line_data[:-1]:\n",
    "                try:\n",
    "                    converted_data.append(float(x))\n",
    "                except ValueError:\n",
    "                    converted_data.append(ord(x))\n",
    "            data.append(converted_data)\n",
    "            labels.append(label)\n",
    "    X = np.array(data)\n",
    "    y = np.array(labels)\n",
    "\n",
    "    return X, y"
   ]
  },
  {
   "cell_type": "markdown",
   "id": "7a0390b2",
   "metadata": {},
   "source": [
    "#### Test implementacji SMOTE"
   ]
  },
  {
   "cell_type": "markdown",
   "id": "0db0873c",
   "metadata": {},
   "source": [
    "##### IMPLEMENTACJA SMOTE"
   ]
  },
  {
   "cell_type": "code",
   "execution_count": 17,
   "id": "cd656d85",
   "metadata": {},
   "outputs": [],
   "source": [
    "#https://medium.com/@corymaklin/synthetic-minority-over-sampling-technique-smote-7d419696b88c\n",
    "\n",
    "from random import randrange, uniform\n",
    "from sklearn.neighbors import NearestNeighbors\n",
    "import numpy as np\n",
    "import pandas as pd\n",
    "from sklearn.ensemble import RandomForestClassifier\n",
    "from sklearn.model_selection import train_test_split\n",
    "from sklearn.metrics import confusion_matrix, recall_score\n",
    "\n",
    "def SMOTE_ByMedium(sample: np.array, N: int, k: int) -> np.array:\n",
    "    \n",
    "    T, num_attrs = sample.shape\n",
    "    \n",
    "    # If N is less than 100%, randomize the minority class samples as only a random percent of them will be SMOTEd\n",
    "    if N < 100:\n",
    "        T = round(N / 100 * T)\n",
    "        N = 100\n",
    "    # The amount of SMOTE is assumed to be in integral multiples of 100\n",
    "    N = int(N / 100)\n",
    "\n",
    "    synthetic = np.zeros([T * N, num_attrs])\n",
    "    new_index = 0\n",
    "    nbrs = NearestNeighbors(n_neighbors=k+1).fit(sample.values)\n",
    "    def populate(N, i, nnarray):\n",
    "        \n",
    "        nonlocal new_index\n",
    "        nonlocal synthetic\n",
    "        nonlocal sample\n",
    "        while N != 0:\n",
    "            nn = randrange(1, k+1)\n",
    "            for attr in range(num_attrs):\n",
    "                dif = sample.iloc[nnarray[nn]][attr] - sample.iloc[i][attr]\n",
    "                gap = uniform(0, 1)\n",
    "                synthetic[new_index][attr] = sample.iloc[i][attr] + gap * dif\n",
    "            new_index += 1\n",
    "            N = N - 1\n",
    "    \n",
    "    for i in range(T):\n",
    "        nnarray = nbrs.kneighbors(sample.iloc[i].values.reshape(1, -1), return_distance=False)[0]\n",
    "        populate(N, i, nnarray)\n",
    "    \n",
    "    return synthetic\n",
    "\n",
    "\n"
   ]
  },
  {
   "cell_type": "code",
   "execution_count": 18,
   "id": "4ea566d3",
   "metadata": {},
   "outputs": [
    {
     "name": "stdout",
     "output_type": "stream",
     "text": [
      "temp_Cluter shape:  (2, 29)\n",
      "temp_Cluter_y shape:  (29,)\n"
     ]
    },
    {
     "data": {
      "application/vnd.plotly.v1+json": {
       "config": {
        "plotlyServerURL": "https://plot.ly"
       },
       "data": [
        {
         "hovertemplate": "x=%{x}<br>y=%{y}<extra></extra>",
         "legendgroup": "",
         "marker": {
          "color": "#636efa",
          "symbol": "circle"
         },
         "mode": "markers",
         "name": "",
         "orientation": "v",
         "showlegend": false,
         "type": "scatter",
         "x": [
          1,
          3,
          2,
          4,
          6,
          2,
          1,
          3,
          6,
          4,
          5,
          1,
          5,
          2,
          6,
          8,
          7,
          9,
          5,
          8,
          6,
          8,
          7,
          9,
          5,
          7,
          4,
          5,
          7
         ],
         "xaxis": "x",
         "y": [
          3,
          1,
          2,
          6,
          2,
          5,
          4,
          3,
          2,
          1,
          3,
          3,
          2,
          1,
          6,
          5,
          7,
          6,
          4,
          8,
          9,
          5,
          8,
          4,
          7,
          5,
          6,
          8,
          4
         ],
         "yaxis": "y"
        }
       ],
       "layout": {
        "legend": {
         "tracegroupgap": 0
        },
        "template": {
         "data": {
          "bar": [
           {
            "error_x": {
             "color": "#2a3f5f"
            },
            "error_y": {
             "color": "#2a3f5f"
            },
            "marker": {
             "line": {
              "color": "#E5ECF6",
              "width": 0.5
             },
             "pattern": {
              "fillmode": "overlay",
              "size": 10,
              "solidity": 0.2
             }
            },
            "type": "bar"
           }
          ],
          "barpolar": [
           {
            "marker": {
             "line": {
              "color": "#E5ECF6",
              "width": 0.5
             },
             "pattern": {
              "fillmode": "overlay",
              "size": 10,
              "solidity": 0.2
             }
            },
            "type": "barpolar"
           }
          ],
          "carpet": [
           {
            "aaxis": {
             "endlinecolor": "#2a3f5f",
             "gridcolor": "white",
             "linecolor": "white",
             "minorgridcolor": "white",
             "startlinecolor": "#2a3f5f"
            },
            "baxis": {
             "endlinecolor": "#2a3f5f",
             "gridcolor": "white",
             "linecolor": "white",
             "minorgridcolor": "white",
             "startlinecolor": "#2a3f5f"
            },
            "type": "carpet"
           }
          ],
          "choropleth": [
           {
            "colorbar": {
             "outlinewidth": 0,
             "ticks": ""
            },
            "type": "choropleth"
           }
          ],
          "contour": [
           {
            "colorbar": {
             "outlinewidth": 0,
             "ticks": ""
            },
            "colorscale": [
             [
              0,
              "#0d0887"
             ],
             [
              0.1111111111111111,
              "#46039f"
             ],
             [
              0.2222222222222222,
              "#7201a8"
             ],
             [
              0.3333333333333333,
              "#9c179e"
             ],
             [
              0.4444444444444444,
              "#bd3786"
             ],
             [
              0.5555555555555556,
              "#d8576b"
             ],
             [
              0.6666666666666666,
              "#ed7953"
             ],
             [
              0.7777777777777778,
              "#fb9f3a"
             ],
             [
              0.8888888888888888,
              "#fdca26"
             ],
             [
              1,
              "#f0f921"
             ]
            ],
            "type": "contour"
           }
          ],
          "contourcarpet": [
           {
            "colorbar": {
             "outlinewidth": 0,
             "ticks": ""
            },
            "type": "contourcarpet"
           }
          ],
          "heatmap": [
           {
            "colorbar": {
             "outlinewidth": 0,
             "ticks": ""
            },
            "colorscale": [
             [
              0,
              "#0d0887"
             ],
             [
              0.1111111111111111,
              "#46039f"
             ],
             [
              0.2222222222222222,
              "#7201a8"
             ],
             [
              0.3333333333333333,
              "#9c179e"
             ],
             [
              0.4444444444444444,
              "#bd3786"
             ],
             [
              0.5555555555555556,
              "#d8576b"
             ],
             [
              0.6666666666666666,
              "#ed7953"
             ],
             [
              0.7777777777777778,
              "#fb9f3a"
             ],
             [
              0.8888888888888888,
              "#fdca26"
             ],
             [
              1,
              "#f0f921"
             ]
            ],
            "type": "heatmap"
           }
          ],
          "heatmapgl": [
           {
            "colorbar": {
             "outlinewidth": 0,
             "ticks": ""
            },
            "colorscale": [
             [
              0,
              "#0d0887"
             ],
             [
              0.1111111111111111,
              "#46039f"
             ],
             [
              0.2222222222222222,
              "#7201a8"
             ],
             [
              0.3333333333333333,
              "#9c179e"
             ],
             [
              0.4444444444444444,
              "#bd3786"
             ],
             [
              0.5555555555555556,
              "#d8576b"
             ],
             [
              0.6666666666666666,
              "#ed7953"
             ],
             [
              0.7777777777777778,
              "#fb9f3a"
             ],
             [
              0.8888888888888888,
              "#fdca26"
             ],
             [
              1,
              "#f0f921"
             ]
            ],
            "type": "heatmapgl"
           }
          ],
          "histogram": [
           {
            "marker": {
             "pattern": {
              "fillmode": "overlay",
              "size": 10,
              "solidity": 0.2
             }
            },
            "type": "histogram"
           }
          ],
          "histogram2d": [
           {
            "colorbar": {
             "outlinewidth": 0,
             "ticks": ""
            },
            "colorscale": [
             [
              0,
              "#0d0887"
             ],
             [
              0.1111111111111111,
              "#46039f"
             ],
             [
              0.2222222222222222,
              "#7201a8"
             ],
             [
              0.3333333333333333,
              "#9c179e"
             ],
             [
              0.4444444444444444,
              "#bd3786"
             ],
             [
              0.5555555555555556,
              "#d8576b"
             ],
             [
              0.6666666666666666,
              "#ed7953"
             ],
             [
              0.7777777777777778,
              "#fb9f3a"
             ],
             [
              0.8888888888888888,
              "#fdca26"
             ],
             [
              1,
              "#f0f921"
             ]
            ],
            "type": "histogram2d"
           }
          ],
          "histogram2dcontour": [
           {
            "colorbar": {
             "outlinewidth": 0,
             "ticks": ""
            },
            "colorscale": [
             [
              0,
              "#0d0887"
             ],
             [
              0.1111111111111111,
              "#46039f"
             ],
             [
              0.2222222222222222,
              "#7201a8"
             ],
             [
              0.3333333333333333,
              "#9c179e"
             ],
             [
              0.4444444444444444,
              "#bd3786"
             ],
             [
              0.5555555555555556,
              "#d8576b"
             ],
             [
              0.6666666666666666,
              "#ed7953"
             ],
             [
              0.7777777777777778,
              "#fb9f3a"
             ],
             [
              0.8888888888888888,
              "#fdca26"
             ],
             [
              1,
              "#f0f921"
             ]
            ],
            "type": "histogram2dcontour"
           }
          ],
          "mesh3d": [
           {
            "colorbar": {
             "outlinewidth": 0,
             "ticks": ""
            },
            "type": "mesh3d"
           }
          ],
          "parcoords": [
           {
            "line": {
             "colorbar": {
              "outlinewidth": 0,
              "ticks": ""
             }
            },
            "type": "parcoords"
           }
          ],
          "pie": [
           {
            "automargin": true,
            "type": "pie"
           }
          ],
          "scatter": [
           {
            "fillpattern": {
             "fillmode": "overlay",
             "size": 10,
             "solidity": 0.2
            },
            "type": "scatter"
           }
          ],
          "scatter3d": [
           {
            "line": {
             "colorbar": {
              "outlinewidth": 0,
              "ticks": ""
             }
            },
            "marker": {
             "colorbar": {
              "outlinewidth": 0,
              "ticks": ""
             }
            },
            "type": "scatter3d"
           }
          ],
          "scattercarpet": [
           {
            "marker": {
             "colorbar": {
              "outlinewidth": 0,
              "ticks": ""
             }
            },
            "type": "scattercarpet"
           }
          ],
          "scattergeo": [
           {
            "marker": {
             "colorbar": {
              "outlinewidth": 0,
              "ticks": ""
             }
            },
            "type": "scattergeo"
           }
          ],
          "scattergl": [
           {
            "marker": {
             "colorbar": {
              "outlinewidth": 0,
              "ticks": ""
             }
            },
            "type": "scattergl"
           }
          ],
          "scattermapbox": [
           {
            "marker": {
             "colorbar": {
              "outlinewidth": 0,
              "ticks": ""
             }
            },
            "type": "scattermapbox"
           }
          ],
          "scatterpolar": [
           {
            "marker": {
             "colorbar": {
              "outlinewidth": 0,
              "ticks": ""
             }
            },
            "type": "scatterpolar"
           }
          ],
          "scatterpolargl": [
           {
            "marker": {
             "colorbar": {
              "outlinewidth": 0,
              "ticks": ""
             }
            },
            "type": "scatterpolargl"
           }
          ],
          "scatterternary": [
           {
            "marker": {
             "colorbar": {
              "outlinewidth": 0,
              "ticks": ""
             }
            },
            "type": "scatterternary"
           }
          ],
          "surface": [
           {
            "colorbar": {
             "outlinewidth": 0,
             "ticks": ""
            },
            "colorscale": [
             [
              0,
              "#0d0887"
             ],
             [
              0.1111111111111111,
              "#46039f"
             ],
             [
              0.2222222222222222,
              "#7201a8"
             ],
             [
              0.3333333333333333,
              "#9c179e"
             ],
             [
              0.4444444444444444,
              "#bd3786"
             ],
             [
              0.5555555555555556,
              "#d8576b"
             ],
             [
              0.6666666666666666,
              "#ed7953"
             ],
             [
              0.7777777777777778,
              "#fb9f3a"
             ],
             [
              0.8888888888888888,
              "#fdca26"
             ],
             [
              1,
              "#f0f921"
             ]
            ],
            "type": "surface"
           }
          ],
          "table": [
           {
            "cells": {
             "fill": {
              "color": "#EBF0F8"
             },
             "line": {
              "color": "white"
             }
            },
            "header": {
             "fill": {
              "color": "#C8D4E3"
             },
             "line": {
              "color": "white"
             }
            },
            "type": "table"
           }
          ]
         },
         "layout": {
          "annotationdefaults": {
           "arrowcolor": "#2a3f5f",
           "arrowhead": 0,
           "arrowwidth": 1
          },
          "autotypenumbers": "strict",
          "coloraxis": {
           "colorbar": {
            "outlinewidth": 0,
            "ticks": ""
           }
          },
          "colorscale": {
           "diverging": [
            [
             0,
             "#8e0152"
            ],
            [
             0.1,
             "#c51b7d"
            ],
            [
             0.2,
             "#de77ae"
            ],
            [
             0.3,
             "#f1b6da"
            ],
            [
             0.4,
             "#fde0ef"
            ],
            [
             0.5,
             "#f7f7f7"
            ],
            [
             0.6,
             "#e6f5d0"
            ],
            [
             0.7,
             "#b8e186"
            ],
            [
             0.8,
             "#7fbc41"
            ],
            [
             0.9,
             "#4d9221"
            ],
            [
             1,
             "#276419"
            ]
           ],
           "sequential": [
            [
             0,
             "#0d0887"
            ],
            [
             0.1111111111111111,
             "#46039f"
            ],
            [
             0.2222222222222222,
             "#7201a8"
            ],
            [
             0.3333333333333333,
             "#9c179e"
            ],
            [
             0.4444444444444444,
             "#bd3786"
            ],
            [
             0.5555555555555556,
             "#d8576b"
            ],
            [
             0.6666666666666666,
             "#ed7953"
            ],
            [
             0.7777777777777778,
             "#fb9f3a"
            ],
            [
             0.8888888888888888,
             "#fdca26"
            ],
            [
             1,
             "#f0f921"
            ]
           ],
           "sequentialminus": [
            [
             0,
             "#0d0887"
            ],
            [
             0.1111111111111111,
             "#46039f"
            ],
            [
             0.2222222222222222,
             "#7201a8"
            ],
            [
             0.3333333333333333,
             "#9c179e"
            ],
            [
             0.4444444444444444,
             "#bd3786"
            ],
            [
             0.5555555555555556,
             "#d8576b"
            ],
            [
             0.6666666666666666,
             "#ed7953"
            ],
            [
             0.7777777777777778,
             "#fb9f3a"
            ],
            [
             0.8888888888888888,
             "#fdca26"
            ],
            [
             1,
             "#f0f921"
            ]
           ]
          },
          "colorway": [
           "#636efa",
           "#EF553B",
           "#00cc96",
           "#ab63fa",
           "#FFA15A",
           "#19d3f3",
           "#FF6692",
           "#B6E880",
           "#FF97FF",
           "#FECB52"
          ],
          "font": {
           "color": "#2a3f5f"
          },
          "geo": {
           "bgcolor": "white",
           "lakecolor": "white",
           "landcolor": "#E5ECF6",
           "showlakes": true,
           "showland": true,
           "subunitcolor": "white"
          },
          "hoverlabel": {
           "align": "left"
          },
          "hovermode": "closest",
          "mapbox": {
           "style": "light"
          },
          "paper_bgcolor": "white",
          "plot_bgcolor": "#E5ECF6",
          "polar": {
           "angularaxis": {
            "gridcolor": "white",
            "linecolor": "white",
            "ticks": ""
           },
           "bgcolor": "#E5ECF6",
           "radialaxis": {
            "gridcolor": "white",
            "linecolor": "white",
            "ticks": ""
           }
          },
          "scene": {
           "xaxis": {
            "backgroundcolor": "#E5ECF6",
            "gridcolor": "white",
            "gridwidth": 2,
            "linecolor": "white",
            "showbackground": true,
            "ticks": "",
            "zerolinecolor": "white"
           },
           "yaxis": {
            "backgroundcolor": "#E5ECF6",
            "gridcolor": "white",
            "gridwidth": 2,
            "linecolor": "white",
            "showbackground": true,
            "ticks": "",
            "zerolinecolor": "white"
           },
           "zaxis": {
            "backgroundcolor": "#E5ECF6",
            "gridcolor": "white",
            "gridwidth": 2,
            "linecolor": "white",
            "showbackground": true,
            "ticks": "",
            "zerolinecolor": "white"
           }
          },
          "shapedefaults": {
           "line": {
            "color": "#2a3f5f"
           }
          },
          "ternary": {
           "aaxis": {
            "gridcolor": "white",
            "linecolor": "white",
            "ticks": ""
           },
           "baxis": {
            "gridcolor": "white",
            "linecolor": "white",
            "ticks": ""
           },
           "bgcolor": "#E5ECF6",
           "caxis": {
            "gridcolor": "white",
            "linecolor": "white",
            "ticks": ""
           }
          },
          "title": {
           "x": 0.05
          },
          "xaxis": {
           "automargin": true,
           "gridcolor": "white",
           "linecolor": "white",
           "ticks": "",
           "title": {
            "standoff": 15
           },
           "zerolinecolor": "white",
           "zerolinewidth": 2
          },
          "yaxis": {
           "automargin": true,
           "gridcolor": "white",
           "linecolor": "white",
           "ticks": "",
           "title": {
            "standoff": 15
           },
           "zerolinecolor": "white",
           "zerolinewidth": 2
          }
         }
        },
        "title": {
         "text": "Dane wejściowe"
        },
        "xaxis": {
         "anchor": "y",
         "domain": [
          0,
          1
         ],
         "title": {
          "text": "x"
         }
        },
        "yaxis": {
         "anchor": "x",
         "domain": [
          0,
          1
         ],
         "title": {
          "text": "y"
         }
        }
       }
      }
     },
     "metadata": {},
     "output_type": "display_data"
    }
   ],
   "source": [
    "#Smote test\n",
    "# tutaj jest tymczasowy test Smote żeby ogarnąć poprawne liczebności\n",
    "import plotly.express as px\n",
    "temp_Cluter = np.array([[1,3,2,4,6,2,1,3,6,4,5,1,5,2,6,8,7,9,5,8,6,8,7,9,5,7,4,5,7],\n",
    "                        [3,1,2,6,2,5,4,3,2,1,3,3,2,1,6,5,7,6,4,8,9,5,8,4,7,5,6,8,4]])\n",
    "temp_Cluter_y = np.array([0,0,0,0,0,0,0,0,0,0,0,0,0,0,0,0,0,1,1,1,1,1,1,1,1,1,1,1,1])\n",
    "print('temp_Cluter shape: ',temp_Cluter.shape)\n",
    "print('temp_Cluter_y shape: ',temp_Cluter_y.shape)\n",
    "fig = px.scatter(x=temp_Cluter[0],y=temp_Cluter[1],title=\"Dane wejściowe\")\n",
    "fig.show()"
   ]
  },
  {
   "cell_type": "markdown",
   "id": "fddc0860",
   "metadata": {},
   "source": [
    "Liczebność zbioru wejściowego:"
   ]
  },
  {
   "cell_type": "code",
   "execution_count": 19,
   "id": "c1b75fb4",
   "metadata": {},
   "outputs": [
    {
     "name": "stdout",
     "output_type": "stream",
     "text": [
      "Chcemy uzyskać 100 próbek wyjściowych\n",
      "Przewidujemy, że dosaniemy próbek wyjściowych:  99.76\n",
      "3.44\n",
      "3\n"
     ]
    }
   ],
   "source": [
    "import math\n",
    "# teraz określamy ile chcemy próbek dorobić:\n",
    "# chcemy mieć 100 próbek\n",
    "desired = 100\n",
    "print('Chcemy uzyskać 100 próbek wyjściowych')\n",
    "#obecnie mamy size próbek\n",
    "size  = temp_Cluter.shape[1]\n",
    "\n",
    "todoSamples = int(((desired/size)-1 )*100)\n",
    "print(\"Przewidujemy, że dosaniemy próbek wyjściowych: \", (todoSamples/100+1)*len(temp_Cluter_y))\n",
    "print((todoSamples/100+1))\n",
    "print(math.floor(todoSamples/100)+1)\n",
    "temp_out = SMOTE_ByMedium(pd.DataFrame(temp_Cluter.T), todoSamples, 5)"
   ]
  },
  {
   "cell_type": "code",
   "execution_count": 20,
   "id": "278da139",
   "metadata": {},
   "outputs": [
    {
     "name": "stdout",
     "output_type": "stream",
     "text": [
      "58\n",
      "29\n",
      "87\n"
     ]
    }
   ],
   "source": [
    "temp_out.T\n",
    "print(len(temp_out.T[0]))\n",
    "print(len(temp_Cluter[0]))\n",
    "print(len(temp_out.T[0])+len(temp_Cluter[0]))"
   ]
  },
  {
   "cell_type": "code",
   "execution_count": 21,
   "id": "49a27cd3",
   "metadata": {},
   "outputs": [
    {
     "name": "stdout",
     "output_type": "stream",
     "text": [
      "[[1, 3, 2, 4, 6, 2, 1, 3, 6, 4, 5, 1, 5, 2, 6, 8, 7, 9, 5, 8, 6, 8, 7, 9, 5, 7, 4, 5, 7, 1.0, 2.4659050830554667, 3.8834101177006404, 3.7978059791521925, 2.0, 2.278774764302708, 3.1543656464519554, 4.524298563064091, 5.758421699385621, 5.832697882819067, 1.70542539465129, 3.8167256433954937, 1.7704672366715455, 1.0, 1.3226397786545068, 2.2789744621524637, 6.0, 5.88383711896199, 3.6394542351975363, 5.083146115785436, 5.0, 5.0, 1.0, 1.6003562477007223, 5.0, 5.642893830366326, 1.1924307655803756, 2.0, 6.383944440845423, 5.725292001044635, 8.49138125793966, 8.843237494846393, 7.556470810273051, 7.0, 9.0, 8.412894728091016, 5.0, 5.0, 7.347528232090392, 7.046745818273109, 6.762941686735793, 6.778106879698074, 7.934489165670645, 7.606922531788311, 6.414450862883358, 6.571729661222177, 9.0, 8.27009924025273, 5.0, 4.290480352378447, 7.0, 7.587995768830378, 4.619855554747724, 4.0, 6.300090064473732, 5.0, 7.293509333871607, 7.0], [3, 1, 2, 6, 2, 5, 4, 3, 2, 1, 3, 3, 2, 1, 6, 5, 7, 6, 4, 8, 9, 5, 8, 4, 7, 5, 6, 8, 4, 3.086337831744633, 3.0, 1.0, 1.6510336217771278, 1.8857159254057838, 1.0213540439477065, 5.977967077957766, 4.414178371548802, 2.050534507376195, 2.0, 3.875184054106873, 5.4232272276501785, 4.457544814949874, 3.4991378726878453, 3.0, 2.4866450796881754, 2.0, 2.1489998557756493, 1.0, 1.831352228129584, 2.643542731936676, 2.6713765818275497, 3.61329231070529, 3.0, 2.8869092837237127, 2.0, 1.6766391311952038, 1.8978953751752203, 6.102166014144782, 6.0, 5.864653204913773, 4.00268269953903, 7.779298529100687, 6.730599711806909, 5.926140005485308, 5.333888084251482, 2.709091347101954, 2.308756194767194, 7.224967546483608, 8.0, 7.765771760931704, 8.71084886030537, 5.0, 4.835967741502598, 6.241487102045511, 8.630488990246274, 5.643786578402536, 4.76375659245927, 7.126528288146074, 6.761539302649881, 4.646076646367249, 5.0, 6.356522748186151, 6.0, 7.530058371580598, 7.5254216484217995, 4.780792799795921, 4.821416191624292]]\n"
     ]
    }
   ],
   "source": [
    "temp_Cluter_OUT = [[*temp_Cluter[0],*temp_out.T[0]],[*temp_Cluter[1],*temp_out.T[1]]]\n",
    "print(temp_Cluter_OUT)"
   ]
  },
  {
   "cell_type": "code",
   "execution_count": 22,
   "id": "43102747",
   "metadata": {},
   "outputs": [
    {
     "data": {
      "application/vnd.plotly.v1+json": {
       "config": {
        "plotlyServerURL": "https://plot.ly"
       },
       "data": [
        {
         "hovertemplate": "x=%{x}<br>y=%{y}<extra></extra>",
         "legendgroup": "",
         "marker": {
          "color": "#636efa",
          "symbol": "circle"
         },
         "mode": "markers",
         "name": "",
         "orientation": "v",
         "showlegend": false,
         "type": "scatter",
         "x": [
          1,
          2.4659050830554667,
          3.8834101177006404,
          3.7978059791521925,
          2,
          2.278774764302708,
          3.1543656464519554,
          4.524298563064091,
          5.758421699385621,
          5.832697882819067,
          1.70542539465129,
          3.8167256433954937,
          1.7704672366715455,
          1,
          1.3226397786545068,
          2.2789744621524637,
          6,
          5.88383711896199,
          3.6394542351975363,
          5.083146115785436,
          5,
          5,
          1,
          1.6003562477007223,
          5,
          5.642893830366326,
          1.1924307655803756,
          2,
          6.383944440845423,
          5.725292001044635,
          8.49138125793966,
          8.843237494846393,
          7.556470810273051,
          7,
          9,
          8.412894728091016,
          5,
          5,
          7.347528232090392,
          7.046745818273109,
          6.762941686735793,
          6.778106879698074,
          7.934489165670645,
          7.606922531788311,
          6.414450862883358,
          6.571729661222177,
          9,
          8.27009924025273,
          5,
          4.290480352378447,
          7,
          7.587995768830378,
          4.619855554747724,
          4,
          6.300090064473732,
          5,
          7.293509333871607,
          7
         ],
         "xaxis": "x",
         "y": [
          3.086337831744633,
          3,
          1,
          1.6510336217771278,
          1.8857159254057838,
          1.0213540439477065,
          5.977967077957766,
          4.414178371548802,
          2.050534507376195,
          2,
          3.875184054106873,
          5.4232272276501785,
          4.457544814949874,
          3.4991378726878453,
          3,
          2.4866450796881754,
          2,
          2.1489998557756493,
          1,
          1.831352228129584,
          2.643542731936676,
          2.6713765818275497,
          3.61329231070529,
          3,
          2.8869092837237127,
          2,
          1.6766391311952038,
          1.8978953751752203,
          6.102166014144782,
          6,
          5.864653204913773,
          4.00268269953903,
          7.779298529100687,
          6.730599711806909,
          5.926140005485308,
          5.333888084251482,
          2.709091347101954,
          2.308756194767194,
          7.224967546483608,
          8,
          7.765771760931704,
          8.71084886030537,
          5,
          4.835967741502598,
          6.241487102045511,
          8.630488990246274,
          5.643786578402536,
          4.76375659245927,
          7.126528288146074,
          6.761539302649881,
          4.646076646367249,
          5,
          6.356522748186151,
          6,
          7.530058371580598,
          7.5254216484217995,
          4.780792799795921,
          4.821416191624292
         ],
         "yaxis": "y"
        }
       ],
       "layout": {
        "legend": {
         "tracegroupgap": 0
        },
        "template": {
         "data": {
          "bar": [
           {
            "error_x": {
             "color": "#2a3f5f"
            },
            "error_y": {
             "color": "#2a3f5f"
            },
            "marker": {
             "line": {
              "color": "#E5ECF6",
              "width": 0.5
             },
             "pattern": {
              "fillmode": "overlay",
              "size": 10,
              "solidity": 0.2
             }
            },
            "type": "bar"
           }
          ],
          "barpolar": [
           {
            "marker": {
             "line": {
              "color": "#E5ECF6",
              "width": 0.5
             },
             "pattern": {
              "fillmode": "overlay",
              "size": 10,
              "solidity": 0.2
             }
            },
            "type": "barpolar"
           }
          ],
          "carpet": [
           {
            "aaxis": {
             "endlinecolor": "#2a3f5f",
             "gridcolor": "white",
             "linecolor": "white",
             "minorgridcolor": "white",
             "startlinecolor": "#2a3f5f"
            },
            "baxis": {
             "endlinecolor": "#2a3f5f",
             "gridcolor": "white",
             "linecolor": "white",
             "minorgridcolor": "white",
             "startlinecolor": "#2a3f5f"
            },
            "type": "carpet"
           }
          ],
          "choropleth": [
           {
            "colorbar": {
             "outlinewidth": 0,
             "ticks": ""
            },
            "type": "choropleth"
           }
          ],
          "contour": [
           {
            "colorbar": {
             "outlinewidth": 0,
             "ticks": ""
            },
            "colorscale": [
             [
              0,
              "#0d0887"
             ],
             [
              0.1111111111111111,
              "#46039f"
             ],
             [
              0.2222222222222222,
              "#7201a8"
             ],
             [
              0.3333333333333333,
              "#9c179e"
             ],
             [
              0.4444444444444444,
              "#bd3786"
             ],
             [
              0.5555555555555556,
              "#d8576b"
             ],
             [
              0.6666666666666666,
              "#ed7953"
             ],
             [
              0.7777777777777778,
              "#fb9f3a"
             ],
             [
              0.8888888888888888,
              "#fdca26"
             ],
             [
              1,
              "#f0f921"
             ]
            ],
            "type": "contour"
           }
          ],
          "contourcarpet": [
           {
            "colorbar": {
             "outlinewidth": 0,
             "ticks": ""
            },
            "type": "contourcarpet"
           }
          ],
          "heatmap": [
           {
            "colorbar": {
             "outlinewidth": 0,
             "ticks": ""
            },
            "colorscale": [
             [
              0,
              "#0d0887"
             ],
             [
              0.1111111111111111,
              "#46039f"
             ],
             [
              0.2222222222222222,
              "#7201a8"
             ],
             [
              0.3333333333333333,
              "#9c179e"
             ],
             [
              0.4444444444444444,
              "#bd3786"
             ],
             [
              0.5555555555555556,
              "#d8576b"
             ],
             [
              0.6666666666666666,
              "#ed7953"
             ],
             [
              0.7777777777777778,
              "#fb9f3a"
             ],
             [
              0.8888888888888888,
              "#fdca26"
             ],
             [
              1,
              "#f0f921"
             ]
            ],
            "type": "heatmap"
           }
          ],
          "heatmapgl": [
           {
            "colorbar": {
             "outlinewidth": 0,
             "ticks": ""
            },
            "colorscale": [
             [
              0,
              "#0d0887"
             ],
             [
              0.1111111111111111,
              "#46039f"
             ],
             [
              0.2222222222222222,
              "#7201a8"
             ],
             [
              0.3333333333333333,
              "#9c179e"
             ],
             [
              0.4444444444444444,
              "#bd3786"
             ],
             [
              0.5555555555555556,
              "#d8576b"
             ],
             [
              0.6666666666666666,
              "#ed7953"
             ],
             [
              0.7777777777777778,
              "#fb9f3a"
             ],
             [
              0.8888888888888888,
              "#fdca26"
             ],
             [
              1,
              "#f0f921"
             ]
            ],
            "type": "heatmapgl"
           }
          ],
          "histogram": [
           {
            "marker": {
             "pattern": {
              "fillmode": "overlay",
              "size": 10,
              "solidity": 0.2
             }
            },
            "type": "histogram"
           }
          ],
          "histogram2d": [
           {
            "colorbar": {
             "outlinewidth": 0,
             "ticks": ""
            },
            "colorscale": [
             [
              0,
              "#0d0887"
             ],
             [
              0.1111111111111111,
              "#46039f"
             ],
             [
              0.2222222222222222,
              "#7201a8"
             ],
             [
              0.3333333333333333,
              "#9c179e"
             ],
             [
              0.4444444444444444,
              "#bd3786"
             ],
             [
              0.5555555555555556,
              "#d8576b"
             ],
             [
              0.6666666666666666,
              "#ed7953"
             ],
             [
              0.7777777777777778,
              "#fb9f3a"
             ],
             [
              0.8888888888888888,
              "#fdca26"
             ],
             [
              1,
              "#f0f921"
             ]
            ],
            "type": "histogram2d"
           }
          ],
          "histogram2dcontour": [
           {
            "colorbar": {
             "outlinewidth": 0,
             "ticks": ""
            },
            "colorscale": [
             [
              0,
              "#0d0887"
             ],
             [
              0.1111111111111111,
              "#46039f"
             ],
             [
              0.2222222222222222,
              "#7201a8"
             ],
             [
              0.3333333333333333,
              "#9c179e"
             ],
             [
              0.4444444444444444,
              "#bd3786"
             ],
             [
              0.5555555555555556,
              "#d8576b"
             ],
             [
              0.6666666666666666,
              "#ed7953"
             ],
             [
              0.7777777777777778,
              "#fb9f3a"
             ],
             [
              0.8888888888888888,
              "#fdca26"
             ],
             [
              1,
              "#f0f921"
             ]
            ],
            "type": "histogram2dcontour"
           }
          ],
          "mesh3d": [
           {
            "colorbar": {
             "outlinewidth": 0,
             "ticks": ""
            },
            "type": "mesh3d"
           }
          ],
          "parcoords": [
           {
            "line": {
             "colorbar": {
              "outlinewidth": 0,
              "ticks": ""
             }
            },
            "type": "parcoords"
           }
          ],
          "pie": [
           {
            "automargin": true,
            "type": "pie"
           }
          ],
          "scatter": [
           {
            "fillpattern": {
             "fillmode": "overlay",
             "size": 10,
             "solidity": 0.2
            },
            "type": "scatter"
           }
          ],
          "scatter3d": [
           {
            "line": {
             "colorbar": {
              "outlinewidth": 0,
              "ticks": ""
             }
            },
            "marker": {
             "colorbar": {
              "outlinewidth": 0,
              "ticks": ""
             }
            },
            "type": "scatter3d"
           }
          ],
          "scattercarpet": [
           {
            "marker": {
             "colorbar": {
              "outlinewidth": 0,
              "ticks": ""
             }
            },
            "type": "scattercarpet"
           }
          ],
          "scattergeo": [
           {
            "marker": {
             "colorbar": {
              "outlinewidth": 0,
              "ticks": ""
             }
            },
            "type": "scattergeo"
           }
          ],
          "scattergl": [
           {
            "marker": {
             "colorbar": {
              "outlinewidth": 0,
              "ticks": ""
             }
            },
            "type": "scattergl"
           }
          ],
          "scattermapbox": [
           {
            "marker": {
             "colorbar": {
              "outlinewidth": 0,
              "ticks": ""
             }
            },
            "type": "scattermapbox"
           }
          ],
          "scatterpolar": [
           {
            "marker": {
             "colorbar": {
              "outlinewidth": 0,
              "ticks": ""
             }
            },
            "type": "scatterpolar"
           }
          ],
          "scatterpolargl": [
           {
            "marker": {
             "colorbar": {
              "outlinewidth": 0,
              "ticks": ""
             }
            },
            "type": "scatterpolargl"
           }
          ],
          "scatterternary": [
           {
            "marker": {
             "colorbar": {
              "outlinewidth": 0,
              "ticks": ""
             }
            },
            "type": "scatterternary"
           }
          ],
          "surface": [
           {
            "colorbar": {
             "outlinewidth": 0,
             "ticks": ""
            },
            "colorscale": [
             [
              0,
              "#0d0887"
             ],
             [
              0.1111111111111111,
              "#46039f"
             ],
             [
              0.2222222222222222,
              "#7201a8"
             ],
             [
              0.3333333333333333,
              "#9c179e"
             ],
             [
              0.4444444444444444,
              "#bd3786"
             ],
             [
              0.5555555555555556,
              "#d8576b"
             ],
             [
              0.6666666666666666,
              "#ed7953"
             ],
             [
              0.7777777777777778,
              "#fb9f3a"
             ],
             [
              0.8888888888888888,
              "#fdca26"
             ],
             [
              1,
              "#f0f921"
             ]
            ],
            "type": "surface"
           }
          ],
          "table": [
           {
            "cells": {
             "fill": {
              "color": "#EBF0F8"
             },
             "line": {
              "color": "white"
             }
            },
            "header": {
             "fill": {
              "color": "#C8D4E3"
             },
             "line": {
              "color": "white"
             }
            },
            "type": "table"
           }
          ]
         },
         "layout": {
          "annotationdefaults": {
           "arrowcolor": "#2a3f5f",
           "arrowhead": 0,
           "arrowwidth": 1
          },
          "autotypenumbers": "strict",
          "coloraxis": {
           "colorbar": {
            "outlinewidth": 0,
            "ticks": ""
           }
          },
          "colorscale": {
           "diverging": [
            [
             0,
             "#8e0152"
            ],
            [
             0.1,
             "#c51b7d"
            ],
            [
             0.2,
             "#de77ae"
            ],
            [
             0.3,
             "#f1b6da"
            ],
            [
             0.4,
             "#fde0ef"
            ],
            [
             0.5,
             "#f7f7f7"
            ],
            [
             0.6,
             "#e6f5d0"
            ],
            [
             0.7,
             "#b8e186"
            ],
            [
             0.8,
             "#7fbc41"
            ],
            [
             0.9,
             "#4d9221"
            ],
            [
             1,
             "#276419"
            ]
           ],
           "sequential": [
            [
             0,
             "#0d0887"
            ],
            [
             0.1111111111111111,
             "#46039f"
            ],
            [
             0.2222222222222222,
             "#7201a8"
            ],
            [
             0.3333333333333333,
             "#9c179e"
            ],
            [
             0.4444444444444444,
             "#bd3786"
            ],
            [
             0.5555555555555556,
             "#d8576b"
            ],
            [
             0.6666666666666666,
             "#ed7953"
            ],
            [
             0.7777777777777778,
             "#fb9f3a"
            ],
            [
             0.8888888888888888,
             "#fdca26"
            ],
            [
             1,
             "#f0f921"
            ]
           ],
           "sequentialminus": [
            [
             0,
             "#0d0887"
            ],
            [
             0.1111111111111111,
             "#46039f"
            ],
            [
             0.2222222222222222,
             "#7201a8"
            ],
            [
             0.3333333333333333,
             "#9c179e"
            ],
            [
             0.4444444444444444,
             "#bd3786"
            ],
            [
             0.5555555555555556,
             "#d8576b"
            ],
            [
             0.6666666666666666,
             "#ed7953"
            ],
            [
             0.7777777777777778,
             "#fb9f3a"
            ],
            [
             0.8888888888888888,
             "#fdca26"
            ],
            [
             1,
             "#f0f921"
            ]
           ]
          },
          "colorway": [
           "#636efa",
           "#EF553B",
           "#00cc96",
           "#ab63fa",
           "#FFA15A",
           "#19d3f3",
           "#FF6692",
           "#B6E880",
           "#FF97FF",
           "#FECB52"
          ],
          "font": {
           "color": "#2a3f5f"
          },
          "geo": {
           "bgcolor": "white",
           "lakecolor": "white",
           "landcolor": "#E5ECF6",
           "showlakes": true,
           "showland": true,
           "subunitcolor": "white"
          },
          "hoverlabel": {
           "align": "left"
          },
          "hovermode": "closest",
          "mapbox": {
           "style": "light"
          },
          "paper_bgcolor": "white",
          "plot_bgcolor": "#E5ECF6",
          "polar": {
           "angularaxis": {
            "gridcolor": "white",
            "linecolor": "white",
            "ticks": ""
           },
           "bgcolor": "#E5ECF6",
           "radialaxis": {
            "gridcolor": "white",
            "linecolor": "white",
            "ticks": ""
           }
          },
          "scene": {
           "xaxis": {
            "backgroundcolor": "#E5ECF6",
            "gridcolor": "white",
            "gridwidth": 2,
            "linecolor": "white",
            "showbackground": true,
            "ticks": "",
            "zerolinecolor": "white"
           },
           "yaxis": {
            "backgroundcolor": "#E5ECF6",
            "gridcolor": "white",
            "gridwidth": 2,
            "linecolor": "white",
            "showbackground": true,
            "ticks": "",
            "zerolinecolor": "white"
           },
           "zaxis": {
            "backgroundcolor": "#E5ECF6",
            "gridcolor": "white",
            "gridwidth": 2,
            "linecolor": "white",
            "showbackground": true,
            "ticks": "",
            "zerolinecolor": "white"
           }
          },
          "shapedefaults": {
           "line": {
            "color": "#2a3f5f"
           }
          },
          "ternary": {
           "aaxis": {
            "gridcolor": "white",
            "linecolor": "white",
            "ticks": ""
           },
           "baxis": {
            "gridcolor": "white",
            "linecolor": "white",
            "ticks": ""
           },
           "bgcolor": "#E5ECF6",
           "caxis": {
            "gridcolor": "white",
            "linecolor": "white",
            "ticks": ""
           }
          },
          "title": {
           "x": 0.05
          },
          "xaxis": {
           "automargin": true,
           "gridcolor": "white",
           "linecolor": "white",
           "ticks": "",
           "title": {
            "standoff": 15
           },
           "zerolinecolor": "white",
           "zerolinewidth": 2
          },
          "yaxis": {
           "automargin": true,
           "gridcolor": "white",
           "linecolor": "white",
           "ticks": "",
           "title": {
            "standoff": 15
           },
           "zerolinecolor": "white",
           "zerolinewidth": 2
          }
         }
        },
        "title": {
         "text": "Wygenerowane"
        },
        "xaxis": {
         "anchor": "y",
         "domain": [
          0,
          1
         ],
         "title": {
          "text": "x"
         }
        },
        "yaxis": {
         "anchor": "x",
         "domain": [
          0,
          1
         ],
         "title": {
          "text": "y"
         }
        }
       }
      }
     },
     "metadata": {},
     "output_type": "display_data"
    }
   ],
   "source": [
    "fig = px.scatter(x= temp_out.T[0], y= temp_out.T[1],title='Wygenerowane')\n",
    "fig.show()"
   ]
  },
  {
   "cell_type": "code",
   "execution_count": 23,
   "id": "d625e36b",
   "metadata": {},
   "outputs": [
    {
     "data": {
      "application/vnd.plotly.v1+json": {
       "config": {
        "plotlyServerURL": "https://plot.ly"
       },
       "data": [
        {
         "hovertemplate": "x=%{x}<br>y=%{y}<extra></extra>",
         "legendgroup": "",
         "marker": {
          "color": "#636efa",
          "symbol": "circle"
         },
         "mode": "markers",
         "name": "",
         "orientation": "v",
         "showlegend": false,
         "type": "scatter",
         "x": [
          1,
          3,
          2,
          4,
          6,
          2,
          1,
          3,
          6,
          4,
          5,
          1,
          5,
          2,
          6,
          8,
          7,
          9,
          5,
          8,
          6,
          8,
          7,
          9,
          5,
          7,
          4,
          5,
          7,
          1,
          2.4659050830554667,
          3.8834101177006404,
          3.7978059791521925,
          2,
          2.278774764302708,
          3.1543656464519554,
          4.524298563064091,
          5.758421699385621,
          5.832697882819067,
          1.70542539465129,
          3.8167256433954937,
          1.7704672366715455,
          1,
          1.3226397786545068,
          2.2789744621524637,
          6,
          5.88383711896199,
          3.6394542351975363,
          5.083146115785436,
          5,
          5,
          1,
          1.6003562477007223,
          5,
          5.642893830366326,
          1.1924307655803756,
          2,
          6.383944440845423,
          5.725292001044635,
          8.49138125793966,
          8.843237494846393,
          7.556470810273051,
          7,
          9,
          8.412894728091016,
          5,
          5,
          7.347528232090392,
          7.046745818273109,
          6.762941686735793,
          6.778106879698074,
          7.934489165670645,
          7.606922531788311,
          6.414450862883358,
          6.571729661222177,
          9,
          8.27009924025273,
          5,
          4.290480352378447,
          7,
          7.587995768830378,
          4.619855554747724,
          4,
          6.300090064473732,
          5,
          7.293509333871607,
          7
         ],
         "xaxis": "x",
         "y": [
          3,
          1,
          2,
          6,
          2,
          5,
          4,
          3,
          2,
          1,
          3,
          3,
          2,
          1,
          6,
          5,
          7,
          6,
          4,
          8,
          9,
          5,
          8,
          4,
          7,
          5,
          6,
          8,
          4,
          3.086337831744633,
          3,
          1,
          1.6510336217771278,
          1.8857159254057838,
          1.0213540439477065,
          5.977967077957766,
          4.414178371548802,
          2.050534507376195,
          2,
          3.875184054106873,
          5.4232272276501785,
          4.457544814949874,
          3.4991378726878453,
          3,
          2.4866450796881754,
          2,
          2.1489998557756493,
          1,
          1.831352228129584,
          2.643542731936676,
          2.6713765818275497,
          3.61329231070529,
          3,
          2.8869092837237127,
          2,
          1.6766391311952038,
          1.8978953751752203,
          6.102166014144782,
          6,
          5.864653204913773,
          4.00268269953903,
          7.779298529100687,
          6.730599711806909,
          5.926140005485308,
          5.333888084251482,
          2.709091347101954,
          2.308756194767194,
          7.224967546483608,
          8,
          7.765771760931704,
          8.71084886030537,
          5,
          4.835967741502598,
          6.241487102045511,
          8.630488990246274,
          5.643786578402536,
          4.76375659245927,
          7.126528288146074,
          6.761539302649881,
          4.646076646367249,
          5,
          6.356522748186151,
          6,
          7.530058371580598,
          7.5254216484217995,
          4.780792799795921,
          4.821416191624292
         ],
         "yaxis": "y"
        }
       ],
       "layout": {
        "legend": {
         "tracegroupgap": 0
        },
        "template": {
         "data": {
          "bar": [
           {
            "error_x": {
             "color": "#2a3f5f"
            },
            "error_y": {
             "color": "#2a3f5f"
            },
            "marker": {
             "line": {
              "color": "#E5ECF6",
              "width": 0.5
             },
             "pattern": {
              "fillmode": "overlay",
              "size": 10,
              "solidity": 0.2
             }
            },
            "type": "bar"
           }
          ],
          "barpolar": [
           {
            "marker": {
             "line": {
              "color": "#E5ECF6",
              "width": 0.5
             },
             "pattern": {
              "fillmode": "overlay",
              "size": 10,
              "solidity": 0.2
             }
            },
            "type": "barpolar"
           }
          ],
          "carpet": [
           {
            "aaxis": {
             "endlinecolor": "#2a3f5f",
             "gridcolor": "white",
             "linecolor": "white",
             "minorgridcolor": "white",
             "startlinecolor": "#2a3f5f"
            },
            "baxis": {
             "endlinecolor": "#2a3f5f",
             "gridcolor": "white",
             "linecolor": "white",
             "minorgridcolor": "white",
             "startlinecolor": "#2a3f5f"
            },
            "type": "carpet"
           }
          ],
          "choropleth": [
           {
            "colorbar": {
             "outlinewidth": 0,
             "ticks": ""
            },
            "type": "choropleth"
           }
          ],
          "contour": [
           {
            "colorbar": {
             "outlinewidth": 0,
             "ticks": ""
            },
            "colorscale": [
             [
              0,
              "#0d0887"
             ],
             [
              0.1111111111111111,
              "#46039f"
             ],
             [
              0.2222222222222222,
              "#7201a8"
             ],
             [
              0.3333333333333333,
              "#9c179e"
             ],
             [
              0.4444444444444444,
              "#bd3786"
             ],
             [
              0.5555555555555556,
              "#d8576b"
             ],
             [
              0.6666666666666666,
              "#ed7953"
             ],
             [
              0.7777777777777778,
              "#fb9f3a"
             ],
             [
              0.8888888888888888,
              "#fdca26"
             ],
             [
              1,
              "#f0f921"
             ]
            ],
            "type": "contour"
           }
          ],
          "contourcarpet": [
           {
            "colorbar": {
             "outlinewidth": 0,
             "ticks": ""
            },
            "type": "contourcarpet"
           }
          ],
          "heatmap": [
           {
            "colorbar": {
             "outlinewidth": 0,
             "ticks": ""
            },
            "colorscale": [
             [
              0,
              "#0d0887"
             ],
             [
              0.1111111111111111,
              "#46039f"
             ],
             [
              0.2222222222222222,
              "#7201a8"
             ],
             [
              0.3333333333333333,
              "#9c179e"
             ],
             [
              0.4444444444444444,
              "#bd3786"
             ],
             [
              0.5555555555555556,
              "#d8576b"
             ],
             [
              0.6666666666666666,
              "#ed7953"
             ],
             [
              0.7777777777777778,
              "#fb9f3a"
             ],
             [
              0.8888888888888888,
              "#fdca26"
             ],
             [
              1,
              "#f0f921"
             ]
            ],
            "type": "heatmap"
           }
          ],
          "heatmapgl": [
           {
            "colorbar": {
             "outlinewidth": 0,
             "ticks": ""
            },
            "colorscale": [
             [
              0,
              "#0d0887"
             ],
             [
              0.1111111111111111,
              "#46039f"
             ],
             [
              0.2222222222222222,
              "#7201a8"
             ],
             [
              0.3333333333333333,
              "#9c179e"
             ],
             [
              0.4444444444444444,
              "#bd3786"
             ],
             [
              0.5555555555555556,
              "#d8576b"
             ],
             [
              0.6666666666666666,
              "#ed7953"
             ],
             [
              0.7777777777777778,
              "#fb9f3a"
             ],
             [
              0.8888888888888888,
              "#fdca26"
             ],
             [
              1,
              "#f0f921"
             ]
            ],
            "type": "heatmapgl"
           }
          ],
          "histogram": [
           {
            "marker": {
             "pattern": {
              "fillmode": "overlay",
              "size": 10,
              "solidity": 0.2
             }
            },
            "type": "histogram"
           }
          ],
          "histogram2d": [
           {
            "colorbar": {
             "outlinewidth": 0,
             "ticks": ""
            },
            "colorscale": [
             [
              0,
              "#0d0887"
             ],
             [
              0.1111111111111111,
              "#46039f"
             ],
             [
              0.2222222222222222,
              "#7201a8"
             ],
             [
              0.3333333333333333,
              "#9c179e"
             ],
             [
              0.4444444444444444,
              "#bd3786"
             ],
             [
              0.5555555555555556,
              "#d8576b"
             ],
             [
              0.6666666666666666,
              "#ed7953"
             ],
             [
              0.7777777777777778,
              "#fb9f3a"
             ],
             [
              0.8888888888888888,
              "#fdca26"
             ],
             [
              1,
              "#f0f921"
             ]
            ],
            "type": "histogram2d"
           }
          ],
          "histogram2dcontour": [
           {
            "colorbar": {
             "outlinewidth": 0,
             "ticks": ""
            },
            "colorscale": [
             [
              0,
              "#0d0887"
             ],
             [
              0.1111111111111111,
              "#46039f"
             ],
             [
              0.2222222222222222,
              "#7201a8"
             ],
             [
              0.3333333333333333,
              "#9c179e"
             ],
             [
              0.4444444444444444,
              "#bd3786"
             ],
             [
              0.5555555555555556,
              "#d8576b"
             ],
             [
              0.6666666666666666,
              "#ed7953"
             ],
             [
              0.7777777777777778,
              "#fb9f3a"
             ],
             [
              0.8888888888888888,
              "#fdca26"
             ],
             [
              1,
              "#f0f921"
             ]
            ],
            "type": "histogram2dcontour"
           }
          ],
          "mesh3d": [
           {
            "colorbar": {
             "outlinewidth": 0,
             "ticks": ""
            },
            "type": "mesh3d"
           }
          ],
          "parcoords": [
           {
            "line": {
             "colorbar": {
              "outlinewidth": 0,
              "ticks": ""
             }
            },
            "type": "parcoords"
           }
          ],
          "pie": [
           {
            "automargin": true,
            "type": "pie"
           }
          ],
          "scatter": [
           {
            "fillpattern": {
             "fillmode": "overlay",
             "size": 10,
             "solidity": 0.2
            },
            "type": "scatter"
           }
          ],
          "scatter3d": [
           {
            "line": {
             "colorbar": {
              "outlinewidth": 0,
              "ticks": ""
             }
            },
            "marker": {
             "colorbar": {
              "outlinewidth": 0,
              "ticks": ""
             }
            },
            "type": "scatter3d"
           }
          ],
          "scattercarpet": [
           {
            "marker": {
             "colorbar": {
              "outlinewidth": 0,
              "ticks": ""
             }
            },
            "type": "scattercarpet"
           }
          ],
          "scattergeo": [
           {
            "marker": {
             "colorbar": {
              "outlinewidth": 0,
              "ticks": ""
             }
            },
            "type": "scattergeo"
           }
          ],
          "scattergl": [
           {
            "marker": {
             "colorbar": {
              "outlinewidth": 0,
              "ticks": ""
             }
            },
            "type": "scattergl"
           }
          ],
          "scattermapbox": [
           {
            "marker": {
             "colorbar": {
              "outlinewidth": 0,
              "ticks": ""
             }
            },
            "type": "scattermapbox"
           }
          ],
          "scatterpolar": [
           {
            "marker": {
             "colorbar": {
              "outlinewidth": 0,
              "ticks": ""
             }
            },
            "type": "scatterpolar"
           }
          ],
          "scatterpolargl": [
           {
            "marker": {
             "colorbar": {
              "outlinewidth": 0,
              "ticks": ""
             }
            },
            "type": "scatterpolargl"
           }
          ],
          "scatterternary": [
           {
            "marker": {
             "colorbar": {
              "outlinewidth": 0,
              "ticks": ""
             }
            },
            "type": "scatterternary"
           }
          ],
          "surface": [
           {
            "colorbar": {
             "outlinewidth": 0,
             "ticks": ""
            },
            "colorscale": [
             [
              0,
              "#0d0887"
             ],
             [
              0.1111111111111111,
              "#46039f"
             ],
             [
              0.2222222222222222,
              "#7201a8"
             ],
             [
              0.3333333333333333,
              "#9c179e"
             ],
             [
              0.4444444444444444,
              "#bd3786"
             ],
             [
              0.5555555555555556,
              "#d8576b"
             ],
             [
              0.6666666666666666,
              "#ed7953"
             ],
             [
              0.7777777777777778,
              "#fb9f3a"
             ],
             [
              0.8888888888888888,
              "#fdca26"
             ],
             [
              1,
              "#f0f921"
             ]
            ],
            "type": "surface"
           }
          ],
          "table": [
           {
            "cells": {
             "fill": {
              "color": "#EBF0F8"
             },
             "line": {
              "color": "white"
             }
            },
            "header": {
             "fill": {
              "color": "#C8D4E3"
             },
             "line": {
              "color": "white"
             }
            },
            "type": "table"
           }
          ]
         },
         "layout": {
          "annotationdefaults": {
           "arrowcolor": "#2a3f5f",
           "arrowhead": 0,
           "arrowwidth": 1
          },
          "autotypenumbers": "strict",
          "coloraxis": {
           "colorbar": {
            "outlinewidth": 0,
            "ticks": ""
           }
          },
          "colorscale": {
           "diverging": [
            [
             0,
             "#8e0152"
            ],
            [
             0.1,
             "#c51b7d"
            ],
            [
             0.2,
             "#de77ae"
            ],
            [
             0.3,
             "#f1b6da"
            ],
            [
             0.4,
             "#fde0ef"
            ],
            [
             0.5,
             "#f7f7f7"
            ],
            [
             0.6,
             "#e6f5d0"
            ],
            [
             0.7,
             "#b8e186"
            ],
            [
             0.8,
             "#7fbc41"
            ],
            [
             0.9,
             "#4d9221"
            ],
            [
             1,
             "#276419"
            ]
           ],
           "sequential": [
            [
             0,
             "#0d0887"
            ],
            [
             0.1111111111111111,
             "#46039f"
            ],
            [
             0.2222222222222222,
             "#7201a8"
            ],
            [
             0.3333333333333333,
             "#9c179e"
            ],
            [
             0.4444444444444444,
             "#bd3786"
            ],
            [
             0.5555555555555556,
             "#d8576b"
            ],
            [
             0.6666666666666666,
             "#ed7953"
            ],
            [
             0.7777777777777778,
             "#fb9f3a"
            ],
            [
             0.8888888888888888,
             "#fdca26"
            ],
            [
             1,
             "#f0f921"
            ]
           ],
           "sequentialminus": [
            [
             0,
             "#0d0887"
            ],
            [
             0.1111111111111111,
             "#46039f"
            ],
            [
             0.2222222222222222,
             "#7201a8"
            ],
            [
             0.3333333333333333,
             "#9c179e"
            ],
            [
             0.4444444444444444,
             "#bd3786"
            ],
            [
             0.5555555555555556,
             "#d8576b"
            ],
            [
             0.6666666666666666,
             "#ed7953"
            ],
            [
             0.7777777777777778,
             "#fb9f3a"
            ],
            [
             0.8888888888888888,
             "#fdca26"
            ],
            [
             1,
             "#f0f921"
            ]
           ]
          },
          "colorway": [
           "#636efa",
           "#EF553B",
           "#00cc96",
           "#ab63fa",
           "#FFA15A",
           "#19d3f3",
           "#FF6692",
           "#B6E880",
           "#FF97FF",
           "#FECB52"
          ],
          "font": {
           "color": "#2a3f5f"
          },
          "geo": {
           "bgcolor": "white",
           "lakecolor": "white",
           "landcolor": "#E5ECF6",
           "showlakes": true,
           "showland": true,
           "subunitcolor": "white"
          },
          "hoverlabel": {
           "align": "left"
          },
          "hovermode": "closest",
          "mapbox": {
           "style": "light"
          },
          "paper_bgcolor": "white",
          "plot_bgcolor": "#E5ECF6",
          "polar": {
           "angularaxis": {
            "gridcolor": "white",
            "linecolor": "white",
            "ticks": ""
           },
           "bgcolor": "#E5ECF6",
           "radialaxis": {
            "gridcolor": "white",
            "linecolor": "white",
            "ticks": ""
           }
          },
          "scene": {
           "xaxis": {
            "backgroundcolor": "#E5ECF6",
            "gridcolor": "white",
            "gridwidth": 2,
            "linecolor": "white",
            "showbackground": true,
            "ticks": "",
            "zerolinecolor": "white"
           },
           "yaxis": {
            "backgroundcolor": "#E5ECF6",
            "gridcolor": "white",
            "gridwidth": 2,
            "linecolor": "white",
            "showbackground": true,
            "ticks": "",
            "zerolinecolor": "white"
           },
           "zaxis": {
            "backgroundcolor": "#E5ECF6",
            "gridcolor": "white",
            "gridwidth": 2,
            "linecolor": "white",
            "showbackground": true,
            "ticks": "",
            "zerolinecolor": "white"
           }
          },
          "shapedefaults": {
           "line": {
            "color": "#2a3f5f"
           }
          },
          "ternary": {
           "aaxis": {
            "gridcolor": "white",
            "linecolor": "white",
            "ticks": ""
           },
           "baxis": {
            "gridcolor": "white",
            "linecolor": "white",
            "ticks": ""
           },
           "bgcolor": "#E5ECF6",
           "caxis": {
            "gridcolor": "white",
            "linecolor": "white",
            "ticks": ""
           }
          },
          "title": {
           "x": 0.05
          },
          "xaxis": {
           "automargin": true,
           "gridcolor": "white",
           "linecolor": "white",
           "ticks": "",
           "title": {
            "standoff": 15
           },
           "zerolinecolor": "white",
           "zerolinewidth": 2
          },
          "yaxis": {
           "automargin": true,
           "gridcolor": "white",
           "linecolor": "white",
           "ticks": "",
           "title": {
            "standoff": 15
           },
           "zerolinecolor": "white",
           "zerolinewidth": 2
          }
         }
        },
        "title": {
         "text": "Wygenerowane + wejściowe o łącznej liczbie równej desired"
        },
        "xaxis": {
         "anchor": "y",
         "domain": [
          0,
          1
         ],
         "title": {
          "text": "x"
         }
        },
        "yaxis": {
         "anchor": "x",
         "domain": [
          0,
          1
         ],
         "title": {
          "text": "y"
         }
        }
       }
      }
     },
     "metadata": {},
     "output_type": "display_data"
    },
    {
     "data": {
      "text/plain": [
       "87"
      ]
     },
     "execution_count": 23,
     "metadata": {},
     "output_type": "execute_result"
    }
   ],
   "source": [
    "fig = px.scatter(x= temp_Cluter_OUT[0], y= temp_Cluter_OUT[1], title= 'Wygenerowane + wejściowe o łącznej liczbie równej desired')\n",
    "fig.show()\n",
    "len(temp_Cluter_OUT[0])"
   ]
  },
  {
   "cell_type": "markdown",
   "id": "6a43e67b",
   "metadata": {},
   "source": [
    "#### Clustering with SMOTE (Część pracy)"
   ]
  },
  {
   "cell_type": "code",
   "execution_count": 24,
   "id": "ba7497e4",
   "metadata": {},
   "outputs": [],
   "source": [
    "from sklearn.cluster import KMeans, MeanShift\n",
    "\n",
    "def oversample_clustered_data(X, y, X_minority, y_minority, X_majority, y_majority, cluster_labeled_data):\n",
    "    #wygenerowane próbki mniejszościowe wrzucamy tutaj:\n",
    "    X_generated = []\n",
    "\n",
    "    # Do oceny ile próbek trzeba będzie wygenerować trzeba przeliczyć różnicę między liczebnością klasy mniejszościowej i większościowej, będzie to potrzebne później w pętli dla każego z klastrów\n",
    "    majority_minority_difference =  list(y).count(0) - list(y).count(1)\n",
    "    if(majority_minority_difference < 0):\n",
    "        print(\"[ERR] Monority class has grater count to Majority class\")\n",
    "        exit()\n",
    "    # Do oceny ile próbek będzie trzeba wygenerować potrzebne też będzie informacja o liczbności klasy mniejszościowej\n",
    "    minority_count = list(y).count(1)\n",
    "\n",
    "    # Dla każdego z klastrów:\n",
    "    cluster_labels = np.unique(cluster_labeled_data) #  pobranie info jakie mamy labele klastrów [0,1,...]\n",
    "\n",
    "    # Wszystkie wygenerowane syntetycznie obiekty trafią tutaj\n",
    "    syntetic_data = []\n",
    "    for cluster in cluster_labels:\n",
    "        # w pierwszej kolejności filtrujemy indeksy zbioru mniejszościowego aby pozostawić tylko indeksy należące do klastra który w danej iteracji pętli analizujemy\n",
    "        cluster_samples_indices_minority = np.where(cluster_labeled_data == cluster)[0]\n",
    "        # ustalamy ile próbek trzeba wygenerować w tym klastrze\n",
    "        # ustalamy procentowo liczebność (udział) klastra względem całej klasy mniejszościowej\n",
    "        percentage_of_count = len(cluster_samples_indices_minority)/minority_count\n",
    "        # zabezpieczenie jeśli coś na tym etapie szłoby bardzo nie tak\n",
    "        if(percentage_of_count>1 or percentage_of_count<0):\n",
    "            print(\"Kurza twarz.. something is no yes! Procenty nie mogą być większe niż 100 ani mniejsze niż 0\")\n",
    "            exit()\n",
    "        \n",
    "        #następnie przemnarzamy udział procentowy klastra przez różnicę między zbiorem większościowym i mniejszościowym uzyskując ilość próbek do augmentacji\n",
    "        num_of_samples_to_generate_in_this_cluster = percentage_of_count * majority_minority_difference\n",
    "\n",
    "        # Do samej funkcji augmentacji wymagana jest warość procentowa gdzie 100 to 100% określająca ile próbek ma zostać wygenerowanych względem danych wejściowych\n",
    "        # w tym celu należy podzielić ilość próbek które chcemy wygenerować przez liczbę próbek które posiadamy już\n",
    "        todoSamples = 100*(num_of_samples_to_generate_in_this_cluster/len(cluster_samples_indices_minority))\n",
    "\n",
    "        # Teraz musimy niestety przejść z np.array na dataframe bo w ten sposób działa funkcja ale robimy to już w parametrze funkcji\n",
    "        # Oversampling... totaj k = 5.. jest to hiperparametr który nie wydaje się być istotny w tej implementacji. Jeśli będą większe zmiany trzeba spojrzeć na niego\n",
    "        temp_out = SMOTE_ByMedium(pd.DataFrame(X_minority), todoSamples, 5)\n",
    "\n",
    "        #Ta implementacja Smote jeśli tworzy więcej niż 100% próbek z próbek które dostała traci informację o części dziesiętnej procentów - to powoduje, że powstaje mniej resamplowanych próbek\n",
    "        if todoSamples>100:\n",
    "            todoSamples_2 = todoSamples%100\n",
    "            temp_out_2 = SMOTE_ByMedium(pd.DataFrame(X_minority),todoSamples_2 , 5)\n",
    "        syntetic_data.append(temp_out)\n",
    "        syntetic_data.append(temp_out_2)\n",
    "\n",
    "    #tutaj wymagane jest połączenie wyjścia syntetic_data razem z X i y\n",
    "    X_resampled = X\n",
    "    y_resampled  = y\n",
    "\n",
    "    for clusterOUT in syntetic_data:\n",
    "        X_resampled = np.block([[X_resampled], [clusterOUT]])\n",
    "        y_resampled = [*y_resampled,*np.ones(clusterOUT.shape[0])]# jedynki dla tego, że 1 to klasa mniejszościowa\n",
    "    return X_resampled, y_resampled\n",
    "\n",
    "def KMeans_SMOTE(X, y, num_clusters):\n",
    "    # Wybieramy indeksy klasy mniejszościowej i większościowej\n",
    "    minority_indices = np.where(y == 1)[0] # dla naszych datasetów klasa o labelu 1 zawsze jest mniejszościowa\n",
    "    majority_indices = np.where(y == 0)[0]\n",
    "\n",
    "    # Sortujemy Dane i Labele na minority i majority\n",
    "    X_minority = X[minority_indices]\n",
    "    y_minority = y[minority_indices]\n",
    "\n",
    "    X_majority = X[majority_indices]\n",
    "    y_majority = y[majority_indices]\n",
    "    \n",
    "    # Wykonujemy klasteryzację na klasie mniejszościowej\n",
    "    kmeans_labels_minority = KMeans(n_clusters=num_clusters, random_state=0, n_init=\"auto\").fit_predict(X_minority)\n",
    "\n",
    "    # Zwrócona wartość to indeksy odwołujące się jedynie do klasy mniejszościowej! trzeba o tym teraz pamiętać.\n",
    "    return oversample_clustered_data(X, y, X_minority, y_minority, X_majority, y_majority, kmeans_labels_minority)\n",
    "\n",
    "\n",
    "def MeanShift_SMOTE(X, y):\n",
    "    # TAK WIEM,TO POWINNA BYĆ FUNKCJA, BO WIĘKSZOŚĆ LINIJEK MEANSHIFT_SMOTE I KMEANS_SMOTE SIĘ POWTARZA ... może kiedyś tu upiększymy\n",
    "    # Wybieramy indeksy klasy mniejszościowej i większościowej\n",
    "    minority_indices = np.where(y == 1)[0] # dla naszych datasetów klasa o labelu 1 zawsze jest mniejszościowa\n",
    "    majority_indices = np.where(y == 0)[0]\n",
    "\n",
    "    # Sortujemy Dane i Labele na minority i majority\n",
    "    X_minority = X[minority_indices]\n",
    "    y_minority = y[minority_indices]\n",
    "\n",
    "    X_majority = X[majority_indices]\n",
    "    y_majority = y[majority_indices]\n",
    "    \n",
    "    # Wykonujemy klasteryzację na klasie mniejszościowej\n",
    "    mean_shift_labels_minority = MeanShift().fit_predict(X_minority)\n",
    "    return oversample_clustered_data(X, y, X_minority, y_minority, X_majority, y_majority, mean_shift_labels_minority)"
   ]
  },
  {
   "cell_type": "markdown",
   "id": "dd65ec1f",
   "metadata": {},
   "source": [
    "#### Sprawdzenie który ze zbiorów jest Większościowy"
   ]
  },
  {
   "cell_type": "code",
   "execution_count": 25,
   "id": "867e60a8",
   "metadata": {},
   "outputs": [
    {
     "name": "stdout",
     "output_type": "stream",
     "text": [
      "Processing files in directory: mild-imbalance\n",
      "File: mild-imbalance\\page-blocks0.dat\n",
      "---------STATS---------\n",
      "countOf0:  4913\n",
      "countOf1:  559\n",
      "----------OUT----------\n",
      "Więcej klasy 0\n",
      "File: mild-imbalance\\pima.dat\n",
      "---------STATS---------\n",
      "countOf0:  500\n",
      "countOf1:  268\n",
      "----------OUT----------\n",
      "Więcej klasy 0\n",
      "File: mild-imbalance\\segment0.dat\n",
      "---------STATS---------\n",
      "countOf0:  1979\n",
      "countOf1:  329\n",
      "----------OUT----------\n",
      "Więcej klasy 0\n",
      "File: mild-imbalance\\vehicle0.dat\n",
      "---------STATS---------\n",
      "countOf0:  647\n",
      "countOf1:  199\n",
      "----------OUT----------\n",
      "Więcej klasy 0\n",
      "File: mild-imbalance\\vehicle1.dat\n",
      "---------STATS---------\n",
      "countOf0:  629\n",
      "countOf1:  217\n",
      "----------OUT----------\n",
      "Więcej klasy 0\n",
      "File: mild-imbalance\\vehicle2.dat\n",
      "---------STATS---------\n",
      "countOf0:  628\n",
      "countOf1:  218\n",
      "----------OUT----------\n",
      "Więcej klasy 0\n",
      "File: mild-imbalance\\vehicle3.dat\n",
      "---------STATS---------\n",
      "countOf0:  634\n",
      "countOf1:  212\n",
      "----------OUT----------\n",
      "Więcej klasy 0\n",
      "File: mild-imbalance\\wisconsin.dat\n",
      "---------STATS---------\n",
      "countOf0:  444\n",
      "countOf1:  239\n",
      "----------OUT----------\n",
      "Więcej klasy 0\n",
      "File: mild-imbalance\\yeast1.dat\n",
      "---------STATS---------\n",
      "countOf0:  1055\n",
      "countOf1:  429\n",
      "----------OUT----------\n",
      "Więcej klasy 0\n",
      "File: mild-imbalance\\yeast3.dat\n",
      "---------STATS---------\n",
      "countOf0:  1321\n",
      "countOf1:  163\n",
      "----------OUT----------\n",
      "Więcej klasy 0\n",
      "Processing files in directory: high-imbalance\n",
      "File: high-imbalance\\abalone-17_vs_7-8-9-10.dat\n",
      "---------STATS---------\n",
      "countOf0:  2280\n",
      "countOf1:  58\n",
      "----------OUT----------\n",
      "Więcej klasy 0\n",
      "File: high-imbalance\\abalone19.dat\n",
      "---------STATS---------\n",
      "countOf0:  4142\n",
      "countOf1:  32\n",
      "----------OUT----------\n",
      "Więcej klasy 0\n",
      "File: high-imbalance\\kr-vs-k-three_vs_eleven.dat\n",
      "---------STATS---------\n",
      "countOf0:  2854\n",
      "countOf1:  81\n",
      "----------OUT----------\n",
      "Więcej klasy 0\n",
      "File: high-imbalance\\kr-vs-k-zero-one_vs_draw.dat\n",
      "---------STATS---------\n",
      "countOf0:  2796\n",
      "countOf1:  105\n",
      "----------OUT----------\n",
      "Więcej klasy 0\n",
      "File: high-imbalance\\shuttle-2_vs_5.dat\n",
      "---------STATS---------\n",
      "countOf0:  3267\n",
      "countOf1:  49\n",
      "----------OUT----------\n",
      "Więcej klasy 0\n",
      "File: high-imbalance\\shuttle-c0-vs-c4.dat\n",
      "---------STATS---------\n",
      "countOf0:  1706\n",
      "countOf1:  123\n",
      "----------OUT----------\n",
      "Więcej klasy 0\n",
      "File: high-imbalance\\yeast-0-2-5-6_vs_3-7-8-9.dat\n",
      "---------STATS---------\n",
      "countOf0:  905\n",
      "countOf1:  99\n",
      "----------OUT----------\n",
      "Więcej klasy 0\n",
      "File: high-imbalance\\yeast-0-2-5-7-9_vs_3-6-8.dat\n",
      "---------STATS---------\n",
      "countOf0:  905\n",
      "countOf1:  99\n",
      "----------OUT----------\n",
      "Więcej klasy 0\n",
      "File: high-imbalance\\yeast4.dat\n",
      "---------STATS---------\n",
      "countOf0:  1433\n",
      "countOf1:  51\n",
      "----------OUT----------\n",
      "Więcej klasy 0\n",
      "File: high-imbalance\\yeast5.dat\n",
      "---------STATS---------\n",
      "countOf0:  1440\n",
      "countOf1:  44\n",
      "----------OUT----------\n",
      "Więcej klasy 0\n",
      "[0, 0, 0, 0, 0, 0, 0, 0, 0, 0, 0, 0, 0, 0, 0, 0, 0, 0, 0, 0]\n",
      "0\n"
     ]
    }
   ],
   "source": [
    "# tymczasowy algorytm do analizy która z klas jest mniejszościowa\n",
    "def ReturnsMinorityLabel(file_path):\n",
    "    labels = []\n",
    "    with open(file_path, 'r') as f:\n",
    "        for line in f:\n",
    "            if line.startswith('@'):\n",
    "                continue\n",
    "            line_data = line.strip().split(',')\n",
    "            sample_class = line_data[-1].strip().lower().replace(\" \", \"\")\n",
    "            label = 1 if sample_class == 'positive' else 0\n",
    "            labels.append(label)\n",
    "    countOf0 = labels.count(0)\n",
    "    countOf1 = labels.count(1)\n",
    "    print(\"---------STATS---------\") \n",
    "    print('countOf0: ',countOf0)\n",
    "    print('countOf1: ',countOf1)\n",
    "    print(\"----------OUT----------\") \n",
    "    if countOf0 == countOf1:\n",
    "        print(\"!!!!!kurcze zbiorki są zbalansowane!!!!!!\")\n",
    "        return(-1)\n",
    "    if countOf0 > countOf1:\n",
    "        print(\"Więcej klasy 0\")\n",
    "        return(0)\n",
    "    if countOf0 < countOf1:\n",
    "        print(\"Więcej klasy 1\")\n",
    "        return(1)\n",
    "\n",
    "import os\n",
    "\n",
    "#sprawdzenie czy działa\n",
    "\n",
    "directories = ['mild-imbalance', 'high-imbalance']\n",
    "results_of_test = []\n",
    "for directory in directories:\n",
    "    print(f\"Processing files in directory: {directory}\")\n",
    "    files = os.listdir(directory)\n",
    "    \n",
    "    for file_name in files:\n",
    "        file_path = os.path.join(directory, file_name)\n",
    "        print(f\"File: {file_path}\")\n",
    "        results_of_test.append(ReturnsMinorityLabel(file_path))\n",
    "    \n",
    "print(results_of_test)\n",
    "print(results_of_test.count(1))"
   ]
  },
  {
   "cell_type": "markdown",
   "id": "0c3846ea",
   "metadata": {},
   "source": [
    "#### Experiment for single dataset"
   ]
  },
  {
   "cell_type": "code",
   "execution_count": 27,
   "id": "915d9556",
   "metadata": {},
   "outputs": [],
   "source": [
    "from imblearn.over_sampling import SMOTE, RandomOverSampler, BorderlineSMOTE\n",
    "from sklearn import svm\n",
    "from sklearn.model_selection import RepeatedStratifiedKFold\n",
    "from sklearn.metrics import precision_score, recall_score\n",
    "from imblearn.metrics import specificity_score\n",
    "\n",
    "def experiment(X, y):\n",
    "    preprocessings = {\n",
    "        \"KMeansSMOTE\": True,\n",
    "        \"MeansShiftSMOTE\": True,\n",
    "        \"SMOTE\": SMOTE(),\n",
    "        \"ROS\": RandomOverSampler(),\n",
    "        \"BorderlineSMOTE\": BorderlineSMOTE(),\n",
    "    }\n",
    "    classifier = RandomForestClassifier(random_state=42)\n",
    "    rskf = RepeatedStratifiedKFold(n_splits=5, n_repeats=2, random_state=1234)\n",
    "    result = {}\n",
    "    for key in preprocessings:\n",
    "        precision_scores = []\n",
    "        recall_scores = []\n",
    "        specifity_scores = []\n",
    "        for train_index, test_index in rskf.split(X,y):\n",
    "            X_train, X_test = X[train_index], X[test_index]\n",
    "            y_train, y_test = y[train_index], y[test_index]\n",
    "            if key == \"KMeansSMOTE\":\n",
    "                X_train_oversampled, y_train_oversampled = KMeans_SMOTE(X_train, y_train, 2)\n",
    "            elif key == \"MeansShiftSMOTE\":\n",
    "                X_train_oversampled, y_train_oversampled = MeanShift_SMOTE(X_train, y_train)\n",
    "            else:\n",
    "                X_train_oversampled, y_train_oversampled = preprocessings[key].fit_resample(X_train, y_train)\n",
    "            classifier.fit(X_train_oversampled, y_train_oversampled)\n",
    "            predict = classifier.predict(X_test)\n",
    "            precision_scores.append(precision_score(y_test, predict))\n",
    "            recall_scores.append(recall_score(y_test, predict))\n",
    "            specifity_scores.append(specificity_score(y_test, predict))\n",
    "        mean_precision_score = np.mean(precision_scores)\n",
    "        std_precision_score = np.std(precision_scores)\n",
    "        mean_recall_score = np.mean(recall_scores)\n",
    "        std_recall_score = np.std(recall_scores)\n",
    "        mean_specifity_score = np.mean(specifity_scores)\n",
    "        std_specifity_score = np.std(specifity_scores)\n",
    "#         print(f\"Precission score {key}: %.3f (%.3f)\" % (mean_precision_score, std_precision_score))\n",
    "#         print(f\"Specifity score {key}: %.3f (%.3f)\" % (mean_specifity_score, std_specifity_score))\n",
    "#         print(f\"Recall score {key}: %.3f (%.3f)\" % (mean_recall_score, std_recall_score))\n",
    "        result[key] = {\n",
    "            \"precission_scores\": precision_scores,\n",
    "            \"recall_scores\": recall_scores,\n",
    "            \"specifity_scores\": specifity_scores,\n",
    "            \"mean_precission_score\": mean_precision_score,\n",
    "            \"mean_recall_scores\": mean_recall_score,\n",
    "            \"mean_specifity_scores\": mean_specifity_score,\n",
    "        }\n",
    "    return result"
   ]
  },
  {
   "cell_type": "markdown",
   "id": "7268e808",
   "metadata": {},
   "source": [
    "#### Running experiments on the datasets"
   ]
  },
  {
   "cell_type": "code",
   "execution_count": 28,
   "id": "1fcd11a3",
   "metadata": {},
   "outputs": [
    {
     "name": "stdout",
     "output_type": "stream",
     "text": [
      "Processing files in directory: mild-imbalance\n",
      "File: mild-imbalance\\page-blocks0.dat\n"
     ]
    }
   ],
   "source": [
    "import os\n",
    "\n",
    "directories = ['mild-imbalance', 'high-imbalance']\n",
    "results = {}\n",
    "for directory in directories:\n",
    "    print(f\"Processing files in directory: {directory}\")\n",
    "    files = os.listdir(directory)\n",
    "    results = {}\n",
    "    for file_name in files:\n",
    "        file_path = os.path.join(directory, file_name)\n",
    "        print(f\"File: {file_path}\")\n",
    "        X, y = load_dataset(file_path)\n",
    "        experiment_result = experiment(X, y)\n",
    "        results[file_name] = experiment_result\n",
    "# print(results)"
   ]
  },
  {
   "cell_type": "markdown",
   "id": "bcade8a9",
   "metadata": {},
   "source": [
    "#### Uproszczony eksperyment na pojedynczych danych banchmarkowych"
   ]
  },
  {
   "cell_type": "code",
   "execution_count": 14,
   "id": "2c3d05b4",
   "metadata": {},
   "outputs": [
    {
     "ename": "TypeError",
     "evalue": "only integer scalar arrays can be converted to a scalar index",
     "output_type": "error",
     "traceback": [
      "\u001b[1;31m---------------------------------------------------------------------------\u001b[0m",
      "\u001b[1;31mTypeError\u001b[0m                                 Traceback (most recent call last)",
      "Cell \u001b[1;32mIn[14], line 10\u001b[0m\n\u001b[0;32m      8\u001b[0m     \u001b[38;5;28;01mreturn\u001b[39;00m [\u001b[38;5;241m0\u001b[39m \u001b[38;5;28;01mif\u001b[39;00m x \u001b[38;5;241m==\u001b[39m \u001b[38;5;241m-\u001b[39m\u001b[38;5;241m1\u001b[39m \u001b[38;5;28;01melse\u001b[39;00m x \u001b[38;5;28;01mfor\u001b[39;00m x \u001b[38;5;129;01min\u001b[39;00m arr]\n\u001b[0;32m      9\u001b[0m y \u001b[38;5;241m=\u001b[39m replace_negatives_with_zeros(y)\n\u001b[1;32m---> 10\u001b[0m experiment_result \u001b[38;5;241m=\u001b[39m \u001b[43mexperiment\u001b[49m\u001b[43m(\u001b[49m\u001b[43mX\u001b[49m\u001b[43m,\u001b[49m\u001b[43m \u001b[49m\u001b[43my\u001b[49m\u001b[43m)\u001b[49m\n\u001b[0;32m     11\u001b[0m results[file_name] \u001b[38;5;241m=\u001b[39m experiment_result\n",
      "Cell \u001b[1;32mIn[11], line 24\u001b[0m, in \u001b[0;36mexperiment\u001b[1;34m(X, y)\u001b[0m\n\u001b[0;32m     22\u001b[0m \u001b[38;5;28;01mfor\u001b[39;00m train_index, test_index \u001b[38;5;129;01min\u001b[39;00m rskf\u001b[38;5;241m.\u001b[39msplit(X,y):\n\u001b[0;32m     23\u001b[0m     X_train, X_test \u001b[38;5;241m=\u001b[39m X[train_index], X[test_index]\n\u001b[1;32m---> 24\u001b[0m     y_train, y_test \u001b[38;5;241m=\u001b[39m \u001b[43my\u001b[49m\u001b[43m[\u001b[49m\u001b[43mtrain_index\u001b[49m\u001b[43m]\u001b[49m, y[test_index]\n\u001b[0;32m     25\u001b[0m     \u001b[38;5;28;01mif\u001b[39;00m key \u001b[38;5;241m==\u001b[39m \u001b[38;5;124m\"\u001b[39m\u001b[38;5;124mKMeansSMOTE\u001b[39m\u001b[38;5;124m\"\u001b[39m:\n\u001b[0;32m     26\u001b[0m         X_train_oversampled, y_train_oversampled \u001b[38;5;241m=\u001b[39m KMeans_SMOTE(X_train, y_train, \u001b[38;5;241m2\u001b[39m)\n",
      "\u001b[1;31mTypeError\u001b[0m: only integer scalar arrays can be converted to a scalar index"
     ]
    }
   ],
   "source": [
    "\n",
    "from imblearn.datasets import fetch_datasets\n",
    "\n",
    "satimage = fetch_datasets()[\"satimage\"]\n",
    "X, y = satimage.data, satimage.target\n",
    "\n",
    "def replace_negatives_with_zeros(arr):\n",
    "    return [0 if x == -1 else x for x in arr]\n",
    "y = replace_negatives_with_zeros(y)\n",
    "experiment_result = experiment(X, y)\n",
    "results[file_name] = experiment_result"
   ]
  },
  {
   "cell_type": "markdown",
   "id": "a6e6e5c1",
   "metadata": {},
   "source": [
    "### Statistically significantly better preprocessings in given datasets with given metrics"
   ]
  },
  {
   "cell_type": "code",
   "execution_count": null,
   "id": "bb74637d",
   "metadata": {},
   "outputs": [],
   "source": [
    "results = {'abalone-17_vs_7-8-9-10.dat': {'KMeansSMOTE': {'precission_scores': [0.19444444444444445,\n",
    "    0.24242424242424243,\n",
    "    0.20408163265306123,\n",
    "    0.20512820512820512,\n",
    "    0.2631578947368421,\n",
    "    0.17857142857142858,\n",
    "    0.21875,\n",
    "    0.17647058823529413,\n",
    "    0.14285714285714285,\n",
    "    0.17647058823529413],\n",
    "   'recall_scores': [0.5833333333333334,\n",
    "    0.6666666666666666,\n",
    "    0.8333333333333334,\n",
    "    0.7272727272727273,\n",
    "    0.45454545454545453,\n",
    "    0.4166666666666667,\n",
    "    0.5833333333333334,\n",
    "    0.5,\n",
    "    0.5454545454545454,\n",
    "    0.5454545454545454],\n",
    "   'specifity_scores': [0.9364035087719298,\n",
    "    0.9451754385964912,\n",
    "    0.9144736842105263,\n",
    "    0.9320175438596491,\n",
    "    0.9692982456140351,\n",
    "    0.9495614035087719,\n",
    "    0.9451754385964912,\n",
    "    0.9385964912280702,\n",
    "    0.9210526315789473,\n",
    "    0.9385964912280702],\n",
    "   'mean_precission_score': 0.20023561672859547,\n",
    "   'mean_recall_scores': 0.5856060606060606,\n",
    "   'mean_specifity_scores': 0.9390350877192983},\n",
    "  'MeansShiftSMOTE': {'precission_scores': [0.15384615384615385,\n",
    "    0.25,\n",
    "    0.16,\n",
    "    0.17073170731707318,\n",
    "    0.23076923076923078,\n",
    "    0.15384615384615385,\n",
    "    0.25,\n",
    "    0.16666666666666666,\n",
    "    0.14285714285714285,\n",
    "    0.15],\n",
    "   'recall_scores': [0.5,\n",
    "    0.75,\n",
    "    0.6666666666666666,\n",
    "    0.6363636363636364,\n",
    "    0.5454545454545454,\n",
    "    0.5,\n",
    "    0.6666666666666666,\n",
    "    0.5833333333333334,\n",
    "    0.5454545454545454,\n",
    "    0.5454545454545454],\n",
    "   'specifity_scores': [0.9276315789473685,\n",
    "    0.9407894736842105,\n",
    "    0.9078947368421053,\n",
    "    0.9254385964912281,\n",
    "    0.956140350877193,\n",
    "    0.9276315789473685,\n",
    "    0.9473684210526315,\n",
    "    0.9232456140350878,\n",
    "    0.9210526315789473,\n",
    "    0.9254385964912281],\n",
    "   'mean_precission_score': 0.1828717055302421,\n",
    "   'mean_recall_scores': 0.5939393939393938,\n",
    "   'mean_specifity_scores': 0.9302631578947368},\n",
    "  'SMOTE': {'precission_scores': [0.30434782608695654,\n",
    "    0.2777777777777778,\n",
    "    0.2608695652173913,\n",
    "    0.28,\n",
    "    0.2727272727272727,\n",
    "    0.36363636363636365,\n",
    "    0.2777777777777778,\n",
    "    0.29411764705882354,\n",
    "    0.25,\n",
    "    0.25],\n",
    "   'recall_scores': [0.5833333333333334,\n",
    "    0.4166666666666667,\n",
    "    0.5,\n",
    "    0.6363636363636364,\n",
    "    0.2727272727272727,\n",
    "    0.3333333333333333,\n",
    "    0.4166666666666667,\n",
    "    0.4166666666666667,\n",
    "    0.5454545454545454,\n",
    "    0.36363636363636365],\n",
    "   'specifity_scores': [0.9649122807017544,\n",
    "    0.9714912280701754,\n",
    "    0.9627192982456141,\n",
    "    0.9605263157894737,\n",
    "    0.9824561403508771,\n",
    "    0.9846491228070176,\n",
    "    0.9714912280701754,\n",
    "    0.9736842105263158,\n",
    "    0.9605263157894737,\n",
    "    0.9736842105263158],\n",
    "   'mean_precission_score': 0.28312542302823634,\n",
    "   'mean_recall_scores': 0.44848484848484843,\n",
    "   'mean_specifity_scores': 0.9706140350877194},\n",
    "  'ROS': {'precission_scores': [0.5,\n",
    "    0.5,\n",
    "    1.0,\n",
    "    0.3333333333333333,\n",
    "    0.5,\n",
    "    1.0,\n",
    "    0.5,\n",
    "    0.4,\n",
    "    0.42857142857142855,\n",
    "    0.3333333333333333],\n",
    "   'recall_scores': [0.16666666666666666,\n",
    "    0.25,\n",
    "    0.16666666666666666,\n",
    "    0.18181818181818182,\n",
    "    0.09090909090909091,\n",
    "    0.08333333333333333,\n",
    "    0.08333333333333333,\n",
    "    0.16666666666666666,\n",
    "    0.2727272727272727,\n",
    "    0.18181818181818182],\n",
    "   'specifity_scores': [0.9956140350877193,\n",
    "    0.993421052631579,\n",
    "    1.0,\n",
    "    0.9912280701754386,\n",
    "    0.9978070175438597,\n",
    "    1.0,\n",
    "    0.9978070175438597,\n",
    "    0.993421052631579,\n",
    "    0.9912280701754386,\n",
    "    0.9912280701754386],\n",
    "   'mean_precission_score': 0.5495238095238094,\n",
    "   'mean_recall_scores': 0.1643939393939394,\n",
    "   'mean_specifity_scores': 0.9951754385964913},\n",
    "  'BorderlineSMOTE': {'precission_scores': [0.3157894736842105,\n",
    "    0.3333333333333333,\n",
    "    0.25,\n",
    "    0.3,\n",
    "    0.3333333333333333,\n",
    "    0.2222222222222222,\n",
    "    0.26666666666666666,\n",
    "    0.4,\n",
    "    0.29411764705882354,\n",
    "    0.1875],\n",
    "   'recall_scores': [0.5,\n",
    "    0.4166666666666667,\n",
    "    0.3333333333333333,\n",
    "    0.5454545454545454,\n",
    "    0.2727272727272727,\n",
    "    0.16666666666666666,\n",
    "    0.3333333333333333,\n",
    "    0.5,\n",
    "    0.45454545454545453,\n",
    "    0.2727272727272727],\n",
    "   'specifity_scores': [0.9714912280701754,\n",
    "    0.9780701754385965,\n",
    "    0.9736842105263158,\n",
    "    0.9692982456140351,\n",
    "    0.9868421052631579,\n",
    "    0.9846491228070176,\n",
    "    0.9758771929824561,\n",
    "    0.9802631578947368,\n",
    "    0.9736842105263158,\n",
    "    0.9714912280701754],\n",
    "   'mean_precission_score': 0.29029626762985894,\n",
    "   'mean_recall_scores': 0.3795454545454545,\n",
    "   'mean_specifity_scores': 0.9765350877192981}},\n",
    " 'abalone19.dat': {'KMeansSMOTE': {'precission_scores': [0.030303030303030304,\n",
    "    0.03508771929824561,\n",
    "    0.022222222222222223,\n",
    "    0.03508771929824561,\n",
    "    0.05555555555555555,\n",
    "    0.0,\n",
    "    0.0,\n",
    "    0.06779661016949153,\n",
    "    0.08163265306122448,\n",
    "    0.027777777777777776],\n",
    "   'recall_scores': [0.3333333333333333,\n",
    "    0.3333333333333333,\n",
    "    0.14285714285714285,\n",
    "    0.2857142857142857,\n",
    "    0.5,\n",
    "    0.0,\n",
    "    0.0,\n",
    "    0.5714285714285714,\n",
    "    0.5714285714285714,\n",
    "    0.3333333333333333],\n",
    "   'specifity_scores': [0.9227985524728589,\n",
    "    0.9336550060313631,\n",
    "    0.9468599033816425,\n",
    "    0.9335748792270532,\n",
    "    0.9384057971014492,\n",
    "    0.9324487334137516,\n",
    "    0.9433051869722557,\n",
    "    0.9335748792270532,\n",
    "    0.9456521739130435,\n",
    "    0.9154589371980676],\n",
    "   'mean_precission_score': 0.03554632876857931,\n",
    "   'mean_recall_scores': 0.30714285714285716,\n",
    "   'mean_specifity_scores': 0.9345734048938539},\n",
    "  'MeansShiftSMOTE': {'precission_scores': [0.015625,\n",
    "    0.04054054054054054,\n",
    "    0.01818181818181818,\n",
    "    0.03125,\n",
    "    0.04054054054054054,\n",
    "    0.0,\n",
    "    0.0,\n",
    "    0.0547945205479452,\n",
    "    0.05714285714285714,\n",
    "    0.023809523809523808],\n",
    "   'recall_scores': [0.16666666666666666,\n",
    "    0.5,\n",
    "    0.14285714285714285,\n",
    "    0.2857142857142857,\n",
    "    0.5,\n",
    "    0.0,\n",
    "    0.0,\n",
    "    0.5714285714285714,\n",
    "    0.5714285714285714,\n",
    "    0.3333333333333333],\n",
    "   'specifity_scores': [0.9240048250904704,\n",
    "    0.9143546441495778,\n",
    "    0.9347826086956522,\n",
    "    0.9251207729468599,\n",
    "    0.9142512077294686,\n",
    "    0.9203860072376358,\n",
    "    0.9433051869722557,\n",
    "    0.9166666666666666,\n",
    "    0.9202898550724637,\n",
    "    0.9009661835748792],\n",
    "   'mean_precission_score': 0.02818848007632254,\n",
    "   'mean_recall_scores': 0.30714285714285716,\n",
    "   'mean_specifity_scores': 0.9214127958135929},\n",
    "  'SMOTE': {'precission_scores': [0.05555555555555555,\n",
    "    0.08333333333333333,\n",
    "    0.07692307692307693,\n",
    "    0.0,\n",
    "    0.08333333333333333,\n",
    "    0.0,\n",
    "    0.0,\n",
    "    0.16666666666666666,\n",
    "    0.10526315789473684,\n",
    "    0.0],\n",
    "   'recall_scores': [0.16666666666666666,\n",
    "    0.3333333333333333,\n",
    "    0.14285714285714285,\n",
    "    0.0,\n",
    "    0.16666666666666666,\n",
    "    0.0,\n",
    "    0.0,\n",
    "    0.42857142857142855,\n",
    "    0.2857142857142857,\n",
    "    0.0],\n",
    "   'specifity_scores': [0.9794933655006032,\n",
    "    0.9734620024125452,\n",
    "    0.9855072463768116,\n",
    "    0.9879227053140096,\n",
    "    0.9867149758454107,\n",
    "    0.9794933655006032,\n",
    "    0.9722557297949337,\n",
    "    0.9818840579710145,\n",
    "    0.9794685990338164,\n",
    "    0.9746376811594203],\n",
    "   'mean_precission_score': 0.057107512370670264,\n",
    "   'mean_recall_scores': 0.15238095238095237,\n",
    "   'mean_specifity_scores': 0.9800839728909168},\n",
    "  'ROS': {'precission_scores': [0.0,\n",
    "    0.0,\n",
    "    1.0,\n",
    "    0.0,\n",
    "    0.0,\n",
    "    0.0,\n",
    "    0.0,\n",
    "    0.0,\n",
    "    1.0,\n",
    "    0.0],\n",
    "   'recall_scores': [0.0,\n",
    "    0.0,\n",
    "    0.14285714285714285,\n",
    "    0.0,\n",
    "    0.0,\n",
    "    0.0,\n",
    "    0.0,\n",
    "    0.0,\n",
    "    0.14285714285714285,\n",
    "    0.0],\n",
    "   'specifity_scores': [1.0,\n",
    "    1.0,\n",
    "    1.0,\n",
    "    0.998792270531401,\n",
    "    1.0,\n",
    "    0.9987937273823885,\n",
    "    1.0,\n",
    "    1.0,\n",
    "    1.0,\n",
    "    0.998792270531401],\n",
    "   'mean_precission_score': 0.2,\n",
    "   'mean_recall_scores': 0.02857142857142857,\n",
    "   'mean_specifity_scores': 0.9996378268445192},\n",
    "  'BorderlineSMOTE': {'precission_scores': [0.0,\n",
    "    0.1,\n",
    "    0.125,\n",
    "    0.0,\n",
    "    0.0,\n",
    "    0.0,\n",
    "    0.0,\n",
    "    0.0,\n",
    "    0.2,\n",
    "    0.0],\n",
    "   'recall_scores': [0.0,\n",
    "    0.16666666666666666,\n",
    "    0.14285714285714285,\n",
    "    0.0,\n",
    "    0.0,\n",
    "    0.0,\n",
    "    0.0,\n",
    "    0.0,\n",
    "    0.14285714285714285,\n",
    "    0.0],\n",
    "   'specifity_scores': [0.9951749095295537,\n",
    "    0.9891435464414958,\n",
    "    0.9915458937198067,\n",
    "    0.998792270531401,\n",
    "    0.9975845410628019,\n",
    "    1.0,\n",
    "    0.9903498190591074,\n",
    "    0.9939613526570048,\n",
    "    0.9951690821256038,\n",
    "    0.9951690821256038],\n",
    "   'mean_precission_score': 0.0425,\n",
    "   'mean_recall_scores': 0.04523809523809524,\n",
    "   'mean_specifity_scores': 0.994689049725238}},\n",
    " 'kr-vs-k-three_vs_eleven.dat': {'KMeansSMOTE': {'precission_scores': [1.0,\n",
    "    1.0,\n",
    "    1.0,\n",
    "    1.0,\n",
    "    1.0,\n",
    "    1.0,\n",
    "    1.0,\n",
    "    1.0,\n",
    "    1.0,\n",
    "    1.0],\n",
    "   'recall_scores': [1.0,\n",
    "    1.0,\n",
    "    1.0,\n",
    "    1.0,\n",
    "    1.0,\n",
    "    1.0,\n",
    "    1.0,\n",
    "    1.0,\n",
    "    1.0,\n",
    "    0.9411764705882353],\n",
    "   'specifity_scores': [1.0, 1.0, 1.0, 1.0, 1.0, 1.0, 1.0, 1.0, 1.0, 1.0],\n",
    "   'mean_precission_score': 1.0,\n",
    "   'mean_recall_scores': 0.9941176470588236,\n",
    "   'mean_specifity_scores': 1.0},\n",
    "  'MeansShiftSMOTE': {'precission_scores': [1.0,\n",
    "    1.0,\n",
    "    1.0,\n",
    "    1.0,\n",
    "    1.0,\n",
    "    1.0,\n",
    "    1.0,\n",
    "    1.0,\n",
    "    1.0,\n",
    "    1.0],\n",
    "   'recall_scores': [1.0, 1.0, 1.0, 1.0, 1.0, 1.0, 1.0, 1.0, 1.0, 1.0],\n",
    "   'specifity_scores': [1.0, 1.0, 1.0, 1.0, 1.0, 1.0, 1.0, 1.0, 1.0, 1.0],\n",
    "   'mean_precission_score': 1.0,\n",
    "   'mean_recall_scores': 1.0,\n",
    "   'mean_specifity_scores': 1.0},\n",
    "  'SMOTE': {'precission_scores': [1.0,\n",
    "    1.0,\n",
    "    1.0,\n",
    "    1.0,\n",
    "    1.0,\n",
    "    1.0,\n",
    "    1.0,\n",
    "    1.0,\n",
    "    1.0,\n",
    "    1.0],\n",
    "   'recall_scores': [1.0,\n",
    "    1.0,\n",
    "    1.0,\n",
    "    1.0,\n",
    "    1.0,\n",
    "    1.0,\n",
    "    1.0,\n",
    "    1.0,\n",
    "    1.0,\n",
    "    0.8823529411764706],\n",
    "   'specifity_scores': [1.0, 1.0, 1.0, 1.0, 1.0, 1.0, 1.0, 1.0, 1.0, 1.0],\n",
    "   'mean_precission_score': 1.0,\n",
    "   'mean_recall_scores': 0.9882352941176471,\n",
    "   'mean_specifity_scores': 1.0},\n",
    "  'ROS': {'precission_scores': [1.0,\n",
    "    1.0,\n",
    "    1.0,\n",
    "    1.0,\n",
    "    1.0,\n",
    "    1.0,\n",
    "    1.0,\n",
    "    1.0,\n",
    "    1.0,\n",
    "    1.0],\n",
    "   'recall_scores': [1.0,\n",
    "    1.0,\n",
    "    1.0,\n",
    "    1.0,\n",
    "    1.0,\n",
    "    1.0,\n",
    "    1.0,\n",
    "    1.0,\n",
    "    1.0,\n",
    "    0.9411764705882353],\n",
    "   'specifity_scores': [1.0, 1.0, 1.0, 1.0, 1.0, 1.0, 1.0, 1.0, 1.0, 1.0],\n",
    "   'mean_precission_score': 1.0,\n",
    "   'mean_recall_scores': 0.9941176470588236,\n",
    "   'mean_specifity_scores': 1.0},\n",
    "  'BorderlineSMOTE': {'precission_scores': [1.0,\n",
    "    1.0,\n",
    "    1.0,\n",
    "    1.0,\n",
    "    1.0,\n",
    "    1.0,\n",
    "    1.0,\n",
    "    1.0,\n",
    "    1.0,\n",
    "    1.0],\n",
    "   'recall_scores': [1.0,\n",
    "    1.0,\n",
    "    1.0,\n",
    "    1.0,\n",
    "    1.0,\n",
    "    1.0,\n",
    "    1.0,\n",
    "    1.0,\n",
    "    1.0,\n",
    "    0.8823529411764706],\n",
    "   'specifity_scores': [1.0, 1.0, 1.0, 1.0, 1.0, 1.0, 1.0, 1.0, 1.0, 1.0],\n",
    "   'mean_precission_score': 1.0,\n",
    "   'mean_recall_scores': 0.9882352941176471,\n",
    "   'mean_specifity_scores': 1.0}},\n",
    " 'kr-vs-k-zero-one_vs_draw.dat': {'KMeansSMOTE': {'precission_scores': [1.0,\n",
    "    0.9473684210526315,\n",
    "    0.9090909090909091,\n",
    "    0.9545454545454546,\n",
    "    1.0,\n",
    "    0.9523809523809523,\n",
    "    0.8571428571428571,\n",
    "    1.0,\n",
    "    1.0,\n",
    "    1.0],\n",
    "   'recall_scores': [0.9523809523809523,\n",
    "    0.8571428571428571,\n",
    "    0.9523809523809523,\n",
    "    1.0,\n",
    "    0.9523809523809523,\n",
    "    0.9523809523809523,\n",
    "    0.8571428571428571,\n",
    "    0.9523809523809523,\n",
    "    0.9523809523809523,\n",
    "    0.8571428571428571],\n",
    "   'specifity_scores': [1.0,\n",
    "    0.998211091234347,\n",
    "    0.9964221824686941,\n",
    "    0.998211091234347,\n",
    "    1.0,\n",
    "    0.9982142857142857,\n",
    "    0.9946332737030411,\n",
    "    1.0,\n",
    "    1.0,\n",
    "    1.0],\n",
    "   'mean_precission_score': 0.9620528594212804,\n",
    "   'mean_recall_scores': 0.9285714285714286,\n",
    "   'mean_specifity_scores': 0.9985691924354715},\n",
    "  'MeansShiftSMOTE': {'precission_scores': [1.0,\n",
    "    0.9473684210526315,\n",
    "    0.9090909090909091,\n",
    "    0.9545454545454546,\n",
    "    1.0,\n",
    "    0.9523809523809523,\n",
    "    0.8636363636363636,\n",
    "    1.0,\n",
    "    1.0,\n",
    "    0.9473684210526315],\n",
    "   'recall_scores': [0.9523809523809523,\n",
    "    0.8571428571428571,\n",
    "    0.9523809523809523,\n",
    "    1.0,\n",
    "    0.9523809523809523,\n",
    "    0.9523809523809523,\n",
    "    0.9047619047619048,\n",
    "    0.9523809523809523,\n",
    "    0.9523809523809523,\n",
    "    0.8571428571428571],\n",
    "   'specifity_scores': [1.0,\n",
    "    0.998211091234347,\n",
    "    0.9964221824686941,\n",
    "    0.998211091234347,\n",
    "    1.0,\n",
    "    0.9982142857142857,\n",
    "    0.9946332737030411,\n",
    "    1.0,\n",
    "    1.0,\n",
    "    0.998211091234347],\n",
    "   'mean_precission_score': 0.9574390521758943,\n",
    "   'mean_recall_scores': 0.9333333333333333,\n",
    "   'mean_specifity_scores': 0.9983903015589062},\n",
    "  'SMOTE': {'precission_scores': [1.0,\n",
    "    0.9473684210526315,\n",
    "    0.9090909090909091,\n",
    "    0.9545454545454546,\n",
    "    1.0,\n",
    "    0.9523809523809523,\n",
    "    0.9,\n",
    "    1.0,\n",
    "    1.0,\n",
    "    1.0],\n",
    "   'recall_scores': [0.9523809523809523,\n",
    "    0.8571428571428571,\n",
    "    0.9523809523809523,\n",
    "    1.0,\n",
    "    0.9523809523809523,\n",
    "    0.9523809523809523,\n",
    "    0.8571428571428571,\n",
    "    0.9523809523809523,\n",
    "    0.9523809523809523,\n",
    "    0.8571428571428571],\n",
    "   'specifity_scores': [1.0,\n",
    "    0.998211091234347,\n",
    "    0.9964221824686941,\n",
    "    0.998211091234347,\n",
    "    1.0,\n",
    "    0.9982142857142857,\n",
    "    0.9964221824686941,\n",
    "    1.0,\n",
    "    1.0,\n",
    "    1.0],\n",
    "   'mean_precission_score': 0.9663385737069948,\n",
    "   'mean_recall_scores': 0.9285714285714286,\n",
    "   'mean_specifity_scores': 0.9987480833120369},\n",
    "  'ROS': {'precission_scores': [0.9545454545454546,\n",
    "    0.95,\n",
    "    0.9523809523809523,\n",
    "    0.9545454545454546,\n",
    "    1.0,\n",
    "    0.9545454545454546,\n",
    "    0.8636363636363636,\n",
    "    1.0,\n",
    "    1.0,\n",
    "    0.9444444444444444],\n",
    "   'recall_scores': [1.0,\n",
    "    0.9047619047619048,\n",
    "    0.9523809523809523,\n",
    "    1.0,\n",
    "    0.9523809523809523,\n",
    "    1.0,\n",
    "    0.9047619047619048,\n",
    "    0.9523809523809523,\n",
    "    0.9523809523809523,\n",
    "    0.8095238095238095],\n",
    "   'specifity_scores': [0.9982142857142857,\n",
    "    0.998211091234347,\n",
    "    0.998211091234347,\n",
    "    0.998211091234347,\n",
    "    1.0,\n",
    "    0.9982142857142857,\n",
    "    0.9946332737030411,\n",
    "    1.0,\n",
    "    1.0,\n",
    "    0.998211091234347],\n",
    "   'mean_precission_score': 0.9574098124098125,\n",
    "   'mean_recall_scores': 0.9428571428571428,\n",
    "   'mean_specifity_scores': 0.9983906210069001},\n",
    "  'BorderlineSMOTE': {'precission_scores': [1.0,\n",
    "    0.9411764705882353,\n",
    "    0.9090909090909091,\n",
    "    0.9545454545454546,\n",
    "    0.9090909090909091,\n",
    "    0.9523809523809523,\n",
    "    0.8636363636363636,\n",
    "    1.0,\n",
    "    1.0,\n",
    "    1.0],\n",
    "   'recall_scores': [0.9523809523809523,\n",
    "    0.7619047619047619,\n",
    "    0.9523809523809523,\n",
    "    1.0,\n",
    "    0.9523809523809523,\n",
    "    0.9523809523809523,\n",
    "    0.9047619047619048,\n",
    "    0.9523809523809523,\n",
    "    0.9523809523809523,\n",
    "    0.8571428571428571],\n",
    "   'specifity_scores': [1.0,\n",
    "    0.998211091234347,\n",
    "    0.9964221824686941,\n",
    "    0.998211091234347,\n",
    "    0.9964221824686941,\n",
    "    0.9982142857142857,\n",
    "    0.9946332737030411,\n",
    "    1.0,\n",
    "    1.0,\n",
    "    1.0],\n",
    "   'mean_precission_score': 0.9529921059332824,\n",
    "   'mean_recall_scores': 0.9238095238095239,\n",
    "   'mean_specifity_scores': 0.998211410682341}},\n",
    " 'shuttle-2_vs_5.dat': {'KMeansSMOTE': {'precission_scores': [1.0,\n",
    "    1.0,\n",
    "    1.0,\n",
    "    1.0,\n",
    "    1.0,\n",
    "    1.0,\n",
    "    1.0,\n",
    "    1.0,\n",
    "    1.0,\n",
    "    1.0],\n",
    "   'recall_scores': [1.0, 1.0, 1.0, 1.0, 1.0, 1.0, 1.0, 1.0, 1.0, 1.0],\n",
    "   'specifity_scores': [1.0, 1.0, 1.0, 1.0, 1.0, 1.0, 1.0, 1.0, 1.0, 1.0],\n",
    "   'mean_precission_score': 1.0,\n",
    "   'mean_recall_scores': 1.0,\n",
    "   'mean_specifity_scores': 1.0},\n",
    "  'MeansShiftSMOTE': {'precission_scores': [1.0,\n",
    "    1.0,\n",
    "    1.0,\n",
    "    1.0,\n",
    "    1.0,\n",
    "    1.0,\n",
    "    1.0,\n",
    "    1.0,\n",
    "    1.0,\n",
    "    1.0],\n",
    "   'recall_scores': [1.0, 1.0, 1.0, 1.0, 1.0, 1.0, 1.0, 1.0, 1.0, 1.0],\n",
    "   'specifity_scores': [1.0, 1.0, 1.0, 1.0, 1.0, 1.0, 1.0, 1.0, 1.0, 1.0],\n",
    "   'mean_precission_score': 1.0,\n",
    "   'mean_recall_scores': 1.0,\n",
    "   'mean_specifity_scores': 1.0},\n",
    "  'SMOTE': {'precission_scores': [1.0,\n",
    "    1.0,\n",
    "    1.0,\n",
    "    1.0,\n",
    "    1.0,\n",
    "    1.0,\n",
    "    1.0,\n",
    "    1.0,\n",
    "    1.0,\n",
    "    1.0],\n",
    "   'recall_scores': [1.0, 1.0, 1.0, 1.0, 1.0, 1.0, 1.0, 1.0, 1.0, 1.0],\n",
    "   'specifity_scores': [1.0, 1.0, 1.0, 1.0, 1.0, 1.0, 1.0, 1.0, 1.0, 1.0],\n",
    "   'mean_precission_score': 1.0,\n",
    "   'mean_recall_scores': 1.0,\n",
    "   'mean_specifity_scores': 1.0},\n",
    "  'ROS': {'precission_scores': [1.0,\n",
    "    1.0,\n",
    "    1.0,\n",
    "    1.0,\n",
    "    1.0,\n",
    "    1.0,\n",
    "    1.0,\n",
    "    1.0,\n",
    "    1.0,\n",
    "    1.0],\n",
    "   'recall_scores': [1.0, 1.0, 1.0, 1.0, 1.0, 1.0, 1.0, 1.0, 1.0, 1.0],\n",
    "   'specifity_scores': [1.0, 1.0, 1.0, 1.0, 1.0, 1.0, 1.0, 1.0, 1.0, 1.0],\n",
    "   'mean_precission_score': 1.0,\n",
    "   'mean_recall_scores': 1.0,\n",
    "   'mean_specifity_scores': 1.0},\n",
    "  'BorderlineSMOTE': {'precission_scores': [1.0,\n",
    "    1.0,\n",
    "    1.0,\n",
    "    1.0,\n",
    "    1.0,\n",
    "    1.0,\n",
    "    1.0,\n",
    "    1.0,\n",
    "    1.0,\n",
    "    1.0],\n",
    "   'recall_scores': [1.0, 1.0, 1.0, 1.0, 1.0, 1.0, 1.0, 1.0, 1.0, 1.0],\n",
    "   'specifity_scores': [1.0, 1.0, 1.0, 1.0, 1.0, 1.0, 1.0, 1.0, 1.0, 1.0],\n",
    "   'mean_precission_score': 1.0,\n",
    "   'mean_recall_scores': 1.0,\n",
    "   'mean_specifity_scores': 1.0}},\n",
    " 'shuttle-c0-vs-c4.dat': {'KMeansSMOTE': {'precission_scores': [1.0,\n",
    "    1.0,\n",
    "    1.0,\n",
    "    1.0,\n",
    "    1.0,\n",
    "    1.0,\n",
    "    1.0,\n",
    "    1.0,\n",
    "    1.0,\n",
    "    1.0],\n",
    "   'recall_scores': [1.0, 1.0, 1.0, 1.0, 1.0, 1.0, 1.0, 1.0, 1.0, 1.0],\n",
    "   'specifity_scores': [1.0, 1.0, 1.0, 1.0, 1.0, 1.0, 1.0, 1.0, 1.0, 1.0],\n",
    "   'mean_precission_score': 1.0,\n",
    "   'mean_recall_scores': 1.0,\n",
    "   'mean_specifity_scores': 1.0},\n",
    "  'MeansShiftSMOTE': {'precission_scores': [1.0,\n",
    "    1.0,\n",
    "    1.0,\n",
    "    1.0,\n",
    "    1.0,\n",
    "    1.0,\n",
    "    1.0,\n",
    "    1.0,\n",
    "    1.0,\n",
    "    1.0],\n",
    "   'recall_scores': [1.0, 1.0, 1.0, 1.0, 1.0, 1.0, 1.0, 1.0, 1.0, 1.0],\n",
    "   'specifity_scores': [1.0, 1.0, 1.0, 1.0, 1.0, 1.0, 1.0, 1.0, 1.0, 1.0],\n",
    "   'mean_precission_score': 1.0,\n",
    "   'mean_recall_scores': 1.0,\n",
    "   'mean_specifity_scores': 1.0},\n",
    "  'SMOTE': {'precission_scores': [1.0,\n",
    "    1.0,\n",
    "    1.0,\n",
    "    1.0,\n",
    "    1.0,\n",
    "    1.0,\n",
    "    1.0,\n",
    "    1.0,\n",
    "    1.0,\n",
    "    1.0],\n",
    "   'recall_scores': [1.0, 1.0, 1.0, 1.0, 1.0, 1.0, 1.0, 1.0, 1.0, 1.0],\n",
    "   'specifity_scores': [1.0, 1.0, 1.0, 1.0, 1.0, 1.0, 1.0, 1.0, 1.0, 1.0],\n",
    "   'mean_precission_score': 1.0,\n",
    "   'mean_recall_scores': 1.0,\n",
    "   'mean_specifity_scores': 1.0},\n",
    "  'ROS': {'precission_scores': [1.0,\n",
    "    1.0,\n",
    "    1.0,\n",
    "    1.0,\n",
    "    1.0,\n",
    "    1.0,\n",
    "    1.0,\n",
    "    1.0,\n",
    "    1.0,\n",
    "    1.0],\n",
    "   'recall_scores': [1.0, 1.0, 1.0, 1.0, 1.0, 1.0, 1.0, 1.0, 1.0, 1.0],\n",
    "   'specifity_scores': [1.0, 1.0, 1.0, 1.0, 1.0, 1.0, 1.0, 1.0, 1.0, 1.0],\n",
    "   'mean_precission_score': 1.0,\n",
    "   'mean_recall_scores': 1.0,\n",
    "   'mean_specifity_scores': 1.0},\n",
    "  'BorderlineSMOTE': {'precission_scores': [1.0,\n",
    "    1.0,\n",
    "    1.0,\n",
    "    1.0,\n",
    "    1.0,\n",
    "    1.0,\n",
    "    1.0,\n",
    "    1.0,\n",
    "    1.0,\n",
    "    1.0],\n",
    "   'recall_scores': [1.0, 1.0, 1.0, 1.0, 1.0, 1.0, 1.0, 1.0, 1.0, 1.0],\n",
    "   'specifity_scores': [1.0, 1.0, 1.0, 1.0, 1.0, 1.0, 1.0, 1.0, 1.0, 1.0],\n",
    "   'mean_precission_score': 1.0,\n",
    "   'mean_recall_scores': 1.0,\n",
    "   'mean_specifity_scores': 1.0}},\n",
    " 'yeast-0-2-5-6_vs_3-7-8-9.dat': {'KMeansSMOTE': {'precission_scores': [0.5,\n",
    "    0.6521739130434783,\n",
    "    0.5,\n",
    "    0.4827586206896552,\n",
    "    0.5714285714285714,\n",
    "    0.6470588235294118,\n",
    "    0.5,\n",
    "    0.5769230769230769,\n",
    "    0.5185185185185185,\n",
    "    0.47619047619047616],\n",
    "   'recall_scores': [0.65,\n",
    "    0.75,\n",
    "    0.6,\n",
    "    0.7,\n",
    "    0.631578947368421,\n",
    "    0.55,\n",
    "    0.65,\n",
    "    0.75,\n",
    "    0.7,\n",
    "    0.5263157894736842],\n",
    "   'specifity_scores': [0.9281767955801105,\n",
    "    0.9558011049723757,\n",
    "    0.9337016574585635,\n",
    "    0.9171270718232044,\n",
    "    0.9502762430939227,\n",
    "    0.9668508287292817,\n",
    "    0.9281767955801105,\n",
    "    0.9392265193370166,\n",
    "    0.9281767955801105,\n",
    "    0.9392265193370166],\n",
    "   'mean_precission_score': 0.5425052000323187,\n",
    "   'mean_recall_scores': 0.6507894736842105,\n",
    "   'mean_specifity_scores': 0.9386740331491712},\n",
    "  'MeansShiftSMOTE': {'precission_scores': [0.4482758620689655,\n",
    "    0.5,\n",
    "    0.42857142857142855,\n",
    "    0.42424242424242425,\n",
    "    0.3793103448275862,\n",
    "    0.5454545454545454,\n",
    "    0.38235294117647056,\n",
    "    0.48484848484848486,\n",
    "    0.41935483870967744,\n",
    "    0.39285714285714285],\n",
    "   'recall_scores': [0.65,\n",
    "    0.75,\n",
    "    0.6,\n",
    "    0.7,\n",
    "    0.5789473684210527,\n",
    "    0.6,\n",
    "    0.65,\n",
    "    0.8,\n",
    "    0.65,\n",
    "    0.5789473684210527],\n",
    "   'specifity_scores': [0.9116022099447514,\n",
    "    0.9171270718232044,\n",
    "    0.9116022099447514,\n",
    "    0.8950276243093923,\n",
    "    0.9005524861878453,\n",
    "    0.9447513812154696,\n",
    "    0.8839779005524862,\n",
    "    0.9060773480662984,\n",
    "    0.9005524861878453,\n",
    "    0.9060773480662984],\n",
    "   'mean_precission_score': 0.44052680127567256,\n",
    "   'mean_recall_scores': 0.6557894736842107,\n",
    "   'mean_specifity_scores': 0.9077348066298343},\n",
    "  'SMOTE': {'precission_scores': [0.5909090909090909,\n",
    "    0.7647058823529411,\n",
    "    0.6666666666666666,\n",
    "    0.5909090909090909,\n",
    "    0.6470588235294118,\n",
    "    0.7692307692307693,\n",
    "    0.65,\n",
    "    0.6521739130434783,\n",
    "    0.7058823529411765,\n",
    "    0.55],\n",
    "   'recall_scores': [0.65,\n",
    "    0.65,\n",
    "    0.5,\n",
    "    0.65,\n",
    "    0.5789473684210527,\n",
    "    0.5,\n",
    "    0.65,\n",
    "    0.75,\n",
    "    0.6,\n",
    "    0.5789473684210527],\n",
    "   'specifity_scores': [0.9502762430939227,\n",
    "    0.9779005524861878,\n",
    "    0.9723756906077348,\n",
    "    0.9502762430939227,\n",
    "    0.9668508287292817,\n",
    "    0.9834254143646409,\n",
    "    0.9613259668508287,\n",
    "    0.9558011049723757,\n",
    "    0.9723756906077348,\n",
    "    0.9502762430939227],\n",
    "   'mean_precission_score': 0.6587536589582625,\n",
    "   'mean_recall_scores': 0.6107894736842105,\n",
    "   'mean_specifity_scores': 0.9640883977900552},\n",
    "  'ROS': {'precission_scores': [0.75,\n",
    "    0.9090909090909091,\n",
    "    0.6923076923076923,\n",
    "    0.6666666666666666,\n",
    "    0.75,\n",
    "    0.75,\n",
    "    0.8,\n",
    "    0.8666666666666667,\n",
    "    0.75,\n",
    "    0.6111111111111112],\n",
    "   'recall_scores': [0.6,\n",
    "    0.5,\n",
    "    0.45,\n",
    "    0.6,\n",
    "    0.47368421052631576,\n",
    "    0.3,\n",
    "    0.6,\n",
    "    0.65,\n",
    "    0.6,\n",
    "    0.5789473684210527],\n",
    "   'specifity_scores': [0.9779005524861878,\n",
    "    0.994475138121547,\n",
    "    0.9779005524861878,\n",
    "    0.9668508287292817,\n",
    "    0.9834254143646409,\n",
    "    0.988950276243094,\n",
    "    0.9834254143646409,\n",
    "    0.988950276243094,\n",
    "    0.9779005524861878,\n",
    "    0.9613259668508287],\n",
    "   'mean_precission_score': 0.7545843045843046,\n",
    "   'mean_recall_scores': 0.5352631578947369,\n",
    "   'mean_specifity_scores': 0.9801104972375692},\n",
    "  'BorderlineSMOTE': {'precission_scores': [0.5454545454545454,\n",
    "    0.8666666666666667,\n",
    "    0.6428571428571429,\n",
    "    0.6190476190476191,\n",
    "    0.5625,\n",
    "    0.7272727272727273,\n",
    "    0.6666666666666666,\n",
    "    0.5909090909090909,\n",
    "    0.65,\n",
    "    0.6666666666666666],\n",
    "   'recall_scores': [0.6,\n",
    "    0.65,\n",
    "    0.45,\n",
    "    0.65,\n",
    "    0.47368421052631576,\n",
    "    0.4,\n",
    "    0.6,\n",
    "    0.65,\n",
    "    0.65,\n",
    "    0.5263157894736842],\n",
    "   'specifity_scores': [0.9447513812154696,\n",
    "    0.988950276243094,\n",
    "    0.9723756906077348,\n",
    "    0.9558011049723757,\n",
    "    0.9613259668508287,\n",
    "    0.9834254143646409,\n",
    "    0.9668508287292817,\n",
    "    0.9502762430939227,\n",
    "    0.9613259668508287,\n",
    "    0.9723756906077348],\n",
    "   'mean_precission_score': 0.6538041125541126,\n",
    "   'mean_recall_scores': 0.5650000000000001,\n",
    "   'mean_specifity_scores': 0.9657458563535911}},\n",
    " 'yeast-0-2-5-7-9_vs_3-6-8.dat': {'KMeansSMOTE': {'precission_scores': [0.6818181818181818,\n",
    "    0.7619047619047619,\n",
    "    0.75,\n",
    "    0.6428571428571429,\n",
    "    0.7894736842105263,\n",
    "    0.6956521739130435,\n",
    "    0.9,\n",
    "    0.7777777777777778,\n",
    "    0.782608695652174,\n",
    "    0.7083333333333334],\n",
    "   'recall_scores': [0.75,\n",
    "    0.8,\n",
    "    0.9,\n",
    "    0.9,\n",
    "    0.7894736842105263,\n",
    "    0.8,\n",
    "    0.9,\n",
    "    0.7,\n",
    "    0.9,\n",
    "    0.8947368421052632],\n",
    "   'specifity_scores': [0.9613259668508287,\n",
    "    0.9723756906077348,\n",
    "    0.9668508287292817,\n",
    "    0.9447513812154696,\n",
    "    0.9779005524861878,\n",
    "    0.9613259668508287,\n",
    "    0.988950276243094,\n",
    "    0.9779005524861878,\n",
    "    0.9723756906077348,\n",
    "    0.9613259668508287],\n",
    "   'mean_precission_score': 0.7490425751466941,\n",
    "   'mean_recall_scores': 0.833421052631579,\n",
    "   'mean_specifity_scores': 0.9685082872928177},\n",
    "  'MeansShiftSMOTE': {'precission_scores': [0.64,\n",
    "    0.7619047619047619,\n",
    "    0.75,\n",
    "    0.6666666666666666,\n",
    "    0.6666666666666666,\n",
    "    0.625,\n",
    "    0.8260869565217391,\n",
    "    0.7142857142857143,\n",
    "    0.7391304347826086,\n",
    "    0.6666666666666666],\n",
    "   'recall_scores': [0.8,\n",
    "    0.8,\n",
    "    0.9,\n",
    "    0.9,\n",
    "    0.7368421052631579,\n",
    "    0.75,\n",
    "    0.95,\n",
    "    0.75,\n",
    "    0.85,\n",
    "    0.9473684210526315],\n",
    "   'specifity_scores': [0.9502762430939227,\n",
    "    0.9723756906077348,\n",
    "    0.9668508287292817,\n",
    "    0.9502762430939227,\n",
    "    0.9613259668508287,\n",
    "    0.9502762430939227,\n",
    "    0.9779005524861878,\n",
    "    0.9668508287292817,\n",
    "    0.9668508287292817,\n",
    "    0.9502762430939227],\n",
    "   'mean_precission_score': 0.7056407867494824,\n",
    "   'mean_recall_scores': 0.8384210526315788,\n",
    "   'mean_specifity_scores': 0.9613259668508286},\n",
    "  'SMOTE': {'precission_scores': [0.6956521739130435,\n",
    "    0.8823529411764706,\n",
    "    0.8181818181818182,\n",
    "    0.8181818181818182,\n",
    "    0.9285714285714286,\n",
    "    0.7777777777777778,\n",
    "    1.0,\n",
    "    0.7777777777777778,\n",
    "    0.85,\n",
    "    0.7727272727272727],\n",
    "   'recall_scores': [0.8,\n",
    "    0.75,\n",
    "    0.9,\n",
    "    0.9,\n",
    "    0.6842105263157895,\n",
    "    0.7,\n",
    "    0.85,\n",
    "    0.7,\n",
    "    0.85,\n",
    "    0.8947368421052632],\n",
    "   'specifity_scores': [0.9613259668508287,\n",
    "    0.988950276243094,\n",
    "    0.9779005524861878,\n",
    "    0.9779005524861878,\n",
    "    0.994475138121547,\n",
    "    0.9779005524861878,\n",
    "    1.0,\n",
    "    0.9779005524861878,\n",
    "    0.9834254143646409,\n",
    "    0.9723756906077348],\n",
    "   'mean_precission_score': 0.8321223008307408,\n",
    "   'mean_recall_scores': 0.8028947368421052,\n",
    "   'mean_specifity_scores': 0.9812154696132597},\n",
    "  'ROS': {'precission_scores': [0.8888888888888888,\n",
    "    0.8823529411764706,\n",
    "    0.8421052631578947,\n",
    "    0.7727272727272727,\n",
    "    0.9166666666666666,\n",
    "    0.7777777777777778,\n",
    "    1.0,\n",
    "    0.8235294117647058,\n",
    "    0.875,\n",
    "    0.8421052631578947],\n",
    "   'recall_scores': [0.8,\n",
    "    0.75,\n",
    "    0.8,\n",
    "    0.85,\n",
    "    0.5789473684210527,\n",
    "    0.7,\n",
    "    0.8,\n",
    "    0.7,\n",
    "    0.7,\n",
    "    0.8421052631578947],\n",
    "   'specifity_scores': [0.988950276243094,\n",
    "    0.988950276243094,\n",
    "    0.9834254143646409,\n",
    "    0.9723756906077348,\n",
    "    0.994475138121547,\n",
    "    0.9779005524861878,\n",
    "    1.0,\n",
    "    0.9834254143646409,\n",
    "    0.988950276243094,\n",
    "    0.9834254143646409],\n",
    "   'mean_precission_score': 0.8621153485317571,\n",
    "   'mean_recall_scores': 0.7521052631578947,\n",
    "   'mean_specifity_scores': 0.9861878453038674},\n",
    "  'BorderlineSMOTE': {'precission_scores': [0.8333333333333334,\n",
    "    0.8235294117647058,\n",
    "    0.8947368421052632,\n",
    "    0.75,\n",
    "    0.8125,\n",
    "    0.7,\n",
    "    0.9,\n",
    "    0.875,\n",
    "    0.75,\n",
    "    0.7619047619047619],\n",
    "   'recall_scores': [0.75,\n",
    "    0.7,\n",
    "    0.85,\n",
    "    0.9,\n",
    "    0.6842105263157895,\n",
    "    0.7,\n",
    "    0.9,\n",
    "    0.7,\n",
    "    0.75,\n",
    "    0.8421052631578947],\n",
    "   'specifity_scores': [0.9834254143646409,\n",
    "    0.9834254143646409,\n",
    "    0.988950276243094,\n",
    "    0.9668508287292817,\n",
    "    0.9834254143646409,\n",
    "    0.9668508287292817,\n",
    "    0.988950276243094,\n",
    "    0.988950276243094,\n",
    "    0.9723756906077348,\n",
    "    0.9723756906077348],\n",
    "   'mean_precission_score': 0.8101004349108063,\n",
    "   'mean_recall_scores': 0.7776315789473685,\n",
    "   'mean_specifity_scores': 0.9795580110497237}},\n",
    " 'yeast4.dat': {'KMeansSMOTE': {'precission_scores': [0.19047619047619047,\n",
    "    0.23809523809523808,\n",
    "    0.3076923076923077,\n",
    "    0.3684210526315789,\n",
    "    0.35294117647058826,\n",
    "    0.32,\n",
    "    0.35714285714285715,\n",
    "    0.07142857142857142,\n",
    "    0.35714285714285715,\n",
    "    0.2857142857142857],\n",
    "   'recall_scores': [0.4,\n",
    "    0.5,\n",
    "    0.8,\n",
    "    0.6363636363636364,\n",
    "    0.6,\n",
    "    0.8,\n",
    "    0.5,\n",
    "    0.1,\n",
    "    0.45454545454545453,\n",
    "    0.6],\n",
    "   'specifity_scores': [0.9407665505226481,\n",
    "    0.9442508710801394,\n",
    "    0.9372822299651568,\n",
    "    0.958041958041958,\n",
    "    0.9615384615384616,\n",
    "    0.9407665505226481,\n",
    "    0.9686411149825784,\n",
    "    0.9547038327526133,\n",
    "    0.9685314685314685,\n",
    "    0.9475524475524476],\n",
    "   'mean_precission_score': 0.2849054536794475,\n",
    "   'mean_recall_scores': 0.539090909090909,\n",
    "   'mean_specifity_scores': 0.952207548549012},\n",
    "  'MeansShiftSMOTE': {'precission_scores': [0.25,\n",
    "    0.2631578947368421,\n",
    "    0.32,\n",
    "    0.3888888888888889,\n",
    "    0.375,\n",
    "    0.3181818181818182,\n",
    "    0.42857142857142855,\n",
    "    0.16666666666666666,\n",
    "    0.29411764705882354,\n",
    "    0.30434782608695654],\n",
    "   'recall_scores': [0.4,\n",
    "    0.5,\n",
    "    0.8,\n",
    "    0.6363636363636364,\n",
    "    0.6,\n",
    "    0.7,\n",
    "    0.6,\n",
    "    0.3,\n",
    "    0.45454545454545453,\n",
    "    0.7],\n",
    "   'specifity_scores': [0.9581881533101045,\n",
    "    0.9512195121951219,\n",
    "    0.9407665505226481,\n",
    "    0.9615384615384616,\n",
    "    0.965034965034965,\n",
    "    0.9477351916376306,\n",
    "    0.9721254355400697,\n",
    "    0.9477351916376306,\n",
    "    0.958041958041958,\n",
    "    0.9440559440559441],\n",
    "   'mean_precission_score': 0.3108932170191424,\n",
    "   'mean_recall_scores': 0.5690909090909091,\n",
    "   'mean_specifity_scores': 0.9546441363514534},\n",
    "  'SMOTE': {'precission_scores': [0.4,\n",
    "    0.2857142857142857,\n",
    "    0.29411764705882354,\n",
    "    0.4,\n",
    "    0.4166666666666667,\n",
    "    0.29411764705882354,\n",
    "    0.5714285714285714,\n",
    "    0.0,\n",
    "    0.45454545454545453,\n",
    "    0.35294117647058826],\n",
    "   'recall_scores': [0.4,\n",
    "    0.4,\n",
    "    0.5,\n",
    "    0.5454545454545454,\n",
    "    0.5,\n",
    "    0.5,\n",
    "    0.4,\n",
    "    0.0,\n",
    "    0.45454545454545453,\n",
    "    0.6],\n",
    "   'specifity_scores': [0.9790940766550522,\n",
    "    0.9651567944250871,\n",
    "    0.9581881533101045,\n",
    "    0.9685314685314685,\n",
    "    0.9755244755244755,\n",
    "    0.9581881533101045,\n",
    "    0.9895470383275261,\n",
    "    0.9686411149825784,\n",
    "    0.9790209790209791,\n",
    "    0.9615384615384616],\n",
    "   'mean_precission_score': 0.3469531448943214,\n",
    "   'mean_recall_scores': 0.43,\n",
    "   'mean_specifity_scores': 0.9703430715625837},\n",
    "  'ROS': {'precission_scores': [0.6,\n",
    "    0.6666666666666666,\n",
    "    0.4,\n",
    "    0.2,\n",
    "    1.0,\n",
    "    0.8,\n",
    "    1.0,\n",
    "    0.0,\n",
    "    0.6666666666666666,\n",
    "    0.5],\n",
    "   'recall_scores': [0.3,\n",
    "    0.2,\n",
    "    0.2,\n",
    "    0.09090909090909091,\n",
    "    0.3,\n",
    "    0.4,\n",
    "    0.2,\n",
    "    0.0,\n",
    "    0.18181818181818182,\n",
    "    0.5],\n",
    "   'specifity_scores': [0.9930313588850174,\n",
    "    0.9965156794425087,\n",
    "    0.9895470383275261,\n",
    "    0.986013986013986,\n",
    "    1.0,\n",
    "    0.9965156794425087,\n",
    "    1.0,\n",
    "    0.9895470383275261,\n",
    "    0.9965034965034965,\n",
    "    0.9825174825174825],\n",
    "   'mean_precission_score': 0.5833333333333333,\n",
    "   'mean_recall_scores': 0.2372727272727273,\n",
    "   'mean_specifity_scores': 0.9930191759460051},\n",
    "  'BorderlineSMOTE': {'precission_scores': [0.25,\n",
    "    0.3333333333333333,\n",
    "    0.26666666666666666,\n",
    "    0.45454545454545453,\n",
    "    0.4,\n",
    "    0.46153846153846156,\n",
    "    0.5714285714285714,\n",
    "    0.0,\n",
    "    0.4,\n",
    "    0.38461538461538464],\n",
    "   'recall_scores': [0.3,\n",
    "    0.2,\n",
    "    0.4,\n",
    "    0.45454545454545453,\n",
    "    0.4,\n",
    "    0.6,\n",
    "    0.4,\n",
    "    0.0,\n",
    "    0.36363636363636365,\n",
    "    0.5],\n",
    "   'specifity_scores': [0.9686411149825784,\n",
    "    0.9860627177700348,\n",
    "    0.9616724738675958,\n",
    "    0.9790209790209791,\n",
    "    0.9790209790209791,\n",
    "    0.975609756097561,\n",
    "    0.9895470383275261,\n",
    "    0.975609756097561,\n",
    "    0.9790209790209791,\n",
    "    0.972027972027972],\n",
    "   'mean_precission_score': 0.3522127872127872,\n",
    "   'mean_recall_scores': 0.3618181818181818,\n",
    "   'mean_specifity_scores': 0.9766233766233766}},\n",
    " 'yeast5.dat': {'KMeansSMOTE': {'precission_scores': [0.5,\n",
    "    0.6363636363636364,\n",
    "    0.5,\n",
    "    0.8888888888888888,\n",
    "    0.6666666666666666,\n",
    "    0.8,\n",
    "    0.5,\n",
    "    0.75,\n",
    "    0.6,\n",
    "    0.6666666666666666],\n",
    "   'recall_scores': [0.8888888888888888,\n",
    "    0.7777777777777778,\n",
    "    0.6666666666666666,\n",
    "    0.8888888888888888,\n",
    "    1.0,\n",
    "    0.8888888888888888,\n",
    "    0.6666666666666666,\n",
    "    1.0,\n",
    "    1.0,\n",
    "    0.75],\n",
    "   'specifity_scores': [0.9722222222222222,\n",
    "    0.9861111111111112,\n",
    "    0.9791666666666666,\n",
    "    0.9965277777777778,\n",
    "    0.9861111111111112,\n",
    "    0.9930555555555556,\n",
    "    0.9791666666666666,\n",
    "    0.9895833333333334,\n",
    "    0.9791666666666666,\n",
    "    0.9895833333333334],\n",
    "   'mean_precission_score': 0.6508585858585858,\n",
    "   'mean_recall_scores': 0.8527777777777776,\n",
    "   'mean_specifity_scores': 0.9850694444444444},\n",
    "  'MeansShiftSMOTE': {'precission_scores': [0.47058823529411764,\n",
    "    0.6363636363636364,\n",
    "    0.5,\n",
    "    0.8,\n",
    "    0.6666666666666666,\n",
    "    0.7272727272727273,\n",
    "    0.5,\n",
    "    0.75,\n",
    "    0.5294117647058824,\n",
    "    0.6],\n",
    "   'recall_scores': [0.8888888888888888,\n",
    "    0.7777777777777778,\n",
    "    0.6666666666666666,\n",
    "    0.8888888888888888,\n",
    "    1.0,\n",
    "    0.8888888888888888,\n",
    "    0.6666666666666666,\n",
    "    1.0,\n",
    "    1.0,\n",
    "    0.75],\n",
    "   'specifity_scores': [0.96875,\n",
    "    0.9861111111111112,\n",
    "    0.9791666666666666,\n",
    "    0.9930555555555556,\n",
    "    0.9861111111111112,\n",
    "    0.9895833333333334,\n",
    "    0.9791666666666666,\n",
    "    0.9895833333333334,\n",
    "    0.9722222222222222,\n",
    "    0.9861111111111112],\n",
    "   'mean_precission_score': 0.6180303030303029,\n",
    "   'mean_recall_scores': 0.8527777777777776,\n",
    "   'mean_specifity_scores': 0.9829861111111111},\n",
    "  'SMOTE': {'precission_scores': [0.5,\n",
    "    0.6666666666666666,\n",
    "    0.5,\n",
    "    0.8888888888888888,\n",
    "    0.8,\n",
    "    0.8,\n",
    "    0.6,\n",
    "    0.75,\n",
    "    0.6428571428571429,\n",
    "    0.7142857142857143],\n",
    "   'recall_scores': [0.8888888888888888,\n",
    "    0.6666666666666666,\n",
    "    0.6666666666666666,\n",
    "    0.8888888888888888,\n",
    "    1.0,\n",
    "    0.8888888888888888,\n",
    "    0.6666666666666666,\n",
    "    1.0,\n",
    "    1.0,\n",
    "    0.625],\n",
    "   'specifity_scores': [0.9722222222222222,\n",
    "    0.9895833333333334,\n",
    "    0.9791666666666666,\n",
    "    0.9965277777777778,\n",
    "    0.9930555555555556,\n",
    "    0.9930555555555556,\n",
    "    0.9861111111111112,\n",
    "    0.9895833333333334,\n",
    "    0.9826388888888888,\n",
    "    0.9930555555555556],\n",
    "   'mean_precission_score': 0.6862698412698414,\n",
    "   'mean_recall_scores': 0.8291666666666666,\n",
    "   'mean_specifity_scores': 0.9875},\n",
    "  'ROS': {'precission_scores': [0.5384615384615384,\n",
    "    0.75,\n",
    "    0.5714285714285714,\n",
    "    1.0,\n",
    "    0.875,\n",
    "    0.8571428571428571,\n",
    "    0.6,\n",
    "    0.8181818181818182,\n",
    "    0.6666666666666666,\n",
    "    0.7142857142857143],\n",
    "   'recall_scores': [0.7777777777777778,\n",
    "    0.6666666666666666,\n",
    "    0.4444444444444444,\n",
    "    0.7777777777777778,\n",
    "    0.875,\n",
    "    0.6666666666666666,\n",
    "    0.3333333333333333,\n",
    "    1.0,\n",
    "    0.8888888888888888,\n",
    "    0.625],\n",
    "   'specifity_scores': [0.9791666666666666,\n",
    "    0.9930555555555556,\n",
    "    0.9895833333333334,\n",
    "    1.0,\n",
    "    0.9965277777777778,\n",
    "    0.9965277777777778,\n",
    "    0.9930555555555556,\n",
    "    0.9930555555555556,\n",
    "    0.9861111111111112,\n",
    "    0.9930555555555556],\n",
    "   'mean_precission_score': 0.7391167166167166,\n",
    "   'mean_recall_scores': 0.7055555555555555,\n",
    "   'mean_specifity_scores': 0.992013888888889},\n",
    "  'BorderlineSMOTE': {'precission_scores': [0.5333333333333333,\n",
    "    0.7,\n",
    "    0.5,\n",
    "    0.8888888888888888,\n",
    "    0.7272727272727273,\n",
    "    0.8,\n",
    "    0.5714285714285714,\n",
    "    0.75,\n",
    "    0.6,\n",
    "    0.7142857142857143],\n",
    "   'recall_scores': [0.8888888888888888,\n",
    "    0.7777777777777778,\n",
    "    0.6666666666666666,\n",
    "    0.8888888888888888,\n",
    "    1.0,\n",
    "    0.8888888888888888,\n",
    "    0.4444444444444444,\n",
    "    1.0,\n",
    "    1.0,\n",
    "    0.625],\n",
    "   'specifity_scores': [0.9756944444444444,\n",
    "    0.9895833333333334,\n",
    "    0.9791666666666666,\n",
    "    0.9965277777777778,\n",
    "    0.9895833333333334,\n",
    "    0.9930555555555556,\n",
    "    0.9895833333333334,\n",
    "    0.9895833333333334,\n",
    "    0.9791666666666666,\n",
    "    0.9930555555555556],\n",
    "   'mean_precission_score': 0.6785209235209234,\n",
    "   'mean_recall_scores': 0.8180555555555555,\n",
    "   'mean_specifity_scores': 0.9875}}}"
   ]
  },
  {
   "cell_type": "code",
   "execution_count": 15,
   "id": "9eff543b",
   "metadata": {
    "scrolled": true
   },
   "outputs": [
    {
     "name": "stdout",
     "output_type": "stream",
     "text": [
      "Statistically significantly better precission_scores:\n",
      "  KMeansSMOTE    MeansShiftSMOTE    SMOTE    ROS    BorderlineSMOTE\n",
      "-------------  -----------------  -------  -----  -----------------\n",
      "            0                  1        0      1                  0\n",
      "            0                  0        0      1                  0\n",
      "            1                  1        0      0                  0\n",
      "            1                  1        0      0                  0\n",
      "            1                  1        0      0                  0\n",
      "\n",
      "Statistically significantly better recall_scores:\n",
      "  KMeansSMOTE    MeansShiftSMOTE    SMOTE    ROS    BorderlineSMOTE\n",
      "-------------  -----------------  -------  -----  -----------------\n",
      "            0                  0        1      1                  1\n",
      "            0                  0        1      1                  1\n",
      "            0                  0        0      1                  0\n",
      "            0                  0        0      0                  0\n",
      "            0                  0        0      1                  0\n",
      "\n",
      "Statistically significantly better specifity_scores:\n",
      "  KMeansSMOTE    MeansShiftSMOTE    SMOTE    ROS    BorderlineSMOTE\n",
      "-------------  -----------------  -------  -----  -----------------\n",
      "            0                  1        0      0                  0\n",
      "            0                  0        0      0                  0\n",
      "            1                  1        0      0                  0\n",
      "            1                  1        1      0                  1\n",
      "            1                  1        1      0                  0\n",
      "\n",
      "Statistically significantly better precission_scores:\n",
      "  KMeansSMOTE    MeansShiftSMOTE    SMOTE    ROS    BorderlineSMOTE\n",
      "-------------  -----------------  -------  -----  -----------------\n",
      "            0                  0        0      0                  0\n",
      "            0                  0        0      0                  0\n",
      "            0                  0        0      0                  0\n",
      "            0                  0        0      0                  0\n",
      "            0                  0        0      0                  0\n",
      "\n",
      "Statistically significantly better recall_scores:\n",
      "  KMeansSMOTE    MeansShiftSMOTE    SMOTE    ROS    BorderlineSMOTE\n",
      "-------------  -----------------  -------  -----  -----------------\n",
      "            0                  0        0      0                  0\n",
      "            0                  0        0      0                  0\n",
      "            0                  0        0      0                  0\n",
      "            0                  0        0      0                  0\n",
      "            0                  0        0      0                  0\n",
      "\n",
      "Statistically significantly better specifity_scores:\n",
      "  KMeansSMOTE    MeansShiftSMOTE    SMOTE    ROS    BorderlineSMOTE\n",
      "-------------  -----------------  -------  -----  -----------------\n",
      "            0                  1        0      0                  0\n",
      "            0                  0        0      0                  0\n",
      "            0                  0        0      0                  0\n",
      "            0                  0        0      0                  0\n",
      "            1                  1        0      0                  0\n",
      "\n",
      "Statistically significantly better precission_scores:\n",
      "  KMeansSMOTE    MeansShiftSMOTE    SMOTE    ROS    BorderlineSMOTE\n",
      "-------------  -----------------  -------  -----  -----------------\n",
      "            0                  0        0      0                  0\n",
      "            0                  0        0      0                  0\n",
      "            0                  0        0      0                  0\n",
      "            0                  0        0      0                  0\n",
      "            0                  0        0      0                  0\n",
      "\n",
      "Statistically significantly better recall_scores:\n",
      "  KMeansSMOTE    MeansShiftSMOTE    SMOTE    ROS    BorderlineSMOTE\n",
      "-------------  -----------------  -------  -----  -----------------\n",
      "            0                  0        0      0                  0\n",
      "            0                  0        0      0                  0\n",
      "            0                  0        0      0                  0\n",
      "            0                  0        0      0                  0\n",
      "            0                  0        0      0                  0\n",
      "\n",
      "Statistically significantly better specifity_scores:\n",
      "  KMeansSMOTE    MeansShiftSMOTE    SMOTE    ROS    BorderlineSMOTE\n",
      "-------------  -----------------  -------  -----  -----------------\n",
      "            0                  0        0      0                  0\n",
      "            0                  0        0      0                  0\n",
      "            0                  0        0      0                  0\n",
      "            0                  0        0      0                  0\n",
      "            0                  0        0      0                  0\n",
      "\n"
     ]
    },
    {
     "name": "stderr",
     "output_type": "stream",
     "text": [
      "c:\\Users\\JG\\Documents\\GitHub\\SMOTE-clustering\\.venv\\Lib\\site-packages\\scipy\\stats\\_axis_nan_policy.py:531: UserWarning:\n",
      "\n",
      "scipy.stats.shapiro: Input data has range zero. The results may not be accurate.\n",
      "\n"
     ]
    },
    {
     "name": "stdout",
     "output_type": "stream",
     "text": [
      "Statistically significantly better precission_scores:\n",
      "  KMeansSMOTE    MeansShiftSMOTE    SMOTE    ROS    BorderlineSMOTE\n",
      "-------------  -----------------  -------  -----  -----------------\n",
      "            0                  0        0      0                  0\n",
      "            0                  0        0      0                  0\n",
      "            0                  0        0      0                  0\n",
      "            0                  0        0      0                  0\n",
      "            0                  0        0      0                  0\n",
      "\n",
      "Statistically significantly better recall_scores:\n",
      "  KMeansSMOTE    MeansShiftSMOTE    SMOTE    ROS    BorderlineSMOTE\n",
      "-------------  -----------------  -------  -----  -----------------\n",
      "            0                  0        0      0                  0\n",
      "            0                  0        0      0                  0\n",
      "            0                  0        0      0                  0\n",
      "            0                  0        0      0                  0\n",
      "            0                  0        0      0                  0\n",
      "\n",
      "Statistically significantly better specifity_scores:\n",
      "  KMeansSMOTE    MeansShiftSMOTE    SMOTE    ROS    BorderlineSMOTE\n",
      "-------------  -----------------  -------  -----  -----------------\n",
      "            0                  0        0      0                  0\n",
      "            0                  0        0      0                  0\n",
      "            0                  0        0      0                  0\n",
      "            0                  0        0      0                  0\n",
      "            0                  0        0      0                  0\n",
      "\n",
      "Statistically significantly better precission_scores:\n",
      "  KMeansSMOTE    MeansShiftSMOTE    SMOTE    ROS    BorderlineSMOTE\n",
      "-------------  -----------------  -------  -----  -----------------\n",
      "            0                  0        0      0                  0\n",
      "            0                  0        0      0                  0\n",
      "            0                  0        0      0                  0\n",
      "            0                  0        0      0                  0\n",
      "            0                  0        0      0                  0\n",
      "\n",
      "Statistically significantly better recall_scores:\n",
      "  KMeansSMOTE    MeansShiftSMOTE    SMOTE    ROS    BorderlineSMOTE\n",
      "-------------  -----------------  -------  -----  -----------------\n",
      "            0                  0        0      0                  0\n",
      "            0                  0        0      0                  0\n",
      "            0                  0        0      0                  0\n",
      "            0                  0        0      0                  0\n",
      "            0                  0        0      0                  0\n",
      "\n",
      "Statistically significantly better specifity_scores:\n",
      "  KMeansSMOTE    MeansShiftSMOTE    SMOTE    ROS    BorderlineSMOTE\n",
      "-------------  -----------------  -------  -----  -----------------\n",
      "            0                  0        0      0                  0\n",
      "            0                  0        0      0                  0\n",
      "            0                  0        0      0                  0\n",
      "            0                  0        0      0                  0\n",
      "            0                  0        0      0                  0\n",
      "\n",
      "Statistically significantly better precission_scores:\n",
      "  KMeansSMOTE    MeansShiftSMOTE    SMOTE    ROS    BorderlineSMOTE\n",
      "-------------  -----------------  -------  -----  -----------------\n",
      "            0                  0        0      0                  0\n",
      "            0                  0        0      0                  0\n",
      "            0                  0        0      0                  0\n",
      "            0                  0        0      0                  0\n",
      "            0                  0        0      0                  0\n",
      "\n",
      "Statistically significantly better recall_scores:\n",
      "  KMeansSMOTE    MeansShiftSMOTE    SMOTE    ROS    BorderlineSMOTE\n",
      "-------------  -----------------  -------  -----  -----------------\n",
      "            0                  0        0      0                  0\n",
      "            0                  0        0      0                  0\n",
      "            0                  0        0      0                  0\n",
      "            0                  0        0      0                  0\n",
      "            0                  0        0      0                  0\n",
      "\n",
      "Statistically significantly better specifity_scores:\n",
      "  KMeansSMOTE    MeansShiftSMOTE    SMOTE    ROS    BorderlineSMOTE\n",
      "-------------  -----------------  -------  -----  -----------------\n",
      "            0                  0        0      0                  0\n",
      "            0                  0        0      0                  0\n",
      "            0                  0        0      0                  0\n",
      "            0                  0        0      0                  0\n",
      "            0                  0        0      0                  0\n",
      "\n",
      "Statistically significantly better precission_scores:\n",
      "  KMeansSMOTE    MeansShiftSMOTE    SMOTE    ROS    BorderlineSMOTE\n",
      "-------------  -----------------  -------  -----  -----------------\n",
      "            0                  1        0      0                  0\n",
      "            0                  0        0      0                  0\n",
      "            1                  1        0      0                  0\n",
      "            0                  0        0      0                  1\n",
      "            1                  1        0      1                  0\n",
      "\n",
      "Statistically significantly better recall_scores:\n",
      "  KMeansSMOTE    MeansShiftSMOTE    SMOTE    ROS    BorderlineSMOTE\n",
      "-------------  -----------------  -------  -----  -----------------\n",
      "            0                  0        1      0                  0\n",
      "            0                  0        1      1                  0\n",
      "            0                  0        0      1                  0\n",
      "            0                  1        1      0                  0\n",
      "            0                  0        0      0                  0\n",
      "\n",
      "Statistically significantly better specifity_scores:\n",
      "  KMeansSMOTE    MeansShiftSMOTE    SMOTE    ROS    BorderlineSMOTE\n",
      "-------------  -----------------  -------  -----  -----------------\n",
      "            0                  1        0      0                  0\n",
      "            1                  0        0      0                  0\n",
      "            1                  0        0      0                  0\n",
      "            1                  0        1      0                  1\n",
      "            1                  0        0      0                  0\n",
      "\n",
      "Statistically significantly better precission_scores:\n",
      "  KMeansSMOTE    MeansShiftSMOTE    SMOTE    ROS    BorderlineSMOTE\n",
      "-------------  -----------------  -------  -----  -----------------\n",
      "            0                  1        0      0                  0\n",
      "            0                  0        0      0                  0\n",
      "            1                  1        0      0                  0\n",
      "            1                  1        1      0                  1\n",
      "            0                  1        0      0                  0\n",
      "\n",
      "Statistically significantly better recall_scores:\n",
      "  KMeansSMOTE    MeansShiftSMOTE    SMOTE    ROS    BorderlineSMOTE\n",
      "-------------  -----------------  -------  -----  -----------------\n",
      "            0                  0        0      1                  1\n",
      "            1                  0        1      1                  1\n",
      "            0                  0        0      1                  0\n",
      "            0                  0        0      0                  0\n",
      "            0                  0        0      0                  0\n",
      "\n",
      "Statistically significantly better specifity_scores:\n",
      "  KMeansSMOTE    MeansShiftSMOTE    SMOTE    ROS    BorderlineSMOTE\n",
      "-------------  -----------------  -------  -----  -----------------\n",
      "            0                  1        0      0                  0\n",
      "            1                  0        0      0                  0\n",
      "            1                  0        0      0                  0\n",
      "            1                  0        1      0                  1\n",
      "            1                  0        0      0                  0\n",
      "\n",
      "Statistically significantly better precission_scores:\n",
      "  KMeansSMOTE    MeansShiftSMOTE    SMOTE    ROS    BorderlineSMOTE\n",
      "-------------  -----------------  -------  -----  -----------------\n",
      "            0                  0        0      0                  0\n",
      "            0                  0        0      0                  0\n",
      "            0                  0        0      0                  0\n",
      "            1                  1        1      0                  1\n",
      "            1                  0        0      0                  0\n",
      "\n",
      "Statistically significantly better recall_scores:\n",
      "  KMeansSMOTE    MeansShiftSMOTE    SMOTE    ROS    BorderlineSMOTE\n",
      "-------------  -----------------  -------  -----  -----------------\n",
      "            0                  0        0      1                  1\n",
      "            0                  0        0      1                  1\n",
      "            0                  0        0      0                  0\n",
      "            0                  0        0      0                  0\n",
      "            0                  0        0      1                  0\n",
      "\n",
      "Statistically significantly better specifity_scores:\n",
      "  KMeansSMOTE    MeansShiftSMOTE    SMOTE    ROS    BorderlineSMOTE\n",
      "-------------  -----------------  -------  -----  -----------------\n",
      "            0                  0        0      0                  0\n",
      "            0                  0        0      0                  0\n",
      "            1                  1        0      0                  0\n",
      "            1                  1        1      0                  1\n",
      "            1                  1        1      0                  0\n",
      "\n",
      "Statistically significantly better precission_scores:\n",
      "  KMeansSMOTE    MeansShiftSMOTE    SMOTE    ROS    BorderlineSMOTE\n",
      "-------------  -----------------  -------  -----  -----------------\n",
      "            0                  1        0      0                  0\n",
      "            0                  0        0      0                  0\n",
      "            0                  1        0      0                  0\n",
      "            1                  1        1      0                  1\n",
      "            1                  1        0      0                  0\n",
      "\n",
      "Statistically significantly better recall_scores:\n",
      "  KMeansSMOTE    MeansShiftSMOTE    SMOTE    ROS    BorderlineSMOTE\n",
      "-------------  -----------------  -------  -----  -----------------\n",
      "            0                  0        0      0                  0\n",
      "            0                  0        0      0                  0\n",
      "            0                  0        0      1                  0\n",
      "            0                  0        0      0                  0\n",
      "            0                  0        0      1                  0\n",
      "\n",
      "Statistically significantly better specifity_scores:\n",
      "  KMeansSMOTE    MeansShiftSMOTE    SMOTE    ROS    BorderlineSMOTE\n",
      "-------------  -----------------  -------  -----  -----------------\n",
      "            0                  1        0      0                  0\n",
      "            0                  0        0      0                  0\n",
      "            1                  1        0      0                  0\n",
      "            1                  1        1      0                  0\n",
      "            0                  0        0      0                  0\n",
      "\n"
     ]
    }
   ],
   "source": [
    "from scipy.stats import ttest_rel, wilcoxon, shapiro\n",
    "from tabulate import tabulate\n",
    "\n",
    "alfa = .05\n",
    "methods = [\"KMeansSMOTE\", \"MeansShiftSMOTE\", \"SMOTE\", \"ROS\", \"BorderlineSMOTE\"]\n",
    "metrics = [\"precission_scores\",\"recall_scores\",\"specifity_scores\"]\n",
    "\n",
    "for directory in results:\n",
    "    for metric in metrics:\n",
    "        w_statistic = np.zeros((len(methods), len(methods)))\n",
    "        p_value = np.zeros((len(methods), len(methods)))\n",
    "        test_used = np.empty((len(methods), len(methods)), dtype=object)\n",
    "        for i, preprocessing_method in enumerate(methods):\n",
    "            for j, comparison_preprocessing_method in enumerate(methods):\n",
    "                metric_results_one = results[directory][preprocessing_method][metric]\n",
    "                metric_results_two = results[directory][comparison_preprocessing_method][metric]\n",
    "                tmp_p_val = 0\n",
    "                try:\n",
    "                    _, tmp_p_val = wilcoxon(metric_results_one, metric_results_two)\n",
    "                except: \n",
    "                    _, tmp_p_val = 0, 1\n",
    "                mean_metric_one = np.mean(metric_results_one)\n",
    "                mean_metric_two = np.mean(metric_results_two)\n",
    "                if  tmp_p_val <= alfa:\n",
    "                    if mean_metric_one - mean_metric_two > 0:\n",
    "                        w_statistic[i,j], p_value[i,j] = 1, 1\n",
    "                    else:\n",
    "                        w_statistic[i,j], p_value[i,j] = 0, 1\n",
    "                else:\n",
    "                    if mean_metric_one - mean_metric_two > 0:\n",
    "                        w_statistic[i,j], p_value[i,j] = 1, 0\n",
    "                    else:\n",
    "                        w_statistic[i,j], p_value[i,j] = 0, 0\n",
    "        stat_better = w_statistic * p_value\n",
    "        stat_better_table = tabulate(stat_better, methods)\n",
    "        print(f\"Statistically significantly better {metric}:\")\n",
    "        print(stat_better_table)\n",
    "        print()\n",
    "        print()\n",
    "        print()\n",
    "        "
   ]
  },
  {
   "cell_type": "markdown",
   "id": "3052da94",
   "metadata": {},
   "source": [
    "### Statistically significantly better preprocessings for all datasets"
   ]
  },
  {
   "cell_type": "code",
   "execution_count": 17,
   "id": "2a4ed7c7",
   "metadata": {},
   "outputs": [
    {
     "name": "stdout",
     "output_type": "stream",
     "text": [
      "Metric: mean_precission_score\n",
      "Statistical significance (alpha = 0.05):\n",
      "                   KMeansSMOTE    MeansShiftSMOTE    SMOTE    ROS    BorderlineSMOTE\n",
      "---------------  -------------  -----------------  -------  -----  -----------------\n",
      "KMeansSMOTE                  0                  0        0      0                  0\n",
      "MeansShiftSMOTE              0                  0        0      0                  0\n",
      "SMOTE                        1                  1        0      0                  0\n",
      "ROS                          1                  1        0      0                  0\n",
      "BorderlineSMOTE              1                  1        0      0                  0\n",
      "\n",
      "\n",
      "Metric: mean_recall_scores\n",
      "Statistical significance (alpha = 0.05):\n",
      "                   KMeansSMOTE    MeansShiftSMOTE    SMOTE    ROS    BorderlineSMOTE\n",
      "---------------  -------------  -----------------  -------  -----  -----------------\n",
      "KMeansSMOTE                  0                  0        1      1                  1\n",
      "MeansShiftSMOTE              0                  0        1      1                  1\n",
      "SMOTE                        0                  0        0      1                  1\n",
      "ROS                          0                  0        0      0                  0\n",
      "BorderlineSMOTE              0                  0        0      0                  0\n",
      "\n",
      "\n",
      "Metric: mean_specifity_scores\n",
      "Statistical significance (alpha = 0.05):\n",
      "                   KMeansSMOTE    MeansShiftSMOTE    SMOTE    ROS    BorderlineSMOTE\n",
      "---------------  -------------  -----------------  -------  -----  -----------------\n",
      "KMeansSMOTE                  0                  0        0      0                  0\n",
      "MeansShiftSMOTE              0                  0        0      0                  0\n",
      "SMOTE                        1                  1        0      0                  0\n",
      "ROS                          1                  1        1      0                  1\n",
      "BorderlineSMOTE              1                  1        0      0                  0\n",
      "\n",
      "\n"
     ]
    }
   ],
   "source": [
    "from scipy.stats import rankdata, ranksums\n",
    "\n",
    "methods = [\"KMeansSMOTE\", \"MeansShiftSMOTE\", \"SMOTE\", \"ROS\", \"BorderlineSMOTE\"]\n",
    "metrics = [\"mean_precission_score\", \"mean_recall_scores\", \"mean_specifity_scores\"]\n",
    "for metric in metrics:\n",
    "    mean = []\n",
    "    for directory in results:\n",
    "        preprocessing_mean = []\n",
    "        for i, preprocessing_method in enumerate(methods):\n",
    "            preprocessing_mean.append(results[directory][preprocessing_method][metric])\n",
    "        mean.append(preprocessing_mean)\n",
    "\n",
    "    ranks = []\n",
    "    for mean_score in mean:\n",
    "        ranks.append(rankdata(mean_score).tolist())\n",
    "    ranks = np.array(ranks)\n",
    "\n",
    "    alfa = .05\n",
    "    w_statistic = np.zeros((len(methods), len(methods)))\n",
    "    p_value = np.zeros((len(methods), len(methods)))\n",
    "    for i in range(len(methods)):\n",
    "        for j in range(len(methods)):\n",
    "            w_statistic[i, j], p_value[i, j] = ranksums(ranks.T[i], ranks.T[j])\n",
    "    names_column = np.expand_dims(np.array(list(methods)), axis=1)\n",
    "    w_statistic_table = np.concatenate((names_column, w_statistic), axis=1)\n",
    "    w_statistic_table = tabulate(w_statistic_table, methods, floatfmt=\".2f\")\n",
    "    p_value_table = np.concatenate((names_column, p_value), axis=1)\n",
    "    p_value_table = tabulate(p_value_table, methods, floatfmt=\".2f\")\n",
    "    advantage = np.zeros((len(methods), len(methods)))\n",
    "    advantage[w_statistic > 0] = 1\n",
    "    advantage_table = tabulate(np.concatenate(\n",
    "    (names_column, advantage), axis=1), methods)\n",
    "    significance = np.zeros((len(methods), len(methods)))\n",
    "    significance[p_value <= alfa] = 1\n",
    "    statisticaly_better = advantage * significance\n",
    "    statisticaly_better_table = tabulate(np.concatenate(\n",
    "    (names_column, statisticaly_better), axis=1), methods)\n",
    "    print(f\"Metric: {metric}\")\n",
    "    print(\"Statistical significance (alpha = 0.05):\")\n",
    "    print(statisticaly_better_table)\n",
    "    print()\n",
    "    print()"
   ]
  },
  {
   "cell_type": "markdown",
   "id": "73242972",
   "metadata": {},
   "source": [
    "# Testy parowe\n",
    "## Cel testów parowych\n",
    "W poprzedniej części pracy wykonano ocenę klasyfikatorów za pomocą metryk i walidacji krzyżowej. W ten sposób uzyskano osobną ocenę dla przypadków klasyfikatorów gdzie różnicami były: zbiory uczące, różne modele uczenia maszynowego oraz główny cel pracy czyli różne metody balansowania danych (sprawdzić czy niema zmian). Uzyskane wyniki należy w tym momencie porównać aby ocenić czy wyniki uzyskane w przypadkach gdzie wykorzystano metodę SMOTE wykonywaną na klastrach powstałych z danych niezbalansowanych są lepsze od pozostałych metod oversamplingu. Aby ocenić tą zależność można uśrednić uzyskane metryki i ocenić czy średnio model wykorzystujący zaproponowaną metodę oversamplingu uzyskuje lepsze wyniki, jednak test taki nie może zostać uznany za prawidłowy ponieważ mógł wynikać z przypadku. W tym celu należy wziąć pod uwagę również parametr określający jak wyniki wchodzące w skład średniej są od niej oddalone (odchylenie standardowe zbiorów). W tym celu przez badaczy wykorzystywane są testy statystyczne takie jak test T- Studenta oraz test Wilcoxona. Poniżej opisane zostaną testy które mogą zostać wykorzystane w pracy.\n",
    "## Wkorzystane testy statystyczne \n",
    "Testy statystyczne wykorzystuje się dla różńych zbiorów danych aby ocenić czy różnica między nimi jest statystycznie istotna.\n",
    "W tej pracy celem jest porównanie metryk dla modeli wykorzystujących mechanizm balansowania danych opartych o metodę SMOTE działającą na pojedynczych klastrach danych wejściowych oraz innych popularnie wykorzystywanych narzędzi oversamplingu. W ten sposób dane można podzielić na pary: zaproponowana w pracy metoda i inna metoda oversamplingu. Taki sposób podziału danych determinuje wykorzystanie testów parowych.\n",
    "### Test T-Studenta\n",
    "Test T-Studenta to test parametryczny (opierający się o porównanie parametrów populacji takich jak odchylenie standardowe czy średnia )\n",
    "Warunkiem koniecznym do zastosowania testu T studenta jest założenie, że porównywane zbiory są normalne. Testowanie normalności zbiorów zostanie omówione w dalszej części pracy. Jeśli Testowanie normalności wykazało, że próbki nie są normalne wtedy można wykorzystać inne testy o mniejszej precyzji czyli testy nieparametryczne. Należy jednak napiętać, że jeśli to możliwe powinienny zostać przeprowadzone testy parametryczne takie jest test T studenta lub analiza wariancji.\\\n",
    "Testy statystyczne parametryczne : https://pogotowiestatystyczne.pl/slowniki/testy-parametryczne/#:~:text=Testy%20parametryczne%20to%20rodzaj%20test%C3%B3w,standardowe%20lub%20innych%20statystykach%20opisowych.\n",
    "### Test Wilcoxona\n",
    "Test Wilcoxona to test nieparametryczny wykonywany na bazie próbek populacji a nie na jej parametrach. Wykorzystuje on różnicę między próbkami w przypadkach wykorzystania dwóchróżnych hiperparametrów modelu. Różnica każdejz próbek zostaje zakwalifikowana do jednego ze zbiorów $T_{-}$ gdy różnica jest ujemna lub $T_{+}$ gdy jest dodatnia. W ten sposób uzyskano dwa zbiory. Wszystkim różnicom w tym momencie usuwany zostaje znak a przyznana zostaje  $ranga$(tu można walnąć dokładniejszy opis ale teraz trochę małoczasu) a następnie sumowane są wszystkie ranki w zbiorach $T_{-}$ i $T_{+}$. Pod uwagę bierze się mniejszą sumę rang oraz sprawdzana jest ona w tablicy wartości sum wag Wilxocona.\n",
    "### Test założenia Normalności\n",
    "Aby ocenić czy próbki pewnej populacji mają określony rozkład można wykorzystać Test Kołmogorowa-Smirnowa. Aby określić czy wyniki badań możemy ocenić za pomocą testu T studenta trzeba spełnić założenie normalności a więc określić czy próbki mogą pochodzić z wałsciwości o charakterze rozkładu normalngo. W tym celu test Kołmogorowa-Smirnowa należy wykonać dla uzyskanych wcześniej wyników i rozkładu normalnego.\n",
    "\n",
    "biblio: https://www.scirp.org/html/6-1241391_107034.htm\n",
    "https://onlinelibrary.wiley.com/doi/full/10.1002/9781118445112.stat06558\n",
    "\n",
    "Do wykonania oceny założenia normalności wykorzystana zostanie funkcja kstest pochodząca z pakiety scipy \\\n",
    "Tutaj jak to robić: https://medium.com/@ricardojaviermartnezsustegui/kolmog%C3%B3rov-smirnov-test-in-python-step-by-step-1b7532021bd2\n",
    "\n",
    "a jest jeszcze coś takiego\n",
    "scipy.stats.normaltest"
   ]
  }
 ],
 "metadata": {
  "kernelspec": {
   "display_name": "Python 3 (ipykernel)",
   "language": "python",
   "name": "python3"
  },
  "language_info": {
   "codemirror_mode": {
    "name": "ipython",
    "version": 3
   },
   "file_extension": ".py",
   "mimetype": "text/x-python",
   "name": "python",
   "nbconvert_exporter": "python",
   "pygments_lexer": "ipython3",
   "version": "3.12.3"
  }
 },
 "nbformat": 4,
 "nbformat_minor": 5
}
