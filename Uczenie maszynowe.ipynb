{
 "cells": [
  {
   "cell_type": "markdown",
   "id": "93e33f37",
   "metadata": {},
   "source": [
    "### Exploring the impact of clustering on the quality of SMOTE preprocessing. Comparative analysis\n",
    "##### Maksym Malicki, Jacek Glapiński\n",
    "###### Wrocław University of Technology\n",
    "In this notebook we present a comparative analysis of the impact of clustering using various methods on the quality of SMOTE preprocessing."
   ]
  },
  {
   "cell_type": "markdown",
   "id": "dfb8f403",
   "metadata": {},
   "source": [
    "#### load_dataset()\n",
    "This method allows us to load datasets listed in the paper."
   ]
  },
  {
   "cell_type": "code",
   "execution_count": 1,
   "id": "0ca3bf0c",
   "metadata": {},
   "outputs": [],
   "source": [
    "import numpy as np\n",
    "\n",
    "def load_dataset(file_path):\n",
    "    data = []\n",
    "    labels = []\n",
    "\n",
    "    with open(file_path, 'r') as f:\n",
    "        for line in f:\n",
    "            if line.startswith('@'):\n",
    "                continue\n",
    "            line_data = line.strip().split(',')\n",
    "            sample_class = line_data[-1].strip().lower().replace(\" \", \"\")\n",
    "            label = 1 if sample_class == 'positive' else 0\n",
    "            converted_data = []\n",
    "            for x in line_data[:-1]:\n",
    "                try:\n",
    "                    converted_data.append(float(x))\n",
    "                except ValueError:\n",
    "                    converted_data.append(ord(x))\n",
    "            data.append(converted_data)\n",
    "            labels.append(label)\n",
    "    X = np.array(data)\n",
    "    y = np.array(labels)\n",
    "\n",
    "    return X, y"
   ]
  },
  {
   "cell_type": "markdown",
   "id": "7a0390b2",
   "metadata": {},
   "source": [
    "#### Implementacja SMOTE_Medium i testy"
   ]
  },
  {
   "cell_type": "code",
   "execution_count": 2,
   "id": "cd656d85",
   "metadata": {},
   "outputs": [],
   "source": [
    "#https://medium.com/@corymaklin/synthetic-minority-over-sampling-technique-smote-7d419696b88c\n",
    "\n",
    "from random import randrange, uniform\n",
    "from sklearn.neighbors import NearestNeighbors\n",
    "import numpy as np\n",
    "import pandas as pd\n",
    "from sklearn.ensemble import RandomForestClassifier\n",
    "from sklearn.model_selection import train_test_split\n",
    "from sklearn.metrics import confusion_matrix, recall_score\n",
    "\n",
    "def SMOTE_ByMedium(sample: np.array, N: int, k: int) -> np.array:\n",
    "    \n",
    "    T, num_attrs = sample.shape\n",
    "    \n",
    "    # If N is less than 100%, randomize the minority class samples as only a random percent of them will be SMOTEd\n",
    "    if N < 100:\n",
    "        T = round(N / 100 * T)\n",
    "        N = 100\n",
    "    # The amount of SMOTE is assumed to be in integral multiples of 100\n",
    "    N = int(N / 100)\n",
    "\n",
    "    synthetic = np.zeros([T * N, num_attrs])\n",
    "    new_index = 0\n",
    "    nbrs = NearestNeighbors(n_neighbors=k+1).fit(sample.values)\n",
    "    def populate(N, i, nnarray):\n",
    "        \n",
    "        nonlocal new_index\n",
    "        nonlocal synthetic\n",
    "        nonlocal sample\n",
    "        while N != 0:\n",
    "            nn = randrange(1, k+1)\n",
    "            for attr in range(num_attrs):\n",
    "                dif = sample.iloc[nnarray[nn]][attr] - sample.iloc[i][attr]\n",
    "                gap = uniform(0, 1)\n",
    "                synthetic[new_index][attr] = sample.iloc[i][attr] + gap * dif\n",
    "            new_index += 1\n",
    "            N = N - 1\n",
    "    \n",
    "    for i in range(T):\n",
    "        nnarray = nbrs.kneighbors(sample.iloc[i].values.reshape(1, -1), return_distance=False)[0]\n",
    "        populate(N, i, nnarray)\n",
    "    \n",
    "    return synthetic\n",
    "\n",
    "\n"
   ]
  },
  {
   "cell_type": "code",
   "execution_count": 3,
   "id": "4ea566d3",
   "metadata": {},
   "outputs": [
    {
     "name": "stdout",
     "output_type": "stream",
     "text": [
      "temp_Cluter shape:  (2, 29)\n",
      "temp_Cluter_y shape:  (29,)\n"
     ]
    },
    {
     "data": {
      "application/vnd.plotly.v1+json": {
       "config": {
        "plotlyServerURL": "https://plot.ly"
       },
       "data": [
        {
         "hovertemplate": "x=%{x}<br>y=%{y}<extra></extra>",
         "legendgroup": "",
         "marker": {
          "color": "#636efa",
          "symbol": "circle"
         },
         "mode": "markers",
         "name": "",
         "orientation": "v",
         "showlegend": false,
         "type": "scatter",
         "x": [
          1,
          3,
          2,
          4,
          6,
          2,
          1,
          3,
          6,
          4,
          5,
          1,
          5,
          2,
          6,
          8,
          7,
          9,
          5,
          8,
          6,
          8,
          7,
          9,
          5,
          7,
          4,
          5,
          7
         ],
         "xaxis": "x",
         "y": [
          3,
          1,
          2,
          6,
          2,
          5,
          4,
          3,
          2,
          1,
          3,
          3,
          2,
          1,
          6,
          5,
          7,
          6,
          4,
          8,
          9,
          5,
          8,
          4,
          7,
          5,
          6,
          8,
          4
         ],
         "yaxis": "y"
        }
       ],
       "layout": {
        "legend": {
         "tracegroupgap": 0
        },
        "template": {
         "data": {
          "bar": [
           {
            "error_x": {
             "color": "#2a3f5f"
            },
            "error_y": {
             "color": "#2a3f5f"
            },
            "marker": {
             "line": {
              "color": "#E5ECF6",
              "width": 0.5
             },
             "pattern": {
              "fillmode": "overlay",
              "size": 10,
              "solidity": 0.2
             }
            },
            "type": "bar"
           }
          ],
          "barpolar": [
           {
            "marker": {
             "line": {
              "color": "#E5ECF6",
              "width": 0.5
             },
             "pattern": {
              "fillmode": "overlay",
              "size": 10,
              "solidity": 0.2
             }
            },
            "type": "barpolar"
           }
          ],
          "carpet": [
           {
            "aaxis": {
             "endlinecolor": "#2a3f5f",
             "gridcolor": "white",
             "linecolor": "white",
             "minorgridcolor": "white",
             "startlinecolor": "#2a3f5f"
            },
            "baxis": {
             "endlinecolor": "#2a3f5f",
             "gridcolor": "white",
             "linecolor": "white",
             "minorgridcolor": "white",
             "startlinecolor": "#2a3f5f"
            },
            "type": "carpet"
           }
          ],
          "choropleth": [
           {
            "colorbar": {
             "outlinewidth": 0,
             "ticks": ""
            },
            "type": "choropleth"
           }
          ],
          "contour": [
           {
            "colorbar": {
             "outlinewidth": 0,
             "ticks": ""
            },
            "colorscale": [
             [
              0,
              "#0d0887"
             ],
             [
              0.1111111111111111,
              "#46039f"
             ],
             [
              0.2222222222222222,
              "#7201a8"
             ],
             [
              0.3333333333333333,
              "#9c179e"
             ],
             [
              0.4444444444444444,
              "#bd3786"
             ],
             [
              0.5555555555555556,
              "#d8576b"
             ],
             [
              0.6666666666666666,
              "#ed7953"
             ],
             [
              0.7777777777777778,
              "#fb9f3a"
             ],
             [
              0.8888888888888888,
              "#fdca26"
             ],
             [
              1,
              "#f0f921"
             ]
            ],
            "type": "contour"
           }
          ],
          "contourcarpet": [
           {
            "colorbar": {
             "outlinewidth": 0,
             "ticks": ""
            },
            "type": "contourcarpet"
           }
          ],
          "heatmap": [
           {
            "colorbar": {
             "outlinewidth": 0,
             "ticks": ""
            },
            "colorscale": [
             [
              0,
              "#0d0887"
             ],
             [
              0.1111111111111111,
              "#46039f"
             ],
             [
              0.2222222222222222,
              "#7201a8"
             ],
             [
              0.3333333333333333,
              "#9c179e"
             ],
             [
              0.4444444444444444,
              "#bd3786"
             ],
             [
              0.5555555555555556,
              "#d8576b"
             ],
             [
              0.6666666666666666,
              "#ed7953"
             ],
             [
              0.7777777777777778,
              "#fb9f3a"
             ],
             [
              0.8888888888888888,
              "#fdca26"
             ],
             [
              1,
              "#f0f921"
             ]
            ],
            "type": "heatmap"
           }
          ],
          "heatmapgl": [
           {
            "colorbar": {
             "outlinewidth": 0,
             "ticks": ""
            },
            "colorscale": [
             [
              0,
              "#0d0887"
             ],
             [
              0.1111111111111111,
              "#46039f"
             ],
             [
              0.2222222222222222,
              "#7201a8"
             ],
             [
              0.3333333333333333,
              "#9c179e"
             ],
             [
              0.4444444444444444,
              "#bd3786"
             ],
             [
              0.5555555555555556,
              "#d8576b"
             ],
             [
              0.6666666666666666,
              "#ed7953"
             ],
             [
              0.7777777777777778,
              "#fb9f3a"
             ],
             [
              0.8888888888888888,
              "#fdca26"
             ],
             [
              1,
              "#f0f921"
             ]
            ],
            "type": "heatmapgl"
           }
          ],
          "histogram": [
           {
            "marker": {
             "pattern": {
              "fillmode": "overlay",
              "size": 10,
              "solidity": 0.2
             }
            },
            "type": "histogram"
           }
          ],
          "histogram2d": [
           {
            "colorbar": {
             "outlinewidth": 0,
             "ticks": ""
            },
            "colorscale": [
             [
              0,
              "#0d0887"
             ],
             [
              0.1111111111111111,
              "#46039f"
             ],
             [
              0.2222222222222222,
              "#7201a8"
             ],
             [
              0.3333333333333333,
              "#9c179e"
             ],
             [
              0.4444444444444444,
              "#bd3786"
             ],
             [
              0.5555555555555556,
              "#d8576b"
             ],
             [
              0.6666666666666666,
              "#ed7953"
             ],
             [
              0.7777777777777778,
              "#fb9f3a"
             ],
             [
              0.8888888888888888,
              "#fdca26"
             ],
             [
              1,
              "#f0f921"
             ]
            ],
            "type": "histogram2d"
           }
          ],
          "histogram2dcontour": [
           {
            "colorbar": {
             "outlinewidth": 0,
             "ticks": ""
            },
            "colorscale": [
             [
              0,
              "#0d0887"
             ],
             [
              0.1111111111111111,
              "#46039f"
             ],
             [
              0.2222222222222222,
              "#7201a8"
             ],
             [
              0.3333333333333333,
              "#9c179e"
             ],
             [
              0.4444444444444444,
              "#bd3786"
             ],
             [
              0.5555555555555556,
              "#d8576b"
             ],
             [
              0.6666666666666666,
              "#ed7953"
             ],
             [
              0.7777777777777778,
              "#fb9f3a"
             ],
             [
              0.8888888888888888,
              "#fdca26"
             ],
             [
              1,
              "#f0f921"
             ]
            ],
            "type": "histogram2dcontour"
           }
          ],
          "mesh3d": [
           {
            "colorbar": {
             "outlinewidth": 0,
             "ticks": ""
            },
            "type": "mesh3d"
           }
          ],
          "parcoords": [
           {
            "line": {
             "colorbar": {
              "outlinewidth": 0,
              "ticks": ""
             }
            },
            "type": "parcoords"
           }
          ],
          "pie": [
           {
            "automargin": true,
            "type": "pie"
           }
          ],
          "scatter": [
           {
            "fillpattern": {
             "fillmode": "overlay",
             "size": 10,
             "solidity": 0.2
            },
            "type": "scatter"
           }
          ],
          "scatter3d": [
           {
            "line": {
             "colorbar": {
              "outlinewidth": 0,
              "ticks": ""
             }
            },
            "marker": {
             "colorbar": {
              "outlinewidth": 0,
              "ticks": ""
             }
            },
            "type": "scatter3d"
           }
          ],
          "scattercarpet": [
           {
            "marker": {
             "colorbar": {
              "outlinewidth": 0,
              "ticks": ""
             }
            },
            "type": "scattercarpet"
           }
          ],
          "scattergeo": [
           {
            "marker": {
             "colorbar": {
              "outlinewidth": 0,
              "ticks": ""
             }
            },
            "type": "scattergeo"
           }
          ],
          "scattergl": [
           {
            "marker": {
             "colorbar": {
              "outlinewidth": 0,
              "ticks": ""
             }
            },
            "type": "scattergl"
           }
          ],
          "scattermapbox": [
           {
            "marker": {
             "colorbar": {
              "outlinewidth": 0,
              "ticks": ""
             }
            },
            "type": "scattermapbox"
           }
          ],
          "scatterpolar": [
           {
            "marker": {
             "colorbar": {
              "outlinewidth": 0,
              "ticks": ""
             }
            },
            "type": "scatterpolar"
           }
          ],
          "scatterpolargl": [
           {
            "marker": {
             "colorbar": {
              "outlinewidth": 0,
              "ticks": ""
             }
            },
            "type": "scatterpolargl"
           }
          ],
          "scatterternary": [
           {
            "marker": {
             "colorbar": {
              "outlinewidth": 0,
              "ticks": ""
             }
            },
            "type": "scatterternary"
           }
          ],
          "surface": [
           {
            "colorbar": {
             "outlinewidth": 0,
             "ticks": ""
            },
            "colorscale": [
             [
              0,
              "#0d0887"
             ],
             [
              0.1111111111111111,
              "#46039f"
             ],
             [
              0.2222222222222222,
              "#7201a8"
             ],
             [
              0.3333333333333333,
              "#9c179e"
             ],
             [
              0.4444444444444444,
              "#bd3786"
             ],
             [
              0.5555555555555556,
              "#d8576b"
             ],
             [
              0.6666666666666666,
              "#ed7953"
             ],
             [
              0.7777777777777778,
              "#fb9f3a"
             ],
             [
              0.8888888888888888,
              "#fdca26"
             ],
             [
              1,
              "#f0f921"
             ]
            ],
            "type": "surface"
           }
          ],
          "table": [
           {
            "cells": {
             "fill": {
              "color": "#EBF0F8"
             },
             "line": {
              "color": "white"
             }
            },
            "header": {
             "fill": {
              "color": "#C8D4E3"
             },
             "line": {
              "color": "white"
             }
            },
            "type": "table"
           }
          ]
         },
         "layout": {
          "annotationdefaults": {
           "arrowcolor": "#2a3f5f",
           "arrowhead": 0,
           "arrowwidth": 1
          },
          "autotypenumbers": "strict",
          "coloraxis": {
           "colorbar": {
            "outlinewidth": 0,
            "ticks": ""
           }
          },
          "colorscale": {
           "diverging": [
            [
             0,
             "#8e0152"
            ],
            [
             0.1,
             "#c51b7d"
            ],
            [
             0.2,
             "#de77ae"
            ],
            [
             0.3,
             "#f1b6da"
            ],
            [
             0.4,
             "#fde0ef"
            ],
            [
             0.5,
             "#f7f7f7"
            ],
            [
             0.6,
             "#e6f5d0"
            ],
            [
             0.7,
             "#b8e186"
            ],
            [
             0.8,
             "#7fbc41"
            ],
            [
             0.9,
             "#4d9221"
            ],
            [
             1,
             "#276419"
            ]
           ],
           "sequential": [
            [
             0,
             "#0d0887"
            ],
            [
             0.1111111111111111,
             "#46039f"
            ],
            [
             0.2222222222222222,
             "#7201a8"
            ],
            [
             0.3333333333333333,
             "#9c179e"
            ],
            [
             0.4444444444444444,
             "#bd3786"
            ],
            [
             0.5555555555555556,
             "#d8576b"
            ],
            [
             0.6666666666666666,
             "#ed7953"
            ],
            [
             0.7777777777777778,
             "#fb9f3a"
            ],
            [
             0.8888888888888888,
             "#fdca26"
            ],
            [
             1,
             "#f0f921"
            ]
           ],
           "sequentialminus": [
            [
             0,
             "#0d0887"
            ],
            [
             0.1111111111111111,
             "#46039f"
            ],
            [
             0.2222222222222222,
             "#7201a8"
            ],
            [
             0.3333333333333333,
             "#9c179e"
            ],
            [
             0.4444444444444444,
             "#bd3786"
            ],
            [
             0.5555555555555556,
             "#d8576b"
            ],
            [
             0.6666666666666666,
             "#ed7953"
            ],
            [
             0.7777777777777778,
             "#fb9f3a"
            ],
            [
             0.8888888888888888,
             "#fdca26"
            ],
            [
             1,
             "#f0f921"
            ]
           ]
          },
          "colorway": [
           "#636efa",
           "#EF553B",
           "#00cc96",
           "#ab63fa",
           "#FFA15A",
           "#19d3f3",
           "#FF6692",
           "#B6E880",
           "#FF97FF",
           "#FECB52"
          ],
          "font": {
           "color": "#2a3f5f"
          },
          "geo": {
           "bgcolor": "white",
           "lakecolor": "white",
           "landcolor": "#E5ECF6",
           "showlakes": true,
           "showland": true,
           "subunitcolor": "white"
          },
          "hoverlabel": {
           "align": "left"
          },
          "hovermode": "closest",
          "mapbox": {
           "style": "light"
          },
          "paper_bgcolor": "white",
          "plot_bgcolor": "#E5ECF6",
          "polar": {
           "angularaxis": {
            "gridcolor": "white",
            "linecolor": "white",
            "ticks": ""
           },
           "bgcolor": "#E5ECF6",
           "radialaxis": {
            "gridcolor": "white",
            "linecolor": "white",
            "ticks": ""
           }
          },
          "scene": {
           "xaxis": {
            "backgroundcolor": "#E5ECF6",
            "gridcolor": "white",
            "gridwidth": 2,
            "linecolor": "white",
            "showbackground": true,
            "ticks": "",
            "zerolinecolor": "white"
           },
           "yaxis": {
            "backgroundcolor": "#E5ECF6",
            "gridcolor": "white",
            "gridwidth": 2,
            "linecolor": "white",
            "showbackground": true,
            "ticks": "",
            "zerolinecolor": "white"
           },
           "zaxis": {
            "backgroundcolor": "#E5ECF6",
            "gridcolor": "white",
            "gridwidth": 2,
            "linecolor": "white",
            "showbackground": true,
            "ticks": "",
            "zerolinecolor": "white"
           }
          },
          "shapedefaults": {
           "line": {
            "color": "#2a3f5f"
           }
          },
          "ternary": {
           "aaxis": {
            "gridcolor": "white",
            "linecolor": "white",
            "ticks": ""
           },
           "baxis": {
            "gridcolor": "white",
            "linecolor": "white",
            "ticks": ""
           },
           "bgcolor": "#E5ECF6",
           "caxis": {
            "gridcolor": "white",
            "linecolor": "white",
            "ticks": ""
           }
          },
          "title": {
           "x": 0.05
          },
          "xaxis": {
           "automargin": true,
           "gridcolor": "white",
           "linecolor": "white",
           "ticks": "",
           "title": {
            "standoff": 15
           },
           "zerolinecolor": "white",
           "zerolinewidth": 2
          },
          "yaxis": {
           "automargin": true,
           "gridcolor": "white",
           "linecolor": "white",
           "ticks": "",
           "title": {
            "standoff": 15
           },
           "zerolinecolor": "white",
           "zerolinewidth": 2
          }
         }
        },
        "title": {
         "text": "Dane wejściowe"
        },
        "xaxis": {
         "anchor": "y",
         "domain": [
          0,
          1
         ],
         "title": {
          "text": "x"
         }
        },
        "yaxis": {
         "anchor": "x",
         "domain": [
          0,
          1
         ],
         "title": {
          "text": "y"
         }
        }
       }
      }
     },
     "metadata": {},
     "output_type": "display_data"
    }
   ],
   "source": [
    "#Smote test\n",
    "# tutaj jest tymczasowy test Smote żeby ogarnąć poprawne liczebności\n",
    "import plotly.express as px\n",
    "temp_Cluter = np.array([[1,3,2,4,6,2,1,3,6,4,5,1,5,2,6,8,7,9,5,8,6,8,7,9,5,7,4,5,7],\n",
    "                        [3,1,2,6,2,5,4,3,2,1,3,3,2,1,6,5,7,6,4,8,9,5,8,4,7,5,6,8,4]])\n",
    "temp_Cluter_y = np.array([0,0,0,0,0,0,0,0,0,0,0,0,0,0,0,0,0,1,1,1,1,1,1,1,1,1,1,1,1])\n",
    "print('temp_Cluter shape: ',temp_Cluter.shape)\n",
    "print('temp_Cluter_y shape: ',temp_Cluter_y.shape)\n",
    "fig = px.scatter(x=temp_Cluter[0],y=temp_Cluter[1],title=\"Dane wejściowe\")\n",
    "fig.show()"
   ]
  },
  {
   "cell_type": "markdown",
   "id": "fddc0860",
   "metadata": {},
   "source": [
    "Liczebność zbioru wejściowego:"
   ]
  },
  {
   "cell_type": "code",
   "execution_count": 4,
   "id": "c1b75fb4",
   "metadata": {},
   "outputs": [
    {
     "name": "stdout",
     "output_type": "stream",
     "text": [
      "Chcemy uzyskać 100 próbek wyjściowych\n",
      "Przewidujemy, że dosaniemy próbek wyjściowych:  99.76\n",
      "3.44\n",
      "3\n"
     ]
    }
   ],
   "source": [
    "import math\n",
    "# teraz określamy ile chcemy próbek dorobić:\n",
    "# chcemy mieć 100 próbek\n",
    "desired = 100\n",
    "print('Chcemy uzyskać 100 próbek wyjściowych')\n",
    "#obecnie mamy size próbek\n",
    "size  = temp_Cluter.shape[1]\n",
    "\n",
    "todoSamples = int(((desired/size)-1 )*100)\n",
    "print(\"Przewidujemy, że dosaniemy próbek wyjściowych: \", (todoSamples/100+1)*len(temp_Cluter_y))\n",
    "print((todoSamples/100+1))\n",
    "print(math.floor(todoSamples/100)+1)\n",
    "temp_out = SMOTE_ByMedium(pd.DataFrame(temp_Cluter.T), todoSamples, 5)"
   ]
  },
  {
   "cell_type": "code",
   "execution_count": 5,
   "id": "278da139",
   "metadata": {},
   "outputs": [
    {
     "name": "stdout",
     "output_type": "stream",
     "text": [
      "58\n",
      "29\n",
      "87\n"
     ]
    }
   ],
   "source": [
    "temp_out.T\n",
    "print(len(temp_out.T[0]))\n",
    "print(len(temp_Cluter[0]))\n",
    "print(len(temp_out.T[0])+len(temp_Cluter[0]))"
   ]
  },
  {
   "cell_type": "code",
   "execution_count": 6,
   "id": "49a27cd3",
   "metadata": {},
   "outputs": [
    {
     "name": "stdout",
     "output_type": "stream",
     "text": [
      "[[1, 3, 2, 4, 6, 2, 1, 3, 6, 4, 5, 1, 5, 2, 6, 8, 7, 9, 5, 8, 6, 8, 7, 9, 5, 7, 4, 5, 7, 1.3690754101997085, 1.0, 3.89770276140223, 3.800373379274607, 1.8890510635080628, 2.225904372697848, 4.0, 2.798169950957382, 5.401230265923091, 4.6980457311653065, 1.9389950734052661, 2.468571818753612, 1.4546281065198574, 1.4502140860743626, 4.468999231683339, 2.018339682955472, 5.467581959128726, 5.782061459580324, 3.981690387918577, 3.2407675172573294, 5.1173438553927975, 5.096084672621962, 1.0, 1.0, 5.900672711264272, 5.0, 1.8807399494490578, 2.6113425483387536, 5.380629243554709, 6.623603485610565, 7.285483912315038, 8.047348869371085, 6.124324175462384, 7.0, 8.975435336958418, 8.837205912765139, 4.156594269835232, 5.0, 7.194562308385896, 6.494892767159826, 6.189738023790144, 6.8453178974537705, 7.968047131947961, 8.379574226401937, 5.74341041050232, 7.961859290107166, 8.892901757903177, 7.777589822540757, 5.370320211202975, 4.612648450406457, 7.832193333788991, 7.0, 4.0, 4.0, 5.274386695937402, 4.991972159684961, 7.742749583004088, 7.0], [3, 1, 2, 6, 2, 5, 4, 3, 2, 1, 3, 3, 2, 1, 6, 5, 7, 6, 4, 8, 9, 5, 8, 4, 7, 5, 6, 8, 4, 4.216859903908647, 3.0, 1.758186166907302, 1.051751845463239, 2.405537248981742, 1.9106927875578934, 6.0, 5.900602409951599, 2.840195533244807, 1.7817029175767243, 4.031250835496736, 5.140823313623615, 4.645758217057833, 4.352262224010697, 3.0, 2.193494812915236, 2.488937906249507, 1.9074332791187032, 1.0, 2.6588544622010195, 2.71611903162857, 2.2485661234653582, 3.0, 3.0, 2.0, 2.5655159365380786, 2.653416137019539, 2.6990272420642785, 6.0, 6.926461150859061, 4.508915840573676, 5.584951000456753, 6.577497511691642, 5.042581702431334, 5.589291428255233, 7.944797081075411, 4.7756929633275265, 3.698091740078074, 8.0, 8.174523100121267, 7.60083676916242, 8.605045392759639, 5.0, 4.98849322019644, 8.0, 8.0, 4.0, 4.0, 7.0, 6.0450879043249355, 5.0, 4.177803824604201, 6.0, 6.0, 8.937768485084653, 6.193882558099363, 4.352219690437731, 4.176000401995359]]\n"
     ]
    }
   ],
   "source": [
    "temp_Cluter_OUT = [[*temp_Cluter[0],*temp_out.T[0]],[*temp_Cluter[1],*temp_out.T[1]]]\n",
    "print(temp_Cluter_OUT)"
   ]
  },
  {
   "cell_type": "code",
   "execution_count": 7,
   "id": "43102747",
   "metadata": {},
   "outputs": [
    {
     "data": {
      "application/vnd.plotly.v1+json": {
       "config": {
        "plotlyServerURL": "https://plot.ly"
       },
       "data": [
        {
         "hovertemplate": "x=%{x}<br>y=%{y}<extra></extra>",
         "legendgroup": "",
         "marker": {
          "color": "#636efa",
          "symbol": "circle"
         },
         "mode": "markers",
         "name": "",
         "orientation": "v",
         "showlegend": false,
         "type": "scatter",
         "x": [
          1.3690754101997085,
          1,
          3.89770276140223,
          3.800373379274607,
          1.8890510635080628,
          2.225904372697848,
          4,
          2.798169950957382,
          5.401230265923091,
          4.6980457311653065,
          1.9389950734052661,
          2.468571818753612,
          1.4546281065198574,
          1.4502140860743626,
          4.468999231683339,
          2.018339682955472,
          5.467581959128726,
          5.782061459580324,
          3.981690387918577,
          3.2407675172573294,
          5.1173438553927975,
          5.096084672621962,
          1,
          1,
          5.900672711264272,
          5,
          1.8807399494490578,
          2.6113425483387536,
          5.380629243554709,
          6.623603485610565,
          7.285483912315038,
          8.047348869371085,
          6.124324175462384,
          7,
          8.975435336958418,
          8.837205912765139,
          4.156594269835232,
          5,
          7.194562308385896,
          6.494892767159826,
          6.189738023790144,
          6.8453178974537705,
          7.968047131947961,
          8.379574226401937,
          5.74341041050232,
          7.961859290107166,
          8.892901757903177,
          7.777589822540757,
          5.370320211202975,
          4.612648450406457,
          7.832193333788991,
          7,
          4,
          4,
          5.274386695937402,
          4.991972159684961,
          7.742749583004088,
          7
         ],
         "xaxis": "x",
         "y": [
          4.216859903908647,
          3,
          1.758186166907302,
          1.051751845463239,
          2.405537248981742,
          1.9106927875578934,
          6,
          5.900602409951599,
          2.840195533244807,
          1.7817029175767243,
          4.031250835496736,
          5.140823313623615,
          4.645758217057833,
          4.352262224010697,
          3,
          2.193494812915236,
          2.488937906249507,
          1.9074332791187032,
          1,
          2.6588544622010195,
          2.71611903162857,
          2.2485661234653582,
          3,
          3,
          2,
          2.5655159365380786,
          2.653416137019539,
          2.6990272420642785,
          6,
          6.926461150859061,
          4.508915840573676,
          5.584951000456753,
          6.577497511691642,
          5.042581702431334,
          5.589291428255233,
          7.944797081075411,
          4.7756929633275265,
          3.698091740078074,
          8,
          8.174523100121267,
          7.60083676916242,
          8.605045392759639,
          5,
          4.98849322019644,
          8,
          8,
          4,
          4,
          7,
          6.0450879043249355,
          5,
          4.177803824604201,
          6,
          6,
          8.937768485084653,
          6.193882558099363,
          4.352219690437731,
          4.176000401995359
         ],
         "yaxis": "y"
        }
       ],
       "layout": {
        "legend": {
         "tracegroupgap": 0
        },
        "template": {
         "data": {
          "bar": [
           {
            "error_x": {
             "color": "#2a3f5f"
            },
            "error_y": {
             "color": "#2a3f5f"
            },
            "marker": {
             "line": {
              "color": "#E5ECF6",
              "width": 0.5
             },
             "pattern": {
              "fillmode": "overlay",
              "size": 10,
              "solidity": 0.2
             }
            },
            "type": "bar"
           }
          ],
          "barpolar": [
           {
            "marker": {
             "line": {
              "color": "#E5ECF6",
              "width": 0.5
             },
             "pattern": {
              "fillmode": "overlay",
              "size": 10,
              "solidity": 0.2
             }
            },
            "type": "barpolar"
           }
          ],
          "carpet": [
           {
            "aaxis": {
             "endlinecolor": "#2a3f5f",
             "gridcolor": "white",
             "linecolor": "white",
             "minorgridcolor": "white",
             "startlinecolor": "#2a3f5f"
            },
            "baxis": {
             "endlinecolor": "#2a3f5f",
             "gridcolor": "white",
             "linecolor": "white",
             "minorgridcolor": "white",
             "startlinecolor": "#2a3f5f"
            },
            "type": "carpet"
           }
          ],
          "choropleth": [
           {
            "colorbar": {
             "outlinewidth": 0,
             "ticks": ""
            },
            "type": "choropleth"
           }
          ],
          "contour": [
           {
            "colorbar": {
             "outlinewidth": 0,
             "ticks": ""
            },
            "colorscale": [
             [
              0,
              "#0d0887"
             ],
             [
              0.1111111111111111,
              "#46039f"
             ],
             [
              0.2222222222222222,
              "#7201a8"
             ],
             [
              0.3333333333333333,
              "#9c179e"
             ],
             [
              0.4444444444444444,
              "#bd3786"
             ],
             [
              0.5555555555555556,
              "#d8576b"
             ],
             [
              0.6666666666666666,
              "#ed7953"
             ],
             [
              0.7777777777777778,
              "#fb9f3a"
             ],
             [
              0.8888888888888888,
              "#fdca26"
             ],
             [
              1,
              "#f0f921"
             ]
            ],
            "type": "contour"
           }
          ],
          "contourcarpet": [
           {
            "colorbar": {
             "outlinewidth": 0,
             "ticks": ""
            },
            "type": "contourcarpet"
           }
          ],
          "heatmap": [
           {
            "colorbar": {
             "outlinewidth": 0,
             "ticks": ""
            },
            "colorscale": [
             [
              0,
              "#0d0887"
             ],
             [
              0.1111111111111111,
              "#46039f"
             ],
             [
              0.2222222222222222,
              "#7201a8"
             ],
             [
              0.3333333333333333,
              "#9c179e"
             ],
             [
              0.4444444444444444,
              "#bd3786"
             ],
             [
              0.5555555555555556,
              "#d8576b"
             ],
             [
              0.6666666666666666,
              "#ed7953"
             ],
             [
              0.7777777777777778,
              "#fb9f3a"
             ],
             [
              0.8888888888888888,
              "#fdca26"
             ],
             [
              1,
              "#f0f921"
             ]
            ],
            "type": "heatmap"
           }
          ],
          "heatmapgl": [
           {
            "colorbar": {
             "outlinewidth": 0,
             "ticks": ""
            },
            "colorscale": [
             [
              0,
              "#0d0887"
             ],
             [
              0.1111111111111111,
              "#46039f"
             ],
             [
              0.2222222222222222,
              "#7201a8"
             ],
             [
              0.3333333333333333,
              "#9c179e"
             ],
             [
              0.4444444444444444,
              "#bd3786"
             ],
             [
              0.5555555555555556,
              "#d8576b"
             ],
             [
              0.6666666666666666,
              "#ed7953"
             ],
             [
              0.7777777777777778,
              "#fb9f3a"
             ],
             [
              0.8888888888888888,
              "#fdca26"
             ],
             [
              1,
              "#f0f921"
             ]
            ],
            "type": "heatmapgl"
           }
          ],
          "histogram": [
           {
            "marker": {
             "pattern": {
              "fillmode": "overlay",
              "size": 10,
              "solidity": 0.2
             }
            },
            "type": "histogram"
           }
          ],
          "histogram2d": [
           {
            "colorbar": {
             "outlinewidth": 0,
             "ticks": ""
            },
            "colorscale": [
             [
              0,
              "#0d0887"
             ],
             [
              0.1111111111111111,
              "#46039f"
             ],
             [
              0.2222222222222222,
              "#7201a8"
             ],
             [
              0.3333333333333333,
              "#9c179e"
             ],
             [
              0.4444444444444444,
              "#bd3786"
             ],
             [
              0.5555555555555556,
              "#d8576b"
             ],
             [
              0.6666666666666666,
              "#ed7953"
             ],
             [
              0.7777777777777778,
              "#fb9f3a"
             ],
             [
              0.8888888888888888,
              "#fdca26"
             ],
             [
              1,
              "#f0f921"
             ]
            ],
            "type": "histogram2d"
           }
          ],
          "histogram2dcontour": [
           {
            "colorbar": {
             "outlinewidth": 0,
             "ticks": ""
            },
            "colorscale": [
             [
              0,
              "#0d0887"
             ],
             [
              0.1111111111111111,
              "#46039f"
             ],
             [
              0.2222222222222222,
              "#7201a8"
             ],
             [
              0.3333333333333333,
              "#9c179e"
             ],
             [
              0.4444444444444444,
              "#bd3786"
             ],
             [
              0.5555555555555556,
              "#d8576b"
             ],
             [
              0.6666666666666666,
              "#ed7953"
             ],
             [
              0.7777777777777778,
              "#fb9f3a"
             ],
             [
              0.8888888888888888,
              "#fdca26"
             ],
             [
              1,
              "#f0f921"
             ]
            ],
            "type": "histogram2dcontour"
           }
          ],
          "mesh3d": [
           {
            "colorbar": {
             "outlinewidth": 0,
             "ticks": ""
            },
            "type": "mesh3d"
           }
          ],
          "parcoords": [
           {
            "line": {
             "colorbar": {
              "outlinewidth": 0,
              "ticks": ""
             }
            },
            "type": "parcoords"
           }
          ],
          "pie": [
           {
            "automargin": true,
            "type": "pie"
           }
          ],
          "scatter": [
           {
            "fillpattern": {
             "fillmode": "overlay",
             "size": 10,
             "solidity": 0.2
            },
            "type": "scatter"
           }
          ],
          "scatter3d": [
           {
            "line": {
             "colorbar": {
              "outlinewidth": 0,
              "ticks": ""
             }
            },
            "marker": {
             "colorbar": {
              "outlinewidth": 0,
              "ticks": ""
             }
            },
            "type": "scatter3d"
           }
          ],
          "scattercarpet": [
           {
            "marker": {
             "colorbar": {
              "outlinewidth": 0,
              "ticks": ""
             }
            },
            "type": "scattercarpet"
           }
          ],
          "scattergeo": [
           {
            "marker": {
             "colorbar": {
              "outlinewidth": 0,
              "ticks": ""
             }
            },
            "type": "scattergeo"
           }
          ],
          "scattergl": [
           {
            "marker": {
             "colorbar": {
              "outlinewidth": 0,
              "ticks": ""
             }
            },
            "type": "scattergl"
           }
          ],
          "scattermapbox": [
           {
            "marker": {
             "colorbar": {
              "outlinewidth": 0,
              "ticks": ""
             }
            },
            "type": "scattermapbox"
           }
          ],
          "scatterpolar": [
           {
            "marker": {
             "colorbar": {
              "outlinewidth": 0,
              "ticks": ""
             }
            },
            "type": "scatterpolar"
           }
          ],
          "scatterpolargl": [
           {
            "marker": {
             "colorbar": {
              "outlinewidth": 0,
              "ticks": ""
             }
            },
            "type": "scatterpolargl"
           }
          ],
          "scatterternary": [
           {
            "marker": {
             "colorbar": {
              "outlinewidth": 0,
              "ticks": ""
             }
            },
            "type": "scatterternary"
           }
          ],
          "surface": [
           {
            "colorbar": {
             "outlinewidth": 0,
             "ticks": ""
            },
            "colorscale": [
             [
              0,
              "#0d0887"
             ],
             [
              0.1111111111111111,
              "#46039f"
             ],
             [
              0.2222222222222222,
              "#7201a8"
             ],
             [
              0.3333333333333333,
              "#9c179e"
             ],
             [
              0.4444444444444444,
              "#bd3786"
             ],
             [
              0.5555555555555556,
              "#d8576b"
             ],
             [
              0.6666666666666666,
              "#ed7953"
             ],
             [
              0.7777777777777778,
              "#fb9f3a"
             ],
             [
              0.8888888888888888,
              "#fdca26"
             ],
             [
              1,
              "#f0f921"
             ]
            ],
            "type": "surface"
           }
          ],
          "table": [
           {
            "cells": {
             "fill": {
              "color": "#EBF0F8"
             },
             "line": {
              "color": "white"
             }
            },
            "header": {
             "fill": {
              "color": "#C8D4E3"
             },
             "line": {
              "color": "white"
             }
            },
            "type": "table"
           }
          ]
         },
         "layout": {
          "annotationdefaults": {
           "arrowcolor": "#2a3f5f",
           "arrowhead": 0,
           "arrowwidth": 1
          },
          "autotypenumbers": "strict",
          "coloraxis": {
           "colorbar": {
            "outlinewidth": 0,
            "ticks": ""
           }
          },
          "colorscale": {
           "diverging": [
            [
             0,
             "#8e0152"
            ],
            [
             0.1,
             "#c51b7d"
            ],
            [
             0.2,
             "#de77ae"
            ],
            [
             0.3,
             "#f1b6da"
            ],
            [
             0.4,
             "#fde0ef"
            ],
            [
             0.5,
             "#f7f7f7"
            ],
            [
             0.6,
             "#e6f5d0"
            ],
            [
             0.7,
             "#b8e186"
            ],
            [
             0.8,
             "#7fbc41"
            ],
            [
             0.9,
             "#4d9221"
            ],
            [
             1,
             "#276419"
            ]
           ],
           "sequential": [
            [
             0,
             "#0d0887"
            ],
            [
             0.1111111111111111,
             "#46039f"
            ],
            [
             0.2222222222222222,
             "#7201a8"
            ],
            [
             0.3333333333333333,
             "#9c179e"
            ],
            [
             0.4444444444444444,
             "#bd3786"
            ],
            [
             0.5555555555555556,
             "#d8576b"
            ],
            [
             0.6666666666666666,
             "#ed7953"
            ],
            [
             0.7777777777777778,
             "#fb9f3a"
            ],
            [
             0.8888888888888888,
             "#fdca26"
            ],
            [
             1,
             "#f0f921"
            ]
           ],
           "sequentialminus": [
            [
             0,
             "#0d0887"
            ],
            [
             0.1111111111111111,
             "#46039f"
            ],
            [
             0.2222222222222222,
             "#7201a8"
            ],
            [
             0.3333333333333333,
             "#9c179e"
            ],
            [
             0.4444444444444444,
             "#bd3786"
            ],
            [
             0.5555555555555556,
             "#d8576b"
            ],
            [
             0.6666666666666666,
             "#ed7953"
            ],
            [
             0.7777777777777778,
             "#fb9f3a"
            ],
            [
             0.8888888888888888,
             "#fdca26"
            ],
            [
             1,
             "#f0f921"
            ]
           ]
          },
          "colorway": [
           "#636efa",
           "#EF553B",
           "#00cc96",
           "#ab63fa",
           "#FFA15A",
           "#19d3f3",
           "#FF6692",
           "#B6E880",
           "#FF97FF",
           "#FECB52"
          ],
          "font": {
           "color": "#2a3f5f"
          },
          "geo": {
           "bgcolor": "white",
           "lakecolor": "white",
           "landcolor": "#E5ECF6",
           "showlakes": true,
           "showland": true,
           "subunitcolor": "white"
          },
          "hoverlabel": {
           "align": "left"
          },
          "hovermode": "closest",
          "mapbox": {
           "style": "light"
          },
          "paper_bgcolor": "white",
          "plot_bgcolor": "#E5ECF6",
          "polar": {
           "angularaxis": {
            "gridcolor": "white",
            "linecolor": "white",
            "ticks": ""
           },
           "bgcolor": "#E5ECF6",
           "radialaxis": {
            "gridcolor": "white",
            "linecolor": "white",
            "ticks": ""
           }
          },
          "scene": {
           "xaxis": {
            "backgroundcolor": "#E5ECF6",
            "gridcolor": "white",
            "gridwidth": 2,
            "linecolor": "white",
            "showbackground": true,
            "ticks": "",
            "zerolinecolor": "white"
           },
           "yaxis": {
            "backgroundcolor": "#E5ECF6",
            "gridcolor": "white",
            "gridwidth": 2,
            "linecolor": "white",
            "showbackground": true,
            "ticks": "",
            "zerolinecolor": "white"
           },
           "zaxis": {
            "backgroundcolor": "#E5ECF6",
            "gridcolor": "white",
            "gridwidth": 2,
            "linecolor": "white",
            "showbackground": true,
            "ticks": "",
            "zerolinecolor": "white"
           }
          },
          "shapedefaults": {
           "line": {
            "color": "#2a3f5f"
           }
          },
          "ternary": {
           "aaxis": {
            "gridcolor": "white",
            "linecolor": "white",
            "ticks": ""
           },
           "baxis": {
            "gridcolor": "white",
            "linecolor": "white",
            "ticks": ""
           },
           "bgcolor": "#E5ECF6",
           "caxis": {
            "gridcolor": "white",
            "linecolor": "white",
            "ticks": ""
           }
          },
          "title": {
           "x": 0.05
          },
          "xaxis": {
           "automargin": true,
           "gridcolor": "white",
           "linecolor": "white",
           "ticks": "",
           "title": {
            "standoff": 15
           },
           "zerolinecolor": "white",
           "zerolinewidth": 2
          },
          "yaxis": {
           "automargin": true,
           "gridcolor": "white",
           "linecolor": "white",
           "ticks": "",
           "title": {
            "standoff": 15
           },
           "zerolinecolor": "white",
           "zerolinewidth": 2
          }
         }
        },
        "title": {
         "text": "Wygenerowane"
        },
        "xaxis": {
         "anchor": "y",
         "domain": [
          0,
          1
         ],
         "title": {
          "text": "x"
         }
        },
        "yaxis": {
         "anchor": "x",
         "domain": [
          0,
          1
         ],
         "title": {
          "text": "y"
         }
        }
       }
      }
     },
     "metadata": {},
     "output_type": "display_data"
    }
   ],
   "source": [
    "fig = px.scatter(x= temp_out.T[0], y= temp_out.T[1],title='Wygenerowane')\n",
    "fig.show()"
   ]
  },
  {
   "cell_type": "code",
   "execution_count": 8,
   "id": "d625e36b",
   "metadata": {},
   "outputs": [
    {
     "data": {
      "application/vnd.plotly.v1+json": {
       "config": {
        "plotlyServerURL": "https://plot.ly"
       },
       "data": [
        {
         "hovertemplate": "x=%{x}<br>y=%{y}<extra></extra>",
         "legendgroup": "",
         "marker": {
          "color": "#636efa",
          "symbol": "circle"
         },
         "mode": "markers",
         "name": "",
         "orientation": "v",
         "showlegend": false,
         "type": "scatter",
         "x": [
          1,
          3,
          2,
          4,
          6,
          2,
          1,
          3,
          6,
          4,
          5,
          1,
          5,
          2,
          6,
          8,
          7,
          9,
          5,
          8,
          6,
          8,
          7,
          9,
          5,
          7,
          4,
          5,
          7,
          1.3690754101997085,
          1,
          3.89770276140223,
          3.800373379274607,
          1.8890510635080628,
          2.225904372697848,
          4,
          2.798169950957382,
          5.401230265923091,
          4.6980457311653065,
          1.9389950734052661,
          2.468571818753612,
          1.4546281065198574,
          1.4502140860743626,
          4.468999231683339,
          2.018339682955472,
          5.467581959128726,
          5.782061459580324,
          3.981690387918577,
          3.2407675172573294,
          5.1173438553927975,
          5.096084672621962,
          1,
          1,
          5.900672711264272,
          5,
          1.8807399494490578,
          2.6113425483387536,
          5.380629243554709,
          6.623603485610565,
          7.285483912315038,
          8.047348869371085,
          6.124324175462384,
          7,
          8.975435336958418,
          8.837205912765139,
          4.156594269835232,
          5,
          7.194562308385896,
          6.494892767159826,
          6.189738023790144,
          6.8453178974537705,
          7.968047131947961,
          8.379574226401937,
          5.74341041050232,
          7.961859290107166,
          8.892901757903177,
          7.777589822540757,
          5.370320211202975,
          4.612648450406457,
          7.832193333788991,
          7,
          4,
          4,
          5.274386695937402,
          4.991972159684961,
          7.742749583004088,
          7
         ],
         "xaxis": "x",
         "y": [
          3,
          1,
          2,
          6,
          2,
          5,
          4,
          3,
          2,
          1,
          3,
          3,
          2,
          1,
          6,
          5,
          7,
          6,
          4,
          8,
          9,
          5,
          8,
          4,
          7,
          5,
          6,
          8,
          4,
          4.216859903908647,
          3,
          1.758186166907302,
          1.051751845463239,
          2.405537248981742,
          1.9106927875578934,
          6,
          5.900602409951599,
          2.840195533244807,
          1.7817029175767243,
          4.031250835496736,
          5.140823313623615,
          4.645758217057833,
          4.352262224010697,
          3,
          2.193494812915236,
          2.488937906249507,
          1.9074332791187032,
          1,
          2.6588544622010195,
          2.71611903162857,
          2.2485661234653582,
          3,
          3,
          2,
          2.5655159365380786,
          2.653416137019539,
          2.6990272420642785,
          6,
          6.926461150859061,
          4.508915840573676,
          5.584951000456753,
          6.577497511691642,
          5.042581702431334,
          5.589291428255233,
          7.944797081075411,
          4.7756929633275265,
          3.698091740078074,
          8,
          8.174523100121267,
          7.60083676916242,
          8.605045392759639,
          5,
          4.98849322019644,
          8,
          8,
          4,
          4,
          7,
          6.0450879043249355,
          5,
          4.177803824604201,
          6,
          6,
          8.937768485084653,
          6.193882558099363,
          4.352219690437731,
          4.176000401995359
         ],
         "yaxis": "y"
        }
       ],
       "layout": {
        "legend": {
         "tracegroupgap": 0
        },
        "template": {
         "data": {
          "bar": [
           {
            "error_x": {
             "color": "#2a3f5f"
            },
            "error_y": {
             "color": "#2a3f5f"
            },
            "marker": {
             "line": {
              "color": "#E5ECF6",
              "width": 0.5
             },
             "pattern": {
              "fillmode": "overlay",
              "size": 10,
              "solidity": 0.2
             }
            },
            "type": "bar"
           }
          ],
          "barpolar": [
           {
            "marker": {
             "line": {
              "color": "#E5ECF6",
              "width": 0.5
             },
             "pattern": {
              "fillmode": "overlay",
              "size": 10,
              "solidity": 0.2
             }
            },
            "type": "barpolar"
           }
          ],
          "carpet": [
           {
            "aaxis": {
             "endlinecolor": "#2a3f5f",
             "gridcolor": "white",
             "linecolor": "white",
             "minorgridcolor": "white",
             "startlinecolor": "#2a3f5f"
            },
            "baxis": {
             "endlinecolor": "#2a3f5f",
             "gridcolor": "white",
             "linecolor": "white",
             "minorgridcolor": "white",
             "startlinecolor": "#2a3f5f"
            },
            "type": "carpet"
           }
          ],
          "choropleth": [
           {
            "colorbar": {
             "outlinewidth": 0,
             "ticks": ""
            },
            "type": "choropleth"
           }
          ],
          "contour": [
           {
            "colorbar": {
             "outlinewidth": 0,
             "ticks": ""
            },
            "colorscale": [
             [
              0,
              "#0d0887"
             ],
             [
              0.1111111111111111,
              "#46039f"
             ],
             [
              0.2222222222222222,
              "#7201a8"
             ],
             [
              0.3333333333333333,
              "#9c179e"
             ],
             [
              0.4444444444444444,
              "#bd3786"
             ],
             [
              0.5555555555555556,
              "#d8576b"
             ],
             [
              0.6666666666666666,
              "#ed7953"
             ],
             [
              0.7777777777777778,
              "#fb9f3a"
             ],
             [
              0.8888888888888888,
              "#fdca26"
             ],
             [
              1,
              "#f0f921"
             ]
            ],
            "type": "contour"
           }
          ],
          "contourcarpet": [
           {
            "colorbar": {
             "outlinewidth": 0,
             "ticks": ""
            },
            "type": "contourcarpet"
           }
          ],
          "heatmap": [
           {
            "colorbar": {
             "outlinewidth": 0,
             "ticks": ""
            },
            "colorscale": [
             [
              0,
              "#0d0887"
             ],
             [
              0.1111111111111111,
              "#46039f"
             ],
             [
              0.2222222222222222,
              "#7201a8"
             ],
             [
              0.3333333333333333,
              "#9c179e"
             ],
             [
              0.4444444444444444,
              "#bd3786"
             ],
             [
              0.5555555555555556,
              "#d8576b"
             ],
             [
              0.6666666666666666,
              "#ed7953"
             ],
             [
              0.7777777777777778,
              "#fb9f3a"
             ],
             [
              0.8888888888888888,
              "#fdca26"
             ],
             [
              1,
              "#f0f921"
             ]
            ],
            "type": "heatmap"
           }
          ],
          "heatmapgl": [
           {
            "colorbar": {
             "outlinewidth": 0,
             "ticks": ""
            },
            "colorscale": [
             [
              0,
              "#0d0887"
             ],
             [
              0.1111111111111111,
              "#46039f"
             ],
             [
              0.2222222222222222,
              "#7201a8"
             ],
             [
              0.3333333333333333,
              "#9c179e"
             ],
             [
              0.4444444444444444,
              "#bd3786"
             ],
             [
              0.5555555555555556,
              "#d8576b"
             ],
             [
              0.6666666666666666,
              "#ed7953"
             ],
             [
              0.7777777777777778,
              "#fb9f3a"
             ],
             [
              0.8888888888888888,
              "#fdca26"
             ],
             [
              1,
              "#f0f921"
             ]
            ],
            "type": "heatmapgl"
           }
          ],
          "histogram": [
           {
            "marker": {
             "pattern": {
              "fillmode": "overlay",
              "size": 10,
              "solidity": 0.2
             }
            },
            "type": "histogram"
           }
          ],
          "histogram2d": [
           {
            "colorbar": {
             "outlinewidth": 0,
             "ticks": ""
            },
            "colorscale": [
             [
              0,
              "#0d0887"
             ],
             [
              0.1111111111111111,
              "#46039f"
             ],
             [
              0.2222222222222222,
              "#7201a8"
             ],
             [
              0.3333333333333333,
              "#9c179e"
             ],
             [
              0.4444444444444444,
              "#bd3786"
             ],
             [
              0.5555555555555556,
              "#d8576b"
             ],
             [
              0.6666666666666666,
              "#ed7953"
             ],
             [
              0.7777777777777778,
              "#fb9f3a"
             ],
             [
              0.8888888888888888,
              "#fdca26"
             ],
             [
              1,
              "#f0f921"
             ]
            ],
            "type": "histogram2d"
           }
          ],
          "histogram2dcontour": [
           {
            "colorbar": {
             "outlinewidth": 0,
             "ticks": ""
            },
            "colorscale": [
             [
              0,
              "#0d0887"
             ],
             [
              0.1111111111111111,
              "#46039f"
             ],
             [
              0.2222222222222222,
              "#7201a8"
             ],
             [
              0.3333333333333333,
              "#9c179e"
             ],
             [
              0.4444444444444444,
              "#bd3786"
             ],
             [
              0.5555555555555556,
              "#d8576b"
             ],
             [
              0.6666666666666666,
              "#ed7953"
             ],
             [
              0.7777777777777778,
              "#fb9f3a"
             ],
             [
              0.8888888888888888,
              "#fdca26"
             ],
             [
              1,
              "#f0f921"
             ]
            ],
            "type": "histogram2dcontour"
           }
          ],
          "mesh3d": [
           {
            "colorbar": {
             "outlinewidth": 0,
             "ticks": ""
            },
            "type": "mesh3d"
           }
          ],
          "parcoords": [
           {
            "line": {
             "colorbar": {
              "outlinewidth": 0,
              "ticks": ""
             }
            },
            "type": "parcoords"
           }
          ],
          "pie": [
           {
            "automargin": true,
            "type": "pie"
           }
          ],
          "scatter": [
           {
            "fillpattern": {
             "fillmode": "overlay",
             "size": 10,
             "solidity": 0.2
            },
            "type": "scatter"
           }
          ],
          "scatter3d": [
           {
            "line": {
             "colorbar": {
              "outlinewidth": 0,
              "ticks": ""
             }
            },
            "marker": {
             "colorbar": {
              "outlinewidth": 0,
              "ticks": ""
             }
            },
            "type": "scatter3d"
           }
          ],
          "scattercarpet": [
           {
            "marker": {
             "colorbar": {
              "outlinewidth": 0,
              "ticks": ""
             }
            },
            "type": "scattercarpet"
           }
          ],
          "scattergeo": [
           {
            "marker": {
             "colorbar": {
              "outlinewidth": 0,
              "ticks": ""
             }
            },
            "type": "scattergeo"
           }
          ],
          "scattergl": [
           {
            "marker": {
             "colorbar": {
              "outlinewidth": 0,
              "ticks": ""
             }
            },
            "type": "scattergl"
           }
          ],
          "scattermapbox": [
           {
            "marker": {
             "colorbar": {
              "outlinewidth": 0,
              "ticks": ""
             }
            },
            "type": "scattermapbox"
           }
          ],
          "scatterpolar": [
           {
            "marker": {
             "colorbar": {
              "outlinewidth": 0,
              "ticks": ""
             }
            },
            "type": "scatterpolar"
           }
          ],
          "scatterpolargl": [
           {
            "marker": {
             "colorbar": {
              "outlinewidth": 0,
              "ticks": ""
             }
            },
            "type": "scatterpolargl"
           }
          ],
          "scatterternary": [
           {
            "marker": {
             "colorbar": {
              "outlinewidth": 0,
              "ticks": ""
             }
            },
            "type": "scatterternary"
           }
          ],
          "surface": [
           {
            "colorbar": {
             "outlinewidth": 0,
             "ticks": ""
            },
            "colorscale": [
             [
              0,
              "#0d0887"
             ],
             [
              0.1111111111111111,
              "#46039f"
             ],
             [
              0.2222222222222222,
              "#7201a8"
             ],
             [
              0.3333333333333333,
              "#9c179e"
             ],
             [
              0.4444444444444444,
              "#bd3786"
             ],
             [
              0.5555555555555556,
              "#d8576b"
             ],
             [
              0.6666666666666666,
              "#ed7953"
             ],
             [
              0.7777777777777778,
              "#fb9f3a"
             ],
             [
              0.8888888888888888,
              "#fdca26"
             ],
             [
              1,
              "#f0f921"
             ]
            ],
            "type": "surface"
           }
          ],
          "table": [
           {
            "cells": {
             "fill": {
              "color": "#EBF0F8"
             },
             "line": {
              "color": "white"
             }
            },
            "header": {
             "fill": {
              "color": "#C8D4E3"
             },
             "line": {
              "color": "white"
             }
            },
            "type": "table"
           }
          ]
         },
         "layout": {
          "annotationdefaults": {
           "arrowcolor": "#2a3f5f",
           "arrowhead": 0,
           "arrowwidth": 1
          },
          "autotypenumbers": "strict",
          "coloraxis": {
           "colorbar": {
            "outlinewidth": 0,
            "ticks": ""
           }
          },
          "colorscale": {
           "diverging": [
            [
             0,
             "#8e0152"
            ],
            [
             0.1,
             "#c51b7d"
            ],
            [
             0.2,
             "#de77ae"
            ],
            [
             0.3,
             "#f1b6da"
            ],
            [
             0.4,
             "#fde0ef"
            ],
            [
             0.5,
             "#f7f7f7"
            ],
            [
             0.6,
             "#e6f5d0"
            ],
            [
             0.7,
             "#b8e186"
            ],
            [
             0.8,
             "#7fbc41"
            ],
            [
             0.9,
             "#4d9221"
            ],
            [
             1,
             "#276419"
            ]
           ],
           "sequential": [
            [
             0,
             "#0d0887"
            ],
            [
             0.1111111111111111,
             "#46039f"
            ],
            [
             0.2222222222222222,
             "#7201a8"
            ],
            [
             0.3333333333333333,
             "#9c179e"
            ],
            [
             0.4444444444444444,
             "#bd3786"
            ],
            [
             0.5555555555555556,
             "#d8576b"
            ],
            [
             0.6666666666666666,
             "#ed7953"
            ],
            [
             0.7777777777777778,
             "#fb9f3a"
            ],
            [
             0.8888888888888888,
             "#fdca26"
            ],
            [
             1,
             "#f0f921"
            ]
           ],
           "sequentialminus": [
            [
             0,
             "#0d0887"
            ],
            [
             0.1111111111111111,
             "#46039f"
            ],
            [
             0.2222222222222222,
             "#7201a8"
            ],
            [
             0.3333333333333333,
             "#9c179e"
            ],
            [
             0.4444444444444444,
             "#bd3786"
            ],
            [
             0.5555555555555556,
             "#d8576b"
            ],
            [
             0.6666666666666666,
             "#ed7953"
            ],
            [
             0.7777777777777778,
             "#fb9f3a"
            ],
            [
             0.8888888888888888,
             "#fdca26"
            ],
            [
             1,
             "#f0f921"
            ]
           ]
          },
          "colorway": [
           "#636efa",
           "#EF553B",
           "#00cc96",
           "#ab63fa",
           "#FFA15A",
           "#19d3f3",
           "#FF6692",
           "#B6E880",
           "#FF97FF",
           "#FECB52"
          ],
          "font": {
           "color": "#2a3f5f"
          },
          "geo": {
           "bgcolor": "white",
           "lakecolor": "white",
           "landcolor": "#E5ECF6",
           "showlakes": true,
           "showland": true,
           "subunitcolor": "white"
          },
          "hoverlabel": {
           "align": "left"
          },
          "hovermode": "closest",
          "mapbox": {
           "style": "light"
          },
          "paper_bgcolor": "white",
          "plot_bgcolor": "#E5ECF6",
          "polar": {
           "angularaxis": {
            "gridcolor": "white",
            "linecolor": "white",
            "ticks": ""
           },
           "bgcolor": "#E5ECF6",
           "radialaxis": {
            "gridcolor": "white",
            "linecolor": "white",
            "ticks": ""
           }
          },
          "scene": {
           "xaxis": {
            "backgroundcolor": "#E5ECF6",
            "gridcolor": "white",
            "gridwidth": 2,
            "linecolor": "white",
            "showbackground": true,
            "ticks": "",
            "zerolinecolor": "white"
           },
           "yaxis": {
            "backgroundcolor": "#E5ECF6",
            "gridcolor": "white",
            "gridwidth": 2,
            "linecolor": "white",
            "showbackground": true,
            "ticks": "",
            "zerolinecolor": "white"
           },
           "zaxis": {
            "backgroundcolor": "#E5ECF6",
            "gridcolor": "white",
            "gridwidth": 2,
            "linecolor": "white",
            "showbackground": true,
            "ticks": "",
            "zerolinecolor": "white"
           }
          },
          "shapedefaults": {
           "line": {
            "color": "#2a3f5f"
           }
          },
          "ternary": {
           "aaxis": {
            "gridcolor": "white",
            "linecolor": "white",
            "ticks": ""
           },
           "baxis": {
            "gridcolor": "white",
            "linecolor": "white",
            "ticks": ""
           },
           "bgcolor": "#E5ECF6",
           "caxis": {
            "gridcolor": "white",
            "linecolor": "white",
            "ticks": ""
           }
          },
          "title": {
           "x": 0.05
          },
          "xaxis": {
           "automargin": true,
           "gridcolor": "white",
           "linecolor": "white",
           "ticks": "",
           "title": {
            "standoff": 15
           },
           "zerolinecolor": "white",
           "zerolinewidth": 2
          },
          "yaxis": {
           "automargin": true,
           "gridcolor": "white",
           "linecolor": "white",
           "ticks": "",
           "title": {
            "standoff": 15
           },
           "zerolinecolor": "white",
           "zerolinewidth": 2
          }
         }
        },
        "title": {
         "text": "Wygenerowane + wejściowe o łącznej liczbie równej desired"
        },
        "xaxis": {
         "anchor": "y",
         "domain": [
          0,
          1
         ],
         "title": {
          "text": "x"
         }
        },
        "yaxis": {
         "anchor": "x",
         "domain": [
          0,
          1
         ],
         "title": {
          "text": "y"
         }
        }
       }
      }
     },
     "metadata": {},
     "output_type": "display_data"
    },
    {
     "data": {
      "text/plain": [
       "87"
      ]
     },
     "execution_count": 8,
     "metadata": {},
     "output_type": "execute_result"
    }
   ],
   "source": [
    "fig = px.scatter(x= temp_Cluter_OUT[0], y= temp_Cluter_OUT[1], title= 'Wygenerowane + wejściowe o łącznej liczbie równej desired')\n",
    "fig.show()\n",
    "len(temp_Cluter_OUT[0])"
   ]
  },
  {
   "cell_type": "markdown",
   "id": "6a43e67b",
   "metadata": {},
   "source": [
    "#### Clustering with SMOTE"
   ]
  },
  {
   "cell_type": "code",
   "execution_count": 9,
   "id": "ba7497e4",
   "metadata": {},
   "outputs": [],
   "source": [
    "from sklearn.cluster import KMeans, MeanShift\n",
    "\n",
    "def oversample_clustered_data(X, y, X_minority, y_minority, X_majority, y_majority, cluster_labeled_data):\n",
    "    #wygenerowane próbki mniejszościowe wrzucamy tutaj:\n",
    "    X_generated = []\n",
    "\n",
    "    # Do oceny ile próbek trzeba będzie wygenerować trzeba przeliczyć różnicę między liczebnością klasy mniejszościowej i większościowej, będzie to potrzebne później w pętli dla każego z klastrów\n",
    "    majority_minority_difference =  list(y).count(0) - list(y).count(1)\n",
    "    if(majority_minority_difference < 0):\n",
    "        print(\"[ERR] Monority class has grater count to Majority class\")\n",
    "        exit()\n",
    "    # Do oceny ile próbek będzie trzeba wygenerować potrzebne też będzie informacja o liczbności klasy mniejszościowej\n",
    "    minority_count = list(y).count(1)\n",
    "\n",
    "    # Dla każdego z klastrów:\n",
    "    cluster_labels = np.unique(cluster_labeled_data) #  pobranie info jakie mamy labele klastrów [0,1,...]\n",
    "\n",
    "    # Wszystkie wygenerowane syntetycznie obiekty trafią tutaj\n",
    "    syntetic_data = []\n",
    "    for cluster in cluster_labels:\n",
    "        # w pierwszej kolejności filtrujemy indeksy zbioru mniejszościowego aby pozostawić tylko indeksy należące do klastra który w danej iteracji pętli analizujemy\n",
    "        cluster_samples_indices_minority = np.where(cluster_labeled_data == cluster)[0]\n",
    "        if len(cluster_samples_indices_minority)<4:\n",
    "            continue\n",
    "        # ustalamy ile próbek trzeba wygenerować w tym klastrze\n",
    "        # ustalamy procentowo liczebność (udział) klastra względem całej klasy mniejszościowej\n",
    "        percentage_of_count = len(cluster_samples_indices_minority)/minority_count\n",
    "        # zabezpieczenie jeśli coś na tym etapie szłoby bardzo nie tak\n",
    "        if(percentage_of_count>1 or percentage_of_count<0):\n",
    "            print(\"Kurza twarz.. something is no yes! Procenty nie mogą być większe niż 100 ani mniejsze niż 0\")\n",
    "            exit()\n",
    "        \n",
    "        #następnie przemnarzamy udział procentowy klastra przez różnicę między zbiorem większościowym i mniejszościowym uzyskując ilość próbek do augmentacji\n",
    "        num_of_samples_to_generate_in_this_cluster = percentage_of_count * majority_minority_difference\n",
    "\n",
    "        # Do samej funkcji augmentacji wymagana jest warość procentowa gdzie 100 to 100% określająca ile próbek ma zostać wygenerowanych względem danych wejściowych\n",
    "        # w tym celu należy podzielić ilość próbek które chcemy wygenerować przez liczbę próbek które posiadamy już\n",
    "        todoSamples = 100*(num_of_samples_to_generate_in_this_cluster/len(cluster_samples_indices_minority))\n",
    "\n",
    "        # Teraz musimy niestety przejść z np.array na dataframe bo w ten sposób działa funkcja ale robimy to już w parametrze funkcji\n",
    "        # Oversampling... totaj k = 5.. jest to hiperparametr który nie wydaje się być istotny w tej implementacji. Jeśli będą większe zmiany trzeba spojrzeć na niego\n",
    "        temp_out = SMOTE_ByMedium(pd.DataFrame(X_minority[cluster_samples_indices_minority]), todoSamples, 3)\n",
    "        syntetic_data.append(temp_out)\n",
    "        \n",
    "        #Ta implementacja Smote jeśli tworzy więcej niż 100% próbek z próbek które dostała traci informację o części dziesiętnej procentów - to powoduje, że powstaje mniej resamplowanych próbek\n",
    "        if todoSamples>100:\n",
    "            todoSamples_2 = todoSamples%100\n",
    "            temp_out_2 = SMOTE_ByMedium(pd.DataFrame(X_minority[cluster_samples_indices_minority]),todoSamples_2 , 3)\n",
    "            syntetic_data.append(temp_out_2)\n",
    "        \n",
    "        \n",
    "\n",
    "    #tutaj wymagane jest połączenie wyjścia syntetic_data razem z X i y\n",
    "    X_resampled = X\n",
    "    y_resampled  = y\n",
    "\n",
    "    for clusterOUT in syntetic_data:\n",
    "        X_resampled = np.block([[X_resampled], [clusterOUT]])\n",
    "        y_resampled = [*y_resampled,*np.ones(clusterOUT.shape[0])]# jedynki dla tego, że 1 to klasa mniejszościowa\n",
    "    return X_resampled, y_resampled\n",
    "\n",
    "def KMeans_SMOTE(X, y, num_clusters):\n",
    "    # Wybieramy indeksy klasy mniejszościowej i większościowej\n",
    "    minority_indices = np.where(y == 1)[0] # dla naszych datasetów klasa o labelu 1 zawsze jest mniejszościowa\n",
    "    majority_indices = np.where(y == 0)[0]\n",
    "\n",
    "    # Sortujemy Dane i Labele na minority i majority\n",
    "    X_minority = X[minority_indices]\n",
    "    y_minority = y[minority_indices]\n",
    "\n",
    "    X_majority = X[majority_indices]\n",
    "    y_majority = y[majority_indices]\n",
    "    \n",
    "    # Wykonujemy klasteryzację na klasie mniejszościowej\n",
    "    kmeans_labels_minority = KMeans(n_clusters=num_clusters, random_state=0, n_init=\"auto\").fit_predict(X_minority)\n",
    "\n",
    "    # Zwrócona wartość to indeksy odwołujące się jedynie do klasy mniejszościowej! trzeba o tym teraz pamiętać.\n",
    "    return oversample_clustered_data(X, y, X_minority, y_minority, X_majority, y_majority, kmeans_labels_minority)\n",
    "\n",
    "\n",
    "def MeanShift_SMOTE(X, y):\n",
    "    # TAK WIEM,TO POWINNA BYĆ FUNKCJA, BO WIĘKSZOŚĆ LINIJEK MEANSHIFT_SMOTE I KMEANS_SMOTE SIĘ POWTARZA ... może kiedyś tu upiększymy\n",
    "    # Wybieramy indeksy klasy mniejszościowej i większościowej\n",
    "    minority_indices = np.where(y == 1)[0] # dla naszych datasetów klasa o labelu 1 zawsze jest mniejszościowa\n",
    "    majority_indices = np.where(y == 0)[0]\n",
    "\n",
    "    # Sortujemy Dane i Labele na minority i majority\n",
    "    X_minority = X[minority_indices]\n",
    "    y_minority = y[minority_indices]\n",
    "\n",
    "    X_majority = X[majority_indices]\n",
    "    y_majority = y[majority_indices]\n",
    "    \n",
    "    # Wykonujemy klasteryzację na klasie mniejszościowej\n",
    "    mean_shift_labels_minority = MeanShift().fit_predict(X_minority)\n",
    "    return oversample_clustered_data(X, y, X_minority, y_minority, X_majority, y_majority, mean_shift_labels_minority)"
   ]
  },
  {
   "cell_type": "markdown",
   "id": "dd65ec1f",
   "metadata": {},
   "source": [
    "#### Sprawdzenie który ze zbiorów jest Większościowy"
   ]
  },
  {
   "cell_type": "code",
   "execution_count": 10,
   "id": "867e60a8",
   "metadata": {},
   "outputs": [
    {
     "name": "stdout",
     "output_type": "stream",
     "text": [
      "Processing files in directory: mild-imbalance\n",
      "File: mild-imbalance\\page-blocks0.dat\n",
      "---------STATS---------\n",
      "countOf0:  4913\n",
      "countOf1:  559\n",
      "----------OUT----------\n",
      "Więcej klasy 0\n",
      "File: mild-imbalance\\pima.dat\n",
      "---------STATS---------\n",
      "countOf0:  500\n",
      "countOf1:  268\n",
      "----------OUT----------\n",
      "Więcej klasy 0\n",
      "File: mild-imbalance\\segment0.dat\n",
      "---------STATS---------\n",
      "countOf0:  1979\n",
      "countOf1:  329\n",
      "----------OUT----------\n",
      "Więcej klasy 0\n",
      "File: mild-imbalance\\vehicle0.dat\n",
      "---------STATS---------\n",
      "countOf0:  647\n",
      "countOf1:  199\n",
      "----------OUT----------\n",
      "Więcej klasy 0\n",
      "File: mild-imbalance\\vehicle1.dat\n",
      "---------STATS---------\n",
      "countOf0:  629\n",
      "countOf1:  217\n",
      "----------OUT----------\n",
      "Więcej klasy 0\n",
      "File: mild-imbalance\\vehicle2.dat\n",
      "---------STATS---------\n",
      "countOf0:  628\n",
      "countOf1:  218\n",
      "----------OUT----------\n",
      "Więcej klasy 0\n",
      "File: mild-imbalance\\vehicle3.dat\n",
      "---------STATS---------\n",
      "countOf0:  634\n",
      "countOf1:  212\n",
      "----------OUT----------\n",
      "Więcej klasy 0\n",
      "File: mild-imbalance\\wisconsin.dat\n",
      "---------STATS---------\n",
      "countOf0:  444\n",
      "countOf1:  239\n",
      "----------OUT----------\n",
      "Więcej klasy 0\n",
      "File: mild-imbalance\\yeast1.dat\n",
      "---------STATS---------\n",
      "countOf0:  1055\n",
      "countOf1:  429\n",
      "----------OUT----------\n",
      "Więcej klasy 0\n",
      "File: mild-imbalance\\yeast3.dat\n",
      "---------STATS---------\n",
      "countOf0:  1321\n",
      "countOf1:  163\n",
      "----------OUT----------\n",
      "Więcej klasy 0\n",
      "Processing files in directory: high-imbalance\n",
      "File: high-imbalance\\abalone-17_vs_7-8-9-10.dat\n",
      "---------STATS---------\n",
      "countOf0:  2280\n",
      "countOf1:  58\n",
      "----------OUT----------\n",
      "Więcej klasy 0\n",
      "File: high-imbalance\\abalone19.dat\n",
      "---------STATS---------\n",
      "countOf0:  4142\n",
      "countOf1:  32\n",
      "----------OUT----------\n",
      "Więcej klasy 0\n",
      "File: high-imbalance\\kr-vs-k-three_vs_eleven.dat\n",
      "---------STATS---------\n",
      "countOf0:  2854\n",
      "countOf1:  81\n",
      "----------OUT----------\n",
      "Więcej klasy 0\n",
      "File: high-imbalance\\kr-vs-k-zero-one_vs_draw.dat\n",
      "---------STATS---------\n",
      "countOf0:  2796\n",
      "countOf1:  105\n",
      "----------OUT----------\n",
      "Więcej klasy 0\n",
      "File: high-imbalance\\shuttle-2_vs_5.dat\n",
      "---------STATS---------\n",
      "countOf0:  3267\n",
      "countOf1:  49\n",
      "----------OUT----------\n",
      "Więcej klasy 0\n",
      "File: high-imbalance\\shuttle-c0-vs-c4.dat\n",
      "---------STATS---------\n",
      "countOf0:  1706\n",
      "countOf1:  123\n",
      "----------OUT----------\n",
      "Więcej klasy 0\n",
      "File: high-imbalance\\yeast-0-2-5-6_vs_3-7-8-9.dat\n",
      "---------STATS---------\n",
      "countOf0:  905\n",
      "countOf1:  99\n",
      "----------OUT----------\n",
      "Więcej klasy 0\n",
      "File: high-imbalance\\yeast-0-2-5-7-9_vs_3-6-8.dat\n",
      "---------STATS---------\n",
      "countOf0:  905\n",
      "countOf1:  99\n",
      "----------OUT----------\n",
      "Więcej klasy 0\n",
      "File: high-imbalance\\yeast4.dat\n",
      "---------STATS---------\n",
      "countOf0:  1433\n",
      "countOf1:  51\n",
      "----------OUT----------\n",
      "Więcej klasy 0\n",
      "File: high-imbalance\\yeast5.dat\n",
      "---------STATS---------\n",
      "countOf0:  1440\n",
      "countOf1:  44\n",
      "----------OUT----------\n",
      "Więcej klasy 0\n",
      "[0, 0, 0, 0, 0, 0, 0, 0, 0, 0, 0, 0, 0, 0, 0, 0, 0, 0, 0, 0]\n",
      "0\n"
     ]
    }
   ],
   "source": [
    "# tymczasowy algorytm do analizy która z klas jest mniejszościowa\n",
    "def ReturnsMinorityLabel(file_path):\n",
    "    labels = []\n",
    "    with open(file_path, 'r') as f:\n",
    "        for line in f:\n",
    "            if line.startswith('@'):\n",
    "                continue\n",
    "            line_data = line.strip().split(',')\n",
    "            sample_class = line_data[-1].strip().lower().replace(\" \", \"\")\n",
    "            label = 1 if sample_class == 'positive' else 0\n",
    "            labels.append(label)\n",
    "    countOf0 = labels.count(0)\n",
    "    countOf1 = labels.count(1)\n",
    "    print(\"---------STATS---------\") \n",
    "    print('countOf0: ',countOf0)\n",
    "    print('countOf1: ',countOf1)\n",
    "    print(\"----------OUT----------\") \n",
    "    if countOf0 == countOf1:\n",
    "        print(\"!!!!!kurcze zbiorki są zbalansowane!!!!!!\")\n",
    "        return(-1)\n",
    "    if countOf0 > countOf1:\n",
    "        print(\"Więcej klasy 0\")\n",
    "        return(0)\n",
    "    if countOf0 < countOf1:\n",
    "        print(\"Więcej klasy 1\")\n",
    "        return(1)\n",
    "\n",
    "import os\n",
    "\n",
    "#sprawdzenie czy działa\n",
    "\n",
    "directories = ['mild-imbalance', 'high-imbalance']\n",
    "results_of_test = []\n",
    "for directory in directories:\n",
    "    print(f\"Processing files in directory: {directory}\")\n",
    "    files = os.listdir(directory)\n",
    "    \n",
    "    for file_name in files:\n",
    "        file_path = os.path.join(directory, file_name)\n",
    "        print(f\"File: {file_path}\")\n",
    "        results_of_test.append(ReturnsMinorityLabel(file_path))\n",
    "    \n",
    "print(results_of_test)\n",
    "print(results_of_test.count(1))"
   ]
  },
  {
   "cell_type": "markdown",
   "id": "0c3846ea",
   "metadata": {},
   "source": [
    "#### Experiment for single dataset"
   ]
  },
  {
   "cell_type": "code",
   "execution_count": 11,
   "id": "915d9556",
   "metadata": {},
   "outputs": [],
   "source": [
    "from imblearn.over_sampling import SMOTE, RandomOverSampler, BorderlineSMOTE\n",
    "from sklearn import svm\n",
    "from sklearn.model_selection import RepeatedStratifiedKFold\n",
    "from sklearn.metrics import precision_score, recall_score\n",
    "from imblearn.metrics import specificity_score\n",
    "\n",
    "def experiment(X, y):\n",
    "    preprocessings = {\n",
    "        \"KMeansSMOTE\": True,\n",
    "        \"MeansShiftSMOTE\": True,\n",
    "        \"SMOTE\": SMOTE(),\n",
    "        \"ROS\": RandomOverSampler(),\n",
    "        \"BorderlineSMOTE\": BorderlineSMOTE(),\n",
    "    }\n",
    "    classifier = RandomForestClassifier(random_state=42)\n",
    "    rskf = RepeatedStratifiedKFold(n_splits=5, n_repeats=2, random_state=1234)\n",
    "    result = {}\n",
    "    #wyeksportuję sobie uzyskane datasety poza funkcję żeby zobaczyć jak wyglądają oversamplowane\n",
    "    export_X = []\n",
    "    export_y = []\n",
    "    for key in preprocessings:\n",
    "        precision_scores = []\n",
    "        recall_scores = []\n",
    "        specifity_scores = []\n",
    "        for train_index, test_index in rskf.split(X,y):\n",
    "            X_train, X_test = X[train_index], X[test_index]\n",
    "            y_train, y_test = y[train_index], y[test_index]\n",
    "            if key == \"KMeansSMOTE\":\n",
    "                X_train_oversampled, y_train_oversampled = KMeans_SMOTE(X_train, y_train, 10)\n",
    "            elif key == \"MeansShiftSMOTE\":\n",
    "                X_train_oversampled, y_train_oversampled = MeanShift_SMOTE(X_train, y_train)\n",
    "            else:\n",
    "                X_train_oversampled, y_train_oversampled = preprocessings[key].fit_resample(X_train, y_train)\n",
    "            export_X = X_train_oversampled\n",
    "            export_y = y_train_oversampled\n",
    "            classifier.fit(X_train_oversampled, y_train_oversampled)\n",
    "            predict = classifier.predict(X_test)\n",
    "            precision_scores.append(precision_score(y_test, predict))\n",
    "            recall_scores.append(recall_score(y_test, predict))\n",
    "            specifity_scores.append(specificity_score(y_test, predict))\n",
    "        mean_precision_score = np.mean(precision_scores)\n",
    "        std_precision_score = np.std(precision_scores)\n",
    "        mean_recall_score = np.mean(recall_scores)\n",
    "        std_recall_score = np.std(recall_scores)\n",
    "        mean_specifity_score = np.mean(specifity_scores)\n",
    "        std_specifity_score = np.std(specifity_scores)\n",
    "#         print(f\"Precission score {key}: %.3f (%.3f)\" % (mean_precision_score, std_precision_score))\n",
    "#         print(f\"Specifity score {key}: %.3f (%.3f)\" % (mean_specifity_score, std_specifity_score))\n",
    "#         print(f\"Recall score {key}: %.3f (%.3f)\" % (mean_recall_score, std_recall_score))\n",
    "        result[key] = {\n",
    "            \"precission_scores\": precision_scores,\n",
    "            \"recall_scores\": recall_scores,\n",
    "            \"specifity_scores\": specifity_scores,\n",
    "            \"mean_precission_score\": mean_precision_score,\n",
    "            \"mean_recall_scores\": mean_recall_score,\n",
    "            \"mean_specifity_scores\": mean_specifity_score,\n",
    "        }\n",
    "    return result, export_X, export_y"
   ]
  },
  {
   "cell_type": "markdown",
   "id": "7268e808",
   "metadata": {},
   "source": [
    "#### Running experiments on the datasets"
   ]
  },
  {
   "cell_type": "code",
   "execution_count": 12,
   "id": "1fcd11a3",
   "metadata": {},
   "outputs": [
    {
     "name": "stdout",
     "output_type": "stream",
     "text": [
      "Processing files in directory: mild-imbalance\n",
      "File: mild-imbalance\\page-blocks0.dat\n",
      "File: mild-imbalance\\pima.dat\n",
      "File: mild-imbalance\\segment0.dat\n",
      "File: mild-imbalance\\vehicle0.dat\n",
      "File: mild-imbalance\\vehicle1.dat\n",
      "File: mild-imbalance\\vehicle2.dat\n",
      "File: mild-imbalance\\vehicle3.dat\n",
      "File: mild-imbalance\\wisconsin.dat\n",
      "File: mild-imbalance\\yeast1.dat\n",
      "File: mild-imbalance\\yeast3.dat\n",
      "Processing files in directory: high-imbalance\n",
      "File: high-imbalance\\abalone-17_vs_7-8-9-10.dat\n"
     ]
    },
    {
     "name": "stderr",
     "output_type": "stream",
     "text": [
      "c:\\Users\\JG\\Documents\\GitHub\\SMOTE-clustering\\.venv\\Lib\\site-packages\\sklearn\\metrics\\_classification.py:1517: UndefinedMetricWarning:\n",
      "\n",
      "Precision is ill-defined and being set to 0.0 due to no predicted samples. Use `zero_division` parameter to control this behavior.\n",
      "\n"
     ]
    },
    {
     "name": "stdout",
     "output_type": "stream",
     "text": [
      "File: high-imbalance\\abalone19.dat\n"
     ]
    },
    {
     "name": "stderr",
     "output_type": "stream",
     "text": [
      "c:\\Users\\JG\\Documents\\GitHub\\SMOTE-clustering\\.venv\\Lib\\site-packages\\sklearn\\metrics\\_classification.py:1517: UndefinedMetricWarning:\n",
      "\n",
      "Precision is ill-defined and being set to 0.0 due to no predicted samples. Use `zero_division` parameter to control this behavior.\n",
      "\n",
      "c:\\Users\\JG\\Documents\\GitHub\\SMOTE-clustering\\.venv\\Lib\\site-packages\\sklearn\\metrics\\_classification.py:1517: UndefinedMetricWarning:\n",
      "\n",
      "Precision is ill-defined and being set to 0.0 due to no predicted samples. Use `zero_division` parameter to control this behavior.\n",
      "\n",
      "c:\\Users\\JG\\Documents\\GitHub\\SMOTE-clustering\\.venv\\Lib\\site-packages\\sklearn\\metrics\\_classification.py:1517: UndefinedMetricWarning:\n",
      "\n",
      "Precision is ill-defined and being set to 0.0 due to no predicted samples. Use `zero_division` parameter to control this behavior.\n",
      "\n",
      "c:\\Users\\JG\\Documents\\GitHub\\SMOTE-clustering\\.venv\\Lib\\site-packages\\sklearn\\metrics\\_classification.py:1517: UndefinedMetricWarning:\n",
      "\n",
      "Precision is ill-defined and being set to 0.0 due to no predicted samples. Use `zero_division` parameter to control this behavior.\n",
      "\n",
      "c:\\Users\\JG\\Documents\\GitHub\\SMOTE-clustering\\.venv\\Lib\\site-packages\\sklearn\\metrics\\_classification.py:1517: UndefinedMetricWarning:\n",
      "\n",
      "Precision is ill-defined and being set to 0.0 due to no predicted samples. Use `zero_division` parameter to control this behavior.\n",
      "\n"
     ]
    },
    {
     "name": "stdout",
     "output_type": "stream",
     "text": [
      "File: high-imbalance\\kr-vs-k-three_vs_eleven.dat\n",
      "File: high-imbalance\\kr-vs-k-zero-one_vs_draw.dat\n",
      "File: high-imbalance\\shuttle-2_vs_5.dat\n",
      "File: high-imbalance\\shuttle-c0-vs-c4.dat\n",
      "File: high-imbalance\\yeast-0-2-5-6_vs_3-7-8-9.dat\n",
      "File: high-imbalance\\yeast-0-2-5-7-9_vs_3-6-8.dat\n",
      "File: high-imbalance\\yeast4.dat\n",
      "File: high-imbalance\\yeast5.dat\n"
     ]
    }
   ],
   "source": [
    "import os\n",
    "\n",
    "directories = ['mild-imbalance', 'high-imbalance']\n",
    "results = {}\n",
    "oversampled_datasets = pd.DataFrame()\n",
    "for directory in directories:\n",
    "    print(f\"Processing files in directory: {directory}\")\n",
    "    files = os.listdir(directory)\n",
    "    results = {}\n",
    "    for file_name in files:\n",
    "        file_path = os.path.join(directory, file_name)\n",
    "        print(f\"File: {file_path}\")\n",
    "        X, y = load_dataset(file_path)\n",
    "        experiment_result, oversampled_X, oversampled_y = experiment(X, y)\n",
    "        oversampled_datasets[file_path] = [oversampled_X,oversampled_y]\n",
    "        results[file_name] = experiment_result\n",
    "# print(results)"
   ]
  },
  {
   "cell_type": "markdown",
   "id": "bcade8a9",
   "metadata": {},
   "source": [
    "#### Przechowywanie danych z eksperymentu i podgląd datasetów"
   ]
  },
  {
   "cell_type": "code",
   "execution_count": 13,
   "id": "892aedb6",
   "metadata": {},
   "outputs": [
    {
     "name": "stdout",
     "output_type": "stream",
     "text": [
      "{'abalone-17_vs_7-8-9-10.dat': {'KMeansSMOTE': {'precission_scores': [0.2631578947368421, 0.21428571428571427, 0.17857142857142858, 0.2916666666666667, 0.3, 0.2727272727272727, 0.29411764705882354, 0.23529411764705882, 0.25, 0.14285714285714285], 'recall_scores': [0.4166666666666667, 0.25, 0.4166666666666667, 0.6363636363636364, 0.2727272727272727, 0.25, 0.4166666666666667, 0.3333333333333333, 0.45454545454545453, 0.18181818181818182], 'specifity_scores': [0.9692982456140351, 0.9758771929824561, 0.9495614035087719, 0.9627192982456141, 0.9846491228070176, 0.9824561403508771, 0.9736842105263158, 0.9714912280701754, 0.9671052631578947, 0.9736842105263158], 'mean_precission_score': 0.24426778845509492, 'mean_recall_scores': 0.36287878787878786, 'mean_specifity_scores': 0.9710526315789473}, 'MeansShiftSMOTE': {'precission_scores': [0.2, 0.22727272727272727, 0.23076923076923078, 0.2727272727272727, 0.3076923076923077, 0.21428571428571427, 0.3181818181818182, 0.35294117647058826, 0.2608695652173913, 0.17647058823529413], 'recall_scores': [0.4166666666666667, 0.4166666666666667, 0.5, 0.5454545454545454, 0.36363636363636365, 0.25, 0.5833333333333334, 0.5, 0.5454545454545454, 0.2727272727272727], 'specifity_scores': [0.956140350877193, 0.9627192982456141, 0.956140350877193, 0.9649122807017544, 0.9802631578947368, 0.9758771929824561, 0.9671052631578947, 0.9758771929824561, 0.9627192982456141, 0.9692982456140351], 'mean_precission_score': 0.2561210400852344, 'mean_recall_scores': 0.43939393939393934, 'mean_specifity_scores': 0.9671052631578949}, 'SMOTE': {'precission_scores': [0.30434782608695654, 0.2777777777777778, 0.23809523809523808, 0.24, 0.3333333333333333, 0.3333333333333333, 0.2777777777777778, 0.29411764705882354, 0.2857142857142857, 0.21052631578947367], 'recall_scores': [0.5833333333333334, 0.4166666666666667, 0.4166666666666667, 0.5454545454545454, 0.2727272727272727, 0.3333333333333333, 0.4166666666666667, 0.4166666666666667, 0.5454545454545454, 0.36363636363636365], 'specifity_scores': [0.9649122807017544, 0.9714912280701754, 0.9649122807017544, 0.9583333333333334, 0.9868421052631579, 0.9824561403508771, 0.9714912280701754, 0.9736842105263158, 0.9671052631578947, 0.9671052631578947], 'mean_precission_score': 0.27950235349669994, 'mean_recall_scores': 0.43106060606060603, 'mean_specifity_scores': 0.9708333333333332}, 'ROS': {'precission_scores': [0.5, 0.3333333333333333, 0.6666666666666666, 0.3333333333333333, 0.5, 0.0, 0.5, 0.4, 0.4, 0.3333333333333333], 'recall_scores': [0.25, 0.16666666666666666, 0.16666666666666666, 0.18181818181818182, 0.09090909090909091, 0.0, 0.08333333333333333, 0.16666666666666666, 0.18181818181818182, 0.18181818181818182], 'specifity_scores': [0.993421052631579, 0.9912280701754386, 0.9978070175438597, 0.9912280701754386, 0.9978070175438597, 1.0, 0.9978070175438597, 0.993421052631579, 0.993421052631579, 0.9912280701754386], 'mean_precission_score': 0.39666666666666667, 'mean_recall_scores': 0.14696969696969697, 'mean_specifity_scores': 0.9947368421052631}, 'BorderlineSMOTE': {'precission_scores': [0.3157894736842105, 0.45454545454545453, 0.2, 0.2916666666666667, 0.4444444444444444, 0.3333333333333333, 0.23076923076923078, 0.4, 0.3333333333333333, 0.2222222222222222], 'recall_scores': [0.5, 0.4166666666666667, 0.25, 0.6363636363636364, 0.36363636363636365, 0.25, 0.25, 0.5, 0.5454545454545454, 0.36363636363636365], 'specifity_scores': [0.9714912280701754, 0.9868421052631579, 0.9736842105263158, 0.9627192982456141, 0.9890350877192983, 0.9868421052631579, 0.9780701754385965, 0.9802631578947368, 0.9736842105263158, 0.9692982456140351], 'mean_precission_score': 0.3226104158998896, 'mean_recall_scores': 0.4075757575757576, 'mean_specifity_scores': 0.9771929824561404}}, 'abalone19.dat': {'KMeansSMOTE': {'precission_scores': [0.16666666666666666, 0.0, 0.0, 0.0, 0.0, 0.0, 0.0, 0.2, 0.0, 0.0], 'recall_scores': [0.16666666666666666, 0.0, 0.0, 0.0, 0.0, 0.0, 0.0, 0.14285714285714285, 0.0, 0.0], 'specifity_scores': [0.9939686369119421, 0.9879372738238842, 0.9975845410628019, 0.9915458937198067, 0.9939613526570048, 0.9867310012062727, 0.9879372738238842, 0.9951690821256038, 0.998792270531401, 0.9927536231884058], 'mean_precission_score': 0.03666666666666667, 'mean_recall_scores': 0.030952380952380953, 'mean_specifity_scores': 0.9926380949051008}, 'MeansShiftSMOTE': {'precission_scores': [0.04, 0.1111111111111111, 0.0, 0.04, 0.0, 0.0, 0.0, 0.08, 0.09090909090909091, 0.0], 'recall_scores': [0.16666666666666666, 0.3333333333333333, 0.0, 0.14285714285714285, 0.0, 0.0, 0.0, 0.2857142857142857, 0.2857142857142857, 0.0], 'specifity_scores': [0.971049457177322, 0.9806996381182147, 0.9867149758454107, 0.9710144927536232, 0.9782608695652174, 0.9662243667068757, 0.9758745476477684, 0.9722222222222222, 0.9758454106280193, 0.9698067632850241], 'mean_precission_score': 0.0362020202020202, 'mean_recall_scores': 0.12142857142857141, 'mean_specifity_scores': 0.9747712743949698}, 'SMOTE': {'precission_scores': [0.058823529411764705, 0.07142857142857142, 0.07692307692307693, 0.0, 0.0, 0.0, 0.0, 0.16666666666666666, 0.14285714285714285, 0.0], 'recall_scores': [0.16666666666666666, 0.3333333333333333, 0.14285714285714285, 0.0, 0.0, 0.0, 0.0, 0.42857142857142855, 0.2857142857142857, 0.0], 'specifity_scores': [0.9806996381182147, 0.9686369119420989, 0.9855072463768116, 0.9855072463768116, 0.9867149758454107, 0.9819059107358263, 0.971049457177322, 0.9818840579710145, 0.9855072463768116, 0.9770531400966184], 'mean_precission_score': 0.051669898728722255, 'mean_recall_scores': 0.13571428571428573, 'mean_specifity_scores': 0.9804465831016941}, 'ROS': {'precission_scores': [0.0, 0.0, 1.0, 0.0, 0.0, 0.0, 0.0, 0.0, 1.0, 0.0], 'recall_scores': [0.0, 0.0, 0.14285714285714285, 0.0, 0.0, 0.0, 0.0, 0.0, 0.14285714285714285, 0.0], 'specifity_scores': [1.0, 1.0, 1.0, 0.998792270531401, 1.0, 0.9975874547647768, 1.0, 1.0, 1.0, 0.998792270531401], 'mean_precission_score': 0.2, 'mean_recall_scores': 0.02857142857142857, 'mean_specifity_scores': 0.999517199582758}, 'BorderlineSMOTE': {'precission_scores': [0.0, 0.09090909090909091, 0.16666666666666666, 0.0, 0.0, 0.0, 0.0, 0.0, 0.25, 0.0], 'recall_scores': [0.0, 0.16666666666666666, 0.14285714285714285, 0.0, 0.0, 0.0, 0.0, 0.0, 0.14285714285714285, 0.0], 'specifity_scores': [0.9939686369119421, 0.9879372738238842, 0.9939613526570048, 0.9975845410628019, 0.9975845410628019, 0.9975874547647768, 0.9879372738238842, 0.9951690821256038, 0.9963768115942029, 0.9951690821256038], 'mean_precission_score': 0.05075757575757576, 'mean_recall_scores': 0.04523809523809524, 'mean_specifity_scores': 0.9943276049952505}}, 'kr-vs-k-three_vs_eleven.dat': {'KMeansSMOTE': {'precission_scores': [1.0, 1.0, 1.0, 1.0, 1.0, 1.0, 1.0, 1.0, 1.0, 1.0], 'recall_scores': [1.0, 1.0, 1.0, 1.0, 1.0, 1.0, 1.0, 1.0, 1.0, 0.8823529411764706], 'specifity_scores': [1.0, 1.0, 1.0, 1.0, 1.0, 1.0, 1.0, 1.0, 1.0, 1.0], 'mean_precission_score': 1.0, 'mean_recall_scores': 0.9882352941176471, 'mean_specifity_scores': 1.0}, 'MeansShiftSMOTE': {'precission_scores': [1.0, 1.0, 1.0, 1.0, 1.0, 1.0, 1.0, 1.0, 1.0, 1.0], 'recall_scores': [1.0, 1.0, 1.0, 1.0, 1.0, 1.0, 1.0, 1.0, 1.0, 0.8823529411764706], 'specifity_scores': [1.0, 1.0, 1.0, 1.0, 1.0, 1.0, 1.0, 1.0, 1.0, 1.0], 'mean_precission_score': 1.0, 'mean_recall_scores': 0.9882352941176471, 'mean_specifity_scores': 1.0}, 'SMOTE': {'precission_scores': [1.0, 1.0, 1.0, 1.0, 1.0, 1.0, 1.0, 1.0, 1.0, 1.0], 'recall_scores': [1.0, 1.0, 1.0, 1.0, 1.0, 1.0, 1.0, 1.0, 1.0, 0.8823529411764706], 'specifity_scores': [1.0, 1.0, 1.0, 1.0, 1.0, 1.0, 1.0, 1.0, 1.0, 1.0], 'mean_precission_score': 1.0, 'mean_recall_scores': 0.9882352941176471, 'mean_specifity_scores': 1.0}, 'ROS': {'precission_scores': [1.0, 1.0, 1.0, 1.0, 1.0, 1.0, 1.0, 1.0, 1.0, 1.0], 'recall_scores': [1.0, 1.0, 1.0, 1.0, 1.0, 1.0, 1.0, 1.0, 1.0, 0.8823529411764706], 'specifity_scores': [1.0, 1.0, 1.0, 1.0, 1.0, 1.0, 1.0, 1.0, 1.0, 1.0], 'mean_precission_score': 1.0, 'mean_recall_scores': 0.9882352941176471, 'mean_specifity_scores': 1.0}, 'BorderlineSMOTE': {'precission_scores': [1.0, 1.0, 1.0, 1.0, 1.0, 1.0, 1.0, 1.0, 1.0, 1.0], 'recall_scores': [1.0, 1.0, 1.0, 1.0, 1.0, 1.0, 1.0, 1.0, 1.0, 0.8823529411764706], 'specifity_scores': [1.0, 1.0, 1.0, 1.0, 1.0, 1.0, 1.0, 1.0, 1.0, 1.0], 'mean_precission_score': 1.0, 'mean_recall_scores': 0.9882352941176471, 'mean_specifity_scores': 1.0}}, 'kr-vs-k-zero-one_vs_draw.dat': {'KMeansSMOTE': {'precission_scores': [1.0, 0.9473684210526315, 0.9523809523809523, 0.9545454545454546, 1.0, 0.9523809523809523, 0.9, 1.0, 1.0, 1.0], 'recall_scores': [0.9523809523809523, 0.8571428571428571, 0.9523809523809523, 1.0, 0.9523809523809523, 0.9523809523809523, 0.8571428571428571, 0.9523809523809523, 0.9523809523809523, 0.8571428571428571], 'specifity_scores': [1.0, 0.998211091234347, 0.998211091234347, 0.998211091234347, 1.0, 0.9982142857142857, 0.9964221824686941, 1.0, 1.0, 1.0], 'mean_precission_score': 0.970667578035999, 'mean_recall_scores': 0.9285714285714286, 'mean_specifity_scores': 0.9989269741886021}, 'MeansShiftSMOTE': {'precission_scores': [1.0, 0.9473684210526315, 0.9523809523809523, 0.9545454545454546, 1.0, 0.9545454545454546, 0.8571428571428571, 1.0, 1.0, 1.0], 'recall_scores': [0.9523809523809523, 0.8571428571428571, 0.9523809523809523, 1.0, 0.9523809523809523, 1.0, 0.8571428571428571, 0.9523809523809523, 0.9523809523809523, 0.8095238095238095], 'specifity_scores': [1.0, 0.998211091234347, 0.998211091234347, 0.998211091234347, 1.0, 0.9982142857142857, 0.9946332737030411, 1.0, 1.0, 1.0], 'mean_precission_score': 0.966598313966735, 'mean_recall_scores': 0.9285714285714286, 'mean_specifity_scores': 0.9987480833120369}, 'SMOTE': {'precission_scores': [1.0, 0.9473684210526315, 0.9090909090909091, 0.9545454545454546, 1.0, 0.9523809523809523, 0.8571428571428571, 1.0, 1.0, 1.0], 'recall_scores': [0.9523809523809523, 0.8571428571428571, 0.9523809523809523, 1.0, 0.9523809523809523, 0.9523809523809523, 0.8571428571428571, 0.9523809523809523, 0.9523809523809523, 0.8095238095238095], 'specifity_scores': [1.0, 0.998211091234347, 0.9964221824686941, 0.998211091234347, 1.0, 0.9982142857142857, 0.9946332737030411, 1.0, 1.0, 1.0], 'mean_precission_score': 0.9620528594212804, 'mean_recall_scores': 0.9238095238095239, 'mean_specifity_scores': 0.9985691924354715}, 'ROS': {'precission_scores': [1.0, 0.95, 0.9523809523809523, 0.9545454545454546, 1.0, 0.9545454545454546, 0.8636363636363636, 1.0, 1.0, 0.9444444444444444], 'recall_scores': [1.0, 0.9047619047619048, 0.9523809523809523, 1.0, 0.9523809523809523, 1.0, 0.9047619047619048, 0.9523809523809523, 0.9523809523809523, 0.8095238095238095], 'specifity_scores': [1.0, 0.998211091234347, 0.998211091234347, 0.998211091234347, 1.0, 0.9982142857142857, 0.9946332737030411, 1.0, 1.0, 0.998211091234347], 'mean_precission_score': 0.961955266955267, 'mean_recall_scores': 0.9428571428571428, 'mean_specifity_scores': 0.9985691924354716}, 'BorderlineSMOTE': {'precission_scores': [1.0, 0.9444444444444444, 0.9090909090909091, 0.9545454545454546, 0.9090909090909091, 0.9523809523809523, 0.8636363636363636, 1.0, 1.0, 1.0], 'recall_scores': [0.9047619047619048, 0.8095238095238095, 0.9523809523809523, 1.0, 0.9523809523809523, 0.9523809523809523, 0.9047619047619048, 0.9523809523809523, 0.9523809523809523, 0.8571428571428571], 'specifity_scores': [1.0, 0.998211091234347, 0.9964221824686941, 0.998211091234347, 0.9964221824686941, 0.9982142857142857, 0.9946332737030411, 1.0, 1.0, 1.0], 'mean_precission_score': 0.9533189033189032, 'mean_recall_scores': 0.9238095238095239, 'mean_specifity_scores': 0.998211410682341}}, 'shuttle-2_vs_5.dat': {'KMeansSMOTE': {'precission_scores': [1.0, 1.0, 1.0, 1.0, 1.0, 1.0, 1.0, 1.0, 1.0, 1.0], 'recall_scores': [1.0, 1.0, 1.0, 1.0, 1.0, 1.0, 1.0, 1.0, 1.0, 1.0], 'specifity_scores': [1.0, 1.0, 1.0, 1.0, 1.0, 1.0, 1.0, 1.0, 1.0, 1.0], 'mean_precission_score': 1.0, 'mean_recall_scores': 1.0, 'mean_specifity_scores': 1.0}, 'MeansShiftSMOTE': {'precission_scores': [1.0, 1.0, 1.0, 1.0, 1.0, 1.0, 1.0, 1.0, 1.0, 1.0], 'recall_scores': [1.0, 1.0, 1.0, 1.0, 1.0, 1.0, 1.0, 1.0, 1.0, 1.0], 'specifity_scores': [1.0, 1.0, 1.0, 1.0, 1.0, 1.0, 1.0, 1.0, 1.0, 1.0], 'mean_precission_score': 1.0, 'mean_recall_scores': 1.0, 'mean_specifity_scores': 1.0}, 'SMOTE': {'precission_scores': [1.0, 1.0, 1.0, 1.0, 1.0, 1.0, 1.0, 1.0, 1.0, 1.0], 'recall_scores': [1.0, 1.0, 1.0, 1.0, 1.0, 1.0, 1.0, 1.0, 1.0, 1.0], 'specifity_scores': [1.0, 1.0, 1.0, 1.0, 1.0, 1.0, 1.0, 1.0, 1.0, 1.0], 'mean_precission_score': 1.0, 'mean_recall_scores': 1.0, 'mean_specifity_scores': 1.0}, 'ROS': {'precission_scores': [1.0, 1.0, 1.0, 1.0, 1.0, 1.0, 1.0, 1.0, 1.0, 1.0], 'recall_scores': [1.0, 1.0, 1.0, 1.0, 1.0, 1.0, 1.0, 1.0, 1.0, 1.0], 'specifity_scores': [1.0, 1.0, 1.0, 1.0, 1.0, 1.0, 1.0, 1.0, 1.0, 1.0], 'mean_precission_score': 1.0, 'mean_recall_scores': 1.0, 'mean_specifity_scores': 1.0}, 'BorderlineSMOTE': {'precission_scores': [1.0, 1.0, 1.0, 1.0, 1.0, 1.0, 1.0, 1.0, 1.0, 1.0], 'recall_scores': [1.0, 1.0, 1.0, 1.0, 1.0, 1.0, 1.0, 1.0, 1.0, 1.0], 'specifity_scores': [1.0, 1.0, 1.0, 1.0, 1.0, 1.0, 1.0, 1.0, 1.0, 1.0], 'mean_precission_score': 1.0, 'mean_recall_scores': 1.0, 'mean_specifity_scores': 1.0}}, 'shuttle-c0-vs-c4.dat': {'KMeansSMOTE': {'precission_scores': [1.0, 1.0, 1.0, 1.0, 1.0, 1.0, 1.0, 1.0, 1.0, 1.0], 'recall_scores': [1.0, 1.0, 1.0, 1.0, 1.0, 1.0, 1.0, 1.0, 1.0, 1.0], 'specifity_scores': [1.0, 1.0, 1.0, 1.0, 1.0, 1.0, 1.0, 1.0, 1.0, 1.0], 'mean_precission_score': 1.0, 'mean_recall_scores': 1.0, 'mean_specifity_scores': 1.0}, 'MeansShiftSMOTE': {'precission_scores': [1.0, 1.0, 1.0, 1.0, 1.0, 1.0, 1.0, 1.0, 1.0, 1.0], 'recall_scores': [1.0, 1.0, 1.0, 1.0, 1.0, 1.0, 1.0, 1.0, 1.0, 1.0], 'specifity_scores': [1.0, 1.0, 1.0, 1.0, 1.0, 1.0, 1.0, 1.0, 1.0, 1.0], 'mean_precission_score': 1.0, 'mean_recall_scores': 1.0, 'mean_specifity_scores': 1.0}, 'SMOTE': {'precission_scores': [1.0, 1.0, 1.0, 1.0, 1.0, 1.0, 1.0, 1.0, 1.0, 1.0], 'recall_scores': [1.0, 1.0, 1.0, 1.0, 1.0, 1.0, 1.0, 1.0, 1.0, 1.0], 'specifity_scores': [1.0, 1.0, 1.0, 1.0, 1.0, 1.0, 1.0, 1.0, 1.0, 1.0], 'mean_precission_score': 1.0, 'mean_recall_scores': 1.0, 'mean_specifity_scores': 1.0}, 'ROS': {'precission_scores': [1.0, 1.0, 1.0, 1.0, 1.0, 1.0, 1.0, 1.0, 1.0, 1.0], 'recall_scores': [1.0, 1.0, 1.0, 1.0, 1.0, 1.0, 1.0, 1.0, 1.0, 1.0], 'specifity_scores': [1.0, 1.0, 1.0, 1.0, 1.0, 1.0, 1.0, 1.0, 1.0, 1.0], 'mean_precission_score': 1.0, 'mean_recall_scores': 1.0, 'mean_specifity_scores': 1.0}, 'BorderlineSMOTE': {'precission_scores': [1.0, 1.0, 1.0, 1.0, 1.0, 1.0, 1.0, 1.0, 1.0, 1.0], 'recall_scores': [1.0, 1.0, 1.0, 1.0, 1.0, 1.0, 1.0, 1.0, 1.0, 1.0], 'specifity_scores': [1.0, 1.0, 1.0, 1.0, 1.0, 1.0, 1.0, 1.0, 1.0, 1.0], 'mean_precission_score': 1.0, 'mean_recall_scores': 1.0, 'mean_specifity_scores': 1.0}}, 'yeast-0-2-5-6_vs_3-7-8-9.dat': {'KMeansSMOTE': {'precission_scores': [0.5454545454545454, 0.6363636363636364, 0.7142857142857143, 0.5909090909090909, 0.6111111111111112, 0.7142857142857143, 0.6086956521739131, 0.7222222222222222, 0.6666666666666666, 0.6111111111111112], 'recall_scores': [0.6, 0.7, 0.5, 0.65, 0.5789473684210527, 0.5, 0.7, 0.65, 0.6, 0.5789473684210527], 'specifity_scores': [0.9447513812154696, 0.9558011049723757, 0.9779005524861878, 0.9502762430939227, 0.9613259668508287, 0.9779005524861878, 0.9502762430939227, 0.9723756906077348, 0.9668508287292817, 0.9613259668508287], 'mean_precission_score': 0.6421105464583727, 'mean_recall_scores': 0.6057894736842104, 'mean_specifity_scores': 0.961878453038674}, 'MeansShiftSMOTE': {'precission_scores': [0.5652173913043478, 0.7058823529411765, 0.6111111111111112, 0.5652173913043478, 0.5789473684210527, 0.5833333333333334, 0.6842105263157895, 0.625, 0.6666666666666666, 0.5555555555555556], 'recall_scores': [0.65, 0.6, 0.55, 0.65, 0.5789473684210527, 0.35, 0.65, 0.75, 0.6, 0.5263157894736842], 'specifity_scores': [0.9447513812154696, 0.9723756906077348, 0.9613259668508287, 0.9447513812154696, 0.9558011049723757, 0.9723756906077348, 0.9668508287292817, 0.9502762430939227, 0.9668508287292817, 0.9558011049723757], 'mean_precission_score': 0.614114169695338, 'mean_recall_scores': 0.5905263157894736, 'mean_specifity_scores': 0.9591160220994475}, 'SMOTE': {'precission_scores': [0.5454545454545454, 0.65, 0.6, 0.5714285714285714, 0.6470588235294118, 0.7142857142857143, 0.6086956521739131, 0.6521739130434783, 0.6666666666666666, 0.6111111111111112], 'recall_scores': [0.6, 0.65, 0.45, 0.6, 0.5789473684210527, 0.5, 0.7, 0.75, 0.6, 0.5789473684210527], 'specifity_scores': [0.9447513812154696, 0.9613259668508287, 0.9668508287292817, 0.9502762430939227, 0.9668508287292817, 0.9779005524861878, 0.9502762430939227, 0.9558011049723757, 0.9668508287292817, 0.9613259668508287], 'mean_precission_score': 0.6266874997693412, 'mean_recall_scores': 0.6007894736842104, 'mean_specifity_scores': 0.9602209944751381}, 'ROS': {'precission_scores': [0.6111111111111112, 0.9166666666666666, 0.6923076923076923, 0.7058823529411765, 0.7857142857142857, 0.75, 0.75, 0.7333333333333333, 0.7142857142857143, 0.6111111111111112], 'recall_scores': [0.55, 0.55, 0.45, 0.6, 0.5789473684210527, 0.3, 0.6, 0.55, 0.5, 0.5789473684210527], 'specifity_scores': [0.9613259668508287, 0.994475138121547, 0.9779005524861878, 0.9723756906077348, 0.9834254143646409, 0.988950276243094, 0.9779005524861878, 0.9779005524861878, 0.9779005524861878, 0.9613259668508287], 'mean_precission_score': 0.7270412267471091, 'mean_recall_scores': 0.5257894736842106, 'mean_specifity_scores': 0.9773480662983426}, 'BorderlineSMOTE': {'precission_scores': [0.5714285714285714, 0.7857142857142857, 0.6666666666666666, 0.5454545454545454, 0.6428571428571429, 0.75, 0.631578947368421, 0.631578947368421, 0.6666666666666666, 0.6428571428571429], 'recall_scores': [0.6, 0.55, 0.5, 0.6, 0.47368421052631576, 0.45, 0.6, 0.6, 0.6, 0.47368421052631576], 'specifity_scores': [0.9502762430939227, 0.9834254143646409, 0.9723756906077348, 0.9447513812154696, 0.9723756906077348, 0.9834254143646409, 0.9613259668508287, 0.9613259668508287, 0.9668508287292817, 0.9723756906077348], 'mean_precission_score': 0.6534802916381863, 'mean_recall_scores': 0.5447368421052631, 'mean_specifity_scores': 0.9668508287292819}}, 'yeast-0-2-5-7-9_vs_3-6-8.dat': {'KMeansSMOTE': {'precission_scores': [0.7894736842105263, 0.8888888888888888, 0.75, 0.75, 0.8, 0.7368421052631579, 0.9473684210526315, 0.8333333333333334, 0.8235294117647058, 0.7391304347826086], 'recall_scores': [0.75, 0.8, 0.9, 0.9, 0.42105263157894735, 0.7, 0.9, 0.75, 0.7, 0.8947368421052632], 'specifity_scores': [0.9779005524861878, 0.988950276243094, 0.9668508287292817, 0.9668508287292817, 0.988950276243094, 0.9723756906077348, 0.994475138121547, 0.9834254143646409, 0.9834254143646409, 0.9668508287292817], 'mean_precission_score': 0.8058566279295851, 'mean_recall_scores': 0.7715789473684211, 'mean_specifity_scores': 0.9790055248618785}, 'MeansShiftSMOTE': {'precission_scores': [0.7272727272727273, 0.7894736842105263, 0.782608695652174, 0.7391304347826086, 0.7692307692307693, 0.7368421052631579, 1.0, 0.8333333333333334, 0.8947368421052632, 0.7727272727272727], 'recall_scores': [0.8, 0.75, 0.9, 0.85, 0.5263157894736842, 0.7, 0.8, 0.75, 0.85, 0.8947368421052632], 'specifity_scores': [0.9668508287292817, 0.9779005524861878, 0.9723756906077348, 0.9668508287292817, 0.9834254143646409, 0.9723756906077348, 1.0, 0.9834254143646409, 0.988950276243094, 0.9723756906077348], 'mean_precission_score': 0.8045355864577832, 'mean_recall_scores': 0.7821052631578946, 'mean_specifity_scores': 0.9784530386740331}, 'SMOTE': {'precission_scores': [0.7894736842105263, 0.8333333333333334, 0.8571428571428571, 0.72, 0.9230769230769231, 0.7368421052631579, 1.0, 0.7894736842105263, 0.85, 0.7727272727272727], 'recall_scores': [0.75, 0.75, 0.9, 0.9, 0.631578947368421, 0.7, 0.85, 0.75, 0.85, 0.8947368421052632], 'specifity_scores': [0.9779005524861878, 0.9834254143646409, 0.9834254143646409, 0.9613259668508287, 0.994475138121547, 0.9723756906077348, 1.0, 0.9779005524861878, 0.9834254143646409, 0.9723756906077348], 'mean_precission_score': 0.8272069859964597, 'mean_recall_scores': 0.7976315789473684, 'mean_specifity_scores': 0.9806629834254142}, 'ROS': {'precission_scores': [0.8888888888888888, 0.9333333333333333, 0.7894736842105263, 0.8095238095238095, 0.9230769230769231, 0.75, 1.0, 0.8235294117647058, 0.8888888888888888, 0.8], 'recall_scores': [0.8, 0.7, 0.75, 0.85, 0.631578947368421, 0.75, 0.8, 0.7, 0.8, 0.8421052631578947], 'specifity_scores': [0.988950276243094, 0.994475138121547, 0.9779005524861878, 0.9779005524861878, 0.994475138121547, 0.9723756906077348, 1.0, 0.9834254143646409, 0.988950276243094, 0.9779005524861878], 'mean_precission_score': 0.8606714939687077, 'mean_recall_scores': 0.7623684210526316, 'mean_specifity_scores': 0.9856353591160222}, 'BorderlineSMOTE': {'precission_scores': [0.8823529411764706, 0.8235294117647058, 0.8947368421052632, 0.8181818181818182, 0.8, 0.6842105263157895, 0.9473684210526315, 0.8235294117647058, 0.75, 0.7619047619047619], 'recall_scores': [0.75, 0.7, 0.85, 0.9, 0.631578947368421, 0.65, 0.9, 0.7, 0.75, 0.8421052631578947], 'specifity_scores': [0.988950276243094, 0.9834254143646409, 0.988950276243094, 0.9779005524861878, 0.9834254143646409, 0.9668508287292817, 0.994475138121547, 0.9834254143646409, 0.9723756906077348, 0.9723756906077348], 'mean_precission_score': 0.8185814134266145, 'mean_recall_scores': 0.7673684210526316, 'mean_specifity_scores': 0.9812154696132597}}, 'yeast4.dat': {'KMeansSMOTE': {'precission_scores': [0.3333333333333333, 0.3333333333333333, 0.3157894736842105, 0.5454545454545454, 0.6666666666666666, 0.5, 0.8, 0.0, 0.5714285714285714, 0.5555555555555556], 'recall_scores': [0.2, 0.3, 0.6, 0.5454545454545454, 0.4, 0.3, 0.4, 0.0, 0.36363636363636365, 0.5], 'specifity_scores': [0.9860627177700348, 0.9790940766550522, 0.9547038327526133, 0.9825174825174825, 0.993006993006993, 0.9895470383275261, 0.9965156794425087, 0.9825783972125436, 0.9895104895104895, 0.986013986013986], 'mean_precission_score': 0.4621561479456216, 'mean_recall_scores': 0.36090909090909096, 'mean_specifity_scores': 0.9839550693209231}, 'MeansShiftSMOTE': {'precission_scores': [0.3076923076923077, 0.3333333333333333, 0.3157894736842105, 0.46153846153846156, 0.5, 0.375, 0.7142857142857143, 0.0, 0.38461538461538464, 0.3157894736842105], 'recall_scores': [0.4, 0.2, 0.6, 0.5454545454545454, 0.5, 0.6, 0.5, 0.0, 0.45454545454545453, 0.6], 'specifity_scores': [0.9686411149825784, 0.9860627177700348, 0.9547038327526133, 0.9755244755244755, 0.9825174825174825, 0.9651567944250871, 0.9930313588850174, 0.9616724738675958, 0.972027972027972, 0.9545454545454546], 'mean_precission_score': 0.37080441488336224, 'mean_recall_scores': 0.44000000000000006, 'mean_specifity_scores': 0.9713883677298311}, 'SMOTE': {'precission_scores': [0.2857142857142857, 0.23076923076923078, 0.21428571428571427, 0.46153846153846156, 0.45454545454545453, 0.42857142857142855, 0.5555555555555556, 0.0, 0.38461538461538464, 0.3333333333333333], 'recall_scores': [0.4, 0.3, 0.3, 0.5454545454545454, 0.5, 0.6, 0.5, 0.0, 0.45454545454545453, 0.5], 'specifity_scores': [0.9651567944250871, 0.9651567944250871, 0.9616724738675958, 0.9755244755244755, 0.9790209790209791, 0.9721254355400697, 0.9860627177700348, 0.9651567944250871, 0.972027972027972, 0.965034965034965], 'mean_precission_score': 0.3348928848928849, 'mean_recall_scores': 0.41, 'mean_specifity_scores': 0.9706939402061353}, 'ROS': {'precission_scores': [0.75, 0.6666666666666666, 0.6, 0.2, 1.0, 0.8, 1.0, 0.0, 0.75, 0.4444444444444444], 'recall_scores': [0.3, 0.2, 0.3, 0.09090909090909091, 0.2, 0.4, 0.1, 0.0, 0.2727272727272727, 0.4], 'specifity_scores': [0.9965156794425087, 0.9965156794425087, 0.9930313588850174, 0.986013986013986, 1.0, 0.9965156794425087, 1.0, 0.9895470383275261, 0.9965034965034965, 0.9825174825174825], 'mean_precission_score': 0.6211111111111112, 'mean_recall_scores': 0.22636363636363638, 'mean_specifity_scores': 0.9937160400575035}, 'BorderlineSMOTE': {'precission_scores': [0.3333333333333333, 0.3333333333333333, 0.2857142857142857, 0.4, 0.4444444444444444, 0.375, 0.625, 0.1111111111111111, 0.4, 0.4], 'recall_scores': [0.4, 0.2, 0.4, 0.36363636363636365, 0.4, 0.6, 0.5, 0.1, 0.36363636363636365, 0.6], 'specifity_scores': [0.9721254355400697, 0.9860627177700348, 0.9651567944250871, 0.9790209790209791, 0.9825174825174825, 0.9651567944250871, 0.9895470383275261, 0.9721254355400697, 0.9790209790209791, 0.9685314685314685], 'mean_precission_score': 0.3707936507936508, 'mean_recall_scores': 0.39272727272727276, 'mean_specifity_scores': 0.9759265125118782}}, 'yeast5.dat': {'KMeansSMOTE': {'precission_scores': [0.5, 0.6666666666666666, 0.5, 1.0, 0.8571428571428571, 0.8571428571428571, 0.5714285714285714, 0.8888888888888888, 0.75, 0.75], 'recall_scores': [0.7777777777777778, 0.6666666666666666, 0.5555555555555556, 0.8888888888888888, 0.75, 0.6666666666666666, 0.4444444444444444, 0.8888888888888888, 1.0, 0.75], 'specifity_scores': [0.9756944444444444, 0.9895833333333334, 0.9826388888888888, 1.0, 0.9965277777777778, 0.9965277777777778, 0.9895833333333334, 0.9965277777777778, 0.9895833333333334, 0.9930555555555556], 'mean_precission_score': 0.7341269841269841, 'mean_recall_scores': 0.7388888888888889, 'mean_specifity_scores': 0.9909722222222224}, 'MeansShiftSMOTE': {'precission_scores': [0.5384615384615384, 0.7, 0.5, 1.0, 0.875, 0.8, 0.625, 0.75, 0.6153846153846154, 0.5714285714285714], 'recall_scores': [0.7777777777777778, 0.7777777777777778, 0.5555555555555556, 0.8888888888888888, 0.875, 0.8888888888888888, 0.5555555555555556, 1.0, 0.8888888888888888, 0.5], 'specifity_scores': [0.9791666666666666, 0.9895833333333334, 0.9826388888888888, 1.0, 0.9965277777777778, 0.9930555555555556, 0.9895833333333334, 0.9895833333333334, 0.9826388888888888, 0.9895833333333334], 'mean_precission_score': 0.6975274725274725, 'mean_recall_scores': 0.7708333333333334, 'mean_specifity_scores': 0.9892361111111112}, 'SMOTE': {'precission_scores': [0.5333333333333333, 0.6, 0.5, 0.8888888888888888, 0.7272727272727273, 0.8, 0.6, 0.75, 0.6428571428571429, 0.7142857142857143], 'recall_scores': [0.8888888888888888, 0.6666666666666666, 0.6666666666666666, 0.8888888888888888, 1.0, 0.8888888888888888, 0.6666666666666666, 1.0, 1.0, 0.625], 'specifity_scores': [0.9756944444444444, 0.9861111111111112, 0.9791666666666666, 0.9965277777777778, 0.9895833333333334, 0.9930555555555556, 0.9861111111111112, 0.9895833333333334, 0.9826388888888888, 0.9930555555555556], 'mean_precission_score': 0.6756637806637806, 'mean_recall_scores': 0.8291666666666666, 'mean_specifity_scores': 0.9871527777777779}, 'ROS': {'precission_scores': [0.6363636363636364, 0.75, 0.625, 1.0, 0.7777777777777778, 0.875, 0.6, 0.8181818181818182, 0.75, 0.6666666666666666], 'recall_scores': [0.7777777777777778, 0.6666666666666666, 0.5555555555555556, 0.8888888888888888, 0.875, 0.7777777777777778, 0.3333333333333333, 1.0, 1.0, 0.5], 'specifity_scores': [0.9861111111111112, 0.9930555555555556, 0.9895833333333334, 1.0, 0.9930555555555556, 0.9965277777777778, 0.9930555555555556, 0.9930555555555556, 0.9895833333333334, 0.9930555555555556], 'mean_precission_score': 0.7498989898989898, 'mean_recall_scores': 0.7375, 'mean_specifity_scores': 0.9927083333333334}, 'BorderlineSMOTE': {'precission_scores': [0.5333333333333333, 0.6666666666666666, 0.45454545454545453, 0.8888888888888888, 0.7272727272727273, 0.7777777777777778, 0.5714285714285714, 0.8181818181818182, 0.6428571428571429, 0.6666666666666666], 'recall_scores': [0.8888888888888888, 0.6666666666666666, 0.5555555555555556, 0.8888888888888888, 1.0, 0.7777777777777778, 0.4444444444444444, 1.0, 1.0, 0.5], 'specifity_scores': [0.9756944444444444, 0.9895833333333334, 0.9791666666666666, 0.9965277777777778, 0.9895833333333334, 0.9930555555555556, 0.9895833333333334, 0.9930555555555556, 0.9826388888888888, 0.9930555555555556], 'mean_precission_score': 0.6747619047619049, 'mean_recall_scores': 0.7722222222222223, 'mean_specifity_scores': 0.9881944444444445}}}\n",
      "                     mild-imbalance\\page-blocks0.dat  \\\n",
      "0  [[5.0, 7.0, 35.0, 1.4, 0.4, 0.657, 2.33, 14.0,...   \n",
      "1  [0, 0, 0, 0, 0, 0, 0, 0, 0, 0, 0, 0, 0, 0, 0, ...   \n",
      "\n",
      "                             mild-imbalance\\pima.dat  \\\n",
      "0  [[6.0, 148.0, 72.0, 35.0, 0.0, 33.6, 0.627, 50...   \n",
      "1  [1, 0, 1, 0, 1, 0, 1, 0, 0, 0, 1, 1, 0, 1, 1, ...   \n",
      "\n",
      "                         mild-imbalance\\segment0.dat  \\\n",
      "0  [[218.0, 178.0, 9.0, 0.11111111, 0.0, 0.833332...   \n",
      "1  [0, 0, 0, 0, 0, 0, 1, 0, 0, 0, 0, 0, 1, 0, 0, ...   \n",
      "\n",
      "                         mild-imbalance\\vehicle0.dat  \\\n",
      "0  [[108.0, 49.0, 109.0, 204.0, 61.0, 11.0, 212.0...   \n",
      "1  [0, 1, 0, 1, 0, 0, 0, 0, 0, 0, 1, 1, 1, 0, 0, ...   \n",
      "\n",
      "                         mild-imbalance\\vehicle1.dat  \\\n",
      "0  [[95.0, 48.0, 83.0, 178.0, 72.0, 10.0, 162.0, ...   \n",
      "1  [0, 0, 1, 0, 0, 0, 0, 0, 1, 0, 1, 0, 0, 0, 0, ...   \n",
      "\n",
      "                         mild-imbalance\\vehicle2.dat  \\\n",
      "0  [[95.0, 48.0, 83.0, 178.0, 72.0, 10.0, 162.0, ...   \n",
      "1  [0, 0, 0, 0, 1, 1, 1, 0, 0, 0, 0, 1, 0, 1, 0, ...   \n",
      "\n",
      "                         mild-imbalance\\vehicle3.dat  \\\n",
      "0  [[95.0, 48.0, 83.0, 178.0, 72.0, 10.0, 162.0, ...   \n",
      "1  [0, 0, 0, 0, 0, 0, 0, 0, 0, 0, 0, 0, 0, 1, 0, ...   \n",
      "\n",
      "                        mild-imbalance\\wisconsin.dat  \\\n",
      "0  [[5.0, 4.0, 4.0, 5.0, 7.0, 10.0, 3.0, 2.0, 1.0...   \n",
      "1  [0, 0, 1, 0, 0, 0, 0, 1, 1, 1, 0, 0, 1, 1, 0, ...   \n",
      "\n",
      "                           mild-imbalance\\yeast1.dat  \\\n",
      "0  [[0.58, 0.61, 0.47, 0.13, 0.5, 0.0, 0.48, 0.22...   \n",
      "1  [0, 0, 1, 0, 0, 0, 1, 0, 0, 1, 1, 0, 0, 0, 0, ...   \n",
      "\n",
      "                           mild-imbalance\\yeast3.dat  \\\n",
      "0  [[0.64, 0.62, 0.49, 0.15, 0.5, 0.0, 0.53, 0.22...   \n",
      "1  [0, 0, 0, 0, 0, 0, 0, 0, 0, 0, 0, 0, 0, 0, 0, ...   \n",
      "\n",
      "           high-imbalance\\abalone-17_vs_7-8-9-10.dat  \\\n",
      "0  [[77.0, 0.35, 0.265, 0.09, 0.2255, 0.0995, 0.0...   \n",
      "1  [0, 0, 0, 0, 0, 0, 0, 0, 0, 0, 0, 0, 0, 0, 0, ...   \n",
      "\n",
      "                        high-imbalance\\abalone19.dat  \\\n",
      "0  [[77.0, 0.35, 0.265, 0.09, 0.2255, 0.0995, 0.0...   \n",
      "1  [0, 0, 0, 0, 0, 0, 0, 0, 1, 0, 0, 0, 0, 0, 0, ...   \n",
      "\n",
      "          high-imbalance\\kr-vs-k-three_vs_eleven.dat  \\\n",
      "0  [[97.0, 1.0, 97.0, 3.0, 100.0, 1.0], [97.0, 1....   \n",
      "1  [0, 0, 0, 0, 0, 0, 0, 0, 0, 0, 0, 0, 0, 0, 0, ...   \n",
      "\n",
      "         high-imbalance\\kr-vs-k-zero-one_vs_draw.dat  \\\n",
      "0  [[99.0, 1.0, 97.0, 3.0, 97.0, 1.0], [99.0, 1.0...   \n",
      "1  [1, 1, 1, 1, 1, 1, 1, 1, 1, 1, 1, 1, 1, 1, 1, ...   \n",
      "\n",
      "                   high-imbalance\\shuttle-2_vs_5.dat  \\\n",
      "0  [[85.0, 0.0, 88.0, -4.0, 6.0, 1.0, 3.0, 83.0, ...   \n",
      "1  [0, 0, 0, 0, 0, 0, 0, 0, 0, 0, 0, 1, 0, 0, 0, ...   \n",
      "\n",
      "                 high-imbalance\\shuttle-c0-vs-c4.dat  \\\n",
      "0  [[49.0, 0.0, 79.0, 0.0, 46.0, -5.0, 30.0, 32.0...   \n",
      "1  [0, 0, 0, 0, 0, 0, 0, 0, 0, 0, 0, 0, 0, 0, 0, ...   \n",
      "\n",
      "         high-imbalance\\yeast-0-2-5-6_vs_3-7-8-9.dat  \\\n",
      "0  [[0.58, 0.61, 0.47, 0.13, 0.5, 0.0, 0.48, 0.22...   \n",
      "1  [0, 0, 0, 0, 0, 0, 0, 0, 0, 0, 0, 0, 0, 0, 0, ...   \n",
      "\n",
      "         high-imbalance\\yeast-0-2-5-7-9_vs_3-6-8.dat  \\\n",
      "0  [[0.58, 0.61, 0.47, 0.13, 0.5, 0.0, 0.48, 0.22...   \n",
      "1  [0, 0, 0, 0, 0, 0, 0, 0, 0, 0, 0, 0, 0, 0, 0, ...   \n",
      "\n",
      "                           high-imbalance\\yeast4.dat  \\\n",
      "0  [[0.58, 0.61, 0.47, 0.13, 0.5, 0.0, 0.48, 0.22...   \n",
      "1  [0, 0, 0, 0, 0, 0, 0, 0, 0, 0, 0, 0, 0, 0, 0, ...   \n",
      "\n",
      "                           high-imbalance\\yeast5.dat  \n",
      "0  [[0.58, 0.61, 0.47, 0.13, 0.5, 0.0, 0.48, 0.22...  \n",
      "1  [0, 0, 0, 0, 0, 0, 0, 0, 0, 0, 0, 0, 0, 0, 0, ...  \n"
     ]
    }
   ],
   "source": [
    "# To sobie kopujemy i mamy zapisane rezultaty, w tym miejscu można też odczytać te rezultaty żeby bez wykonywana na swoim kompie eksperymentów mieć dostęp do przeliczonych już danych\n",
    "print(results)\n",
    "#results = {'abalone-17_vs_7-8-9-10.dat': {'KMeansSMOTE': {'precission_scores': [0.17647058823529413, 0.21428571428571427, 0.19230769230769232, 0.3181818181818182, 0.3, 0.26666666666666666, 0.3125, 0.25, 0.29411764705882354, 0.11764705882352941], 'recall_scores': [0.25, 0.25, 0.4166666666666667, 0.6363636363636364, 0.2727272727272727, 0.3333333333333333, 0.4166666666666667, 0.3333333333333333, 0.45454545454545453, 0.18181818181818182], 'specifity_scores': [0.9692982456140351, 0.9758771929824561, 0.9539473684210527, 0.9671052631578947, 0.9846491228070176, 0.9758771929824561, 0.9758771929824561, 0.9736842105263158, 0.9736842105263158, 0.9671052631578947], 'mean_precission_score': 0.24421771855595384, 'mean_recall_scores': 0.35454545454545455, 'mean_specifity_scores': 0.9717105263157894}, 'MeansShiftSMOTE': {'precission_scores': [0.22727272727272727, 0.3, 0.2916666666666667, 0.25, 0.3076923076923077, 0.21428571428571427, 0.2916666666666667, 0.3333333333333333, 0.25, 0.16666666666666666], 'recall_scores': [0.4166666666666667, 0.5, 0.5833333333333334, 0.5454545454545454, 0.36363636363636365, 0.25, 0.5833333333333334, 0.5, 0.5454545454545454, 0.2727272727272727], 'specifity_scores': [0.9627192982456141, 0.9692982456140351, 0.9627192982456141, 0.9605263157894737, 0.9802631578947368, 0.9758771929824561, 0.9627192982456141, 0.9736842105263158, 0.9605263157894737, 0.9671052631578947], 'mean_precission_score': 0.26325840825840824, 'mean_recall_scores': 0.45606060606060617, 'mean_specifity_scores': 0.9675438596491229}, 'SMOTE': {'precission_scores': [0.3181818181818182, 0.25, 0.2, 0.30434782608695654, 0.4, 0.4, 0.3333333333333333, 0.3333333333333333, 0.25, 0.2], 'recall_scores': [0.5833333333333334, 0.4166666666666667, 0.3333333333333333, 0.6363636363636364, 0.36363636363636365, 0.3333333333333333, 0.5, 0.5, 0.5454545454545454, 0.36363636363636365], 'specifity_scores': [0.9671052631578947, 0.9671052631578947, 0.9649122807017544, 0.9649122807017544, 0.9868421052631579, 0.9868421052631579, 0.9736842105263158, 0.9736842105263158, 0.9605263157894737, 0.9649122807017544], 'mean_precission_score': 0.29891963109354414, 'mean_recall_scores': 0.45757575757575764, 'mean_specifity_scores': 0.9710526315789474}, 'ROS': {'precission_scores': [0.5, 0.4, 0.6666666666666666, 0.4, 0.3333333333333333, 0.0, 0.5, 0.5, 0.3333333333333333, 0.3333333333333333], 'recall_scores': [0.16666666666666666, 0.16666666666666666, 0.16666666666666666, 0.18181818181818182, 0.09090909090909091, 0.0, 0.08333333333333333, 0.16666666666666666, 0.18181818181818182, 0.18181818181818182], 'specifity_scores': [0.9956140350877193, 0.993421052631579, 0.9978070175438597, 0.993421052631579, 0.9956140350877193, 1.0, 0.9978070175438597, 0.9956140350877193, 0.9912280701754386, 0.9912280701754386], 'mean_precission_score': 0.39666666666666667, 'mean_recall_scores': 0.13863636363636367, 'mean_specifity_scores': 0.9951754385964913}, 'BorderlineSMOTE': {'precission_scores': [0.2727272727272727, 0.3333333333333333, 0.25, 0.35, 0.5714285714285714, 0.4444444444444444, 0.3333333333333333, 0.38461538461538464, 0.29411764705882354, 0.23529411764705882], 'recall_scores': [0.5, 0.4166666666666667, 0.3333333333333333, 0.6363636363636364, 0.36363636363636365, 0.3333333333333333, 0.4166666666666667, 0.4166666666666667, 0.45454545454545453, 0.36363636363636365], 'specifity_scores': [0.9649122807017544, 0.9780701754385965, 0.9736842105263158, 0.9714912280701754, 0.993421052631579, 0.9890350877192983, 0.9780701754385965, 0.9824561403508771, 0.9736842105263158, 0.9714912280701754], 'mean_precission_score': 0.3469294104588222, 'mean_recall_scores': 0.4234848484848485, 'mean_specifity_scores': 0.9776315789473683}}, 'abalone19.dat': {'KMeansSMOTE': {'precission_scores': [0.14285714285714285, 0.09090909090909091, 0.0, 0.0, 0.0, 0.0, 0.0, 0.2, 0.0, 0.0], 'recall_scores': [0.16666666666666666, 0.16666666666666666, 0.0, 0.0, 0.0, 0.0, 0.0, 0.14285714285714285, 0.0, 0.0], 'specifity_scores': [0.9927623642943305, 0.9879372738238842, 0.9963768115942029, 0.9891304347826086, 0.9951690821256038, 0.9891435464414958, 0.9891435464414958, 0.9951690821256038, 0.998792270531401, 0.9927536231884058], 'mean_precission_score': 0.04337662337662338, 'mean_recall_scores': 0.047619047619047616, 'mean_specifity_scores': 0.9926378035349034}, 'MeansShiftSMOTE': {'precission_scores': [0.037037037037037035, 0.1111111111111111, 0.0, 0.06451612903225806, 0.0, 0.0, 0.0, 0.09090909090909091, 0.10526315789473684, 0.0], 'recall_scores': [0.16666666666666666, 0.3333333333333333, 0.0, 0.2857142857142857, 0.0, 0.0, 0.0, 0.2857142857142857, 0.2857142857142857, 0.0], 'specifity_scores': [0.9686369119420989, 0.9806996381182147, 0.9879227053140096, 0.964975845410628, 0.9770531400966184, 0.9662243667068757, 0.9734620024125452, 0.9758454106280193, 0.9794685990338164, 0.9746376811594203], 'mean_precission_score': 0.040883652598423394, 'mean_recall_scores': 0.13571428571428573, 'mean_specifity_scores': 0.9748926300822246}, 'SMOTE': {'precission_scores': [0.05555555555555555, 0.09090909090909091, 0.0625, 0.0, 0.0, 0.0, 0.0, 0.16666666666666666, 0.11764705882352941, 0.0], 'recall_scores': [0.16666666666666666, 0.3333333333333333, 0.14285714285714285, 0.0, 0.0, 0.0, 0.0, 0.42857142857142855, 0.2857142857142857, 0.0], 'specifity_scores': [0.9794933655006032, 0.9758745476477684, 0.9818840579710145, 0.9806763285024155, 0.9818840579710145, 0.9806996381182147, 0.9746682750301568, 0.9818840579710145, 0.9818840579710145, 0.9746376811594203], 'mean_precission_score': 0.04932783719548426, 'mean_recall_scores': 0.13571428571428573, 'mean_specifity_scores': 0.9793586067842636}, 'ROS': {'precission_scores': [0.0, 0.0, 0.5, 0.0, 0.0, 0.0, 0.0, 0.0, 1.0, 0.0], 'recall_scores': [0.0, 0.0, 0.14285714285714285, 0.0, 0.0, 0.0, 0.0, 0.0, 0.14285714285714285, 0.0], 'specifity_scores': [1.0, 1.0, 0.998792270531401, 0.998792270531401, 1.0, 1.0, 1.0, 1.0, 1.0, 0.998792270531401], 'mean_precission_score': 0.15, 'mean_recall_scores': 0.02857142857142857, 'mean_specifity_scores': 0.9996376811594203}, 'BorderlineSMOTE': {'precission_scores': [0.0, 0.08333333333333333, 0.125, 0.0, 0.0, 0.0, 0.0, 0.0, 0.5, 0.0], 'recall_scores': [0.0, 0.16666666666666666, 0.14285714285714285, 0.0, 0.0, 0.0, 0.0, 0.0, 0.14285714285714285, 0.0], 'specifity_scores': [0.9939686369119421, 0.9867310012062727, 0.9915458937198067, 0.998792270531401, 0.998792270531401, 0.9975874547647768, 0.9891435464414958, 0.9951690821256038, 0.998792270531401, 0.9963768115942029], 'mean_precission_score': 0.07083333333333333, 'mean_recall_scores': 0.04523809523809524, 'mean_specifity_scores': 0.9946899238358304}}, 'kr-vs-k-three_vs_eleven.dat': {'KMeansSMOTE': {'precission_scores': [1.0, 1.0, 1.0, 1.0, 1.0, 1.0, 1.0, 1.0, 1.0, 1.0], 'recall_scores': [1.0, 1.0, 1.0, 1.0, 1.0, 1.0, 1.0, 1.0, 1.0, 0.8823529411764706], 'specifity_scores': [1.0, 1.0, 1.0, 1.0, 1.0, 1.0, 1.0, 1.0, 1.0, 1.0], 'mean_precission_score': 1.0, 'mean_recall_scores': 0.9882352941176471, 'mean_specifity_scores': 1.0}, 'MeansShiftSMOTE': {'precission_scores': [1.0, 1.0, 1.0, 1.0, 1.0, 1.0, 1.0, 1.0, 1.0, 1.0], 'recall_scores': [1.0, 1.0, 1.0, 1.0, 1.0, 1.0, 1.0, 1.0, 1.0, 0.8823529411764706], 'specifity_scores': [1.0, 1.0, 1.0, 1.0, 1.0, 1.0, 1.0, 1.0, 1.0, 1.0], 'mean_precission_score': 1.0, 'mean_recall_scores': 0.9882352941176471, 'mean_specifity_scores': 1.0}, 'SMOTE': {'precission_scores': [1.0, 1.0, 1.0, 1.0, 1.0, 1.0, 1.0, 1.0, 1.0, 1.0], 'recall_scores': [1.0, 1.0, 1.0, 1.0, 1.0, 1.0, 1.0, 1.0, 1.0, 0.8823529411764706], 'specifity_scores': [1.0, 1.0, 1.0, 1.0, 1.0, 1.0, 1.0, 1.0, 1.0, 1.0], 'mean_precission_score': 1.0, 'mean_recall_scores': 0.9882352941176471, 'mean_specifity_scores': 1.0}, 'ROS': {'precission_scores': [1.0, 1.0, 1.0, 1.0, 1.0, 1.0, 1.0, 1.0, 1.0, 1.0], 'recall_scores': [1.0, 1.0, 1.0, 1.0, 1.0, 1.0, 1.0, 1.0, 1.0, 0.8823529411764706], 'specifity_scores': [1.0, 1.0, 1.0, 1.0, 1.0, 1.0, 1.0, 1.0, 1.0, 1.0], 'mean_precission_score': 1.0, 'mean_recall_scores': 0.9882352941176471, 'mean_specifity_scores': 1.0}, 'BorderlineSMOTE': {'precission_scores': [1.0, 1.0, 1.0, 1.0, 1.0, 1.0, 1.0, 1.0, 1.0, 1.0], 'recall_scores': [1.0, 1.0, 1.0, 1.0, 1.0, 1.0, 1.0, 1.0, 1.0, 0.8823529411764706], 'specifity_scores': [1.0, 1.0, 1.0, 1.0, 1.0, 1.0, 1.0, 1.0, 1.0, 1.0], 'mean_precission_score': 1.0, 'mean_recall_scores': 0.9882352941176471, 'mean_specifity_scores': 1.0}}, 'kr-vs-k-zero-one_vs_draw.dat': {'KMeansSMOTE': {'precission_scores': [1.0, 0.9473684210526315, 0.9523809523809523, 0.9523809523809523, 1.0, 0.9523809523809523, 0.8947368421052632, 1.0, 1.0, 1.0], 'recall_scores': [0.9523809523809523, 0.8571428571428571, 0.9523809523809523, 0.9523809523809523, 0.9523809523809523, 0.9523809523809523, 0.8095238095238095, 0.9523809523809523, 0.9523809523809523, 0.8571428571428571], 'specifity_scores': [1.0, 0.998211091234347, 0.998211091234347, 0.998211091234347, 1.0, 0.9982142857142857, 0.9964221824686941, 1.0, 1.0, 1.0], 'mean_precission_score': 0.9699248120300752, 'mean_recall_scores': 0.919047619047619, 'mean_specifity_scores': 0.9989269741886021}, 'MeansShiftSMOTE': {'precission_scores': [1.0, 0.9473684210526315, 0.9523809523809523, 0.9545454545454546, 1.0, 0.9545454545454546, 0.8571428571428571, 1.0, 1.0, 1.0], 'recall_scores': [0.9523809523809523, 0.8571428571428571, 0.9523809523809523, 1.0, 0.9523809523809523, 1.0, 0.8571428571428571, 0.9523809523809523, 0.9523809523809523, 0.8571428571428571], 'specifity_scores': [1.0, 0.998211091234347, 0.998211091234347, 0.998211091234347, 1.0, 0.9982142857142857, 0.9946332737030411, 1.0, 1.0, 1.0], 'mean_precission_score': 0.966598313966735, 'mean_recall_scores': 0.9333333333333333, 'mean_specifity_scores': 0.9987480833120369}, 'SMOTE': {'precission_scores': [1.0, 0.9473684210526315, 0.9090909090909091, 0.9545454545454546, 1.0, 0.9523809523809523, 0.8571428571428571, 1.0, 1.0, 1.0], 'recall_scores': [0.9523809523809523, 0.8571428571428571, 0.9523809523809523, 1.0, 0.9523809523809523, 0.9523809523809523, 0.8571428571428571, 0.9523809523809523, 0.9523809523809523, 0.8571428571428571], 'specifity_scores': [1.0, 0.998211091234347, 0.9964221824686941, 0.998211091234347, 1.0, 0.9982142857142857, 0.9946332737030411, 1.0, 1.0, 1.0], 'mean_precission_score': 0.9620528594212804, 'mean_recall_scores': 0.9285714285714286, 'mean_specifity_scores': 0.9985691924354715}, 'ROS': {'precission_scores': [0.9130434782608695, 0.95, 0.9523809523809523, 0.9545454545454546, 1.0, 0.9545454545454546, 0.8571428571428571, 1.0, 1.0, 0.9473684210526315], 'recall_scores': [1.0, 0.9047619047619048, 0.9523809523809523, 1.0, 0.9523809523809523, 1.0, 0.8571428571428571, 0.9523809523809523, 0.9523809523809523, 0.8571428571428571], 'specifity_scores': [0.9964285714285714, 0.998211091234347, 0.998211091234347, 0.998211091234347, 1.0, 0.9982142857142857, 0.9946332737030411, 1.0, 1.0, 0.998211091234347], 'mean_precission_score': 0.9529026617928219, 'mean_recall_scores': 0.9428571428571428, 'mean_specifity_scores': 0.9982120495783287}, 'BorderlineSMOTE': {'precission_scores': [1.0, 0.9473684210526315, 0.9090909090909091, 0.9545454545454546, 0.9090909090909091, 0.9523809523809523, 0.8636363636363636, 1.0, 1.0, 1.0], 'recall_scores': [0.9047619047619048, 0.8571428571428571, 0.9523809523809523, 1.0, 0.9523809523809523, 0.9523809523809523, 0.9047619047619048, 0.9523809523809523, 0.9523809523809523, 0.8571428571428571], 'specifity_scores': [1.0, 0.998211091234347, 0.9964221824686941, 0.998211091234347, 0.9964221824686941, 0.9982142857142857, 0.9946332737030411, 1.0, 1.0, 1.0], 'mean_precission_score': 0.9536113009797219, 'mean_recall_scores': 0.9285714285714286, 'mean_specifity_scores': 0.998211410682341}}, 'shuttle-2_vs_5.dat': {'KMeansSMOTE': {'precission_scores': [1.0, 1.0, 1.0, 1.0, 1.0, 1.0, 1.0, 1.0, 1.0, 1.0], 'recall_scores': [1.0, 1.0, 1.0, 1.0, 1.0, 1.0, 1.0, 1.0, 1.0, 1.0], 'specifity_scores': [1.0, 1.0, 1.0, 1.0, 1.0, 1.0, 1.0, 1.0, 1.0, 1.0], 'mean_precission_score': 1.0, 'mean_recall_scores': 1.0, 'mean_specifity_scores': 1.0}, 'MeansShiftSMOTE': {'precission_scores': [1.0, 1.0, 1.0, 1.0, 1.0, 1.0, 1.0, 1.0, 1.0, 1.0], 'recall_scores': [1.0, 1.0, 1.0, 1.0, 1.0, 1.0, 1.0, 1.0, 1.0, 1.0], 'specifity_scores': [1.0, 1.0, 1.0, 1.0, 1.0, 1.0, 1.0, 1.0, 1.0, 1.0], 'mean_precission_score': 1.0, 'mean_recall_scores': 1.0, 'mean_specifity_scores': 1.0}, 'SMOTE': {'precission_scores': [1.0, 1.0, 1.0, 1.0, 1.0, 1.0, 1.0, 1.0, 1.0, 1.0], 'recall_scores': [1.0, 1.0, 1.0, 1.0, 1.0, 1.0, 1.0, 1.0, 1.0, 1.0], 'specifity_scores': [1.0, 1.0, 1.0, 1.0, 1.0, 1.0, 1.0, 1.0, 1.0, 1.0], 'mean_precission_score': 1.0, 'mean_recall_scores': 1.0, 'mean_specifity_scores': 1.0}, 'ROS': {'precission_scores': [1.0, 1.0, 1.0, 1.0, 1.0, 1.0, 1.0, 1.0, 1.0, 1.0], 'recall_scores': [1.0, 1.0, 1.0, 1.0, 1.0, 1.0, 1.0, 1.0, 1.0, 1.0], 'specifity_scores': [1.0, 1.0, 1.0, 1.0, 1.0, 1.0, 1.0, 1.0, 1.0, 1.0], 'mean_precission_score': 1.0, 'mean_recall_scores': 1.0, 'mean_specifity_scores': 1.0}, 'BorderlineSMOTE': {'precission_scores': [1.0, 1.0, 1.0, 1.0, 1.0, 1.0, 1.0, 1.0, 1.0, 1.0], 'recall_scores': [1.0, 1.0, 1.0, 1.0, 1.0, 1.0, 1.0, 1.0, 1.0, 1.0], 'specifity_scores': [1.0, 1.0, 1.0, 1.0, 1.0, 1.0, 1.0, 1.0, 1.0, 1.0], 'mean_precission_score': 1.0, 'mean_recall_scores': 1.0, 'mean_specifity_scores': 1.0}}, 'shuttle-c0-vs-c4.dat': {'KMeansSMOTE': {'precission_scores': [1.0, 1.0, 1.0, 1.0, 1.0, 1.0, 1.0, 1.0, 1.0, 1.0], 'recall_scores': [1.0, 1.0, 1.0, 1.0, 1.0, 1.0, 1.0, 1.0, 1.0, 1.0], 'specifity_scores': [1.0, 1.0, 1.0, 1.0, 1.0, 1.0, 1.0, 1.0, 1.0, 1.0], 'mean_precission_score': 1.0, 'mean_recall_scores': 1.0, 'mean_specifity_scores': 1.0}, 'MeansShiftSMOTE': {'precission_scores': [1.0, 1.0, 1.0, 1.0, 1.0, 1.0, 1.0, 1.0, 1.0, 1.0], 'recall_scores': [1.0, 1.0, 1.0, 1.0, 1.0, 1.0, 1.0, 1.0, 1.0, 1.0], 'specifity_scores': [1.0, 1.0, 1.0, 1.0, 1.0, 1.0, 1.0, 1.0, 1.0, 1.0], 'mean_precission_score': 1.0, 'mean_recall_scores': 1.0, 'mean_specifity_scores': 1.0}, 'SMOTE': {'precission_scores': [1.0, 1.0, 1.0, 1.0, 1.0, 1.0, 1.0, 1.0, 1.0, 1.0], 'recall_scores': [1.0, 1.0, 1.0, 1.0, 1.0, 1.0, 1.0, 1.0, 1.0, 1.0], 'specifity_scores': [1.0, 1.0, 1.0, 1.0, 1.0, 1.0, 1.0, 1.0, 1.0, 1.0], 'mean_precission_score': 1.0, 'mean_recall_scores': 1.0, 'mean_specifity_scores': 1.0}, 'ROS': {'precission_scores': [1.0, 1.0, 1.0, 1.0, 1.0, 1.0, 1.0, 1.0, 1.0, 1.0], 'recall_scores': [1.0, 1.0, 1.0, 1.0, 1.0, 1.0, 1.0, 1.0, 1.0, 1.0], 'specifity_scores': [1.0, 1.0, 1.0, 1.0, 1.0, 1.0, 1.0, 1.0, 1.0, 1.0], 'mean_precission_score': 1.0, 'mean_recall_scores': 1.0, 'mean_specifity_scores': 1.0}, 'BorderlineSMOTE': {'precission_scores': [1.0, 1.0, 1.0, 1.0, 1.0, 1.0, 1.0, 1.0, 1.0, 1.0], 'recall_scores': [1.0, 1.0, 1.0, 1.0, 1.0, 1.0, 1.0, 1.0, 1.0, 1.0], 'specifity_scores': [1.0, 1.0, 1.0, 1.0, 1.0, 1.0, 1.0, 1.0, 1.0, 1.0], 'mean_precission_score': 1.0, 'mean_recall_scores': 1.0, 'mean_specifity_scores': 1.0}}, 'yeast-0-2-5-6_vs_3-7-8-9.dat': {'KMeansSMOTE': {'precission_scores': [0.5217391304347826, 0.8, 0.6666666666666666, 0.5909090909090909, 0.5789473684210527, 0.6428571428571429, 0.6666666666666666, 0.6666666666666666, 0.75, 0.6111111111111112], 'recall_scores': [0.6, 0.6, 0.5, 0.65, 0.5789473684210527, 0.45, 0.7, 0.7, 0.6, 0.5789473684210527], 'specifity_scores': [0.9392265193370166, 0.9834254143646409, 0.9723756906077348, 0.9502762430939227, 0.9558011049723757, 0.9723756906077348, 0.9613259668508287, 0.9613259668508287, 0.9779005524861878, 0.9613259668508287], 'mean_precission_score': 0.649556384373318, 'mean_recall_scores': 0.5957894736842105, 'mean_specifity_scores': 0.96353591160221}, 'MeansShiftSMOTE': {'precission_scores': [0.5454545454545454, 0.8, 0.6666666666666666, 0.6086956521739131, 0.6470588235294118, 0.75, 0.6666666666666666, 0.6086956521739131, 0.65, 0.55], 'recall_scores': [0.6, 0.6, 0.5, 0.7, 0.5789473684210527, 0.45, 0.6, 0.7, 0.65, 0.5789473684210527], 'specifity_scores': [0.9447513812154696, 0.9834254143646409, 0.9723756906077348, 0.9502762430939227, 0.9668508287292817, 0.9834254143646409, 0.9668508287292817, 0.9502762430939227, 0.9613259668508287, 0.9502762430939227], 'mean_precission_score': 0.6493238006665116, 'mean_recall_scores': 0.5957894736842105, 'mean_specifity_scores': 0.9629834254143648}, 'SMOTE': {'precission_scores': [0.5217391304347826, 0.7647058823529411, 0.6470588235294118, 0.5416666666666666, 0.6111111111111112, 0.5833333333333334, 0.7, 0.7368421052631579, 0.631578947368421, 0.5263157894736842], 'recall_scores': [0.6, 0.65, 0.55, 0.65, 0.5789473684210527, 0.35, 0.7, 0.7, 0.6, 0.5263157894736842], 'specifity_scores': [0.9392265193370166, 0.9779005524861878, 0.9668508287292817, 0.9392265193370166, 0.9613259668508287, 0.9723756906077348, 0.9668508287292817, 0.9723756906077348, 0.9613259668508287, 0.9502762430939227], 'mean_precission_score': 0.626435178953351, 'mean_recall_scores': 0.5905263157894736, 'mean_specifity_scores': 0.9607734806629834}, 'ROS': {'precission_scores': [0.6470588235294118, 0.9090909090909091, 0.75, 0.6666666666666666, 0.6923076923076923, 0.7777777777777778, 0.7333333333333333, 0.8125, 0.7058823529411765, 0.5789473684210527], 'recall_scores': [0.55, 0.5, 0.45, 0.6, 0.47368421052631576, 0.35, 0.55, 0.65, 0.6, 0.5789473684210527], 'specifity_scores': [0.9668508287292817, 0.994475138121547, 0.9834254143646409, 0.9668508287292817, 0.9779005524861878, 0.988950276243094, 0.9779005524861878, 0.9834254143646409, 0.9723756906077348, 0.9558011049723757], 'mean_precission_score': 0.7273564924068021, 'mean_recall_scores': 0.5302631578947368, 'mean_specifity_scores': 0.9767955801104972}, 'BorderlineSMOTE': {'precission_scores': [0.5454545454545454, 0.7647058823529411, 0.6428571428571429, 0.5454545454545454, 0.6, 0.7, 0.6111111111111112, 0.6, 0.6842105263157895, 0.5882352941176471], 'recall_scores': [0.6, 0.65, 0.45, 0.6, 0.47368421052631576, 0.35, 0.55, 0.6, 0.65, 0.5263157894736842], 'specifity_scores': [0.9447513812154696, 0.9779005524861878, 0.9723756906077348, 0.9447513812154696, 0.9668508287292817, 0.9834254143646409, 0.9613259668508287, 0.9558011049723757, 0.9668508287292817, 0.9613259668508287], 'mean_precission_score': 0.6282029047663722, 'mean_recall_scores': 0.545, 'mean_specifity_scores': 0.96353591160221}}, 'yeast-0-2-5-7-9_vs_3-6-8.dat': {'KMeansSMOTE': {'precission_scores': [0.8823529411764706, 0.9375, 0.75, 0.782608695652174, 0.7272727272727273, 0.75, 1.0, 0.7894736842105263, 0.782608695652174, 0.7272727272727273], 'recall_scores': [0.75, 0.75, 0.9, 0.9, 0.42105263157894735, 0.75, 0.9, 0.75, 0.9, 0.8421052631578947], 'specifity_scores': [0.988950276243094, 0.994475138121547, 0.9668508287292817, 0.9723756906077348, 0.9834254143646409, 0.9723756906077348, 1.0, 0.9779005524861878, 0.9723756906077348, 0.9668508287292817], 'mean_precission_score': 0.8129089471236799, 'mean_recall_scores': 0.7863157894736842, 'mean_specifity_scores': 0.9795580110497237}, 'MeansShiftSMOTE': {'precission_scores': [0.75, 0.8, 0.8181818181818182, 0.782608695652174, 0.8181818181818182, 0.75, 1.0, 0.8235294117647058, 0.7727272727272727, 0.7619047619047619], 'recall_scores': [0.75, 0.8, 0.9, 0.9, 0.47368421052631576, 0.75, 0.85, 0.7, 0.85, 0.8421052631578947], 'specifity_scores': [0.9723756906077348, 0.9779005524861878, 0.9779005524861878, 0.9723756906077348, 0.988950276243094, 0.9723756906077348, 1.0, 0.9834254143646409, 0.9723756906077348, 0.9723756906077348], 'mean_precission_score': 0.8077133778412551, 'mean_recall_scores': 0.7815789473684209, 'mean_specifity_scores': 0.9790055248618783}, 'SMOTE': {'precission_scores': [0.7142857142857143, 0.8333333333333334, 0.8571428571428571, 0.75, 0.9333333333333333, 0.75, 1.0, 0.7777777777777778, 0.8888888888888888, 0.7727272727272727], 'recall_scores': [0.75, 0.75, 0.9, 0.9, 0.7368421052631579, 0.75, 0.8, 0.7, 0.8, 0.8947368421052632], 'specifity_scores': [0.9668508287292817, 0.9834254143646409, 0.9834254143646409, 0.9668508287292817, 0.994475138121547, 0.9723756906077348, 1.0, 0.9779005524861878, 0.988950276243094, 0.9723756906077348], 'mean_precission_score': 0.8277489177489178, 'mean_recall_scores': 0.7981578947368421, 'mean_specifity_scores': 0.9806629834254142}, 'ROS': {'precission_scores': [0.8823529411764706, 0.9375, 0.8571428571428571, 0.8095238095238095, 0.9090909090909091, 0.8235294117647058, 1.0, 0.7894736842105263, 0.9444444444444444, 0.7619047619047619], 'recall_scores': [0.75, 0.75, 0.9, 0.85, 0.5263157894736842, 0.7, 0.8, 0.75, 0.85, 0.8421052631578947], 'specifity_scores': [0.988950276243094, 0.994475138121547, 0.9834254143646409, 0.9779005524861878, 0.994475138121547, 0.9834254143646409, 1.0, 0.9779005524861878, 0.994475138121547, 0.9723756906077348], 'mean_precission_score': 0.8714962819258485, 'mean_recall_scores': 0.7718421052631579, 'mean_specifity_scores': 0.9867403314917127}, 'BorderlineSMOTE': {'precission_scores': [0.8823529411764706, 0.8235294117647058, 0.8947368421052632, 0.8181818181818182, 0.8125, 0.7, 0.9473684210526315, 0.875, 0.75, 0.7619047619047619], 'recall_scores': [0.75, 0.7, 0.85, 0.9, 0.6842105263157895, 0.7, 0.9, 0.7, 0.75, 0.8421052631578947], 'specifity_scores': [0.988950276243094, 0.9834254143646409, 0.988950276243094, 0.9779005524861878, 0.9834254143646409, 0.9668508287292817, 0.994475138121547, 0.988950276243094, 0.9723756906077348, 0.9723756906077348], 'mean_precission_score': 0.826557419618565, 'mean_recall_scores': 0.7776315789473685, 'mean_specifity_scores': 0.9817679558011049}}, 'yeast4.dat': {'KMeansSMOTE': {'precission_scores': [0.5, 0.42857142857142855, 0.3157894736842105, 0.5454545454545454, 0.8, 0.5714285714285714, 1.0, 0.14285714285714285, 0.4444444444444444, 0.5], 'recall_scores': [0.3, 0.3, 0.6, 0.5454545454545454, 0.4, 0.4, 0.4, 0.1, 0.36363636363636365, 0.5], 'specifity_scores': [0.9895470383275261, 0.9860627177700348, 0.9547038327526133, 0.9825174825174825, 0.9965034965034965, 0.9895470383275261, 1.0, 0.9790940766550522, 0.9825174825174825, 0.9825174825174825], 'mean_precission_score': 0.5248545606440344, 'mean_recall_scores': 0.390909090909091, 'mean_specifity_scores': 0.9843010647888697}, 'MeansShiftSMOTE': {'precission_scores': [0.2727272727272727, 0.2222222222222222, 0.3, 0.42857142857142855, 0.4, 0.4, 0.6666666666666666, 0.09090909090909091, 0.4, 0.29411764705882354], 'recall_scores': [0.3, 0.2, 0.6, 0.5454545454545454, 0.6, 0.6, 0.4, 0.1, 0.36363636363636365, 0.5], 'specifity_scores': [0.9721254355400697, 0.975609756097561, 0.9512195121951219, 0.972027972027972, 0.9685314685314685, 0.9686411149825784, 0.9930313588850174, 0.9651567944250871, 0.9790209790209791, 0.958041958041958], 'mean_precission_score': 0.3475214328155504, 'mean_recall_scores': 0.4209090909090909, 'mean_specifity_scores': 0.9703406349747812}, 'SMOTE': {'precission_scores': [0.25, 0.4, 0.35294117647058826, 0.5, 0.38461538461538464, 0.3125, 0.5714285714285714, 0.0, 0.38461538461538464, 0.375], 'recall_scores': [0.3, 0.4, 0.6, 0.5454545454545454, 0.5, 0.5, 0.4, 0.0, 0.45454545454545453, 0.6], 'specifity_scores': [0.9686411149825784, 0.9790940766550522, 0.9616724738675958, 0.9790209790209791, 0.972027972027972, 0.9616724738675958, 0.9895470383275261, 0.9651567944250871, 0.972027972027972, 0.965034965034965], 'mean_precission_score': 0.3531100517129929, 'mean_recall_scores': 0.43, 'mean_specifity_scores': 0.9713895860237324}, 'ROS': {'precission_scores': [0.75, 0.6666666666666666, 0.5, 0.2, 1.0, 0.8, 1.0, 0.0, 0.6666666666666666, 0.5], 'recall_scores': [0.3, 0.2, 0.2, 0.09090909090909091, 0.3, 0.4, 0.1, 0.0, 0.18181818181818182, 0.5], 'specifity_scores': [0.9965156794425087, 0.9965156794425087, 0.9930313588850174, 0.986013986013986, 1.0, 0.9965156794425087, 1.0, 0.9895470383275261, 0.9965034965034965, 0.9825174825174825], 'mean_precission_score': 0.6083333333333333, 'mean_recall_scores': 0.22727272727272724, 'mean_specifity_scores': 0.9937160400575035}, 'BorderlineSMOTE': {'precission_scores': [0.2727272727272727, 0.2222222222222222, 0.21428571428571427, 0.3333333333333333, 0.4, 0.4, 0.5, 0.0, 0.4444444444444444, 0.35714285714285715], 'recall_scores': [0.3, 0.2, 0.3, 0.36363636363636365, 0.4, 0.6, 0.4, 0.0, 0.36363636363636365, 0.5], 'specifity_scores': [0.9721254355400697, 0.975609756097561, 0.9616724738675958, 0.972027972027972, 0.9790209790209791, 0.9686411149825784, 0.9860627177700348, 0.9721254355400697, 0.9825174825174825, 0.9685314685314685], 'mean_precission_score': 0.31441558441558437, 'mean_recall_scores': 0.3427272727272727, 'mean_specifity_scores': 0.9738334835895811}}, 'yeast5.dat': {'KMeansSMOTE': {'precission_scores': [0.5384615384615384, 0.6666666666666666, 0.5555555555555556, 1.0, 0.8571428571428571, 0.8571428571428571, 0.625, 0.8, 0.75, 0.7142857142857143], 'recall_scores': [0.7777777777777778, 0.6666666666666666, 0.5555555555555556, 0.8888888888888888, 0.75, 0.6666666666666666, 0.5555555555555556, 0.8888888888888888, 1.0, 0.625], 'specifity_scores': [0.9791666666666666, 0.9895833333333334, 0.9861111111111112, 1.0, 0.9965277777777778, 0.9965277777777778, 0.9895833333333334, 0.9930555555555556, 0.9895833333333334, 0.9930555555555556], 'mean_precission_score': 0.7364255189255189, 'mean_recall_scores': 0.7375, 'mean_specifity_scores': 0.9913194444444444}, 'MeansShiftSMOTE': {'precission_scores': [0.5, 0.7272727272727273, 0.5, 1.0, 0.7777777777777778, 0.75, 0.625, 0.75, 0.6428571428571429, 0.7142857142857143], 'recall_scores': [0.7777777777777778, 0.8888888888888888, 0.6666666666666666, 0.8888888888888888, 0.875, 0.6666666666666666, 0.5555555555555556, 1.0, 1.0, 0.625], 'specifity_scores': [0.9756944444444444, 0.9895833333333334, 0.9791666666666666, 1.0, 0.9930555555555556, 0.9930555555555556, 0.9895833333333334, 0.9895833333333334, 0.9826388888888888, 0.9930555555555556], 'mean_precission_score': 0.6987193362193362, 'mean_recall_scores': 0.7944444444444445, 'mean_specifity_scores': 0.9885416666666667}, 'SMOTE': {'precission_scores': [0.5, 0.6, 0.5454545454545454, 0.8888888888888888, 0.8, 0.8, 0.6, 0.8181818181818182, 0.6428571428571429, 0.7142857142857143], 'recall_scores': [0.8888888888888888, 0.6666666666666666, 0.6666666666666666, 0.8888888888888888, 1.0, 0.8888888888888888, 0.6666666666666666, 1.0, 1.0, 0.625], 'specifity_scores': [0.9722222222222222, 0.9861111111111112, 0.9826388888888888, 0.9965277777777778, 0.9930555555555556, 0.9930555555555556, 0.9861111111111112, 0.9930555555555556, 0.9826388888888888, 0.9930555555555556], 'mean_precission_score': 0.6909668109668111, 'mean_recall_scores': 0.8291666666666666, 'mean_specifity_scores': 0.9878472222222221}, 'ROS': {'precission_scores': [0.6363636363636364, 0.75, 0.5714285714285714, 1.0, 0.875, 0.8571428571428571, 0.6, 0.8181818181818182, 0.6666666666666666, 0.6666666666666666], 'recall_scores': [0.7777777777777778, 0.6666666666666666, 0.4444444444444444, 0.8888888888888888, 0.875, 0.6666666666666666, 0.3333333333333333, 1.0, 0.8888888888888888, 0.5], 'specifity_scores': [0.9861111111111112, 0.9930555555555556, 0.9895833333333334, 1.0, 0.9965277777777778, 0.9965277777777778, 0.9930555555555556, 0.9930555555555556, 0.9861111111111112, 0.9930555555555556], 'mean_precission_score': 0.7441450216450217, 'mean_recall_scores': 0.7041666666666666, 'mean_specifity_scores': 0.9927083333333334}, 'BorderlineSMOTE': {'precission_scores': [0.5, 0.6666666666666666, 0.45454545454545453, 0.8888888888888888, 0.7272727272727273, 0.7272727272727273, 0.5714285714285714, 0.75, 0.6428571428571429, 0.75], 'recall_scores': [0.8888888888888888, 0.6666666666666666, 0.5555555555555556, 0.8888888888888888, 1.0, 0.8888888888888888, 0.4444444444444444, 1.0, 1.0, 0.75], 'specifity_scores': [0.9722222222222222, 0.9895833333333334, 0.9791666666666666, 0.9965277777777778, 0.9895833333333334, 0.9895833333333334, 0.9895833333333334, 0.9895833333333334, 0.9826388888888888, 0.9930555555555556], 'mean_precission_score': 0.667893217893218, 'mean_recall_scores': 0.8083333333333332, 'mean_specifity_scores': 0.9871527777777779}}}\n",
    "print(oversampled_datasets)\n",
    "#oversampled_datasets = {}"
   ]
  },
  {
   "cell_type": "code",
   "execution_count": 19,
   "id": "a81cad2e",
   "metadata": {},
   "outputs": [
    {
     "name": "stdout",
     "output_type": "stream",
     "text": [
      "-----dataset: mild-imbalance\\page-blocks0.dat-----\n",
      "Stats:\n",
      "\n",
      "Num of probes with label 0 before oversampling:\n",
      " 4913 \n",
      "\n",
      "Num of probes with label 1 before oversampling:\n",
      " 559 \n",
      "\n",
      "Num of probes with label 0 after oversampling:\n",
      " 3931 \n",
      "\n",
      "Num of probes with label 1 after oversampling:\n",
      " 3931 \n",
      "\n",
      "-----dataset: mild-imbalance\\pima.dat-----\n",
      "Stats:\n",
      "\n",
      "Num of probes with label 0 before oversampling:\n",
      " 500 \n",
      "\n",
      "Num of probes with label 1 before oversampling:\n",
      " 268 \n",
      "\n",
      "Num of probes with label 0 after oversampling:\n",
      " 400 \n",
      "\n",
      "Num of probes with label 1 after oversampling:\n",
      " 400 \n",
      "\n",
      "-----dataset: mild-imbalance\\segment0.dat-----\n",
      "Stats:\n",
      "\n",
      "Num of probes with label 0 before oversampling:\n",
      " 1979 \n",
      "\n",
      "Num of probes with label 1 before oversampling:\n",
      " 329 \n",
      "\n",
      "Num of probes with label 0 after oversampling:\n",
      " 1584 \n",
      "\n",
      "Num of probes with label 1 after oversampling:\n",
      " 1584 \n",
      "\n",
      "-----dataset: mild-imbalance\\vehicle0.dat-----\n",
      "Stats:\n",
      "\n",
      "Num of probes with label 0 before oversampling:\n",
      " 647 \n",
      "\n",
      "Num of probes with label 1 before oversampling:\n",
      " 199 \n",
      "\n",
      "Num of probes with label 0 after oversampling:\n",
      " 517 \n",
      "\n",
      "Num of probes with label 1 after oversampling:\n",
      " 517 \n",
      "\n",
      "-----dataset: mild-imbalance\\vehicle1.dat-----\n",
      "Stats:\n",
      "\n",
      "Num of probes with label 0 before oversampling:\n",
      " 629 \n",
      "\n",
      "Num of probes with label 1 before oversampling:\n",
      " 217 \n",
      "\n",
      "Num of probes with label 0 after oversampling:\n",
      " 504 \n",
      "\n",
      "Num of probes with label 1 after oversampling:\n",
      " 504 \n",
      "\n",
      "-----dataset: mild-imbalance\\vehicle2.dat-----\n",
      "Stats:\n",
      "\n",
      "Num of probes with label 0 before oversampling:\n",
      " 628 \n",
      "\n",
      "Num of probes with label 1 before oversampling:\n",
      " 218 \n",
      "\n",
      "Num of probes with label 0 after oversampling:\n",
      " 503 \n",
      "\n",
      "Num of probes with label 1 after oversampling:\n",
      " 503 \n",
      "\n",
      "-----dataset: mild-imbalance\\vehicle3.dat-----\n",
      "Stats:\n",
      "\n",
      "Num of probes with label 0 before oversampling:\n",
      " 634 \n",
      "\n",
      "Num of probes with label 1 before oversampling:\n",
      " 212 \n",
      "\n",
      "Num of probes with label 0 after oversampling:\n",
      " 508 \n",
      "\n",
      "Num of probes with label 1 after oversampling:\n",
      " 508 \n",
      "\n",
      "-----dataset: mild-imbalance\\wisconsin.dat-----\n",
      "Stats:\n",
      "\n",
      "Num of probes with label 0 before oversampling:\n",
      " 444 \n",
      "\n",
      "Num of probes with label 1 before oversampling:\n",
      " 239 \n",
      "\n",
      "Num of probes with label 0 after oversampling:\n",
      " 356 \n",
      "\n",
      "Num of probes with label 1 after oversampling:\n",
      " 356 \n",
      "\n",
      "-----dataset: mild-imbalance\\yeast1.dat-----\n",
      "Stats:\n",
      "\n",
      "Num of probes with label 0 before oversampling:\n",
      " 1055 \n",
      "\n",
      "Num of probes with label 1 before oversampling:\n",
      " 429 \n",
      "\n",
      "Num of probes with label 0 after oversampling:\n",
      " 844 \n",
      "\n",
      "Num of probes with label 1 after oversampling:\n",
      " 844 \n",
      "\n",
      "-----dataset: mild-imbalance\\yeast3.dat-----\n",
      "Stats:\n",
      "\n",
      "Num of probes with label 0 before oversampling:\n",
      " 1321 \n",
      "\n",
      "Num of probes with label 1 before oversampling:\n",
      " 163 \n",
      "\n",
      "Num of probes with label 0 after oversampling:\n",
      " 1057 \n",
      "\n",
      "Num of probes with label 1 after oversampling:\n",
      " 1057 \n",
      "\n",
      "-----dataset: high-imbalance\\abalone-17_vs_7-8-9-10.dat-----\n",
      "Stats:\n",
      "\n",
      "Num of probes with label 0 before oversampling:\n",
      " 2280 \n",
      "\n",
      "Num of probes with label 1 before oversampling:\n",
      " 58 \n",
      "\n",
      "Num of probes with label 0 after oversampling:\n",
      " 1824 \n",
      "\n",
      "Num of probes with label 1 after oversampling:\n",
      " 1824 \n",
      "\n",
      "-----dataset: high-imbalance\\abalone19.dat-----\n",
      "Stats:\n",
      "\n",
      "Num of probes with label 0 before oversampling:\n",
      " 4142 \n",
      "\n",
      "Num of probes with label 1 before oversampling:\n",
      " 32 \n",
      "\n",
      "Num of probes with label 0 after oversampling:\n",
      " 3314 \n",
      "\n",
      "Num of probes with label 1 after oversampling:\n",
      " 3314 \n",
      "\n",
      "-----dataset: high-imbalance\\kr-vs-k-three_vs_eleven.dat-----\n",
      "Stats:\n",
      "\n",
      "Num of probes with label 0 before oversampling:\n",
      " 2854 \n",
      "\n",
      "Num of probes with label 1 before oversampling:\n",
      " 81 \n",
      "\n",
      "Num of probes with label 0 after oversampling:\n",
      " 2284 \n",
      "\n",
      "Num of probes with label 1 after oversampling:\n",
      " 2284 \n",
      "\n",
      "-----dataset: high-imbalance\\kr-vs-k-zero-one_vs_draw.dat-----\n",
      "Stats:\n",
      "\n",
      "Num of probes with label 0 before oversampling:\n",
      " 2796 \n",
      "\n",
      "Num of probes with label 1 before oversampling:\n",
      " 105 \n",
      "\n",
      "Num of probes with label 0 after oversampling:\n",
      " 2237 \n",
      "\n",
      "Num of probes with label 1 after oversampling:\n",
      " 2237 \n",
      "\n",
      "-----dataset: high-imbalance\\shuttle-2_vs_5.dat-----\n",
      "Stats:\n",
      "\n",
      "Num of probes with label 0 before oversampling:\n",
      " 3267 \n",
      "\n",
      "Num of probes with label 1 before oversampling:\n",
      " 49 \n",
      "\n",
      "Num of probes with label 0 after oversampling:\n",
      " 2614 \n",
      "\n",
      "Num of probes with label 1 after oversampling:\n",
      " 2614 \n",
      "\n",
      "-----dataset: high-imbalance\\shuttle-c0-vs-c4.dat-----\n",
      "Stats:\n",
      "\n",
      "Num of probes with label 0 before oversampling:\n",
      " 1706 \n",
      "\n",
      "Num of probes with label 1 before oversampling:\n",
      " 123 \n",
      "\n",
      "Num of probes with label 0 after oversampling:\n",
      " 1365 \n",
      "\n",
      "Num of probes with label 1 after oversampling:\n",
      " 1365 \n",
      "\n",
      "-----dataset: high-imbalance\\yeast-0-2-5-6_vs_3-7-8-9.dat-----\n",
      "Stats:\n",
      "\n",
      "Num of probes with label 0 before oversampling:\n",
      " 905 \n",
      "\n",
      "Num of probes with label 1 before oversampling:\n",
      " 99 \n",
      "\n",
      "Num of probes with label 0 after oversampling:\n",
      " 724 \n",
      "\n",
      "Num of probes with label 1 after oversampling:\n",
      " 724 \n",
      "\n",
      "-----dataset: high-imbalance\\yeast-0-2-5-7-9_vs_3-6-8.dat-----\n",
      "Stats:\n",
      "\n",
      "Num of probes with label 0 before oversampling:\n",
      " 905 \n",
      "\n",
      "Num of probes with label 1 before oversampling:\n",
      " 99 \n",
      "\n",
      "Num of probes with label 0 after oversampling:\n",
      " 724 \n",
      "\n",
      "Num of probes with label 1 after oversampling:\n",
      " 724 \n",
      "\n",
      "-----dataset: high-imbalance\\yeast4.dat-----\n",
      "Stats:\n",
      "\n",
      "Num of probes with label 0 before oversampling:\n",
      " 1433 \n",
      "\n",
      "Num of probes with label 1 before oversampling:\n",
      " 51 \n",
      "\n",
      "Num of probes with label 0 after oversampling:\n",
      " 1147 \n",
      "\n",
      "Num of probes with label 1 after oversampling:\n",
      " 1147 \n",
      "\n",
      "-----dataset: high-imbalance\\yeast5.dat-----\n",
      "Stats:\n",
      "\n",
      "Num of probes with label 0 before oversampling:\n",
      " 1440 \n",
      "\n",
      "Num of probes with label 1 before oversampling:\n",
      " 44 \n",
      "\n",
      "Num of probes with label 0 after oversampling:\n",
      " 1152 \n",
      "\n",
      "Num of probes with label 1 after oversampling:\n",
      " 1152 \n",
      "\n"
     ]
    }
   ],
   "source": [
    "# Wizualizacja naszego modelu i sprawdzenie zbalansowania\n",
    "for dataset in oversampled_datasets:\n",
    "    visualize_X, visualize_y = load_dataset(dataset)\n",
    "    print('-----dataset: {}-----'.format(dataset))\n",
    "    print('Stats:\\n')\n",
    "    print('Num of probes with label 0 before oversampling:\\n {} \\n'.format(list(visualize_y).count(0)))\n",
    "    print('Num of probes with label 1 before oversampling:\\n {} \\n'.format(list(visualize_y).count(1)))\n",
    "    print('Num of probes with label 0 after oversampling:\\n {} \\n'.format(list(oversampled_datasets[dataset][1]).count(0)))\n",
    "    print('Num of probes with label 1 after oversampling:\\n {} \\n'.format(list(oversampled_datasets[dataset][1]).count(1)))"
   ]
  },
  {
   "cell_type": "markdown",
   "id": "a6e6e5c1",
   "metadata": {},
   "source": [
    "### Statistically significantly better preprocessings in given datasets with given metrics"
   ]
  },
  {
   "cell_type": "code",
   "execution_count": null,
   "id": "9eff543b",
   "metadata": {
    "scrolled": true
   },
   "outputs": [
    {
     "name": "stdout",
     "output_type": "stream",
     "text": [
      "Statistically significantly better precission_scores:\n",
      "  KMeansSMOTE    MeansShiftSMOTE    SMOTE    ROS    BorderlineSMOTE\n",
      "-------------  -----------------  -------  -----  -----------------\n",
      "            0                  0        0      0                  0\n",
      "            0                  0        0      0                  0\n",
      "            1                  0        0      0                  0\n",
      "            1                  1        0      0                  0\n",
      "            1                  1        1      0                  0\n",
      "\n",
      "\n",
      "\n",
      "Statistically significantly better recall_scores:\n",
      "  KMeansSMOTE    MeansShiftSMOTE    SMOTE    ROS    BorderlineSMOTE\n",
      "-------------  -----------------  -------  -----  -----------------\n",
      "            0                  0        0      1                  0\n",
      "            1                  0        0      1                  0\n",
      "            1                  0        0      1                  0\n",
      "            0                  0        0      0                  0\n",
      "            0                  0        0      1                  0\n",
      "\n",
      "\n",
      "\n",
      "Statistically significantly better specifity_scores:\n",
      "  KMeansSMOTE    MeansShiftSMOTE    SMOTE    ROS    BorderlineSMOTE\n",
      "-------------  -----------------  -------  -----  -----------------\n",
      "            0                  0        0      0                  0\n",
      "            0                  0        0      0                  0\n",
      "            0                  0        0      0                  0\n",
      "            1                  1        1      0                  1\n",
      "            1                  1        1      0                  0\n",
      "\n",
      "\n",
      "\n",
      "Statistically significantly better precission_scores:\n",
      "  KMeansSMOTE    MeansShiftSMOTE    SMOTE    ROS    BorderlineSMOTE\n",
      "-------------  -----------------  -------  -----  -----------------\n",
      "            0                  0        0      0                  0\n",
      "            0                  0        0      0                  0\n",
      "            0                  0        0      0                  0\n",
      "            0                  0        0      0                  0\n",
      "            0                  0        0      0                  0\n",
      "\n",
      "\n",
      "\n",
      "Statistically significantly better recall_scores:\n",
      "  KMeansSMOTE    MeansShiftSMOTE    SMOTE    ROS    BorderlineSMOTE\n",
      "-------------  -----------------  -------  -----  -----------------\n",
      "            0                  0        0      0                  0\n",
      "            0                  0        0      0                  0\n",
      "            0                  0        0      0                  0\n",
      "            0                  0        0      0                  0\n",
      "            0                  0        0      0                  0\n",
      "\n",
      "\n",
      "\n",
      "Statistically significantly better specifity_scores:\n",
      "  KMeansSMOTE    MeansShiftSMOTE    SMOTE    ROS    BorderlineSMOTE\n",
      "-------------  -----------------  -------  -----  -----------------\n",
      "            0                  1        1      0                  0\n",
      "            0                  0        0      0                  0\n",
      "            0                  0        0      0                  0\n",
      "            1                  1        1      0                  1\n",
      "            0                  1        1      0                  0\n",
      "\n",
      "\n",
      "\n",
      "Statistically significantly better precission_scores:\n",
      "  KMeansSMOTE    MeansShiftSMOTE    SMOTE    ROS    BorderlineSMOTE\n",
      "-------------  -----------------  -------  -----  -----------------\n",
      "            0                  0        0      0                  0\n",
      "            0                  0        0      0                  0\n",
      "            0                  0        0      0                  0\n",
      "            0                  0        0      0                  0\n",
      "            0                  0        0      0                  0\n",
      "\n",
      "\n",
      "\n",
      "Statistically significantly better recall_scores:\n",
      "  KMeansSMOTE    MeansShiftSMOTE    SMOTE    ROS    BorderlineSMOTE\n",
      "-------------  -----------------  -------  -----  -----------------\n",
      "            0                  0        0      0                  0\n",
      "            0                  0        0      0                  0\n",
      "            0                  0        0      0                  0\n",
      "            0                  0        0      0                  0\n",
      "            0                  0        0      0                  0\n",
      "\n",
      "\n",
      "\n",
      "Statistically significantly better specifity_scores:\n",
      "  KMeansSMOTE    MeansShiftSMOTE    SMOTE    ROS    BorderlineSMOTE\n",
      "-------------  -----------------  -------  -----  -----------------\n",
      "            0                  0        0      0                  0\n",
      "            0                  0        0      0                  0\n",
      "            0                  0        0      0                  0\n",
      "            0                  0        0      0                  0\n",
      "            0                  0        0      0                  0\n",
      "\n",
      "\n",
      "\n",
      "Statistically significantly better precission_scores:\n",
      "  KMeansSMOTE    MeansShiftSMOTE    SMOTE    ROS    BorderlineSMOTE\n",
      "-------------  -----------------  -------  -----  -----------------\n",
      "            0                  0        0      0                  0\n",
      "            0                  0        0      0                  0\n",
      "            0                  0        0      0                  0\n",
      "            0                  0        0      0                  0\n",
      "            0                  0        0      0                  0\n",
      "\n",
      "\n",
      "\n",
      "Statistically significantly better recall_scores:\n",
      "  KMeansSMOTE    MeansShiftSMOTE    SMOTE    ROS    BorderlineSMOTE\n",
      "-------------  -----------------  -------  -----  -----------------\n",
      "            0                  0        0      0                  0\n",
      "            0                  0        0      0                  0\n",
      "            0                  0        0      0                  0\n",
      "            1                  0        0      0                  0\n",
      "            0                  0        0      0                  0\n",
      "\n",
      "\n",
      "\n",
      "Statistically significantly better specifity_scores:\n",
      "  KMeansSMOTE    MeansShiftSMOTE    SMOTE    ROS    BorderlineSMOTE\n",
      "-------------  -----------------  -------  -----  -----------------\n",
      "            0                  0        0      0                  0\n",
      "            0                  0        0      0                  0\n",
      "            0                  0        0      0                  0\n",
      "            0                  0        0      0                  0\n",
      "            0                  0        0      0                  0\n",
      "\n",
      "\n",
      "\n",
      "Statistically significantly better precission_scores:\n",
      "  KMeansSMOTE    MeansShiftSMOTE    SMOTE    ROS    BorderlineSMOTE\n",
      "-------------  -----------------  -------  -----  -----------------\n",
      "            0                  0        0      0                  0\n",
      "            0                  0        0      0                  0\n",
      "            0                  0        0      0                  0\n",
      "            0                  0        0      0                  0\n",
      "            0                  0        0      0                  0\n",
      "\n",
      "\n",
      "\n",
      "Statistically significantly better recall_scores:\n",
      "  KMeansSMOTE    MeansShiftSMOTE    SMOTE    ROS    BorderlineSMOTE\n",
      "-------------  -----------------  -------  -----  -----------------\n",
      "            0                  0        0      0                  0\n",
      "            0                  0        0      0                  0\n",
      "            0                  0        0      0                  0\n",
      "            0                  0        0      0                  0\n",
      "            0                  0        0      0                  0\n",
      "\n",
      "\n",
      "\n",
      "Statistically significantly better specifity_scores:\n",
      "  KMeansSMOTE    MeansShiftSMOTE    SMOTE    ROS    BorderlineSMOTE\n",
      "-------------  -----------------  -------  -----  -----------------\n",
      "            0                  0        0      0                  0\n",
      "            0                  0        0      0                  0\n",
      "            0                  0        0      0                  0\n",
      "            0                  0        0      0                  0\n",
      "            0                  0        0      0                  0\n",
      "\n",
      "\n",
      "\n",
      "Statistically significantly better precission_scores:\n",
      "  KMeansSMOTE    MeansShiftSMOTE    SMOTE    ROS    BorderlineSMOTE\n",
      "-------------  -----------------  -------  -----  -----------------\n",
      "            0                  0        0      0                  0\n",
      "            0                  0        0      0                  0\n",
      "            0                  0        0      0                  0\n",
      "            0                  0        0      0                  0\n",
      "            0                  0        0      0                  0\n",
      "\n",
      "\n",
      "\n",
      "Statistically significantly better recall_scores:\n",
      "  KMeansSMOTE    MeansShiftSMOTE    SMOTE    ROS    BorderlineSMOTE\n",
      "-------------  -----------------  -------  -----  -----------------\n",
      "            0                  0        0      0                  0\n",
      "            0                  0        0      0                  0\n",
      "            0                  0        0      0                  0\n",
      "            0                  0        0      0                  0\n",
      "            0                  0        0      0                  0\n",
      "\n",
      "\n",
      "\n",
      "Statistically significantly better specifity_scores:\n",
      "  KMeansSMOTE    MeansShiftSMOTE    SMOTE    ROS    BorderlineSMOTE\n",
      "-------------  -----------------  -------  -----  -----------------\n",
      "            0                  0        0      0                  0\n",
      "            0                  0        0      0                  0\n",
      "            0                  0        0      0                  0\n",
      "            0                  0        0      0                  0\n",
      "            0                  0        0      0                  0\n",
      "\n",
      "\n",
      "\n",
      "Statistically significantly better precission_scores:\n",
      "  KMeansSMOTE    MeansShiftSMOTE    SMOTE    ROS    BorderlineSMOTE\n",
      "-------------  -----------------  -------  -----  -----------------\n",
      "            0                  0        0      0                  0\n",
      "            0                  0        0      0                  0\n",
      "            0                  0        0      0                  0\n",
      "            1                  1        1      0                  1\n",
      "            0                  0        0      0                  0\n",
      "\n",
      "\n",
      "\n",
      "Statistically significantly better recall_scores:\n",
      "  KMeansSMOTE    MeansShiftSMOTE    SMOTE    ROS    BorderlineSMOTE\n",
      "-------------  -----------------  -------  -----  -----------------\n",
      "            0                  0        0      1                  1\n",
      "            0                  0        0      1                  1\n",
      "            0                  0        0      1                  0\n",
      "            0                  0        0      0                  0\n",
      "            0                  0        0      0                  0\n",
      "\n",
      "\n",
      "\n",
      "Statistically significantly better specifity_scores:\n",
      "  KMeansSMOTE    MeansShiftSMOTE    SMOTE    ROS    BorderlineSMOTE\n",
      "-------------  -----------------  -------  -----  -----------------\n",
      "            0                  0        0      0                  0\n",
      "            0                  0        0      0                  0\n",
      "            0                  0        0      0                  0\n",
      "            1                  1        1      0                  1\n",
      "            0                  0        0      0                  0\n",
      "\n",
      "\n",
      "\n",
      "Statistically significantly better precission_scores:\n",
      "  KMeansSMOTE    MeansShiftSMOTE    SMOTE    ROS    BorderlineSMOTE\n",
      "-------------  -----------------  -------  -----  -----------------\n",
      "            0                  0        0      0                  0\n",
      "            0                  0        0      0                  0\n",
      "            0                  0        0      0                  0\n",
      "            1                  1        1      0                  0\n",
      "            0                  0        0      0                  0\n",
      "\n",
      "\n",
      "\n",
      "Statistically significantly better recall_scores:\n",
      "  KMeansSMOTE    MeansShiftSMOTE    SMOTE    ROS    BorderlineSMOTE\n",
      "-------------  -----------------  -------  -----  -----------------\n",
      "            0                  0        0      0                  0\n",
      "            0                  0        0      0                  0\n",
      "            0                  0        0      0                  0\n",
      "            0                  0        0      0                  0\n",
      "            0                  0        0      0                  0\n",
      "\n",
      "\n",
      "\n",
      "Statistically significantly better specifity_scores:\n",
      "  KMeansSMOTE    MeansShiftSMOTE    SMOTE    ROS    BorderlineSMOTE\n",
      "-------------  -----------------  -------  -----  -----------------\n",
      "            0                  0        0      0                  0\n",
      "            0                  0        0      0                  0\n",
      "            0                  0        0      0                  0\n",
      "            1                  1        1      0                  0\n",
      "            0                  0        0      0                  0\n",
      "\n",
      "\n",
      "\n",
      "Statistically significantly better precission_scores:\n",
      "  KMeansSMOTE    MeansShiftSMOTE    SMOTE    ROS    BorderlineSMOTE\n",
      "-------------  -----------------  -------  -----  -----------------\n",
      "            0                  1        1      0                  1\n",
      "            0                  0        0      0                  0\n",
      "            0                  0        0      0                  0\n",
      "            0                  1        1      0                  1\n",
      "            0                  0        0      0                  0\n",
      "\n",
      "\n",
      "\n",
      "Statistically significantly better recall_scores:\n",
      "  KMeansSMOTE    MeansShiftSMOTE    SMOTE    ROS    BorderlineSMOTE\n",
      "-------------  -----------------  -------  -----  -----------------\n",
      "            0                  0        0      1                  0\n",
      "            0                  0        0      1                  0\n",
      "            0                  0        0      1                  0\n",
      "            0                  0        0      0                  0\n",
      "            0                  0        0      1                  0\n",
      "\n",
      "\n",
      "\n",
      "Statistically significantly better specifity_scores:\n",
      "  KMeansSMOTE    MeansShiftSMOTE    SMOTE    ROS    BorderlineSMOTE\n",
      "-------------  -----------------  -------  -----  -----------------\n",
      "            0                  1        1      0                  1\n",
      "            0                  0        0      0                  0\n",
      "            0                  0        0      0                  0\n",
      "            1                  1        1      0                  1\n",
      "            0                  0        0      0                  0\n",
      "\n",
      "\n",
      "\n",
      "Statistically significantly better precission_scores:\n",
      "  KMeansSMOTE    MeansShiftSMOTE    SMOTE    ROS    BorderlineSMOTE\n",
      "-------------  -----------------  -------  -----  -----------------\n",
      "            0                  0        1      0                  1\n",
      "            0                  0        0      0                  1\n",
      "            0                  0        0      0                  0\n",
      "            0                  0        1      0                  1\n",
      "            0                  0        0      0                  0\n",
      "\n",
      "\n",
      "\n",
      "Statistically significantly better recall_scores:\n",
      "  KMeansSMOTE    MeansShiftSMOTE    SMOTE    ROS    BorderlineSMOTE\n",
      "-------------  -----------------  -------  -----  -----------------\n",
      "            0                  0        0      0                  0\n",
      "            0                  0        0      1                  0\n",
      "            1                  0        0      1                  0\n",
      "            0                  0        0      0                  0\n",
      "            0                  0        0      1                  0\n",
      "\n",
      "\n",
      "\n",
      "Statistically significantly better specifity_scores:\n",
      "  KMeansSMOTE    MeansShiftSMOTE    SMOTE    ROS    BorderlineSMOTE\n",
      "-------------  -----------------  -------  -----  -----------------\n",
      "            0                  1        1      0                  1\n",
      "            0                  0        0      0                  1\n",
      "            0                  0        0      0                  0\n",
      "            0                  1        1      0                  1\n",
      "            0                  0        0      0                  0\n",
      "\n",
      "\n",
      "\n"
     ]
    }
   ],
   "source": [
    "from scipy.stats import ttest_rel, wilcoxon, shapiro\n",
    "from tabulate import tabulate\n",
    "\n",
    "alfa = .05\n",
    "methods = [\"KMeansSMOTE\", \"MeansShiftSMOTE\", \"SMOTE\", \"ROS\", \"BorderlineSMOTE\"]\n",
    "metrics = [\"precission_scores\",\"recall_scores\",\"specifity_scores\"]\n",
    "\n",
    "for directory in results:\n",
    "    for metric in metrics:\n",
    "        w_statistic = np.zeros((len(methods), len(methods)))\n",
    "        p_value = np.zeros((len(methods), len(methods)))\n",
    "        test_used = np.empty((len(methods), len(methods)), dtype=object)\n",
    "        for i, preprocessing_method in enumerate(methods):\n",
    "            for j, comparison_preprocessing_method in enumerate(methods):\n",
    "                metric_results_one = results[directory][preprocessing_method][metric]\n",
    "                metric_results_two = results[directory][comparison_preprocessing_method][metric]\n",
    "                tmp_p_val = 0\n",
    "                try:\n",
    "                    _, tmp_p_val = wilcoxon(metric_results_one, metric_results_two)\n",
    "                except: \n",
    "                    _, tmp_p_val = 0, 1\n",
    "                mean_metric_one = np.mean(metric_results_one)\n",
    "                mean_metric_two = np.mean(metric_results_two)\n",
    "                if  tmp_p_val <= alfa:\n",
    "                    if mean_metric_one - mean_metric_two > 0:\n",
    "                        w_statistic[i,j], p_value[i,j] = 1, 1\n",
    "                    else:\n",
    "                        w_statistic[i,j], p_value[i,j] = 0, 1\n",
    "                else:\n",
    "                    if mean_metric_one - mean_metric_two > 0:\n",
    "                        w_statistic[i,j], p_value[i,j] = 1, 0\n",
    "                    else:\n",
    "                        w_statistic[i,j], p_value[i,j] = 0, 0\n",
    "        stat_better = w_statistic * p_value\n",
    "        stat_better_table = tabulate(stat_better, methods)\n",
    "        print(f\"Statistically significantly better {metric}:\")\n",
    "        print(stat_better_table)\n",
    "        print()\n",
    "        print()\n",
    "        print()\n",
    "        "
   ]
  },
  {
   "cell_type": "markdown",
   "id": "3052da94",
   "metadata": {},
   "source": [
    "### Statistically significantly better preprocessings for all datasets"
   ]
  },
  {
   "cell_type": "code",
   "execution_count": null,
   "id": "2a4ed7c7",
   "metadata": {},
   "outputs": [
    {
     "name": "stdout",
     "output_type": "stream",
     "text": [
      "Metric: mean_precission_score\n",
      "Statistical significance (alpha = 0.05):\n",
      "                   KMeansSMOTE    MeansShiftSMOTE    SMOTE    ROS    BorderlineSMOTE\n",
      "---------------  -------------  -----------------  -------  -----  -----------------\n",
      "KMeansSMOTE                  0                  0        0      0                  0\n",
      "MeansShiftSMOTE              0                  0        0      0                  0\n",
      "SMOTE                        0                  0        0      0                  0\n",
      "ROS                          0                  1        1      0                  1\n",
      "BorderlineSMOTE              0                  0        0      0                  0\n",
      "\n",
      "\n",
      "Metric: mean_recall_scores\n",
      "Statistical significance (alpha = 0.05):\n",
      "                   KMeansSMOTE    MeansShiftSMOTE    SMOTE    ROS    BorderlineSMOTE\n",
      "---------------  -------------  -----------------  -------  -----  -----------------\n",
      "KMeansSMOTE                  0                  0        0      0                  0\n",
      "MeansShiftSMOTE              0                  0        0      1                  1\n",
      "SMOTE                        0                  0        0      1                  1\n",
      "ROS                          0                  0        0      0                  0\n",
      "BorderlineSMOTE              0                  0        0      0                  0\n",
      "\n",
      "\n",
      "Metric: mean_specifity_scores\n",
      "Statistical significance (alpha = 0.05):\n",
      "                   KMeansSMOTE    MeansShiftSMOTE    SMOTE    ROS    BorderlineSMOTE\n",
      "---------------  -------------  -----------------  -------  -----  -----------------\n",
      "KMeansSMOTE                  0                  1        1      0                  0\n",
      "MeansShiftSMOTE              0                  0        0      0                  0\n",
      "SMOTE                        0                  0        0      0                  0\n",
      "ROS                          0                  1        1      0                  0\n",
      "BorderlineSMOTE              0                  0        0      0                  0\n",
      "\n",
      "\n"
     ]
    }
   ],
   "source": [
    "from scipy.stats import rankdata, ranksums\n",
    "\n",
    "methods = [\"KMeansSMOTE\", \"MeansShiftSMOTE\", \"SMOTE\", \"ROS\", \"BorderlineSMOTE\"]\n",
    "metrics = [\"mean_precission_score\", \"mean_recall_scores\", \"mean_specifity_scores\"]\n",
    "for metric in metrics:\n",
    "    mean = []\n",
    "    for directory in results:\n",
    "        preprocessing_mean = []\n",
    "        for i, preprocessing_method in enumerate(methods):\n",
    "            preprocessing_mean.append(results[directory][preprocessing_method][metric])\n",
    "        mean.append(preprocessing_mean)\n",
    "\n",
    "    ranks = []\n",
    "    for mean_score in mean:\n",
    "        ranks.append(rankdata(mean_score).tolist())\n",
    "    ranks = np.array(ranks)\n",
    "\n",
    "    alfa = .05\n",
    "    w_statistic = np.zeros((len(methods), len(methods)))\n",
    "    p_value = np.zeros((len(methods), len(methods)))\n",
    "    for i in range(len(methods)):\n",
    "        for j in range(len(methods)):\n",
    "            w_statistic[i, j], p_value[i, j] = ranksums(ranks.T[i], ranks.T[j])\n",
    "    names_column = np.expand_dims(np.array(list(methods)), axis=1)\n",
    "    w_statistic_table = np.concatenate((names_column, w_statistic), axis=1)\n",
    "    w_statistic_table = tabulate(w_statistic_table, methods, floatfmt=\".2f\")\n",
    "    p_value_table = np.concatenate((names_column, p_value), axis=1)\n",
    "    p_value_table = tabulate(p_value_table, methods, floatfmt=\".2f\")\n",
    "    advantage = np.zeros((len(methods), len(methods)))\n",
    "    advantage[w_statistic > 0] = 1\n",
    "    advantage_table = tabulate(np.concatenate(\n",
    "    (names_column, advantage), axis=1), methods)\n",
    "    significance = np.zeros((len(methods), len(methods)))\n",
    "    significance[p_value <= alfa] = 1\n",
    "    statisticaly_better = advantage * significance\n",
    "    statisticaly_better_table = tabulate(np.concatenate(\n",
    "    (names_column, statisticaly_better), axis=1), methods)\n",
    "    print(f\"Metric: {metric}\")\n",
    "    print(\"Statistical significance (alpha = 0.05):\")\n",
    "    print(statisticaly_better_table)\n",
    "    print()\n",
    "    print()"
   ]
  },
  {
   "cell_type": "markdown",
   "id": "73242972",
   "metadata": {},
   "source": [
    "# Testy parowe\n",
    "## Cel testów parowych\n",
    "W poprzedniej części pracy wykonano ocenę klasyfikatorów za pomocą metryk i walidacji krzyżowej. W ten sposób uzyskano osobną ocenę dla przypadków klasyfikatorów gdzie różnicami były: zbiory uczące, różne modele uczenia maszynowego oraz główny cel pracy czyli różne metody balansowania danych (sprawdzić czy niema zmian). Uzyskane wyniki należy w tym momencie porównać aby ocenić czy wyniki uzyskane w przypadkach gdzie wykorzystano metodę SMOTE wykonywaną na klastrach powstałych z danych niezbalansowanych są lepsze od pozostałych metod oversamplingu. Aby ocenić tą zależność można uśrednić uzyskane metryki i ocenić czy średnio model wykorzystujący zaproponowaną metodę oversamplingu uzyskuje lepsze wyniki, jednak test taki nie może zostać uznany za prawidłowy ponieważ mógł wynikać z przypadku. W tym celu należy wziąć pod uwagę również parametr określający jak wyniki wchodzące w skład średniej są od niej oddalone (odchylenie standardowe zbiorów). W tym celu przez badaczy wykorzystywane są testy statystyczne takie jak test T- Studenta oraz test Wilcoxona. Poniżej opisane zostaną testy które mogą zostać wykorzystane w pracy.\n",
    "## Wkorzystane testy statystyczne \n",
    "Testy statystyczne wykorzystuje się dla różńych zbiorów danych aby ocenić czy różnica między nimi jest statystycznie istotna.\n",
    "W tej pracy celem jest porównanie metryk dla modeli wykorzystujących mechanizm balansowania danych opartych o metodę SMOTE działającą na pojedynczych klastrach danych wejściowych oraz innych popularnie wykorzystywanych narzędzi oversamplingu. W ten sposób dane można podzielić na pary: zaproponowana w pracy metoda i inna metoda oversamplingu. Taki sposób podziału danych determinuje wykorzystanie testów parowych.\n",
    "### Test T-Studenta\n",
    "Test T-Studenta to test parametryczny (opierający się o porównanie parametrów populacji takich jak odchylenie standardowe czy średnia )\n",
    "Warunkiem koniecznym do zastosowania testu T studenta jest założenie, że porównywane zbiory są normalne. Testowanie normalności zbiorów zostanie omówione w dalszej części pracy. Jeśli Testowanie normalności wykazało, że próbki nie są normalne wtedy można wykorzystać inne testy o mniejszej precyzji czyli testy nieparametryczne. Należy jednak napiętać, że jeśli to możliwe powinienny zostać przeprowadzone testy parametryczne takie jest test T studenta lub analiza wariancji.\\\n",
    "Testy statystyczne parametryczne : https://pogotowiestatystyczne.pl/slowniki/testy-parametryczne/#:~:text=Testy%20parametryczne%20to%20rodzaj%20test%C3%B3w,standardowe%20lub%20innych%20statystykach%20opisowych.\n",
    "### Test Wilcoxona\n",
    "Test Wilcoxona to test nieparametryczny wykonywany na bazie próbek populacji a nie na jej parametrach. Wykorzystuje on różnicę między próbkami w przypadkach wykorzystania dwóchróżnych hiperparametrów modelu. Różnica każdejz próbek zostaje zakwalifikowana do jednego ze zbiorów $T_{-}$ gdy różnica jest ujemna lub $T_{+}$ gdy jest dodatnia. W ten sposób uzyskano dwa zbiory. Wszystkim różnicom w tym momencie usuwany zostaje znak a przyznana zostaje  $ranga$(tu można walnąć dokładniejszy opis ale teraz trochę małoczasu) a następnie sumowane są wszystkie ranki w zbiorach $T_{-}$ i $T_{+}$. Pod uwagę bierze się mniejszą sumę rang oraz sprawdzana jest ona w tablicy wartości sum wag Wilxocona.\n",
    "### Test założenia Normalności\n",
    "Aby ocenić czy próbki pewnej populacji mają określony rozkład można wykorzystać Test Kołmogorowa-Smirnowa. Aby określić czy wyniki badań możemy ocenić za pomocą testu T studenta trzeba spełnić założenie normalności a więc określić czy próbki mogą pochodzić z wałsciwości o charakterze rozkładu normalngo. W tym celu test Kołmogorowa-Smirnowa należy wykonać dla uzyskanych wcześniej wyników i rozkładu normalnego.\n",
    "\n",
    "biblio: https://www.scirp.org/html/6-1241391_107034.htm\n",
    "https://onlinelibrary.wiley.com/doi/full/10.1002/9781118445112.stat06558\n",
    "\n",
    "Do wykonania oceny założenia normalności wykorzystana zostanie funkcja kstest pochodząca z pakiety scipy \\\n",
    "Tutaj jak to robić: https://medium.com/@ricardojaviermartnezsustegui/kolmog%C3%B3rov-smirnov-test-in-python-step-by-step-1b7532021bd2\n",
    "\n",
    "a jest jeszcze coś takiego\n",
    "scipy.stats.normaltest"
   ]
  }
 ],
 "metadata": {
  "kernelspec": {
   "display_name": "Python 3 (ipykernel)",
   "language": "python",
   "name": "python3"
  },
  "language_info": {
   "codemirror_mode": {
    "name": "ipython",
    "version": 3
   },
   "file_extension": ".py",
   "mimetype": "text/x-python",
   "name": "python",
   "nbconvert_exporter": "python",
   "pygments_lexer": "ipython3",
   "version": "3.12.2"
  }
 },
 "nbformat": 4,
 "nbformat_minor": 5
}
