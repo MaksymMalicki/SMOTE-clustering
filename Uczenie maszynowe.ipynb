{
 "cells": [
  {
   "cell_type": "markdown",
   "id": "93e33f37",
   "metadata": {},
   "source": [
    "### Exploring the impact of clustering on the quality of SMOTE preprocessing. Comparative analysis\n",
    "##### Maksym Malicki, Jacek Glapiński\n",
    "###### Wrocław University of Technology\n",
    "In this notebook we present a comparative analysis of the impact of clustering using various methods on the quality of SMOTE preprocessing."
   ]
  },
  {
   "cell_type": "markdown",
   "id": "dfb8f403",
   "metadata": {},
   "source": [
    "#### load_dataset()\n",
    "This method allows us to load datasets listed in the paper."
   ]
  },
  {
   "cell_type": "code",
   "execution_count": 1,
   "id": "0ca3bf0c",
   "metadata": {},
   "outputs": [],
   "source": [
    "import numpy as np\n",
    "\n",
    "def load_dataset(file_path):\n",
    "    data = []\n",
    "    labels = []\n",
    "\n",
    "    with open(file_path, 'r') as f:\n",
    "        for line in f:\n",
    "            if line.startswith('@'):\n",
    "                continue\n",
    "            line_data = line.strip().split(',')\n",
    "            sample_class = line_data[-1].strip().lower().replace(\" \", \"\")\n",
    "            label = 1 if sample_class == 'positive' else 0\n",
    "            converted_data = []\n",
    "            for x in line_data[:-1]:\n",
    "                try:\n",
    "                    converted_data.append(float(x))\n",
    "                except ValueError:\n",
    "                    converted_data.append(ord(x))\n",
    "            data.append(converted_data)\n",
    "            labels.append(label)\n",
    "    X = np.array(data)\n",
    "    y = np.array(labels)\n",
    "\n",
    "    return X, y"
   ]
  },
  {
   "cell_type": "markdown",
   "id": "7a0390b2",
   "metadata": {},
   "source": [
    "#### Implementacja SMOTE_Medium i testy"
   ]
  },
  {
   "cell_type": "code",
   "execution_count": 2,
   "id": "cd656d85",
   "metadata": {},
   "outputs": [],
   "source": [
    "#https://medium.com/@corymaklin/synthetic-minority-over-sampling-technique-smote-7d419696b88c\n",
    "\n",
    "from random import randrange, uniform\n",
    "from sklearn.neighbors import NearestNeighbors\n",
    "import numpy as np\n",
    "import pandas as pd\n",
    "from sklearn.ensemble import RandomForestClassifier\n",
    "from sklearn.model_selection import train_test_split\n",
    "from sklearn.metrics import confusion_matrix, recall_score\n",
    "\n",
    "def SMOTE_ByMedium(sample: np.array, N: int, k: int) -> np.array:\n",
    "    \n",
    "    T, num_attrs = sample.shape\n",
    "    \n",
    "    # If N is less than 100%, randomize the minority class samples as only a random percent of them will be SMOTEd\n",
    "    if N < 100:\n",
    "        T = round(N / 100 * T)\n",
    "        N = 100\n",
    "    # The amount of SMOTE is assumed to be in integral multiples of 100\n",
    "    N = int(N / 100)\n",
    "\n",
    "    synthetic = np.zeros([T * N, num_attrs])\n",
    "    new_index = 0\n",
    "    nbrs = NearestNeighbors(n_neighbors=k+1).fit(sample.values)\n",
    "    def populate(N, i, nnarray):\n",
    "        \n",
    "        nonlocal new_index\n",
    "        nonlocal synthetic\n",
    "        nonlocal sample\n",
    "        while N != 0:\n",
    "            nn = randrange(1, k+1)\n",
    "            for attr in range(num_attrs):\n",
    "                dif = sample.iloc[nnarray[nn]][attr] - sample.iloc[i][attr]\n",
    "                gap = uniform(0, 1)\n",
    "                synthetic[new_index][attr] = sample.iloc[i][attr] + gap * dif\n",
    "            new_index += 1\n",
    "            N = N - 1\n",
    "    \n",
    "    for i in range(T):\n",
    "        nnarray = nbrs.kneighbors(sample.iloc[i].values.reshape(1, -1), return_distance=False)[0]\n",
    "        populate(N, i, nnarray)\n",
    "    \n",
    "    return synthetic\n",
    "\n",
    "\n"
   ]
  },
  {
   "cell_type": "code",
   "execution_count": 3,
   "id": "4ea566d3",
   "metadata": {},
   "outputs": [
    {
     "name": "stdout",
     "output_type": "stream",
     "text": [
      "temp_Cluter shape:  (2, 29)\n",
      "temp_Cluter_y shape:  (29,)\n"
     ]
    },
    {
     "data": {
      "application/vnd.plotly.v1+json": {
       "config": {
        "plotlyServerURL": "https://plot.ly"
       },
       "data": [
        {
         "hovertemplate": "x=%{x}<br>y=%{y}<extra></extra>",
         "legendgroup": "",
         "marker": {
          "color": "#636efa",
          "symbol": "circle"
         },
         "mode": "markers",
         "name": "",
         "orientation": "v",
         "showlegend": false,
         "type": "scatter",
         "x": [
          1,
          3,
          2,
          4,
          6,
          2,
          1,
          3,
          6,
          4,
          5,
          1,
          5,
          2,
          6,
          8,
          7,
          9,
          5,
          8,
          6,
          8,
          7,
          9,
          5,
          7,
          4,
          5,
          7
         ],
         "xaxis": "x",
         "y": [
          3,
          1,
          2,
          6,
          2,
          5,
          4,
          3,
          2,
          1,
          3,
          3,
          2,
          1,
          6,
          5,
          7,
          6,
          4,
          8,
          9,
          5,
          8,
          4,
          7,
          5,
          6,
          8,
          4
         ],
         "yaxis": "y"
        }
       ],
       "layout": {
        "legend": {
         "tracegroupgap": 0
        },
        "template": {
         "data": {
          "bar": [
           {
            "error_x": {
             "color": "#2a3f5f"
            },
            "error_y": {
             "color": "#2a3f5f"
            },
            "marker": {
             "line": {
              "color": "#E5ECF6",
              "width": 0.5
             },
             "pattern": {
              "fillmode": "overlay",
              "size": 10,
              "solidity": 0.2
             }
            },
            "type": "bar"
           }
          ],
          "barpolar": [
           {
            "marker": {
             "line": {
              "color": "#E5ECF6",
              "width": 0.5
             },
             "pattern": {
              "fillmode": "overlay",
              "size": 10,
              "solidity": 0.2
             }
            },
            "type": "barpolar"
           }
          ],
          "carpet": [
           {
            "aaxis": {
             "endlinecolor": "#2a3f5f",
             "gridcolor": "white",
             "linecolor": "white",
             "minorgridcolor": "white",
             "startlinecolor": "#2a3f5f"
            },
            "baxis": {
             "endlinecolor": "#2a3f5f",
             "gridcolor": "white",
             "linecolor": "white",
             "minorgridcolor": "white",
             "startlinecolor": "#2a3f5f"
            },
            "type": "carpet"
           }
          ],
          "choropleth": [
           {
            "colorbar": {
             "outlinewidth": 0,
             "ticks": ""
            },
            "type": "choropleth"
           }
          ],
          "contour": [
           {
            "colorbar": {
             "outlinewidth": 0,
             "ticks": ""
            },
            "colorscale": [
             [
              0,
              "#0d0887"
             ],
             [
              0.1111111111111111,
              "#46039f"
             ],
             [
              0.2222222222222222,
              "#7201a8"
             ],
             [
              0.3333333333333333,
              "#9c179e"
             ],
             [
              0.4444444444444444,
              "#bd3786"
             ],
             [
              0.5555555555555556,
              "#d8576b"
             ],
             [
              0.6666666666666666,
              "#ed7953"
             ],
             [
              0.7777777777777778,
              "#fb9f3a"
             ],
             [
              0.8888888888888888,
              "#fdca26"
             ],
             [
              1,
              "#f0f921"
             ]
            ],
            "type": "contour"
           }
          ],
          "contourcarpet": [
           {
            "colorbar": {
             "outlinewidth": 0,
             "ticks": ""
            },
            "type": "contourcarpet"
           }
          ],
          "heatmap": [
           {
            "colorbar": {
             "outlinewidth": 0,
             "ticks": ""
            },
            "colorscale": [
             [
              0,
              "#0d0887"
             ],
             [
              0.1111111111111111,
              "#46039f"
             ],
             [
              0.2222222222222222,
              "#7201a8"
             ],
             [
              0.3333333333333333,
              "#9c179e"
             ],
             [
              0.4444444444444444,
              "#bd3786"
             ],
             [
              0.5555555555555556,
              "#d8576b"
             ],
             [
              0.6666666666666666,
              "#ed7953"
             ],
             [
              0.7777777777777778,
              "#fb9f3a"
             ],
             [
              0.8888888888888888,
              "#fdca26"
             ],
             [
              1,
              "#f0f921"
             ]
            ],
            "type": "heatmap"
           }
          ],
          "heatmapgl": [
           {
            "colorbar": {
             "outlinewidth": 0,
             "ticks": ""
            },
            "colorscale": [
             [
              0,
              "#0d0887"
             ],
             [
              0.1111111111111111,
              "#46039f"
             ],
             [
              0.2222222222222222,
              "#7201a8"
             ],
             [
              0.3333333333333333,
              "#9c179e"
             ],
             [
              0.4444444444444444,
              "#bd3786"
             ],
             [
              0.5555555555555556,
              "#d8576b"
             ],
             [
              0.6666666666666666,
              "#ed7953"
             ],
             [
              0.7777777777777778,
              "#fb9f3a"
             ],
             [
              0.8888888888888888,
              "#fdca26"
             ],
             [
              1,
              "#f0f921"
             ]
            ],
            "type": "heatmapgl"
           }
          ],
          "histogram": [
           {
            "marker": {
             "pattern": {
              "fillmode": "overlay",
              "size": 10,
              "solidity": 0.2
             }
            },
            "type": "histogram"
           }
          ],
          "histogram2d": [
           {
            "colorbar": {
             "outlinewidth": 0,
             "ticks": ""
            },
            "colorscale": [
             [
              0,
              "#0d0887"
             ],
             [
              0.1111111111111111,
              "#46039f"
             ],
             [
              0.2222222222222222,
              "#7201a8"
             ],
             [
              0.3333333333333333,
              "#9c179e"
             ],
             [
              0.4444444444444444,
              "#bd3786"
             ],
             [
              0.5555555555555556,
              "#d8576b"
             ],
             [
              0.6666666666666666,
              "#ed7953"
             ],
             [
              0.7777777777777778,
              "#fb9f3a"
             ],
             [
              0.8888888888888888,
              "#fdca26"
             ],
             [
              1,
              "#f0f921"
             ]
            ],
            "type": "histogram2d"
           }
          ],
          "histogram2dcontour": [
           {
            "colorbar": {
             "outlinewidth": 0,
             "ticks": ""
            },
            "colorscale": [
             [
              0,
              "#0d0887"
             ],
             [
              0.1111111111111111,
              "#46039f"
             ],
             [
              0.2222222222222222,
              "#7201a8"
             ],
             [
              0.3333333333333333,
              "#9c179e"
             ],
             [
              0.4444444444444444,
              "#bd3786"
             ],
             [
              0.5555555555555556,
              "#d8576b"
             ],
             [
              0.6666666666666666,
              "#ed7953"
             ],
             [
              0.7777777777777778,
              "#fb9f3a"
             ],
             [
              0.8888888888888888,
              "#fdca26"
             ],
             [
              1,
              "#f0f921"
             ]
            ],
            "type": "histogram2dcontour"
           }
          ],
          "mesh3d": [
           {
            "colorbar": {
             "outlinewidth": 0,
             "ticks": ""
            },
            "type": "mesh3d"
           }
          ],
          "parcoords": [
           {
            "line": {
             "colorbar": {
              "outlinewidth": 0,
              "ticks": ""
             }
            },
            "type": "parcoords"
           }
          ],
          "pie": [
           {
            "automargin": true,
            "type": "pie"
           }
          ],
          "scatter": [
           {
            "fillpattern": {
             "fillmode": "overlay",
             "size": 10,
             "solidity": 0.2
            },
            "type": "scatter"
           }
          ],
          "scatter3d": [
           {
            "line": {
             "colorbar": {
              "outlinewidth": 0,
              "ticks": ""
             }
            },
            "marker": {
             "colorbar": {
              "outlinewidth": 0,
              "ticks": ""
             }
            },
            "type": "scatter3d"
           }
          ],
          "scattercarpet": [
           {
            "marker": {
             "colorbar": {
              "outlinewidth": 0,
              "ticks": ""
             }
            },
            "type": "scattercarpet"
           }
          ],
          "scattergeo": [
           {
            "marker": {
             "colorbar": {
              "outlinewidth": 0,
              "ticks": ""
             }
            },
            "type": "scattergeo"
           }
          ],
          "scattergl": [
           {
            "marker": {
             "colorbar": {
              "outlinewidth": 0,
              "ticks": ""
             }
            },
            "type": "scattergl"
           }
          ],
          "scattermapbox": [
           {
            "marker": {
             "colorbar": {
              "outlinewidth": 0,
              "ticks": ""
             }
            },
            "type": "scattermapbox"
           }
          ],
          "scatterpolar": [
           {
            "marker": {
             "colorbar": {
              "outlinewidth": 0,
              "ticks": ""
             }
            },
            "type": "scatterpolar"
           }
          ],
          "scatterpolargl": [
           {
            "marker": {
             "colorbar": {
              "outlinewidth": 0,
              "ticks": ""
             }
            },
            "type": "scatterpolargl"
           }
          ],
          "scatterternary": [
           {
            "marker": {
             "colorbar": {
              "outlinewidth": 0,
              "ticks": ""
             }
            },
            "type": "scatterternary"
           }
          ],
          "surface": [
           {
            "colorbar": {
             "outlinewidth": 0,
             "ticks": ""
            },
            "colorscale": [
             [
              0,
              "#0d0887"
             ],
             [
              0.1111111111111111,
              "#46039f"
             ],
             [
              0.2222222222222222,
              "#7201a8"
             ],
             [
              0.3333333333333333,
              "#9c179e"
             ],
             [
              0.4444444444444444,
              "#bd3786"
             ],
             [
              0.5555555555555556,
              "#d8576b"
             ],
             [
              0.6666666666666666,
              "#ed7953"
             ],
             [
              0.7777777777777778,
              "#fb9f3a"
             ],
             [
              0.8888888888888888,
              "#fdca26"
             ],
             [
              1,
              "#f0f921"
             ]
            ],
            "type": "surface"
           }
          ],
          "table": [
           {
            "cells": {
             "fill": {
              "color": "#EBF0F8"
             },
             "line": {
              "color": "white"
             }
            },
            "header": {
             "fill": {
              "color": "#C8D4E3"
             },
             "line": {
              "color": "white"
             }
            },
            "type": "table"
           }
          ]
         },
         "layout": {
          "annotationdefaults": {
           "arrowcolor": "#2a3f5f",
           "arrowhead": 0,
           "arrowwidth": 1
          },
          "autotypenumbers": "strict",
          "coloraxis": {
           "colorbar": {
            "outlinewidth": 0,
            "ticks": ""
           }
          },
          "colorscale": {
           "diverging": [
            [
             0,
             "#8e0152"
            ],
            [
             0.1,
             "#c51b7d"
            ],
            [
             0.2,
             "#de77ae"
            ],
            [
             0.3,
             "#f1b6da"
            ],
            [
             0.4,
             "#fde0ef"
            ],
            [
             0.5,
             "#f7f7f7"
            ],
            [
             0.6,
             "#e6f5d0"
            ],
            [
             0.7,
             "#b8e186"
            ],
            [
             0.8,
             "#7fbc41"
            ],
            [
             0.9,
             "#4d9221"
            ],
            [
             1,
             "#276419"
            ]
           ],
           "sequential": [
            [
             0,
             "#0d0887"
            ],
            [
             0.1111111111111111,
             "#46039f"
            ],
            [
             0.2222222222222222,
             "#7201a8"
            ],
            [
             0.3333333333333333,
             "#9c179e"
            ],
            [
             0.4444444444444444,
             "#bd3786"
            ],
            [
             0.5555555555555556,
             "#d8576b"
            ],
            [
             0.6666666666666666,
             "#ed7953"
            ],
            [
             0.7777777777777778,
             "#fb9f3a"
            ],
            [
             0.8888888888888888,
             "#fdca26"
            ],
            [
             1,
             "#f0f921"
            ]
           ],
           "sequentialminus": [
            [
             0,
             "#0d0887"
            ],
            [
             0.1111111111111111,
             "#46039f"
            ],
            [
             0.2222222222222222,
             "#7201a8"
            ],
            [
             0.3333333333333333,
             "#9c179e"
            ],
            [
             0.4444444444444444,
             "#bd3786"
            ],
            [
             0.5555555555555556,
             "#d8576b"
            ],
            [
             0.6666666666666666,
             "#ed7953"
            ],
            [
             0.7777777777777778,
             "#fb9f3a"
            ],
            [
             0.8888888888888888,
             "#fdca26"
            ],
            [
             1,
             "#f0f921"
            ]
           ]
          },
          "colorway": [
           "#636efa",
           "#EF553B",
           "#00cc96",
           "#ab63fa",
           "#FFA15A",
           "#19d3f3",
           "#FF6692",
           "#B6E880",
           "#FF97FF",
           "#FECB52"
          ],
          "font": {
           "color": "#2a3f5f"
          },
          "geo": {
           "bgcolor": "white",
           "lakecolor": "white",
           "landcolor": "#E5ECF6",
           "showlakes": true,
           "showland": true,
           "subunitcolor": "white"
          },
          "hoverlabel": {
           "align": "left"
          },
          "hovermode": "closest",
          "mapbox": {
           "style": "light"
          },
          "paper_bgcolor": "white",
          "plot_bgcolor": "#E5ECF6",
          "polar": {
           "angularaxis": {
            "gridcolor": "white",
            "linecolor": "white",
            "ticks": ""
           },
           "bgcolor": "#E5ECF6",
           "radialaxis": {
            "gridcolor": "white",
            "linecolor": "white",
            "ticks": ""
           }
          },
          "scene": {
           "xaxis": {
            "backgroundcolor": "#E5ECF6",
            "gridcolor": "white",
            "gridwidth": 2,
            "linecolor": "white",
            "showbackground": true,
            "ticks": "",
            "zerolinecolor": "white"
           },
           "yaxis": {
            "backgroundcolor": "#E5ECF6",
            "gridcolor": "white",
            "gridwidth": 2,
            "linecolor": "white",
            "showbackground": true,
            "ticks": "",
            "zerolinecolor": "white"
           },
           "zaxis": {
            "backgroundcolor": "#E5ECF6",
            "gridcolor": "white",
            "gridwidth": 2,
            "linecolor": "white",
            "showbackground": true,
            "ticks": "",
            "zerolinecolor": "white"
           }
          },
          "shapedefaults": {
           "line": {
            "color": "#2a3f5f"
           }
          },
          "ternary": {
           "aaxis": {
            "gridcolor": "white",
            "linecolor": "white",
            "ticks": ""
           },
           "baxis": {
            "gridcolor": "white",
            "linecolor": "white",
            "ticks": ""
           },
           "bgcolor": "#E5ECF6",
           "caxis": {
            "gridcolor": "white",
            "linecolor": "white",
            "ticks": ""
           }
          },
          "title": {
           "x": 0.05
          },
          "xaxis": {
           "automargin": true,
           "gridcolor": "white",
           "linecolor": "white",
           "ticks": "",
           "title": {
            "standoff": 15
           },
           "zerolinecolor": "white",
           "zerolinewidth": 2
          },
          "yaxis": {
           "automargin": true,
           "gridcolor": "white",
           "linecolor": "white",
           "ticks": "",
           "title": {
            "standoff": 15
           },
           "zerolinecolor": "white",
           "zerolinewidth": 2
          }
         }
        },
        "title": {
         "text": "Dane wejściowe"
        },
        "xaxis": {
         "anchor": "y",
         "domain": [
          0,
          1
         ],
         "title": {
          "text": "x"
         }
        },
        "yaxis": {
         "anchor": "x",
         "domain": [
          0,
          1
         ],
         "title": {
          "text": "y"
         }
        }
       }
      }
     },
     "metadata": {},
     "output_type": "display_data"
    }
   ],
   "source": [
    "#Smote test\n",
    "# tutaj jest tymczasowy test Smote żeby ogarnąć poprawne liczebności\n",
    "import plotly.express as px\n",
    "temp_Cluter = np.array([[1,3,2,4,6,2,1,3,6,4,5,1,5,2,6,8,7,9,5,8,6,8,7,9,5,7,4,5,7],\n",
    "                        [3,1,2,6,2,5,4,3,2,1,3,3,2,1,6,5,7,6,4,8,9,5,8,4,7,5,6,8,4]])\n",
    "temp_Cluter_y = np.array([0,0,0,0,0,0,0,0,0,0,0,0,0,0,0,0,0,1,1,1,1,1,1,1,1,1,1,1,1])\n",
    "print('temp_Cluter shape: ',temp_Cluter.shape)\n",
    "print('temp_Cluter_y shape: ',temp_Cluter_y.shape)\n",
    "fig = px.scatter(x=temp_Cluter[0],y=temp_Cluter[1],title=\"Dane wejściowe\")\n",
    "fig.show()"
   ]
  },
  {
   "cell_type": "markdown",
   "id": "fddc0860",
   "metadata": {},
   "source": [
    "Liczebność zbioru wejściowego:"
   ]
  },
  {
   "cell_type": "code",
   "execution_count": 4,
   "id": "c1b75fb4",
   "metadata": {},
   "outputs": [
    {
     "name": "stdout",
     "output_type": "stream",
     "text": [
      "Chcemy uzyskać 100 próbek wyjściowych\n",
      "Przewidujemy, że dosaniemy próbek wyjściowych:  99.76\n",
      "3.44\n",
      "3\n"
     ]
    }
   ],
   "source": [
    "import math\n",
    "# teraz określamy ile chcemy próbek dorobić:\n",
    "# chcemy mieć 100 próbek\n",
    "desired = 100\n",
    "print('Chcemy uzyskać 100 próbek wyjściowych')\n",
    "#obecnie mamy size próbek\n",
    "size  = temp_Cluter.shape[1]\n",
    "\n",
    "todoSamples = int(((desired/size)-1 )*100)\n",
    "print(\"Przewidujemy, że dosaniemy próbek wyjściowych: \", (todoSamples/100+1)*len(temp_Cluter_y))\n",
    "print((todoSamples/100+1))\n",
    "print(math.floor(todoSamples/100)+1)\n",
    "temp_out = SMOTE_ByMedium(pd.DataFrame(temp_Cluter.T), todoSamples, 5)"
   ]
  },
  {
   "cell_type": "code",
   "execution_count": 5,
   "id": "278da139",
   "metadata": {},
   "outputs": [
    {
     "name": "stdout",
     "output_type": "stream",
     "text": [
      "58\n",
      "29\n",
      "87\n"
     ]
    }
   ],
   "source": [
    "temp_out.T\n",
    "print(len(temp_out.T[0]))\n",
    "print(len(temp_Cluter[0]))\n",
    "print(len(temp_out.T[0])+len(temp_Cluter[0]))"
   ]
  },
  {
   "cell_type": "code",
   "execution_count": 6,
   "id": "49a27cd3",
   "metadata": {},
   "outputs": [
    {
     "name": "stdout",
     "output_type": "stream",
     "text": [
      "[[1, 3, 2, 4, 6, 2, 1, 3, 6, 4, 5, 1, 5, 2, 6, 8, 7, 9, 5, 8, 6, 8, 7, 9, 5, 7, 4, 5, 7, 1.763390352151361, 1.0, 2.7576566595513023, 3.0, 2.0, 1.3932287983119203, 4.273538011152861, 4.996161302081053, 6.0, 5.0277827910305914, 1.4023300298237733, 2.594676575199064, 1.0113452001503846, 1.0, 1.4686468178347762, 1.1455541390352495, 5.61992360580799, 5.908259250304028, 3.4321281422312016, 3.3051504318665126, 5.869017835675198, 5.748171121662953, 1.3355964749452394, 1.0, 5.633267015244032, 5.0, 3.4668444639656593, 2.6160632253503406, 5.451886800928544, 6.595752227633006, 8.142000208577963, 8.0, 6.068149398290849, 7.0, 8.247504326859831, 8.704738475558251, 5.0, 4.009250285981019, 7.417288146554462, 6.580870997227454, 6.418688442879938, 7.747445450031284, 8.434162286511917, 8.0, 7.0, 6.460123677678982, 7.305365473234287, 8.532642483658547, 5.905762317695949, 4.990482265247141, 7.140956112683903, 7.0, 4.7022393560659905, 3.2655534769997887, 5.794539690653256, 6.381281039460977, 7.181192513011489, 7.2676889244456975], [3, 1, 2, 6, 2, 5, 4, 3, 2, 1, 3, 3, 2, 1, 6, 5, 7, 6, 4, 8, 9, 5, 8, 4, 7, 5, 6, 8, 4, 2.2887302167760186, 3.0, 1.0, 2.486228676368146, 1.5883751670148705, 2.9891266500778326, 4.21203552272905, 6.0, 2.0, 2.3511031734859325, 4.043928705020125, 3.476693924474764, 4.747220208294682, 3.108365089079201, 3.0, 3.0, 2.0, 2.0, 1.0, 1.0, 2.1498801606266986, 2.8142725302746276, 3.054001867891786, 3.0, 2.0, 2.4686144299158252, 1.0, 2.1336205954701493, 6.316639866735893, 6.848330884245387, 5.893231130798602, 5.0, 7.0, 7.217426669629828, 6.954938793624832, 6.360640726927295, 2.0552174223237194, 5.191065408157054, 8.0, 6.1602932667976855, 8.398462153524317, 8.51277741769119, 4.28219253542605, 5.0, 7.705163241907499, 8.335683517254287, 4.887778432021535, 4.888772077445875, 7.0, 6.303772333343374, 5.0, 6.588732483973559, 6.0, 5.689623358363305, 8.230824128772289, 7.712207611001486, 4.029583492571739, 4.300645337938384]]\n"
     ]
    }
   ],
   "source": [
    "temp_Cluter_OUT = [[*temp_Cluter[0],*temp_out.T[0]],[*temp_Cluter[1],*temp_out.T[1]]]\n",
    "print(temp_Cluter_OUT)"
   ]
  },
  {
   "cell_type": "code",
   "execution_count": 7,
   "id": "43102747",
   "metadata": {},
   "outputs": [
    {
     "data": {
      "application/vnd.plotly.v1+json": {
       "config": {
        "plotlyServerURL": "https://plot.ly"
       },
       "data": [
        {
         "hovertemplate": "x=%{x}<br>y=%{y}<extra></extra>",
         "legendgroup": "",
         "marker": {
          "color": "#636efa",
          "symbol": "circle"
         },
         "mode": "markers",
         "name": "",
         "orientation": "v",
         "showlegend": false,
         "type": "scatter",
         "x": [
          1.763390352151361,
          1,
          2.7576566595513023,
          3,
          2,
          1.3932287983119203,
          4.273538011152861,
          4.996161302081053,
          6,
          5.0277827910305914,
          1.4023300298237733,
          2.594676575199064,
          1.0113452001503846,
          1,
          1.4686468178347762,
          1.1455541390352495,
          5.61992360580799,
          5.908259250304028,
          3.4321281422312016,
          3.3051504318665126,
          5.869017835675198,
          5.748171121662953,
          1.3355964749452394,
          1,
          5.633267015244032,
          5,
          3.4668444639656593,
          2.6160632253503406,
          5.451886800928544,
          6.595752227633006,
          8.142000208577963,
          8,
          6.068149398290849,
          7,
          8.247504326859831,
          8.704738475558251,
          5,
          4.009250285981019,
          7.417288146554462,
          6.580870997227454,
          6.418688442879938,
          7.747445450031284,
          8.434162286511917,
          8,
          7,
          6.460123677678982,
          7.305365473234287,
          8.532642483658547,
          5.905762317695949,
          4.990482265247141,
          7.140956112683903,
          7,
          4.7022393560659905,
          3.2655534769997887,
          5.794539690653256,
          6.381281039460977,
          7.181192513011489,
          7.2676889244456975
         ],
         "xaxis": "x",
         "y": [
          2.2887302167760186,
          3,
          1,
          2.486228676368146,
          1.5883751670148705,
          2.9891266500778326,
          4.21203552272905,
          6,
          2,
          2.3511031734859325,
          4.043928705020125,
          3.476693924474764,
          4.747220208294682,
          3.108365089079201,
          3,
          3,
          2,
          2,
          1,
          1,
          2.1498801606266986,
          2.8142725302746276,
          3.054001867891786,
          3,
          2,
          2.4686144299158252,
          1,
          2.1336205954701493,
          6.316639866735893,
          6.848330884245387,
          5.893231130798602,
          5,
          7,
          7.217426669629828,
          6.954938793624832,
          6.360640726927295,
          2.0552174223237194,
          5.191065408157054,
          8,
          6.1602932667976855,
          8.398462153524317,
          8.51277741769119,
          4.28219253542605,
          5,
          7.705163241907499,
          8.335683517254287,
          4.887778432021535,
          4.888772077445875,
          7,
          6.303772333343374,
          5,
          6.588732483973559,
          6,
          5.689623358363305,
          8.230824128772289,
          7.712207611001486,
          4.029583492571739,
          4.300645337938384
         ],
         "yaxis": "y"
        }
       ],
       "layout": {
        "legend": {
         "tracegroupgap": 0
        },
        "template": {
         "data": {
          "bar": [
           {
            "error_x": {
             "color": "#2a3f5f"
            },
            "error_y": {
             "color": "#2a3f5f"
            },
            "marker": {
             "line": {
              "color": "#E5ECF6",
              "width": 0.5
             },
             "pattern": {
              "fillmode": "overlay",
              "size": 10,
              "solidity": 0.2
             }
            },
            "type": "bar"
           }
          ],
          "barpolar": [
           {
            "marker": {
             "line": {
              "color": "#E5ECF6",
              "width": 0.5
             },
             "pattern": {
              "fillmode": "overlay",
              "size": 10,
              "solidity": 0.2
             }
            },
            "type": "barpolar"
           }
          ],
          "carpet": [
           {
            "aaxis": {
             "endlinecolor": "#2a3f5f",
             "gridcolor": "white",
             "linecolor": "white",
             "minorgridcolor": "white",
             "startlinecolor": "#2a3f5f"
            },
            "baxis": {
             "endlinecolor": "#2a3f5f",
             "gridcolor": "white",
             "linecolor": "white",
             "minorgridcolor": "white",
             "startlinecolor": "#2a3f5f"
            },
            "type": "carpet"
           }
          ],
          "choropleth": [
           {
            "colorbar": {
             "outlinewidth": 0,
             "ticks": ""
            },
            "type": "choropleth"
           }
          ],
          "contour": [
           {
            "colorbar": {
             "outlinewidth": 0,
             "ticks": ""
            },
            "colorscale": [
             [
              0,
              "#0d0887"
             ],
             [
              0.1111111111111111,
              "#46039f"
             ],
             [
              0.2222222222222222,
              "#7201a8"
             ],
             [
              0.3333333333333333,
              "#9c179e"
             ],
             [
              0.4444444444444444,
              "#bd3786"
             ],
             [
              0.5555555555555556,
              "#d8576b"
             ],
             [
              0.6666666666666666,
              "#ed7953"
             ],
             [
              0.7777777777777778,
              "#fb9f3a"
             ],
             [
              0.8888888888888888,
              "#fdca26"
             ],
             [
              1,
              "#f0f921"
             ]
            ],
            "type": "contour"
           }
          ],
          "contourcarpet": [
           {
            "colorbar": {
             "outlinewidth": 0,
             "ticks": ""
            },
            "type": "contourcarpet"
           }
          ],
          "heatmap": [
           {
            "colorbar": {
             "outlinewidth": 0,
             "ticks": ""
            },
            "colorscale": [
             [
              0,
              "#0d0887"
             ],
             [
              0.1111111111111111,
              "#46039f"
             ],
             [
              0.2222222222222222,
              "#7201a8"
             ],
             [
              0.3333333333333333,
              "#9c179e"
             ],
             [
              0.4444444444444444,
              "#bd3786"
             ],
             [
              0.5555555555555556,
              "#d8576b"
             ],
             [
              0.6666666666666666,
              "#ed7953"
             ],
             [
              0.7777777777777778,
              "#fb9f3a"
             ],
             [
              0.8888888888888888,
              "#fdca26"
             ],
             [
              1,
              "#f0f921"
             ]
            ],
            "type": "heatmap"
           }
          ],
          "heatmapgl": [
           {
            "colorbar": {
             "outlinewidth": 0,
             "ticks": ""
            },
            "colorscale": [
             [
              0,
              "#0d0887"
             ],
             [
              0.1111111111111111,
              "#46039f"
             ],
             [
              0.2222222222222222,
              "#7201a8"
             ],
             [
              0.3333333333333333,
              "#9c179e"
             ],
             [
              0.4444444444444444,
              "#bd3786"
             ],
             [
              0.5555555555555556,
              "#d8576b"
             ],
             [
              0.6666666666666666,
              "#ed7953"
             ],
             [
              0.7777777777777778,
              "#fb9f3a"
             ],
             [
              0.8888888888888888,
              "#fdca26"
             ],
             [
              1,
              "#f0f921"
             ]
            ],
            "type": "heatmapgl"
           }
          ],
          "histogram": [
           {
            "marker": {
             "pattern": {
              "fillmode": "overlay",
              "size": 10,
              "solidity": 0.2
             }
            },
            "type": "histogram"
           }
          ],
          "histogram2d": [
           {
            "colorbar": {
             "outlinewidth": 0,
             "ticks": ""
            },
            "colorscale": [
             [
              0,
              "#0d0887"
             ],
             [
              0.1111111111111111,
              "#46039f"
             ],
             [
              0.2222222222222222,
              "#7201a8"
             ],
             [
              0.3333333333333333,
              "#9c179e"
             ],
             [
              0.4444444444444444,
              "#bd3786"
             ],
             [
              0.5555555555555556,
              "#d8576b"
             ],
             [
              0.6666666666666666,
              "#ed7953"
             ],
             [
              0.7777777777777778,
              "#fb9f3a"
             ],
             [
              0.8888888888888888,
              "#fdca26"
             ],
             [
              1,
              "#f0f921"
             ]
            ],
            "type": "histogram2d"
           }
          ],
          "histogram2dcontour": [
           {
            "colorbar": {
             "outlinewidth": 0,
             "ticks": ""
            },
            "colorscale": [
             [
              0,
              "#0d0887"
             ],
             [
              0.1111111111111111,
              "#46039f"
             ],
             [
              0.2222222222222222,
              "#7201a8"
             ],
             [
              0.3333333333333333,
              "#9c179e"
             ],
             [
              0.4444444444444444,
              "#bd3786"
             ],
             [
              0.5555555555555556,
              "#d8576b"
             ],
             [
              0.6666666666666666,
              "#ed7953"
             ],
             [
              0.7777777777777778,
              "#fb9f3a"
             ],
             [
              0.8888888888888888,
              "#fdca26"
             ],
             [
              1,
              "#f0f921"
             ]
            ],
            "type": "histogram2dcontour"
           }
          ],
          "mesh3d": [
           {
            "colorbar": {
             "outlinewidth": 0,
             "ticks": ""
            },
            "type": "mesh3d"
           }
          ],
          "parcoords": [
           {
            "line": {
             "colorbar": {
              "outlinewidth": 0,
              "ticks": ""
             }
            },
            "type": "parcoords"
           }
          ],
          "pie": [
           {
            "automargin": true,
            "type": "pie"
           }
          ],
          "scatter": [
           {
            "fillpattern": {
             "fillmode": "overlay",
             "size": 10,
             "solidity": 0.2
            },
            "type": "scatter"
           }
          ],
          "scatter3d": [
           {
            "line": {
             "colorbar": {
              "outlinewidth": 0,
              "ticks": ""
             }
            },
            "marker": {
             "colorbar": {
              "outlinewidth": 0,
              "ticks": ""
             }
            },
            "type": "scatter3d"
           }
          ],
          "scattercarpet": [
           {
            "marker": {
             "colorbar": {
              "outlinewidth": 0,
              "ticks": ""
             }
            },
            "type": "scattercarpet"
           }
          ],
          "scattergeo": [
           {
            "marker": {
             "colorbar": {
              "outlinewidth": 0,
              "ticks": ""
             }
            },
            "type": "scattergeo"
           }
          ],
          "scattergl": [
           {
            "marker": {
             "colorbar": {
              "outlinewidth": 0,
              "ticks": ""
             }
            },
            "type": "scattergl"
           }
          ],
          "scattermapbox": [
           {
            "marker": {
             "colorbar": {
              "outlinewidth": 0,
              "ticks": ""
             }
            },
            "type": "scattermapbox"
           }
          ],
          "scatterpolar": [
           {
            "marker": {
             "colorbar": {
              "outlinewidth": 0,
              "ticks": ""
             }
            },
            "type": "scatterpolar"
           }
          ],
          "scatterpolargl": [
           {
            "marker": {
             "colorbar": {
              "outlinewidth": 0,
              "ticks": ""
             }
            },
            "type": "scatterpolargl"
           }
          ],
          "scatterternary": [
           {
            "marker": {
             "colorbar": {
              "outlinewidth": 0,
              "ticks": ""
             }
            },
            "type": "scatterternary"
           }
          ],
          "surface": [
           {
            "colorbar": {
             "outlinewidth": 0,
             "ticks": ""
            },
            "colorscale": [
             [
              0,
              "#0d0887"
             ],
             [
              0.1111111111111111,
              "#46039f"
             ],
             [
              0.2222222222222222,
              "#7201a8"
             ],
             [
              0.3333333333333333,
              "#9c179e"
             ],
             [
              0.4444444444444444,
              "#bd3786"
             ],
             [
              0.5555555555555556,
              "#d8576b"
             ],
             [
              0.6666666666666666,
              "#ed7953"
             ],
             [
              0.7777777777777778,
              "#fb9f3a"
             ],
             [
              0.8888888888888888,
              "#fdca26"
             ],
             [
              1,
              "#f0f921"
             ]
            ],
            "type": "surface"
           }
          ],
          "table": [
           {
            "cells": {
             "fill": {
              "color": "#EBF0F8"
             },
             "line": {
              "color": "white"
             }
            },
            "header": {
             "fill": {
              "color": "#C8D4E3"
             },
             "line": {
              "color": "white"
             }
            },
            "type": "table"
           }
          ]
         },
         "layout": {
          "annotationdefaults": {
           "arrowcolor": "#2a3f5f",
           "arrowhead": 0,
           "arrowwidth": 1
          },
          "autotypenumbers": "strict",
          "coloraxis": {
           "colorbar": {
            "outlinewidth": 0,
            "ticks": ""
           }
          },
          "colorscale": {
           "diverging": [
            [
             0,
             "#8e0152"
            ],
            [
             0.1,
             "#c51b7d"
            ],
            [
             0.2,
             "#de77ae"
            ],
            [
             0.3,
             "#f1b6da"
            ],
            [
             0.4,
             "#fde0ef"
            ],
            [
             0.5,
             "#f7f7f7"
            ],
            [
             0.6,
             "#e6f5d0"
            ],
            [
             0.7,
             "#b8e186"
            ],
            [
             0.8,
             "#7fbc41"
            ],
            [
             0.9,
             "#4d9221"
            ],
            [
             1,
             "#276419"
            ]
           ],
           "sequential": [
            [
             0,
             "#0d0887"
            ],
            [
             0.1111111111111111,
             "#46039f"
            ],
            [
             0.2222222222222222,
             "#7201a8"
            ],
            [
             0.3333333333333333,
             "#9c179e"
            ],
            [
             0.4444444444444444,
             "#bd3786"
            ],
            [
             0.5555555555555556,
             "#d8576b"
            ],
            [
             0.6666666666666666,
             "#ed7953"
            ],
            [
             0.7777777777777778,
             "#fb9f3a"
            ],
            [
             0.8888888888888888,
             "#fdca26"
            ],
            [
             1,
             "#f0f921"
            ]
           ],
           "sequentialminus": [
            [
             0,
             "#0d0887"
            ],
            [
             0.1111111111111111,
             "#46039f"
            ],
            [
             0.2222222222222222,
             "#7201a8"
            ],
            [
             0.3333333333333333,
             "#9c179e"
            ],
            [
             0.4444444444444444,
             "#bd3786"
            ],
            [
             0.5555555555555556,
             "#d8576b"
            ],
            [
             0.6666666666666666,
             "#ed7953"
            ],
            [
             0.7777777777777778,
             "#fb9f3a"
            ],
            [
             0.8888888888888888,
             "#fdca26"
            ],
            [
             1,
             "#f0f921"
            ]
           ]
          },
          "colorway": [
           "#636efa",
           "#EF553B",
           "#00cc96",
           "#ab63fa",
           "#FFA15A",
           "#19d3f3",
           "#FF6692",
           "#B6E880",
           "#FF97FF",
           "#FECB52"
          ],
          "font": {
           "color": "#2a3f5f"
          },
          "geo": {
           "bgcolor": "white",
           "lakecolor": "white",
           "landcolor": "#E5ECF6",
           "showlakes": true,
           "showland": true,
           "subunitcolor": "white"
          },
          "hoverlabel": {
           "align": "left"
          },
          "hovermode": "closest",
          "mapbox": {
           "style": "light"
          },
          "paper_bgcolor": "white",
          "plot_bgcolor": "#E5ECF6",
          "polar": {
           "angularaxis": {
            "gridcolor": "white",
            "linecolor": "white",
            "ticks": ""
           },
           "bgcolor": "#E5ECF6",
           "radialaxis": {
            "gridcolor": "white",
            "linecolor": "white",
            "ticks": ""
           }
          },
          "scene": {
           "xaxis": {
            "backgroundcolor": "#E5ECF6",
            "gridcolor": "white",
            "gridwidth": 2,
            "linecolor": "white",
            "showbackground": true,
            "ticks": "",
            "zerolinecolor": "white"
           },
           "yaxis": {
            "backgroundcolor": "#E5ECF6",
            "gridcolor": "white",
            "gridwidth": 2,
            "linecolor": "white",
            "showbackground": true,
            "ticks": "",
            "zerolinecolor": "white"
           },
           "zaxis": {
            "backgroundcolor": "#E5ECF6",
            "gridcolor": "white",
            "gridwidth": 2,
            "linecolor": "white",
            "showbackground": true,
            "ticks": "",
            "zerolinecolor": "white"
           }
          },
          "shapedefaults": {
           "line": {
            "color": "#2a3f5f"
           }
          },
          "ternary": {
           "aaxis": {
            "gridcolor": "white",
            "linecolor": "white",
            "ticks": ""
           },
           "baxis": {
            "gridcolor": "white",
            "linecolor": "white",
            "ticks": ""
           },
           "bgcolor": "#E5ECF6",
           "caxis": {
            "gridcolor": "white",
            "linecolor": "white",
            "ticks": ""
           }
          },
          "title": {
           "x": 0.05
          },
          "xaxis": {
           "automargin": true,
           "gridcolor": "white",
           "linecolor": "white",
           "ticks": "",
           "title": {
            "standoff": 15
           },
           "zerolinecolor": "white",
           "zerolinewidth": 2
          },
          "yaxis": {
           "automargin": true,
           "gridcolor": "white",
           "linecolor": "white",
           "ticks": "",
           "title": {
            "standoff": 15
           },
           "zerolinecolor": "white",
           "zerolinewidth": 2
          }
         }
        },
        "title": {
         "text": "Wygenerowane"
        },
        "xaxis": {
         "anchor": "y",
         "domain": [
          0,
          1
         ],
         "title": {
          "text": "x"
         }
        },
        "yaxis": {
         "anchor": "x",
         "domain": [
          0,
          1
         ],
         "title": {
          "text": "y"
         }
        }
       }
      }
     },
     "metadata": {},
     "output_type": "display_data"
    }
   ],
   "source": [
    "fig = px.scatter(x= temp_out.T[0], y= temp_out.T[1],title='Wygenerowane')\n",
    "fig.show()"
   ]
  },
  {
   "cell_type": "code",
   "execution_count": 8,
   "id": "d625e36b",
   "metadata": {},
   "outputs": [
    {
     "data": {
      "application/vnd.plotly.v1+json": {
       "config": {
        "plotlyServerURL": "https://plot.ly"
       },
       "data": [
        {
         "hovertemplate": "x=%{x}<br>y=%{y}<extra></extra>",
         "legendgroup": "",
         "marker": {
          "color": "#636efa",
          "symbol": "circle"
         },
         "mode": "markers",
         "name": "",
         "orientation": "v",
         "showlegend": false,
         "type": "scatter",
         "x": [
          1,
          3,
          2,
          4,
          6,
          2,
          1,
          3,
          6,
          4,
          5,
          1,
          5,
          2,
          6,
          8,
          7,
          9,
          5,
          8,
          6,
          8,
          7,
          9,
          5,
          7,
          4,
          5,
          7,
          1.763390352151361,
          1,
          2.7576566595513023,
          3,
          2,
          1.3932287983119203,
          4.273538011152861,
          4.996161302081053,
          6,
          5.0277827910305914,
          1.4023300298237733,
          2.594676575199064,
          1.0113452001503846,
          1,
          1.4686468178347762,
          1.1455541390352495,
          5.61992360580799,
          5.908259250304028,
          3.4321281422312016,
          3.3051504318665126,
          5.869017835675198,
          5.748171121662953,
          1.3355964749452394,
          1,
          5.633267015244032,
          5,
          3.4668444639656593,
          2.6160632253503406,
          5.451886800928544,
          6.595752227633006,
          8.142000208577963,
          8,
          6.068149398290849,
          7,
          8.247504326859831,
          8.704738475558251,
          5,
          4.009250285981019,
          7.417288146554462,
          6.580870997227454,
          6.418688442879938,
          7.747445450031284,
          8.434162286511917,
          8,
          7,
          6.460123677678982,
          7.305365473234287,
          8.532642483658547,
          5.905762317695949,
          4.990482265247141,
          7.140956112683903,
          7,
          4.7022393560659905,
          3.2655534769997887,
          5.794539690653256,
          6.381281039460977,
          7.181192513011489,
          7.2676889244456975
         ],
         "xaxis": "x",
         "y": [
          3,
          1,
          2,
          6,
          2,
          5,
          4,
          3,
          2,
          1,
          3,
          3,
          2,
          1,
          6,
          5,
          7,
          6,
          4,
          8,
          9,
          5,
          8,
          4,
          7,
          5,
          6,
          8,
          4,
          2.2887302167760186,
          3,
          1,
          2.486228676368146,
          1.5883751670148705,
          2.9891266500778326,
          4.21203552272905,
          6,
          2,
          2.3511031734859325,
          4.043928705020125,
          3.476693924474764,
          4.747220208294682,
          3.108365089079201,
          3,
          3,
          2,
          2,
          1,
          1,
          2.1498801606266986,
          2.8142725302746276,
          3.054001867891786,
          3,
          2,
          2.4686144299158252,
          1,
          2.1336205954701493,
          6.316639866735893,
          6.848330884245387,
          5.893231130798602,
          5,
          7,
          7.217426669629828,
          6.954938793624832,
          6.360640726927295,
          2.0552174223237194,
          5.191065408157054,
          8,
          6.1602932667976855,
          8.398462153524317,
          8.51277741769119,
          4.28219253542605,
          5,
          7.705163241907499,
          8.335683517254287,
          4.887778432021535,
          4.888772077445875,
          7,
          6.303772333343374,
          5,
          6.588732483973559,
          6,
          5.689623358363305,
          8.230824128772289,
          7.712207611001486,
          4.029583492571739,
          4.300645337938384
         ],
         "yaxis": "y"
        }
       ],
       "layout": {
        "legend": {
         "tracegroupgap": 0
        },
        "template": {
         "data": {
          "bar": [
           {
            "error_x": {
             "color": "#2a3f5f"
            },
            "error_y": {
             "color": "#2a3f5f"
            },
            "marker": {
             "line": {
              "color": "#E5ECF6",
              "width": 0.5
             },
             "pattern": {
              "fillmode": "overlay",
              "size": 10,
              "solidity": 0.2
             }
            },
            "type": "bar"
           }
          ],
          "barpolar": [
           {
            "marker": {
             "line": {
              "color": "#E5ECF6",
              "width": 0.5
             },
             "pattern": {
              "fillmode": "overlay",
              "size": 10,
              "solidity": 0.2
             }
            },
            "type": "barpolar"
           }
          ],
          "carpet": [
           {
            "aaxis": {
             "endlinecolor": "#2a3f5f",
             "gridcolor": "white",
             "linecolor": "white",
             "minorgridcolor": "white",
             "startlinecolor": "#2a3f5f"
            },
            "baxis": {
             "endlinecolor": "#2a3f5f",
             "gridcolor": "white",
             "linecolor": "white",
             "minorgridcolor": "white",
             "startlinecolor": "#2a3f5f"
            },
            "type": "carpet"
           }
          ],
          "choropleth": [
           {
            "colorbar": {
             "outlinewidth": 0,
             "ticks": ""
            },
            "type": "choropleth"
           }
          ],
          "contour": [
           {
            "colorbar": {
             "outlinewidth": 0,
             "ticks": ""
            },
            "colorscale": [
             [
              0,
              "#0d0887"
             ],
             [
              0.1111111111111111,
              "#46039f"
             ],
             [
              0.2222222222222222,
              "#7201a8"
             ],
             [
              0.3333333333333333,
              "#9c179e"
             ],
             [
              0.4444444444444444,
              "#bd3786"
             ],
             [
              0.5555555555555556,
              "#d8576b"
             ],
             [
              0.6666666666666666,
              "#ed7953"
             ],
             [
              0.7777777777777778,
              "#fb9f3a"
             ],
             [
              0.8888888888888888,
              "#fdca26"
             ],
             [
              1,
              "#f0f921"
             ]
            ],
            "type": "contour"
           }
          ],
          "contourcarpet": [
           {
            "colorbar": {
             "outlinewidth": 0,
             "ticks": ""
            },
            "type": "contourcarpet"
           }
          ],
          "heatmap": [
           {
            "colorbar": {
             "outlinewidth": 0,
             "ticks": ""
            },
            "colorscale": [
             [
              0,
              "#0d0887"
             ],
             [
              0.1111111111111111,
              "#46039f"
             ],
             [
              0.2222222222222222,
              "#7201a8"
             ],
             [
              0.3333333333333333,
              "#9c179e"
             ],
             [
              0.4444444444444444,
              "#bd3786"
             ],
             [
              0.5555555555555556,
              "#d8576b"
             ],
             [
              0.6666666666666666,
              "#ed7953"
             ],
             [
              0.7777777777777778,
              "#fb9f3a"
             ],
             [
              0.8888888888888888,
              "#fdca26"
             ],
             [
              1,
              "#f0f921"
             ]
            ],
            "type": "heatmap"
           }
          ],
          "heatmapgl": [
           {
            "colorbar": {
             "outlinewidth": 0,
             "ticks": ""
            },
            "colorscale": [
             [
              0,
              "#0d0887"
             ],
             [
              0.1111111111111111,
              "#46039f"
             ],
             [
              0.2222222222222222,
              "#7201a8"
             ],
             [
              0.3333333333333333,
              "#9c179e"
             ],
             [
              0.4444444444444444,
              "#bd3786"
             ],
             [
              0.5555555555555556,
              "#d8576b"
             ],
             [
              0.6666666666666666,
              "#ed7953"
             ],
             [
              0.7777777777777778,
              "#fb9f3a"
             ],
             [
              0.8888888888888888,
              "#fdca26"
             ],
             [
              1,
              "#f0f921"
             ]
            ],
            "type": "heatmapgl"
           }
          ],
          "histogram": [
           {
            "marker": {
             "pattern": {
              "fillmode": "overlay",
              "size": 10,
              "solidity": 0.2
             }
            },
            "type": "histogram"
           }
          ],
          "histogram2d": [
           {
            "colorbar": {
             "outlinewidth": 0,
             "ticks": ""
            },
            "colorscale": [
             [
              0,
              "#0d0887"
             ],
             [
              0.1111111111111111,
              "#46039f"
             ],
             [
              0.2222222222222222,
              "#7201a8"
             ],
             [
              0.3333333333333333,
              "#9c179e"
             ],
             [
              0.4444444444444444,
              "#bd3786"
             ],
             [
              0.5555555555555556,
              "#d8576b"
             ],
             [
              0.6666666666666666,
              "#ed7953"
             ],
             [
              0.7777777777777778,
              "#fb9f3a"
             ],
             [
              0.8888888888888888,
              "#fdca26"
             ],
             [
              1,
              "#f0f921"
             ]
            ],
            "type": "histogram2d"
           }
          ],
          "histogram2dcontour": [
           {
            "colorbar": {
             "outlinewidth": 0,
             "ticks": ""
            },
            "colorscale": [
             [
              0,
              "#0d0887"
             ],
             [
              0.1111111111111111,
              "#46039f"
             ],
             [
              0.2222222222222222,
              "#7201a8"
             ],
             [
              0.3333333333333333,
              "#9c179e"
             ],
             [
              0.4444444444444444,
              "#bd3786"
             ],
             [
              0.5555555555555556,
              "#d8576b"
             ],
             [
              0.6666666666666666,
              "#ed7953"
             ],
             [
              0.7777777777777778,
              "#fb9f3a"
             ],
             [
              0.8888888888888888,
              "#fdca26"
             ],
             [
              1,
              "#f0f921"
             ]
            ],
            "type": "histogram2dcontour"
           }
          ],
          "mesh3d": [
           {
            "colorbar": {
             "outlinewidth": 0,
             "ticks": ""
            },
            "type": "mesh3d"
           }
          ],
          "parcoords": [
           {
            "line": {
             "colorbar": {
              "outlinewidth": 0,
              "ticks": ""
             }
            },
            "type": "parcoords"
           }
          ],
          "pie": [
           {
            "automargin": true,
            "type": "pie"
           }
          ],
          "scatter": [
           {
            "fillpattern": {
             "fillmode": "overlay",
             "size": 10,
             "solidity": 0.2
            },
            "type": "scatter"
           }
          ],
          "scatter3d": [
           {
            "line": {
             "colorbar": {
              "outlinewidth": 0,
              "ticks": ""
             }
            },
            "marker": {
             "colorbar": {
              "outlinewidth": 0,
              "ticks": ""
             }
            },
            "type": "scatter3d"
           }
          ],
          "scattercarpet": [
           {
            "marker": {
             "colorbar": {
              "outlinewidth": 0,
              "ticks": ""
             }
            },
            "type": "scattercarpet"
           }
          ],
          "scattergeo": [
           {
            "marker": {
             "colorbar": {
              "outlinewidth": 0,
              "ticks": ""
             }
            },
            "type": "scattergeo"
           }
          ],
          "scattergl": [
           {
            "marker": {
             "colorbar": {
              "outlinewidth": 0,
              "ticks": ""
             }
            },
            "type": "scattergl"
           }
          ],
          "scattermapbox": [
           {
            "marker": {
             "colorbar": {
              "outlinewidth": 0,
              "ticks": ""
             }
            },
            "type": "scattermapbox"
           }
          ],
          "scatterpolar": [
           {
            "marker": {
             "colorbar": {
              "outlinewidth": 0,
              "ticks": ""
             }
            },
            "type": "scatterpolar"
           }
          ],
          "scatterpolargl": [
           {
            "marker": {
             "colorbar": {
              "outlinewidth": 0,
              "ticks": ""
             }
            },
            "type": "scatterpolargl"
           }
          ],
          "scatterternary": [
           {
            "marker": {
             "colorbar": {
              "outlinewidth": 0,
              "ticks": ""
             }
            },
            "type": "scatterternary"
           }
          ],
          "surface": [
           {
            "colorbar": {
             "outlinewidth": 0,
             "ticks": ""
            },
            "colorscale": [
             [
              0,
              "#0d0887"
             ],
             [
              0.1111111111111111,
              "#46039f"
             ],
             [
              0.2222222222222222,
              "#7201a8"
             ],
             [
              0.3333333333333333,
              "#9c179e"
             ],
             [
              0.4444444444444444,
              "#bd3786"
             ],
             [
              0.5555555555555556,
              "#d8576b"
             ],
             [
              0.6666666666666666,
              "#ed7953"
             ],
             [
              0.7777777777777778,
              "#fb9f3a"
             ],
             [
              0.8888888888888888,
              "#fdca26"
             ],
             [
              1,
              "#f0f921"
             ]
            ],
            "type": "surface"
           }
          ],
          "table": [
           {
            "cells": {
             "fill": {
              "color": "#EBF0F8"
             },
             "line": {
              "color": "white"
             }
            },
            "header": {
             "fill": {
              "color": "#C8D4E3"
             },
             "line": {
              "color": "white"
             }
            },
            "type": "table"
           }
          ]
         },
         "layout": {
          "annotationdefaults": {
           "arrowcolor": "#2a3f5f",
           "arrowhead": 0,
           "arrowwidth": 1
          },
          "autotypenumbers": "strict",
          "coloraxis": {
           "colorbar": {
            "outlinewidth": 0,
            "ticks": ""
           }
          },
          "colorscale": {
           "diverging": [
            [
             0,
             "#8e0152"
            ],
            [
             0.1,
             "#c51b7d"
            ],
            [
             0.2,
             "#de77ae"
            ],
            [
             0.3,
             "#f1b6da"
            ],
            [
             0.4,
             "#fde0ef"
            ],
            [
             0.5,
             "#f7f7f7"
            ],
            [
             0.6,
             "#e6f5d0"
            ],
            [
             0.7,
             "#b8e186"
            ],
            [
             0.8,
             "#7fbc41"
            ],
            [
             0.9,
             "#4d9221"
            ],
            [
             1,
             "#276419"
            ]
           ],
           "sequential": [
            [
             0,
             "#0d0887"
            ],
            [
             0.1111111111111111,
             "#46039f"
            ],
            [
             0.2222222222222222,
             "#7201a8"
            ],
            [
             0.3333333333333333,
             "#9c179e"
            ],
            [
             0.4444444444444444,
             "#bd3786"
            ],
            [
             0.5555555555555556,
             "#d8576b"
            ],
            [
             0.6666666666666666,
             "#ed7953"
            ],
            [
             0.7777777777777778,
             "#fb9f3a"
            ],
            [
             0.8888888888888888,
             "#fdca26"
            ],
            [
             1,
             "#f0f921"
            ]
           ],
           "sequentialminus": [
            [
             0,
             "#0d0887"
            ],
            [
             0.1111111111111111,
             "#46039f"
            ],
            [
             0.2222222222222222,
             "#7201a8"
            ],
            [
             0.3333333333333333,
             "#9c179e"
            ],
            [
             0.4444444444444444,
             "#bd3786"
            ],
            [
             0.5555555555555556,
             "#d8576b"
            ],
            [
             0.6666666666666666,
             "#ed7953"
            ],
            [
             0.7777777777777778,
             "#fb9f3a"
            ],
            [
             0.8888888888888888,
             "#fdca26"
            ],
            [
             1,
             "#f0f921"
            ]
           ]
          },
          "colorway": [
           "#636efa",
           "#EF553B",
           "#00cc96",
           "#ab63fa",
           "#FFA15A",
           "#19d3f3",
           "#FF6692",
           "#B6E880",
           "#FF97FF",
           "#FECB52"
          ],
          "font": {
           "color": "#2a3f5f"
          },
          "geo": {
           "bgcolor": "white",
           "lakecolor": "white",
           "landcolor": "#E5ECF6",
           "showlakes": true,
           "showland": true,
           "subunitcolor": "white"
          },
          "hoverlabel": {
           "align": "left"
          },
          "hovermode": "closest",
          "mapbox": {
           "style": "light"
          },
          "paper_bgcolor": "white",
          "plot_bgcolor": "#E5ECF6",
          "polar": {
           "angularaxis": {
            "gridcolor": "white",
            "linecolor": "white",
            "ticks": ""
           },
           "bgcolor": "#E5ECF6",
           "radialaxis": {
            "gridcolor": "white",
            "linecolor": "white",
            "ticks": ""
           }
          },
          "scene": {
           "xaxis": {
            "backgroundcolor": "#E5ECF6",
            "gridcolor": "white",
            "gridwidth": 2,
            "linecolor": "white",
            "showbackground": true,
            "ticks": "",
            "zerolinecolor": "white"
           },
           "yaxis": {
            "backgroundcolor": "#E5ECF6",
            "gridcolor": "white",
            "gridwidth": 2,
            "linecolor": "white",
            "showbackground": true,
            "ticks": "",
            "zerolinecolor": "white"
           },
           "zaxis": {
            "backgroundcolor": "#E5ECF6",
            "gridcolor": "white",
            "gridwidth": 2,
            "linecolor": "white",
            "showbackground": true,
            "ticks": "",
            "zerolinecolor": "white"
           }
          },
          "shapedefaults": {
           "line": {
            "color": "#2a3f5f"
           }
          },
          "ternary": {
           "aaxis": {
            "gridcolor": "white",
            "linecolor": "white",
            "ticks": ""
           },
           "baxis": {
            "gridcolor": "white",
            "linecolor": "white",
            "ticks": ""
           },
           "bgcolor": "#E5ECF6",
           "caxis": {
            "gridcolor": "white",
            "linecolor": "white",
            "ticks": ""
           }
          },
          "title": {
           "x": 0.05
          },
          "xaxis": {
           "automargin": true,
           "gridcolor": "white",
           "linecolor": "white",
           "ticks": "",
           "title": {
            "standoff": 15
           },
           "zerolinecolor": "white",
           "zerolinewidth": 2
          },
          "yaxis": {
           "automargin": true,
           "gridcolor": "white",
           "linecolor": "white",
           "ticks": "",
           "title": {
            "standoff": 15
           },
           "zerolinecolor": "white",
           "zerolinewidth": 2
          }
         }
        },
        "title": {
         "text": "Wygenerowane + wejściowe o łącznej liczbie równej desired"
        },
        "xaxis": {
         "anchor": "y",
         "domain": [
          0,
          1
         ],
         "title": {
          "text": "x"
         }
        },
        "yaxis": {
         "anchor": "x",
         "domain": [
          0,
          1
         ],
         "title": {
          "text": "y"
         }
        }
       }
      }
     },
     "metadata": {},
     "output_type": "display_data"
    },
    {
     "data": {
      "text/plain": [
       "87"
      ]
     },
     "execution_count": 8,
     "metadata": {},
     "output_type": "execute_result"
    }
   ],
   "source": [
    "fig = px.scatter(x= temp_Cluter_OUT[0], y= temp_Cluter_OUT[1], title= 'Wygenerowane + wejściowe o łącznej liczbie równej desired')\n",
    "fig.show()\n",
    "len(temp_Cluter_OUT[0])"
   ]
  },
  {
   "cell_type": "markdown",
   "id": "6a43e67b",
   "metadata": {},
   "source": [
    "#### Clustering with SMOTE"
   ]
  },
  {
   "cell_type": "code",
   "execution_count": 9,
   "id": "ba7497e4",
   "metadata": {},
   "outputs": [],
   "source": [
    "from sklearn.cluster import KMeans, MeanShift\n",
    "\n",
    "def oversample_clustered_data(X, y, X_minority, y_minority, X_majority, y_majority, cluster_labeled_data):\n",
    "    #wygenerowane próbki mniejszościowe wrzucamy tutaj:\n",
    "    X_generated = []\n",
    "\n",
    "    # Do oceny ile próbek trzeba będzie wygenerować trzeba przeliczyć różnicę między liczebnością klasy mniejszościowej i większościowej, będzie to potrzebne później w pętli dla każego z klastrów\n",
    "    majority_minority_difference =  list(y).count(0) - list(y).count(1)\n",
    "    if(majority_minority_difference < 0):\n",
    "        print(\"[ERR] Monority class has grater count to Majority class\")\n",
    "        exit()\n",
    "    # Do oceny ile próbek będzie trzeba wygenerować potrzebne też będzie informacja o liczbności klasy mniejszościowej\n",
    "    minority_count = list(y).count(1)\n",
    "\n",
    "    # Dla każdego z klastrów:\n",
    "    cluster_labels = np.unique(cluster_labeled_data) #  pobranie info jakie mamy labele klastrów [0,1,...]\n",
    "\n",
    "    # Wszystkie wygenerowane syntetycznie obiekty trafią tutaj\n",
    "    syntetic_data = []\n",
    "    for cluster in cluster_labels:\n",
    "        # w pierwszej kolejności filtrujemy indeksy zbioru mniejszościowego aby pozostawić tylko indeksy należące do klastra który w danej iteracji pętli analizujemy\n",
    "        cluster_samples_indices_minority = np.where(cluster_labeled_data == cluster)[0]\n",
    "        if len(cluster_samples_indices_minority)<4:\n",
    "            continue\n",
    "        # ustalamy ile próbek trzeba wygenerować w tym klastrze\n",
    "        # ustalamy procentowo liczebność (udział) klastra względem całej klasy mniejszościowej\n",
    "        percentage_of_count = len(cluster_samples_indices_minority)/minority_count\n",
    "        # zabezpieczenie jeśli coś na tym etapie szłoby bardzo nie tak\n",
    "        if(percentage_of_count>1 or percentage_of_count<0):\n",
    "            print(\"Kurza twarz.. something is no yes! Procenty nie mogą być większe niż 100 ani mniejsze niż 0\")\n",
    "            exit()\n",
    "        \n",
    "        #następnie przemnarzamy udział procentowy klastra przez różnicę między zbiorem większościowym i mniejszościowym uzyskując ilość próbek do augmentacji\n",
    "        num_of_samples_to_generate_in_this_cluster = percentage_of_count * majority_minority_difference\n",
    "\n",
    "        # Do samej funkcji augmentacji wymagana jest warość procentowa gdzie 100 to 100% określająca ile próbek ma zostać wygenerowanych względem danych wejściowych\n",
    "        # w tym celu należy podzielić ilość próbek które chcemy wygenerować przez liczbę próbek które posiadamy już\n",
    "        todoSamples = 100*(num_of_samples_to_generate_in_this_cluster/len(cluster_samples_indices_minority))\n",
    "\n",
    "        # Teraz musimy niestety przejść z np.array na dataframe bo w ten sposób działa funkcja ale robimy to już w parametrze funkcji\n",
    "        # Oversampling... totaj k = 5.. jest to hiperparametr który nie wydaje się być istotny w tej implementacji. Jeśli będą większe zmiany trzeba spojrzeć na niego\n",
    "        temp_out = SMOTE_ByMedium(pd.DataFrame(X_minority[cluster_samples_indices_minority]), todoSamples, 3)\n",
    "        syntetic_data.append(temp_out)\n",
    "        \n",
    "        #Ta implementacja Smote jeśli tworzy więcej niż 100% próbek z próbek które dostała traci informację o części dziesiętnej procentów - to powoduje, że powstaje mniej resamplowanych próbek\n",
    "        if todoSamples>100:\n",
    "            todoSamples_2 = todoSamples%100\n",
    "            temp_out_2 = SMOTE_ByMedium(pd.DataFrame(X_minority[cluster_samples_indices_minority]),todoSamples_2 , 3)\n",
    "            syntetic_data.append(temp_out_2)\n",
    "        \n",
    "        \n",
    "\n",
    "    #tutaj wymagane jest połączenie wyjścia syntetic_data razem z X i y\n",
    "    X_resampled = X\n",
    "    y_resampled  = y\n",
    "\n",
    "    for clusterOUT in syntetic_data:\n",
    "        X_resampled = np.block([[X_resampled], [clusterOUT]])\n",
    "        y_resampled = [*y_resampled,*np.ones(clusterOUT.shape[0])]# jedynki dla tego, że 1 to klasa mniejszościowa\n",
    "    return X_resampled, y_resampled\n",
    "\n",
    "def KMeans_SMOTE(X, y, num_clusters):\n",
    "    # Wybieramy indeksy klasy mniejszościowej i większościowej\n",
    "    minority_indices = np.where(y == 1)[0] # dla naszych datasetów klasa o labelu 1 zawsze jest mniejszościowa\n",
    "    majority_indices = np.where(y == 0)[0]\n",
    "\n",
    "    # Sortujemy Dane i Labele na minority i majority\n",
    "    X_minority = X[minority_indices]\n",
    "    y_minority = y[minority_indices]\n",
    "\n",
    "    X_majority = X[majority_indices]\n",
    "    y_majority = y[majority_indices]\n",
    "    \n",
    "    # Wykonujemy klasteryzację na klasie mniejszościowej\n",
    "    kmeans_labels_minority = KMeans(n_clusters=num_clusters, random_state=0, n_init=\"auto\").fit_predict(X_minority)\n",
    "\n",
    "    # Zwrócona wartość to indeksy odwołujące się jedynie do klasy mniejszościowej! trzeba o tym teraz pamiętać.\n",
    "    return oversample_clustered_data(X, y, X_minority, y_minority, X_majority, y_majority, kmeans_labels_minority)\n",
    "\n",
    "\n",
    "def MeanShift_SMOTE(X, y):\n",
    "    # TAK WIEM,TO POWINNA BYĆ FUNKCJA, BO WIĘKSZOŚĆ LINIJEK MEANSHIFT_SMOTE I KMEANS_SMOTE SIĘ POWTARZA ... może kiedyś tu upiększymy\n",
    "    # Wybieramy indeksy klasy mniejszościowej i większościowej\n",
    "    minority_indices = np.where(y == 1)[0] # dla naszych datasetów klasa o labelu 1 zawsze jest mniejszościowa\n",
    "    majority_indices = np.where(y == 0)[0]\n",
    "\n",
    "    # Sortujemy Dane i Labele na minority i majority\n",
    "    X_minority = X[minority_indices]\n",
    "    y_minority = y[minority_indices]\n",
    "\n",
    "    X_majority = X[majority_indices]\n",
    "    y_majority = y[majority_indices]\n",
    "    \n",
    "    # Wykonujemy klasteryzację na klasie mniejszościowej\n",
    "    mean_shift_labels_minority = MeanShift().fit_predict(X_minority)\n",
    "    return oversample_clustered_data(X, y, X_minority, y_minority, X_majority, y_majority, mean_shift_labels_minority)"
   ]
  },
  {
   "cell_type": "markdown",
   "id": "dd65ec1f",
   "metadata": {},
   "source": [
    "#### Sprawdzenie który ze zbiorów jest Większościowy"
   ]
  },
  {
   "cell_type": "code",
   "execution_count": 10,
   "id": "867e60a8",
   "metadata": {},
   "outputs": [
    {
     "name": "stdout",
     "output_type": "stream",
     "text": [
      "Processing files in directory: mild-imbalance\n",
      "File: mild-imbalance\\page-blocks0.dat\n",
      "---------STATS---------\n",
      "countOf0:  4913\n",
      "countOf1:  559\n",
      "----------OUT----------\n",
      "Więcej klasy 0\n",
      "File: mild-imbalance\\pima.dat\n",
      "---------STATS---------\n",
      "countOf0:  500\n",
      "countOf1:  268\n",
      "----------OUT----------\n",
      "Więcej klasy 0\n",
      "File: mild-imbalance\\segment0.dat\n",
      "---------STATS---------\n",
      "countOf0:  1979\n",
      "countOf1:  329\n",
      "----------OUT----------\n",
      "Więcej klasy 0\n",
      "File: mild-imbalance\\vehicle0.dat\n",
      "---------STATS---------\n",
      "countOf0:  647\n",
      "countOf1:  199\n",
      "----------OUT----------\n",
      "Więcej klasy 0\n",
      "File: mild-imbalance\\vehicle1.dat\n",
      "---------STATS---------\n",
      "countOf0:  629\n",
      "countOf1:  217\n",
      "----------OUT----------\n",
      "Więcej klasy 0\n",
      "File: mild-imbalance\\vehicle2.dat\n",
      "---------STATS---------\n",
      "countOf0:  628\n",
      "countOf1:  218\n",
      "----------OUT----------\n",
      "Więcej klasy 0\n",
      "File: mild-imbalance\\vehicle3.dat\n",
      "---------STATS---------\n",
      "countOf0:  634\n",
      "countOf1:  212\n",
      "----------OUT----------\n",
      "Więcej klasy 0\n",
      "File: mild-imbalance\\wisconsin.dat\n",
      "---------STATS---------\n",
      "countOf0:  444\n",
      "countOf1:  239\n",
      "----------OUT----------\n",
      "Więcej klasy 0\n",
      "File: mild-imbalance\\yeast1.dat\n",
      "---------STATS---------\n",
      "countOf0:  1055\n",
      "countOf1:  429\n",
      "----------OUT----------\n",
      "Więcej klasy 0\n",
      "File: mild-imbalance\\yeast3.dat\n",
      "---------STATS---------\n",
      "countOf0:  1321\n",
      "countOf1:  163\n",
      "----------OUT----------\n",
      "Więcej klasy 0\n",
      "Processing files in directory: high-imbalance\n",
      "File: high-imbalance\\abalone-17_vs_7-8-9-10.dat\n",
      "---------STATS---------\n",
      "countOf0:  2280\n",
      "countOf1:  58\n",
      "----------OUT----------\n",
      "Więcej klasy 0\n",
      "File: high-imbalance\\abalone19.dat\n",
      "---------STATS---------\n",
      "countOf0:  4142\n",
      "countOf1:  32\n",
      "----------OUT----------\n",
      "Więcej klasy 0\n",
      "File: high-imbalance\\kr-vs-k-three_vs_eleven.dat\n",
      "---------STATS---------\n",
      "countOf0:  2854\n",
      "countOf1:  81\n",
      "----------OUT----------\n",
      "Więcej klasy 0\n",
      "File: high-imbalance\\kr-vs-k-zero-one_vs_draw.dat\n",
      "---------STATS---------\n",
      "countOf0:  2796\n",
      "countOf1:  105\n",
      "----------OUT----------\n",
      "Więcej klasy 0\n",
      "File: high-imbalance\\shuttle-2_vs_5.dat\n",
      "---------STATS---------\n",
      "countOf0:  3267\n",
      "countOf1:  49\n",
      "----------OUT----------\n",
      "Więcej klasy 0\n",
      "File: high-imbalance\\shuttle-c0-vs-c4.dat\n",
      "---------STATS---------\n",
      "countOf0:  1706\n",
      "countOf1:  123\n",
      "----------OUT----------\n",
      "Więcej klasy 0\n",
      "File: high-imbalance\\yeast-0-2-5-6_vs_3-7-8-9.dat\n",
      "---------STATS---------\n",
      "countOf0:  905\n",
      "countOf1:  99\n",
      "----------OUT----------\n",
      "Więcej klasy 0\n",
      "File: high-imbalance\\yeast-0-2-5-7-9_vs_3-6-8.dat\n",
      "---------STATS---------\n",
      "countOf0:  905\n",
      "countOf1:  99\n",
      "----------OUT----------\n",
      "Więcej klasy 0\n",
      "File: high-imbalance\\yeast4.dat\n",
      "---------STATS---------\n",
      "countOf0:  1433\n",
      "countOf1:  51\n",
      "----------OUT----------\n",
      "Więcej klasy 0\n",
      "File: high-imbalance\\yeast5.dat\n",
      "---------STATS---------\n",
      "countOf0:  1440\n",
      "countOf1:  44\n",
      "----------OUT----------\n",
      "Więcej klasy 0\n",
      "[0, 0, 0, 0, 0, 0, 0, 0, 0, 0, 0, 0, 0, 0, 0, 0, 0, 0, 0, 0]\n",
      "0\n"
     ]
    }
   ],
   "source": [
    "# tymczasowy algorytm do analizy która z klas jest mniejszościowa\n",
    "def ReturnsMinorityLabel(file_path):\n",
    "    labels = []\n",
    "    with open(file_path, 'r') as f:\n",
    "        for line in f:\n",
    "            if line.startswith('@'):\n",
    "                continue\n",
    "            line_data = line.strip().split(',')\n",
    "            sample_class = line_data[-1].strip().lower().replace(\" \", \"\")\n",
    "            label = 1 if sample_class == 'positive' else 0\n",
    "            labels.append(label)\n",
    "    countOf0 = labels.count(0)\n",
    "    countOf1 = labels.count(1)\n",
    "    print(\"---------STATS---------\") \n",
    "    print('countOf0: ',countOf0)\n",
    "    print('countOf1: ',countOf1)\n",
    "    print(\"----------OUT----------\") \n",
    "    if countOf0 == countOf1:\n",
    "        print(\"!!!!!kurcze zbiorki są zbalansowane!!!!!!\")\n",
    "        return(-1)\n",
    "    if countOf0 > countOf1:\n",
    "        print(\"Więcej klasy 0\")\n",
    "        return(0)\n",
    "    if countOf0 < countOf1:\n",
    "        print(\"Więcej klasy 1\")\n",
    "        return(1)\n",
    "\n",
    "import os\n",
    "\n",
    "#sprawdzenie czy działa\n",
    "\n",
    "directories = ['mild-imbalance', 'high-imbalance']\n",
    "results_of_test = []\n",
    "for directory in directories:\n",
    "    print(f\"Processing files in directory: {directory}\")\n",
    "    files = os.listdir(directory)\n",
    "    \n",
    "    for file_name in files:\n",
    "        file_path = os.path.join(directory, file_name)\n",
    "        print(f\"File: {file_path}\")\n",
    "        results_of_test.append(ReturnsMinorityLabel(file_path))\n",
    "    \n",
    "print(results_of_test)\n",
    "print(results_of_test.count(1))"
   ]
  },
  {
   "cell_type": "markdown",
   "id": "0c3846ea",
   "metadata": {},
   "source": [
    "#### Experiment for single dataset"
   ]
  },
  {
   "cell_type": "code",
   "execution_count": 11,
   "id": "915d9556",
   "metadata": {},
   "outputs": [],
   "source": [
    "from imblearn.over_sampling import SMOTE, RandomOverSampler, BorderlineSMOTE\n",
    "from sklearn.model_selection import RepeatedStratifiedKFold\n",
    "from sklearn.metrics import precision_score, recall_score\n",
    "from imblearn.metrics import specificity_score\n",
    "\n",
    "def experiment(X, y):\n",
    "    preprocessings = {\n",
    "        \"KMeansSMOTE\": True,\n",
    "        \"MeansShiftSMOTE\": True,\n",
    "        \"SMOTE\": SMOTE(),\n",
    "        \"ROS\": RandomOverSampler(),\n",
    "        \"BorderlineSMOTE\": BorderlineSMOTE(),\n",
    "    }\n",
    "    classifier = RandomForestClassifier(random_state=42)\n",
    "    rskf = RepeatedStratifiedKFold(n_splits=5, n_repeats=2, random_state=1234)\n",
    "    result = {}\n",
    "    #wyeksportuję sobie uzyskane datasety poza funkcję żeby zobaczyć jak wyglądają oversamplowane\n",
    "    export_experimentData = {}\n",
    "    for key in preprocessings:\n",
    "        export_experimentData[key] = {}\n",
    "        precision_scores = []\n",
    "        recall_scores = []\n",
    "        specifity_scores = []\n",
    "        i = 0 # iterator for loop \n",
    "        for train_index, test_index in rskf.split(X,y):\n",
    "            export_experimentData[key]['split_'+str(i)] = {}\n",
    "            X_train, X_test = X[train_index], X[test_index]\n",
    "            y_train, y_test = y[train_index], y[test_index]\n",
    "            if key == \"KMeansSMOTE\":\n",
    "                X_train_oversampled, y_train_oversampled = KMeans_SMOTE(X_train, y_train, 10)\n",
    "            elif key == \"MeansShiftSMOTE\":\n",
    "                X_train_oversampled, y_train_oversampled = MeanShift_SMOTE(X_train, y_train)\n",
    "            else:\n",
    "                X_train_oversampled, y_train_oversampled = preprocessings[key].fit_resample(X_train, y_train)\n",
    "            export_experimentData[key]['split_'+str(i)]['train_oversampled'] = [X_train_oversampled, y_train_oversampled]\n",
    "            export_experimentData[key]['split_'+str(i)]['train'] = [X_train, y_train]\n",
    "            export_experimentData[key]['split_'+str(i)]['test'] = [X_test, y_test]\n",
    "            \n",
    "            classifier.fit(X_train_oversampled, y_train_oversampled)\n",
    "            predict = classifier.predict(X_test)\n",
    "            precision_scores.append(precision_score(y_test, predict))\n",
    "            recall_scores.append(recall_score(y_test, predict))\n",
    "            specifity_scores.append(specificity_score(y_test, predict))\n",
    "            i = i+1\n",
    "        mean_precision_score = np.mean(precision_scores)\n",
    "        std_precision_score = np.std(precision_scores)\n",
    "        mean_recall_score = np.mean(recall_scores)\n",
    "        std_recall_score = np.std(recall_scores)\n",
    "        mean_specifity_score = np.mean(specifity_scores)\n",
    "        std_specifity_score = np.std(specifity_scores)\n",
    "#         print(f\"Precission score {key}: %.3f (%.3f)\" % (mean_precision_score, std_precision_score))\n",
    "#         print(f\"Specifity score {key}: %.3f (%.3f)\" % (mean_specifity_score, std_specifity_score))\n",
    "#         print(f\"Recall score {key}: %.3f (%.3f)\" % (mean_recall_score, std_recall_score))\n",
    "        result[key] = {\n",
    "            \"precission_scores\": precision_scores,\n",
    "            \"recall_scores\": recall_scores,\n",
    "            \"specifity_scores\": specifity_scores,\n",
    "            \"mean_precission_score\": mean_precision_score,\n",
    "            \"mean_recall_scores\": mean_recall_score,\n",
    "            \"mean_specifity_scores\": mean_specifity_score,\n",
    "        }\n",
    "    return result, export_experimentData"
   ]
  },
  {
   "cell_type": "markdown",
   "id": "7268e808",
   "metadata": {},
   "source": [
    "#### Running experiments on the datasets"
   ]
  },
  {
   "cell_type": "code",
   "execution_count": 12,
   "id": "1fcd11a3",
   "metadata": {},
   "outputs": [
    {
     "name": "stdout",
     "output_type": "stream",
     "text": [
      "Processing files in directory: mild-imbalance\n",
      "File: mild-imbalance\\page-blocks0.dat\n",
      "File: mild-imbalance\\pima.dat\n",
      "File: mild-imbalance\\segment0.dat\n",
      "File: mild-imbalance\\vehicle0.dat\n",
      "File: mild-imbalance\\vehicle1.dat\n",
      "File: mild-imbalance\\vehicle2.dat\n",
      "File: mild-imbalance\\vehicle3.dat\n",
      "File: mild-imbalance\\wisconsin.dat\n",
      "File: mild-imbalance\\yeast1.dat\n",
      "File: mild-imbalance\\yeast3.dat\n",
      "Processing files in directory: high-imbalance\n",
      "File: high-imbalance\\abalone-17_vs_7-8-9-10.dat\n"
     ]
    },
    {
     "name": "stderr",
     "output_type": "stream",
     "text": [
      "c:\\Users\\JG\\Documents\\GitHub\\SMOTE-clustering\\.venv\\Lib\\site-packages\\sklearn\\metrics\\_classification.py:1517: UndefinedMetricWarning:\n",
      "\n",
      "Precision is ill-defined and being set to 0.0 due to no predicted samples. Use `zero_division` parameter to control this behavior.\n",
      "\n"
     ]
    },
    {
     "name": "stdout",
     "output_type": "stream",
     "text": [
      "File: high-imbalance\\abalone19.dat\n"
     ]
    },
    {
     "name": "stderr",
     "output_type": "stream",
     "text": [
      "c:\\Users\\JG\\Documents\\GitHub\\SMOTE-clustering\\.venv\\Lib\\site-packages\\sklearn\\metrics\\_classification.py:1517: UndefinedMetricWarning:\n",
      "\n",
      "Precision is ill-defined and being set to 0.0 due to no predicted samples. Use `zero_division` parameter to control this behavior.\n",
      "\n",
      "c:\\Users\\JG\\Documents\\GitHub\\SMOTE-clustering\\.venv\\Lib\\site-packages\\sklearn\\metrics\\_classification.py:1517: UndefinedMetricWarning:\n",
      "\n",
      "Precision is ill-defined and being set to 0.0 due to no predicted samples. Use `zero_division` parameter to control this behavior.\n",
      "\n",
      "c:\\Users\\JG\\Documents\\GitHub\\SMOTE-clustering\\.venv\\Lib\\site-packages\\sklearn\\metrics\\_classification.py:1517: UndefinedMetricWarning:\n",
      "\n",
      "Precision is ill-defined and being set to 0.0 due to no predicted samples. Use `zero_division` parameter to control this behavior.\n",
      "\n",
      "c:\\Users\\JG\\Documents\\GitHub\\SMOTE-clustering\\.venv\\Lib\\site-packages\\sklearn\\metrics\\_classification.py:1517: UndefinedMetricWarning:\n",
      "\n",
      "Precision is ill-defined and being set to 0.0 due to no predicted samples. Use `zero_division` parameter to control this behavior.\n",
      "\n",
      "c:\\Users\\JG\\Documents\\GitHub\\SMOTE-clustering\\.venv\\Lib\\site-packages\\sklearn\\metrics\\_classification.py:1517: UndefinedMetricWarning:\n",
      "\n",
      "Precision is ill-defined and being set to 0.0 due to no predicted samples. Use `zero_division` parameter to control this behavior.\n",
      "\n",
      "c:\\Users\\JG\\Documents\\GitHub\\SMOTE-clustering\\.venv\\Lib\\site-packages\\sklearn\\metrics\\_classification.py:1517: UndefinedMetricWarning:\n",
      "\n",
      "Precision is ill-defined and being set to 0.0 due to no predicted samples. Use `zero_division` parameter to control this behavior.\n",
      "\n"
     ]
    },
    {
     "name": "stdout",
     "output_type": "stream",
     "text": [
      "File: high-imbalance\\kr-vs-k-three_vs_eleven.dat\n",
      "File: high-imbalance\\kr-vs-k-zero-one_vs_draw.dat\n",
      "File: high-imbalance\\shuttle-2_vs_5.dat\n",
      "File: high-imbalance\\shuttle-c0-vs-c4.dat\n",
      "File: high-imbalance\\yeast-0-2-5-6_vs_3-7-8-9.dat\n",
      "File: high-imbalance\\yeast-0-2-5-7-9_vs_3-6-8.dat\n",
      "File: high-imbalance\\yeast4.dat\n",
      "File: high-imbalance\\yeast5.dat\n"
     ]
    }
   ],
   "source": [
    "import os\n",
    "\n",
    "directories = ['mild-imbalance', 'high-imbalance']\n",
    "results = {}\n",
    "export_experimentData = {}\n",
    "for directory in directories:\n",
    "    print(f\"Processing files in directory: {directory}\")\n",
    "    files = os.listdir(directory)\n",
    "    for file_name in files:\n",
    "        file_path = os.path.join(directory, file_name)\n",
    "        print(f\"File: {file_path}\")\n",
    "        X, y = load_dataset(file_path)\n",
    "        experiment_result, export_experimentData_for_File = experiment(X, y)\n",
    "        export_experimentData[file_name] = export_experimentData_for_File\n",
    "        results[file_name] = experiment_result\n",
    "# print(results)"
   ]
  },
  {
   "cell_type": "markdown",
   "id": "bcade8a9",
   "metadata": {},
   "source": [
    "#### Przechowywanie danych z eksperymentu i podgląd datasetów"
   ]
  },
  {
   "cell_type": "code",
   "execution_count": 13,
   "id": "892aedb6",
   "metadata": {},
   "outputs": [],
   "source": [
    "# To sobie kopujemy i mamy zapisane rezultaty, w tym miejscu można też odczytać te rezultaty żeby bez wykonywana na swoim kompie eksperymentów mieć dostęp do przeliczonych już danych\n",
    "np.save('results.npy',results)\n",
    "np.save('export_experimentData.npy',export_experimentData)"
   ]
  },
  {
   "cell_type": "code",
   "execution_count": 58,
   "id": "aea4f3fb",
   "metadata": {},
   "outputs": [
    {
     "ename": "SyntaxError",
     "evalue": "invalid syntax (2541792668.py, line 8)",
     "output_type": "error",
     "traceback": [
      "\u001b[1;36m  Cell \u001b[1;32mIn[58], line 8\u001b[1;36m\u001b[0m\n\u001b[1;33m    kurcze i tak nie działa, nie uruchamiać celi, ten tekst jest specjalnie żeby cela nie zadziałała\u001b[0m\n\u001b[1;37m           ^\u001b[0m\n\u001b[1;31mSyntaxError\u001b[0m\u001b[1;31m:\u001b[0m invalid syntax\n"
     ]
    }
   ],
   "source": [
    "# WAŻNE WAŻNE WAŻNE WAŻNE WAŻNE WAŻNE WAŻNE WAŻNE WAŻNE WAŻNE WAŻNE \n",
    "# WAŻNE WAŻNE WAŻNE WAŻNE WAŻNE WAŻNE WAŻNE WAŻNE WAŻNE WAŻNE WAŻNE \n",
    "#              !!!! NIE URUCHAMIAĆ BEZ ROZWAGI!!!!!\n",
    "# WAŻNE WAŻNE WAŻNE WAŻNE WAŻNE WAŻNE WAŻNE WAŻNE WAŻNE WAŻNE WAŻNE \n",
    "# WAŻNE WAŻNE WAŻNE WAŻNE WAŻNE WAŻNE WAŻNE WAŻNE WAŻNE WAŻNE WAŻNE \n",
    "# kodzik może skasować wszystkie dopiero co wyliczone rezultaty. Jeśli rezultaty zostały zapisane do pliku (poprzednia cela) to spoko\n",
    "# ale jeśli nie zostały zapisane do pliku to usunie wszystkie przeliczone dane i nadpisze je starymi\n",
    "kurcze i tak nie działa, nie uruchamiać celi, ten tekst jest specjalnie żeby cela nie zadziałała\n",
    "#results = np.load('results.npy')\n",
    "#export_experimentData = np.load('export_experimentData.npy')\n",
    "\n",
    "\n"
   ]
  },
  {
   "cell_type": "code",
   "execution_count": 56,
   "id": "a81cad2e",
   "metadata": {},
   "outputs": [
    {
     "ename": "TypeError",
     "evalue": "'NoneType' object is not iterable",
     "output_type": "error",
     "traceback": [
      "\u001b[1;31m---------------------------------------------------------------------------\u001b[0m",
      "\u001b[1;31mTypeError\u001b[0m                                 Traceback (most recent call last)",
      "Cell \u001b[1;32mIn[56], line 2\u001b[0m\n\u001b[0;32m      1\u001b[0m \u001b[38;5;66;03m# Wizualizacja naszego modelu i sprawdzenie zbalansowania\u001b[39;00m\n\u001b[1;32m----> 2\u001b[0m \u001b[38;5;28;43;01mfor\u001b[39;49;00m\u001b[43m \u001b[49m\u001b[43mdataset\u001b[49m\u001b[43m \u001b[49m\u001b[38;5;129;43;01min\u001b[39;49;00m\u001b[43m \u001b[49m\u001b[43mexport_experimentData\u001b[49m\u001b[43m:\u001b[49m\u001b[43m \u001b[49m\u001b[38;5;66;43;03m#['page-blocks0.dat']['KMeansSMOTE']['split_0']['train']\u001b[39;49;00m\n\u001b[0;32m      3\u001b[0m \u001b[43m    \u001b[49m\u001b[38;5;28;43;01mfor\u001b[39;49;00m\u001b[43m \u001b[49m\u001b[43moversampling_memthod\u001b[49m\u001b[43m \u001b[49m\u001b[38;5;129;43;01min\u001b[39;49;00m\u001b[43m \u001b[49m\u001b[43mexport_experimentData\u001b[49m\u001b[43m[\u001b[49m\u001b[43mdataset\u001b[49m\u001b[43m]\u001b[49m\u001b[43m:\u001b[49m\n\u001b[0;32m      4\u001b[0m \u001b[43m        \u001b[49m\u001b[38;5;28;43;01mfor\u001b[39;49;00m\u001b[43m \u001b[49m\u001b[43msplit_number\u001b[49m\u001b[43m \u001b[49m\u001b[38;5;129;43;01min\u001b[39;49;00m\u001b[43m \u001b[49m\u001b[43mexport_experimentData\u001b[49m\u001b[43m[\u001b[49m\u001b[43mdataset\u001b[49m\u001b[43m]\u001b[49m\u001b[43m[\u001b[49m\u001b[43moversampling_memthod\u001b[49m\u001b[43m]\u001b[49m\u001b[43m:\u001b[49m\n",
      "\u001b[1;31mTypeError\u001b[0m: 'NoneType' object is not iterable"
     ]
    }
   ],
   "source": [
    "# Wizualizacja naszego modelu i sprawdzenie zbalansowania\n",
    "for dataset in export_experimentData: #['page-blocks0.dat']['KMeansSMOTE']['split_0']['train']\n",
    "    for oversampling_memthod in export_experimentData[dataset]:\n",
    "        for split_number in export_experimentData[dataset][oversampling_memthod]:\n",
    "            print('-----dataset: {}-----'.format(dataset))\n",
    "            print('-----oversampling_memthod: {}-----'.format(oversampling_memthod))\n",
    "            print('-----split_number: {}-----'.format(split_number))\n",
    "            print('Stats:\\n')\n",
    "            print('Num of probes with label 0 before oversampling:\\n {} \\n'.format(list(export_experimentData[dataset][oversampling_memthod][split_number]['train'][1]).count(0)))\n",
    "            print('Num of probes with label 1 before oversampling:\\n {} \\n'.format(list(export_experimentData[dataset][oversampling_memthod][split_number]['train'][1]).count(1)))\n",
    "            print('Num of probes with label 0 after oversampling:\\n {} \\n'.format(list(export_experimentData[dataset][oversampling_memthod][split_number]['train_oversampled'][1]).count(0)))\n",
    "            print('Num of probes with label 1 after oversampling:\\n {} \\n'.format(list(export_experimentData[dataset][oversampling_memthod][split_number]['train_oversampled'][1]).count(1)))"
   ]
  },
  {
   "cell_type": "markdown",
   "id": "a6e6e5c1",
   "metadata": {},
   "source": [
    "### Statistically significantly better preprocessings in given datasets with given metrics"
   ]
  },
  {
   "cell_type": "code",
   "execution_count": 53,
   "id": "9eff543b",
   "metadata": {
    "scrolled": true
   },
   "outputs": [
    {
     "name": "stdout",
     "output_type": "stream",
     "text": [
      "Statistically significantly better precission_scores:\n",
      "  KMeansSMOTE    MeansShiftSMOTE    SMOTE    ROS    BorderlineSMOTE\n",
      "-------------  -----------------  -------  -----  -----------------\n",
      "            0                  0        0      0                  0\n",
      "            0                  0        0      0                  0\n",
      "            0                  0        0      0                  0\n",
      "            1                  1        1      0                  1\n",
      "            0                  0        0      0                  0\n",
      "\n",
      "\n",
      "\n",
      "Statistically significantly better recall_scores:\n",
      "  KMeansSMOTE    MeansShiftSMOTE    SMOTE    ROS    BorderlineSMOTE\n",
      "-------------  -----------------  -------  -----  -----------------\n",
      "            0                  0        0      1                  0\n",
      "            0                  0        0      1                  0\n",
      "            0                  0        0      1                  0\n",
      "            0                  0        0      0                  0\n",
      "            0                  0        0      1                  0\n",
      "\n",
      "\n",
      "\n",
      "Statistically significantly better specifity_scores:\n",
      "  KMeansSMOTE    MeansShiftSMOTE    SMOTE    ROS    BorderlineSMOTE\n",
      "-------------  -----------------  -------  -----  -----------------\n",
      "            0                  0        0      0                  0\n",
      "            0                  0        0      0                  0\n",
      "            0                  0        0      0                  0\n",
      "            1                  1        1      0                  1\n",
      "            0                  0        0      0                  0\n",
      "\n",
      "\n",
      "\n",
      "Statistically significantly better precission_scores:\n",
      "  KMeansSMOTE    MeansShiftSMOTE    SMOTE    ROS    BorderlineSMOTE\n",
      "-------------  -----------------  -------  -----  -----------------\n",
      "            0                  0        0      0                  0\n",
      "            0                  0        0      0                  0\n",
      "            0                  0        0      0                  0\n",
      "            1                  1        0      0                  1\n",
      "            0                  0        0      0                  0\n",
      "\n",
      "\n",
      "\n",
      "Statistically significantly better recall_scores:\n",
      "  KMeansSMOTE    MeansShiftSMOTE    SMOTE    ROS    BorderlineSMOTE\n",
      "-------------  -----------------  -------  -----  -----------------\n",
      "            0                  0        1      1                  1\n",
      "            0                  0        0      1                  0\n",
      "            0                  0        0      1                  0\n",
      "            0                  0        0      0                  0\n",
      "            0                  0        0      1                  0\n",
      "\n",
      "\n",
      "\n",
      "Statistically significantly better specifity_scores:\n",
      "  KMeansSMOTE    MeansShiftSMOTE    SMOTE    ROS    BorderlineSMOTE\n",
      "-------------  -----------------  -------  -----  -----------------\n",
      "            0                  0        0      0                  0\n",
      "            0                  0        0      0                  0\n",
      "            0                  0        0      0                  0\n",
      "            1                  1        1      0                  1\n",
      "            0                  0        0      0                  0\n",
      "\n",
      "\n",
      "\n",
      "Statistically significantly better precission_scores:\n",
      "  KMeansSMOTE    MeansShiftSMOTE    SMOTE    ROS    BorderlineSMOTE\n",
      "-------------  -----------------  -------  -----  -----------------\n",
      "            0                  0        0      0                  0\n",
      "            0                  0        0      0                  0\n",
      "            0                  0        0      0                  0\n",
      "            0                  0        0      0                  0\n",
      "            0                  0        0      0                  0\n",
      "\n",
      "\n",
      "\n",
      "Statistically significantly better recall_scores:\n",
      "  KMeansSMOTE    MeansShiftSMOTE    SMOTE    ROS    BorderlineSMOTE\n",
      "-------------  -----------------  -------  -----  -----------------\n",
      "            0                  0        0      0                  0\n",
      "            0                  0        0      0                  0\n",
      "            0                  0        0      0                  0\n",
      "            0                  0        0      0                  0\n",
      "            0                  0        0      0                  0\n",
      "\n",
      "\n",
      "\n",
      "Statistically significantly better specifity_scores:\n",
      "  KMeansSMOTE    MeansShiftSMOTE    SMOTE    ROS    BorderlineSMOTE\n",
      "-------------  -----------------  -------  -----  -----------------\n",
      "            0                  0        0      0                  0\n",
      "            0                  0        0      0                  0\n",
      "            0                  0        0      0                  0\n",
      "            0                  0        0      0                  0\n",
      "            0                  0        0      0                  0\n",
      "\n",
      "\n",
      "\n",
      "Statistically significantly better precission_scores:\n",
      "  KMeansSMOTE    MeansShiftSMOTE    SMOTE    ROS    BorderlineSMOTE\n",
      "-------------  -----------------  -------  -----  -----------------\n",
      "            0                  0        0      0                  0\n",
      "            0                  0        0      0                  0\n",
      "            0                  0        0      0                  0\n",
      "            0                  0        0      0                  0\n",
      "            0                  0        0      0                  0\n",
      "\n",
      "\n",
      "\n",
      "Statistically significantly better recall_scores:\n",
      "  KMeansSMOTE    MeansShiftSMOTE    SMOTE    ROS    BorderlineSMOTE\n",
      "-------------  -----------------  -------  -----  -----------------\n",
      "            0                  0        0      0                  0\n",
      "            0                  0        0      0                  0\n",
      "            0                  0        0      0                  0\n",
      "            0                  0        0      0                  0\n",
      "            0                  0        0      0                  0\n",
      "\n",
      "\n",
      "\n",
      "Statistically significantly better specifity_scores:\n",
      "  KMeansSMOTE    MeansShiftSMOTE    SMOTE    ROS    BorderlineSMOTE\n",
      "-------------  -----------------  -------  -----  -----------------\n",
      "            0                  0        0      0                  0\n",
      "            0                  0        0      0                  0\n",
      "            0                  0        0      0                  0\n",
      "            0                  0        0      0                  0\n",
      "            0                  0        0      0                  0\n",
      "\n",
      "\n",
      "\n",
      "Statistically significantly better precission_scores:\n",
      "  KMeansSMOTE    MeansShiftSMOTE    SMOTE    ROS    BorderlineSMOTE\n",
      "-------------  -----------------  -------  -----  -----------------\n",
      "            0                  0        0      0                  0\n",
      "            0                  0        0      0                  0\n",
      "            0                  0        0      0                  0\n",
      "            0                  1        0      0                  1\n",
      "            0                  0        0      0                  0\n",
      "\n",
      "\n",
      "\n",
      "Statistically significantly better recall_scores:\n",
      "  KMeansSMOTE    MeansShiftSMOTE    SMOTE    ROS    BorderlineSMOTE\n",
      "-------------  -----------------  -------  -----  -----------------\n",
      "            0                  0        0      1                  0\n",
      "            0                  0        0      0                  0\n",
      "            0                  0        0      0                  0\n",
      "            0                  0        0      0                  0\n",
      "            0                  0        0      0                  0\n",
      "\n",
      "\n",
      "\n",
      "Statistically significantly better specifity_scores:\n",
      "  KMeansSMOTE    MeansShiftSMOTE    SMOTE    ROS    BorderlineSMOTE\n",
      "-------------  -----------------  -------  -----  -----------------\n",
      "            0                  0        0      0                  0\n",
      "            0                  0        0      0                  0\n",
      "            0                  0        0      0                  0\n",
      "            1                  1        0      0                  1\n",
      "            1                  0        0      0                  0\n",
      "\n",
      "\n",
      "\n",
      "Statistically significantly better precission_scores:\n",
      "  KMeansSMOTE    MeansShiftSMOTE    SMOTE    ROS    BorderlineSMOTE\n",
      "-------------  -----------------  -------  -----  -----------------\n",
      "            0                  0        0      0                  0\n",
      "            0                  0        0      0                  0\n",
      "            0                  0        0      0                  0\n",
      "            0                  0        0      0                  0\n",
      "            0                  0        0      0                  0\n",
      "\n",
      "\n",
      "\n",
      "Statistically significantly better recall_scores:\n",
      "  KMeansSMOTE    MeansShiftSMOTE    SMOTE    ROS    BorderlineSMOTE\n",
      "-------------  -----------------  -------  -----  -----------------\n",
      "            0                  0        0      0                  0\n",
      "            0                  0        0      0                  0\n",
      "            0                  0        0      0                  0\n",
      "            0                  0        0      0                  0\n",
      "            0                  0        0      0                  0\n",
      "\n",
      "\n",
      "\n",
      "Statistically significantly better specifity_scores:\n",
      "  KMeansSMOTE    MeansShiftSMOTE    SMOTE    ROS    BorderlineSMOTE\n",
      "-------------  -----------------  -------  -----  -----------------\n",
      "            0                  0        0      0                  0\n",
      "            0                  0        0      0                  0\n",
      "            0                  0        0      0                  0\n",
      "            0                  0        0      0                  0\n",
      "            0                  0        0      0                  0\n",
      "\n",
      "\n",
      "\n",
      "Statistically significantly better precission_scores:\n",
      "  KMeansSMOTE    MeansShiftSMOTE    SMOTE    ROS    BorderlineSMOTE\n",
      "-------------  -----------------  -------  -----  -----------------\n",
      "            0                  0        0      0                  0\n",
      "            0                  0        0      0                  0\n",
      "            0                  0        0      0                  0\n",
      "            0                  0        0      0                  0\n",
      "            0                  0        0      0                  0\n",
      "\n",
      "\n",
      "\n",
      "Statistically significantly better recall_scores:\n",
      "  KMeansSMOTE    MeansShiftSMOTE    SMOTE    ROS    BorderlineSMOTE\n",
      "-------------  -----------------  -------  -----  -----------------\n",
      "            0                  0        0      1                  0\n",
      "            0                  0        0      1                  0\n",
      "            0                  0        0      1                  0\n",
      "            0                  0        0      0                  0\n",
      "            0                  0        0      1                  0\n",
      "\n",
      "\n",
      "\n",
      "Statistically significantly better specifity_scores:\n",
      "  KMeansSMOTE    MeansShiftSMOTE    SMOTE    ROS    BorderlineSMOTE\n",
      "-------------  -----------------  -------  -----  -----------------\n",
      "            0                  0        0      0                  0\n",
      "            0                  0        0      0                  0\n",
      "            0                  0        0      0                  0\n",
      "            1                  1        1      0                  1\n",
      "            0                  0        0      0                  0\n",
      "\n",
      "\n",
      "\n",
      "Statistically significantly better precission_scores:\n",
      "  KMeansSMOTE    MeansShiftSMOTE    SMOTE    ROS    BorderlineSMOTE\n",
      "-------------  -----------------  -------  -----  -----------------\n",
      "            0                  0        0      0                  0\n",
      "            0                  0        0      0                  0\n",
      "            0                  0        0      0                  0\n",
      "            0                  0        0      0                  0\n",
      "            0                  0        0      0                  0\n",
      "\n",
      "\n",
      "\n",
      "Statistically significantly better recall_scores:\n",
      "  KMeansSMOTE    MeansShiftSMOTE    SMOTE    ROS    BorderlineSMOTE\n",
      "-------------  -----------------  -------  -----  -----------------\n",
      "            0                  0        0      0                  0\n",
      "            0                  0        0      0                  0\n",
      "            0                  0        0      0                  0\n",
      "            0                  0        0      0                  0\n",
      "            0                  0        0      0                  0\n",
      "\n",
      "\n",
      "\n",
      "Statistically significantly better specifity_scores:\n",
      "  KMeansSMOTE    MeansShiftSMOTE    SMOTE    ROS    BorderlineSMOTE\n",
      "-------------  -----------------  -------  -----  -----------------\n",
      "            0                  0        0      0                  0\n",
      "            0                  0        0      0                  0\n",
      "            0                  0        0      0                  0\n",
      "            0                  0        0      0                  0\n",
      "            0                  0        0      0                  0\n",
      "\n",
      "\n",
      "\n",
      "Statistically significantly better precission_scores:\n",
      "  KMeansSMOTE    MeansShiftSMOTE    SMOTE    ROS    BorderlineSMOTE\n",
      "-------------  -----------------  -------  -----  -----------------\n",
      "            0                  0        0      0                  0\n",
      "            0                  0        0      0                  0\n",
      "            0                  0        0      0                  0\n",
      "            0                  0        0      0                  0\n",
      "            0                  0        0      0                  0\n",
      "\n",
      "\n",
      "\n",
      "Statistically significantly better recall_scores:\n",
      "  KMeansSMOTE    MeansShiftSMOTE    SMOTE    ROS    BorderlineSMOTE\n",
      "-------------  -----------------  -------  -----  -----------------\n",
      "            0                  0        0      1                  0\n",
      "            0                  0        0      1                  0\n",
      "            0                  0        0      0                  0\n",
      "            0                  0        0      0                  0\n",
      "            0                  0        0      1                  0\n",
      "\n",
      "\n",
      "\n",
      "Statistically significantly better specifity_scores:\n",
      "  KMeansSMOTE    MeansShiftSMOTE    SMOTE    ROS    BorderlineSMOTE\n",
      "-------------  -----------------  -------  -----  -----------------\n",
      "            0                  0        0      0                  0\n",
      "            0                  0        0      0                  0\n",
      "            0                  0        0      0                  0\n",
      "            1                  1        1      0                  1\n",
      "            0                  0        0      0                  0\n",
      "\n",
      "\n",
      "\n",
      "Statistically significantly better precission_scores:\n",
      "  KMeansSMOTE    MeansShiftSMOTE    SMOTE    ROS    BorderlineSMOTE\n",
      "-------------  -----------------  -------  -----  -----------------\n",
      "            0                  0        0      0                  0\n",
      "            0                  0        0      0                  0\n",
      "            0                  0        0      0                  0\n",
      "            1                  1        1      0                  1\n",
      "            0                  0        0      0                  0\n",
      "\n",
      "\n",
      "\n",
      "Statistically significantly better recall_scores:\n",
      "  KMeansSMOTE    MeansShiftSMOTE    SMOTE    ROS    BorderlineSMOTE\n",
      "-------------  -----------------  -------  -----  -----------------\n",
      "            0                  0        0      0                  0\n",
      "            0                  0        0      0                  0\n",
      "            0                  0        0      1                  0\n",
      "            0                  0        0      0                  0\n",
      "            0                  0        0      1                  0\n",
      "\n",
      "\n",
      "\n",
      "Statistically significantly better specifity_scores:\n",
      "  KMeansSMOTE    MeansShiftSMOTE    SMOTE    ROS    BorderlineSMOTE\n",
      "-------------  -----------------  -------  -----  -----------------\n",
      "            0                  0        0      0                  0\n",
      "            0                  0        0      0                  0\n",
      "            0                  0        0      0                  0\n",
      "            1                  1        1      0                  1\n",
      "            0                  0        0      0                  0\n",
      "\n",
      "\n",
      "\n",
      "Statistically significantly better precission_scores:\n",
      "  KMeansSMOTE    MeansShiftSMOTE    SMOTE    ROS    BorderlineSMOTE\n",
      "-------------  -----------------  -------  -----  -----------------\n",
      "            0                  0        0      0                  0\n",
      "            0                  0        0      0                  0\n",
      "            1                  0        0      0                  0\n",
      "            0                  0        0      0                  0\n",
      "            1                  0        0      0                  0\n",
      "\n",
      "\n",
      "\n",
      "Statistically significantly better recall_scores:\n",
      "  KMeansSMOTE    MeansShiftSMOTE    SMOTE    ROS    BorderlineSMOTE\n",
      "-------------  -----------------  -------  -----  -----------------\n",
      "            0                  0        0      1                  0\n",
      "            1                  0        0      1                  1\n",
      "            1                  0        0      1                  1\n",
      "            0                  0        0      0                  0\n",
      "            0                  0        0      1                  0\n",
      "\n",
      "\n",
      "\n",
      "Statistically significantly better specifity_scores:\n",
      "  KMeansSMOTE    MeansShiftSMOTE    SMOTE    ROS    BorderlineSMOTE\n",
      "-------------  -----------------  -------  -----  -----------------\n",
      "            0                  0        0      0                  0\n",
      "            0                  0        0      0                  0\n",
      "            0                  1        0      0                  0\n",
      "            1                  1        1      0                  1\n",
      "            1                  1        1      0                  0\n",
      "\n",
      "\n",
      "\n",
      "Statistically significantly better precission_scores:\n",
      "  KMeansSMOTE    MeansShiftSMOTE    SMOTE    ROS    BorderlineSMOTE\n",
      "-------------  -----------------  -------  -----  -----------------\n",
      "            0                  0        0      0                  0\n",
      "            0                  0        0      0                  0\n",
      "            0                  0        0      0                  0\n",
      "            0                  0        0      0                  0\n",
      "            0                  0        0      0                  0\n",
      "\n",
      "\n",
      "\n",
      "Statistically significantly better recall_scores:\n",
      "  KMeansSMOTE    MeansShiftSMOTE    SMOTE    ROS    BorderlineSMOTE\n",
      "-------------  -----------------  -------  -----  -----------------\n",
      "            0                  0        0      0                  0\n",
      "            0                  0        0      0                  0\n",
      "            0                  0        0      0                  0\n",
      "            0                  0        0      0                  0\n",
      "            0                  0        0      0                  0\n",
      "\n",
      "\n",
      "\n",
      "Statistically significantly better specifity_scores:\n",
      "  KMeansSMOTE    MeansShiftSMOTE    SMOTE    ROS    BorderlineSMOTE\n",
      "-------------  -----------------  -------  -----  -----------------\n",
      "            0                  1        1      0                  0\n",
      "            0                  0        0      0                  0\n",
      "            0                  1        0      0                  0\n",
      "            1                  1        1      0                  1\n",
      "            0                  1        1      0                  0\n",
      "\n",
      "\n",
      "\n",
      "Statistically significantly better precission_scores:\n",
      "  KMeansSMOTE    MeansShiftSMOTE    SMOTE    ROS    BorderlineSMOTE\n",
      "-------------  -----------------  -------  -----  -----------------\n",
      "            0                  0        0      0                  0\n",
      "            0                  0        0      0                  0\n",
      "            0                  0        0      0                  0\n",
      "            0                  0        0      0                  0\n",
      "            0                  0        0      0                  0\n",
      "\n",
      "\n",
      "\n",
      "Statistically significantly better recall_scores:\n",
      "  KMeansSMOTE    MeansShiftSMOTE    SMOTE    ROS    BorderlineSMOTE\n",
      "-------------  -----------------  -------  -----  -----------------\n",
      "            0                  0        0      0                  0\n",
      "            0                  0        0      0                  0\n",
      "            0                  0        0      0                  0\n",
      "            0                  0        0      0                  0\n",
      "            0                  0        0      0                  0\n",
      "\n",
      "\n",
      "\n",
      "Statistically significantly better specifity_scores:\n",
      "  KMeansSMOTE    MeansShiftSMOTE    SMOTE    ROS    BorderlineSMOTE\n",
      "-------------  -----------------  -------  -----  -----------------\n",
      "            0                  0        0      0                  0\n",
      "            0                  0        0      0                  0\n",
      "            0                  0        0      0                  0\n",
      "            0                  0        0      0                  0\n",
      "            0                  0        0      0                  0\n",
      "\n",
      "\n",
      "\n",
      "Statistically significantly better precission_scores:\n",
      "  KMeansSMOTE    MeansShiftSMOTE    SMOTE    ROS    BorderlineSMOTE\n",
      "-------------  -----------------  -------  -----  -----------------\n",
      "            0                  0        0      0                  0\n",
      "            0                  0        0      0                  0\n",
      "            0                  0        0      0                  0\n",
      "            0                  0        0      0                  1\n",
      "            0                  0        0      0                  0\n",
      "\n",
      "\n",
      "\n",
      "Statistically significantly better recall_scores:\n",
      "  KMeansSMOTE    MeansShiftSMOTE    SMOTE    ROS    BorderlineSMOTE\n",
      "-------------  -----------------  -------  -----  -----------------\n",
      "            0                  0        0      0                  0\n",
      "            0                  0        0      0                  0\n",
      "            0                  0        0      0                  0\n",
      "            0                  0        0      0                  0\n",
      "            0                  0        0      0                  0\n",
      "\n",
      "\n",
      "\n",
      "Statistically significantly better specifity_scores:\n",
      "  KMeansSMOTE    MeansShiftSMOTE    SMOTE    ROS    BorderlineSMOTE\n",
      "-------------  -----------------  -------  -----  -----------------\n",
      "            0                  0        0      0                  0\n",
      "            0                  0        0      0                  0\n",
      "            0                  0        0      0                  0\n",
      "            0                  0        0      0                  0\n",
      "            0                  0        0      0                  0\n",
      "\n",
      "\n",
      "\n",
      "Statistically significantly better precission_scores:\n",
      "  KMeansSMOTE    MeansShiftSMOTE    SMOTE    ROS    BorderlineSMOTE\n",
      "-------------  -----------------  -------  -----  -----------------\n",
      "            0                  0        0      0                  0\n",
      "            0                  0        0      0                  0\n",
      "            0                  0        0      0                  0\n",
      "            0                  0        0      0                  0\n",
      "            0                  0        0      0                  0\n",
      "\n",
      "\n",
      "\n",
      "Statistically significantly better recall_scores:\n",
      "  KMeansSMOTE    MeansShiftSMOTE    SMOTE    ROS    BorderlineSMOTE\n",
      "-------------  -----------------  -------  -----  -----------------\n",
      "            0                  0        0      0                  0\n",
      "            0                  0        0      0                  0\n",
      "            0                  0        0      0                  0\n",
      "            0                  0        0      0                  0\n",
      "            0                  0        0      0                  0\n",
      "\n",
      "\n",
      "\n",
      "Statistically significantly better specifity_scores:\n",
      "  KMeansSMOTE    MeansShiftSMOTE    SMOTE    ROS    BorderlineSMOTE\n",
      "-------------  -----------------  -------  -----  -----------------\n",
      "            0                  0        0      0                  0\n",
      "            0                  0        0      0                  0\n",
      "            0                  0        0      0                  0\n",
      "            0                  0        0      0                  0\n",
      "            0                  0        0      0                  0\n",
      "\n",
      "\n",
      "\n",
      "Statistically significantly better precission_scores:\n",
      "  KMeansSMOTE    MeansShiftSMOTE    SMOTE    ROS    BorderlineSMOTE\n",
      "-------------  -----------------  -------  -----  -----------------\n",
      "            0                  0        0      0                  0\n",
      "            0                  0        0      0                  0\n",
      "            0                  0        0      0                  0\n",
      "            0                  0        0      0                  0\n",
      "            0                  0        0      0                  0\n",
      "\n",
      "\n",
      "\n",
      "Statistically significantly better recall_scores:\n",
      "  KMeansSMOTE    MeansShiftSMOTE    SMOTE    ROS    BorderlineSMOTE\n",
      "-------------  -----------------  -------  -----  -----------------\n",
      "            0                  0        0      0                  0\n",
      "            0                  0        0      0                  0\n",
      "            0                  0        0      0                  0\n",
      "            0                  0        0      0                  0\n",
      "            0                  0        0      0                  0\n",
      "\n",
      "\n",
      "\n",
      "Statistically significantly better specifity_scores:\n",
      "  KMeansSMOTE    MeansShiftSMOTE    SMOTE    ROS    BorderlineSMOTE\n",
      "-------------  -----------------  -------  -----  -----------------\n",
      "            0                  0        0      0                  0\n",
      "            0                  0        0      0                  0\n",
      "            0                  0        0      0                  0\n",
      "            0                  0        0      0                  0\n",
      "            0                  0        0      0                  0\n",
      "\n",
      "\n",
      "\n",
      "Statistically significantly better precission_scores:\n",
      "  KMeansSMOTE    MeansShiftSMOTE    SMOTE    ROS    BorderlineSMOTE\n",
      "-------------  -----------------  -------  -----  -----------------\n",
      "            0                  0        0      0                  0\n",
      "            0                  0        0      0                  0\n",
      "            0                  0        0      0                  0\n",
      "            1                  1        1      0                  1\n",
      "            0                  0        0      0                  0\n",
      "\n",
      "\n",
      "\n",
      "Statistically significantly better recall_scores:\n",
      "  KMeansSMOTE    MeansShiftSMOTE    SMOTE    ROS    BorderlineSMOTE\n",
      "-------------  -----------------  -------  -----  -----------------\n",
      "            0                  0        0      0                  0\n",
      "            0                  0        1      1                  1\n",
      "            0                  0        0      0                  0\n",
      "            0                  0        0      0                  0\n",
      "            0                  0        0      0                  0\n",
      "\n",
      "\n",
      "\n",
      "Statistically significantly better specifity_scores:\n",
      "  KMeansSMOTE    MeansShiftSMOTE    SMOTE    ROS    BorderlineSMOTE\n",
      "-------------  -----------------  -------  -----  -----------------\n",
      "            0                  0        0      0                  0\n",
      "            0                  0        0      0                  0\n",
      "            0                  0        0      0                  0\n",
      "            1                  1        1      0                  1\n",
      "            0                  0        0      0                  0\n",
      "\n",
      "\n",
      "\n",
      "Statistically significantly better precission_scores:\n",
      "  KMeansSMOTE    MeansShiftSMOTE    SMOTE    ROS    BorderlineSMOTE\n",
      "-------------  -----------------  -------  -----  -----------------\n",
      "            0                  0        0      0                  0\n",
      "            0                  0        0      0                  0\n",
      "            0                  0        0      0                  0\n",
      "            1                  1        1      0                  0\n",
      "            0                  0        0      0                  0\n",
      "\n",
      "\n",
      "\n",
      "Statistically significantly better recall_scores:\n",
      "  KMeansSMOTE    MeansShiftSMOTE    SMOTE    ROS    BorderlineSMOTE\n",
      "-------------  -----------------  -------  -----  -----------------\n",
      "            0                  0        0      0                  0\n",
      "            0                  0        0      0                  0\n",
      "            0                  0        0      0                  0\n",
      "            0                  0        0      0                  0\n",
      "            0                  0        0      0                  0\n",
      "\n",
      "\n",
      "\n",
      "Statistically significantly better specifity_scores:\n",
      "  KMeansSMOTE    MeansShiftSMOTE    SMOTE    ROS    BorderlineSMOTE\n",
      "-------------  -----------------  -------  -----  -----------------\n",
      "            0                  0        0      0                  0\n",
      "            0                  0        0      0                  0\n",
      "            0                  0        0      0                  0\n",
      "            1                  1        1      0                  0\n",
      "            0                  0        0      0                  0\n",
      "\n",
      "\n",
      "\n",
      "Statistically significantly better precission_scores:\n",
      "  KMeansSMOTE    MeansShiftSMOTE    SMOTE    ROS    BorderlineSMOTE\n",
      "-------------  -----------------  -------  -----  -----------------\n",
      "            0                  1        1      0                  1\n",
      "            0                  0        0      0                  0\n",
      "            0                  0        0      0                  0\n",
      "            0                  1        1      0                  1\n",
      "            0                  0        0      0                  0\n",
      "\n",
      "\n",
      "\n",
      "Statistically significantly better recall_scores:\n",
      "  KMeansSMOTE    MeansShiftSMOTE    SMOTE    ROS    BorderlineSMOTE\n",
      "-------------  -----------------  -------  -----  -----------------\n",
      "            0                  0        0      1                  0\n",
      "            0                  0        0      1                  1\n",
      "            0                  0        0      1                  1\n",
      "            0                  0        0      0                  0\n",
      "            0                  0        0      1                  0\n",
      "\n",
      "\n",
      "\n",
      "Statistically significantly better specifity_scores:\n",
      "  KMeansSMOTE    MeansShiftSMOTE    SMOTE    ROS    BorderlineSMOTE\n",
      "-------------  -----------------  -------  -----  -----------------\n",
      "            0                  1        1      0                  1\n",
      "            0                  0        0      0                  0\n",
      "            0                  0        0      0                  0\n",
      "            1                  1        1      0                  1\n",
      "            0                  1        1      0                  0\n",
      "\n",
      "\n",
      "\n",
      "Statistically significantly better precission_scores:\n",
      "  KMeansSMOTE    MeansShiftSMOTE    SMOTE    ROS    BorderlineSMOTE\n",
      "-------------  -----------------  -------  -----  -----------------\n",
      "            0                  1        0      0                  0\n",
      "            0                  0        0      0                  0\n",
      "            0                  0        0      0                  0\n",
      "            0                  0        1      0                  0\n",
      "            0                  0        0      0                  0\n",
      "\n",
      "\n",
      "\n",
      "Statistically significantly better recall_scores:\n",
      "  KMeansSMOTE    MeansShiftSMOTE    SMOTE    ROS    BorderlineSMOTE\n",
      "-------------  -----------------  -------  -----  -----------------\n",
      "            0                  0        0      0                  0\n",
      "            0                  0        0      0                  0\n",
      "            0                  1        0      1                  0\n",
      "            0                  0        0      0                  0\n",
      "            0                  0        0      1                  0\n",
      "\n",
      "\n",
      "\n",
      "Statistically significantly better specifity_scores:\n",
      "  KMeansSMOTE    MeansShiftSMOTE    SMOTE    ROS    BorderlineSMOTE\n",
      "-------------  -----------------  -------  -----  -----------------\n",
      "            0                  1        1      0                  1\n",
      "            0                  0        0      0                  0\n",
      "            0                  0        0      0                  0\n",
      "            0                  1        1      0                  1\n",
      "            0                  0        0      0                  0\n",
      "\n",
      "\n",
      "\n"
     ]
    }
   ],
   "source": [
    "from scipy.stats import ttest_rel, wilcoxon, shapiro\n",
    "from tabulate import tabulate\n",
    "\n",
    "alfa = .05\n",
    "methods = [\"KMeansSMOTE\", \"MeansShiftSMOTE\", \"SMOTE\", \"ROS\", \"BorderlineSMOTE\"]\n",
    "metrics = [\"precission_scores\",\"recall_scores\",\"specifity_scores\"]\n",
    "\n",
    "for directory in results:\n",
    "    for metric in metrics:\n",
    "        w_statistic = np.zeros((len(methods), len(methods)))\n",
    "        p_value = np.zeros((len(methods), len(methods)))\n",
    "        test_used = np.empty((len(methods), len(methods)), dtype=object)\n",
    "        for i, preprocessing_method in enumerate(methods):\n",
    "            for j, comparison_preprocessing_method in enumerate(methods):\n",
    "                metric_results_one = results[directory][preprocessing_method][metric]\n",
    "                metric_results_two = results[directory][comparison_preprocessing_method][metric]\n",
    "                tmp_p_val = 0\n",
    "                try:\n",
    "                    _, tmp_p_val = wilcoxon(metric_results_one, metric_results_two)\n",
    "                except: \n",
    "                    _, tmp_p_val = 0, 1\n",
    "                mean_metric_one = np.mean(metric_results_one)\n",
    "                mean_metric_two = np.mean(metric_results_two)\n",
    "                if  tmp_p_val <= alfa:\n",
    "                    if mean_metric_one - mean_metric_two > 0:\n",
    "                        w_statistic[i,j], p_value[i,j] = 1, 1\n",
    "                    else:\n",
    "                        w_statistic[i,j], p_value[i,j] = 0, 1\n",
    "                else:\n",
    "                    if mean_metric_one - mean_metric_two > 0:\n",
    "                        w_statistic[i,j], p_value[i,j] = 1, 0\n",
    "                    else:\n",
    "                        w_statistic[i,j], p_value[i,j] = 0, 0\n",
    "        stat_better = w_statistic * p_value\n",
    "        stat_better_table = tabulate(stat_better, methods)\n",
    "        print(f\"Statistically significantly better {metric}:\")\n",
    "        print(stat_better_table)\n",
    "        print()\n",
    "        print()\n",
    "        print()\n",
    "        "
   ]
  },
  {
   "cell_type": "markdown",
   "id": "3052da94",
   "metadata": {},
   "source": [
    "### Statistically significantly better preprocessings for all datasets"
   ]
  },
  {
   "cell_type": "code",
   "execution_count": 54,
   "id": "2a4ed7c7",
   "metadata": {},
   "outputs": [
    {
     "name": "stdout",
     "output_type": "stream",
     "text": [
      "Metric: mean_precission_score\n",
      "Statistical significance (alpha = 0.05):\n",
      "                   KMeansSMOTE    MeansShiftSMOTE    SMOTE    ROS    BorderlineSMOTE\n",
      "---------------  -------------  -----------------  -------  -----  -----------------\n",
      "KMeansSMOTE                  0                  0        0      0                  0\n",
      "MeansShiftSMOTE              0                  0        0      0                  0\n",
      "SMOTE                        0                  0        0      0                  0\n",
      "ROS                          1                  1        1      0                  1\n",
      "BorderlineSMOTE              0                  0        0      0                  0\n",
      "\n",
      "\n",
      "Metric: mean_recall_scores\n",
      "Statistical significance (alpha = 0.05):\n",
      "                   KMeansSMOTE    MeansShiftSMOTE    SMOTE    ROS    BorderlineSMOTE\n",
      "---------------  -------------  -----------------  -------  -----  -----------------\n",
      "KMeansSMOTE                  0                  0        0      1                  0\n",
      "MeansShiftSMOTE              0                  0        0      1                  0\n",
      "SMOTE                        0                  0        0      1                  0\n",
      "ROS                          0                  0        0      0                  0\n",
      "BorderlineSMOTE              0                  0        0      1                  0\n",
      "\n",
      "\n",
      "Metric: mean_specifity_scores\n",
      "Statistical significance (alpha = 0.05):\n",
      "                   KMeansSMOTE    MeansShiftSMOTE    SMOTE    ROS    BorderlineSMOTE\n",
      "---------------  -------------  -----------------  -------  -----  -----------------\n",
      "KMeansSMOTE                  0                  0        0      0                  0\n",
      "MeansShiftSMOTE              0                  0        0      0                  0\n",
      "SMOTE                        0                  0        0      0                  0\n",
      "ROS                          1                  1        1      0                  1\n",
      "BorderlineSMOTE              0                  0        0      0                  0\n",
      "\n",
      "\n"
     ]
    }
   ],
   "source": [
    "from scipy.stats import rankdata, ranksums\n",
    "\n",
    "methods = [\"KMeansSMOTE\", \"MeansShiftSMOTE\", \"SMOTE\", \"ROS\", \"BorderlineSMOTE\"]\n",
    "metrics = [\"mean_precission_score\", \"mean_recall_scores\", \"mean_specifity_scores\"]\n",
    "for metric in metrics:\n",
    "    mean = []\n",
    "    for directory in results:\n",
    "        preprocessing_mean = []\n",
    "        for i, preprocessing_method in enumerate(methods):\n",
    "            preprocessing_mean.append(results[directory][preprocessing_method][metric])\n",
    "        mean.append(preprocessing_mean)\n",
    "\n",
    "    ranks = []\n",
    "    for mean_score in mean:\n",
    "        ranks.append(rankdata(mean_score).tolist())\n",
    "    ranks = np.array(ranks)\n",
    "\n",
    "    alfa = .05\n",
    "    w_statistic = np.zeros((len(methods), len(methods)))\n",
    "    p_value = np.zeros((len(methods), len(methods)))\n",
    "    for i in range(len(methods)):\n",
    "        for j in range(len(methods)):\n",
    "            w_statistic[i, j], p_value[i, j] = ranksums(ranks.T[i], ranks.T[j])\n",
    "    names_column = np.expand_dims(np.array(list(methods)), axis=1)\n",
    "    w_statistic_table = np.concatenate((names_column, w_statistic), axis=1)\n",
    "    w_statistic_table = tabulate(w_statistic_table, methods, floatfmt=\".2f\")\n",
    "    p_value_table = np.concatenate((names_column, p_value), axis=1)\n",
    "    p_value_table = tabulate(p_value_table, methods, floatfmt=\".2f\")\n",
    "    advantage = np.zeros((len(methods), len(methods)))\n",
    "    advantage[w_statistic > 0] = 1\n",
    "    advantage_table = tabulate(np.concatenate(\n",
    "    (names_column, advantage), axis=1), methods)\n",
    "    significance = np.zeros((len(methods), len(methods)))\n",
    "    significance[p_value <= alfa] = 1\n",
    "    statisticaly_better = advantage * significance\n",
    "    statisticaly_better_table = tabulate(np.concatenate(\n",
    "    (names_column, statisticaly_better), axis=1), methods)\n",
    "    print(f\"Metric: {metric}\")\n",
    "    print(\"Statistical significance (alpha = 0.05):\")\n",
    "    print(statisticaly_better_table)\n",
    "    print()\n",
    "    print()"
   ]
  },
  {
   "cell_type": "markdown",
   "id": "73242972",
   "metadata": {},
   "source": [
    "# Testy parowe\n",
    "## Cel testów parowych\n",
    "W poprzedniej części pracy wykonano ocenę klasyfikatorów za pomocą metryk i walidacji krzyżowej. W ten sposób uzyskano osobną ocenę dla przypadków klasyfikatorów gdzie różnicami były: zbiory uczące, różne modele uczenia maszynowego oraz główny cel pracy czyli różne metody balansowania danych (sprawdzić czy niema zmian). Uzyskane wyniki należy w tym momencie porównać aby ocenić czy wyniki uzyskane w przypadkach gdzie wykorzystano metodę SMOTE wykonywaną na klastrach powstałych z danych niezbalansowanych są lepsze od pozostałych metod oversamplingu. Aby ocenić tą zależność można uśrednić uzyskane metryki i ocenić czy średnio model wykorzystujący zaproponowaną metodę oversamplingu uzyskuje lepsze wyniki, jednak test taki nie może zostać uznany za prawidłowy ponieważ mógł wynikać z przypadku. W tym celu należy wziąć pod uwagę również parametr określający jak wyniki wchodzące w skład średniej są od niej oddalone (odchylenie standardowe zbiorów). W tym celu przez badaczy wykorzystywane są testy statystyczne takie jak test T- Studenta oraz test Wilcoxona. Poniżej opisane zostaną testy które mogą zostać wykorzystane w pracy.\n",
    "## Wkorzystane testy statystyczne \n",
    "Testy statystyczne wykorzystuje się dla różńych zbiorów danych aby ocenić czy różnica między nimi jest statystycznie istotna.\n",
    "W tej pracy celem jest porównanie metryk dla modeli wykorzystujących mechanizm balansowania danych opartych o metodę SMOTE działającą na pojedynczych klastrach danych wejściowych oraz innych popularnie wykorzystywanych narzędzi oversamplingu. W ten sposób dane można podzielić na pary: zaproponowana w pracy metoda i inna metoda oversamplingu. Taki sposób podziału danych determinuje wykorzystanie testów parowych.\n",
    "### Test T-Studenta\n",
    "Test T-Studenta to test parametryczny (opierający się o porównanie parametrów populacji takich jak odchylenie standardowe czy średnia )\n",
    "Warunkiem koniecznym do zastosowania testu T studenta jest założenie, że porównywane zbiory są normalne. Testowanie normalności zbiorów zostanie omówione w dalszej części pracy. Jeśli Testowanie normalności wykazało, że próbki nie są normalne wtedy można wykorzystać inne testy o mniejszej precyzji czyli testy nieparametryczne. Należy jednak napiętać, że jeśli to możliwe powinienny zostać przeprowadzone testy parametryczne takie jest test T studenta lub analiza wariancji.\\\n",
    "Testy statystyczne parametryczne : https://pogotowiestatystyczne.pl/slowniki/testy-parametryczne/#:~:text=Testy%20parametryczne%20to%20rodzaj%20test%C3%B3w,standardowe%20lub%20innych%20statystykach%20opisowych.\n",
    "### Test Wilcoxona\n",
    "Test Wilcoxona to test nieparametryczny wykonywany na bazie próbek populacji a nie na jej parametrach. Wykorzystuje on różnicę między próbkami w przypadkach wykorzystania dwóchróżnych hiperparametrów modelu. Różnica każdejz próbek zostaje zakwalifikowana do jednego ze zbiorów $T_{-}$ gdy różnica jest ujemna lub $T_{+}$ gdy jest dodatnia. W ten sposób uzyskano dwa zbiory. Wszystkim różnicom w tym momencie usuwany zostaje znak a przyznana zostaje  $ranga$(tu można walnąć dokładniejszy opis ale teraz trochę małoczasu) a następnie sumowane są wszystkie ranki w zbiorach $T_{-}$ i $T_{+}$. Pod uwagę bierze się mniejszą sumę rang oraz sprawdzana jest ona w tablicy wartości sum wag Wilxocona.\n",
    "### Test założenia Normalności\n",
    "Aby ocenić czy próbki pewnej populacji mają określony rozkład można wykorzystać Test Kołmogorowa-Smirnowa. Aby określić czy wyniki badań możemy ocenić za pomocą testu T studenta trzeba spełnić założenie normalności a więc określić czy próbki mogą pochodzić z wałsciwości o charakterze rozkładu normalngo. W tym celu test Kołmogorowa-Smirnowa należy wykonać dla uzyskanych wcześniej wyników i rozkładu normalnego.\n",
    "\n",
    "biblio: https://www.scirp.org/html/6-1241391_107034.htm\n",
    "https://onlinelibrary.wiley.com/doi/full/10.1002/9781118445112.stat06558\n",
    "\n",
    "Do wykonania oceny założenia normalności wykorzystana zostanie funkcja kstest pochodząca z pakiety scipy \\\n",
    "Tutaj jak to robić: https://medium.com/@ricardojaviermartnezsustegui/kolmog%C3%B3rov-smirnov-test-in-python-step-by-step-1b7532021bd2\n",
    "\n",
    "a jest jeszcze coś takiego\n",
    "scipy.stats.normaltest"
   ]
  }
 ],
 "metadata": {
  "kernelspec": {
   "display_name": "Python 3 (ipykernel)",
   "language": "python",
   "name": "python3"
  },
  "language_info": {
   "codemirror_mode": {
    "name": "ipython",
    "version": 3
   },
   "file_extension": ".py",
   "mimetype": "text/x-python",
   "name": "python",
   "nbconvert_exporter": "python",
   "pygments_lexer": "ipython3",
   "version": "3.12.2"
  }
 },
 "nbformat": 4,
 "nbformat_minor": 5
}
